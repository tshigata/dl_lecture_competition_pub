{
 "cells": [
  {
   "cell_type": "code",
   "execution_count": 1,
   "metadata": {},
   "outputs": [],
   "source": [
    "from timm.scheduler import CosineLRScheduler\n",
    "\n",
    "import torch\n",
    "import torch.nn as nn\n",
    "import torch.nn.functional as F\n",
    "from torchmetrics import Accuracy\n",
    "import torch.optim as optim\n",
    "from torch.utils.data import DataLoader, TensorDataset\n",
    "from scipy.signal import resample, butter, filtfilt\n",
    "import numpy as np\n",
    "from tqdm import tqdm\n",
    "from termcolor import cprint\n",
    "from sklearn.model_selection import KFold\n",
    "import datetime\n",
    "import os\n",
    "import pytz\n",
    "import gc\n",
    "\n",
    "\n",
    "import os\n",
    "import pickle\n",
    "\n",
    "from src.utils import CosineScheduler\n",
    "from src.utils import EarlyStopping\n",
    "# from src.models import EEGNet"
   ]
  },
  {
   "cell_type": "code",
   "execution_count": 2,
   "metadata": {},
   "outputs": [],
   "source": [
    "# EEGNetクラスの定義\n",
    "class EEGNet(nn.Module):\n",
    "    def __init__(self, num_classes, num_channels, samples):\n",
    "        super(EEGNet, self).__init__()\n",
    "\n",
    "        self.firstconv = nn.Sequential(\n",
    "            nn.Conv2d(1, 16, (1, 51), stride=(1, 1), padding=(0, 25), bias=False),\n",
    "            nn.BatchNorm2d(16)\n",
    "        )\n",
    "\n",
    "        self.depthwiseConv = nn.Sequential(\n",
    "            nn.Conv2d(16, 32, (num_channels, 1), stride=(1, 1), groups=16, bias=False),\n",
    "            nn.BatchNorm2d(32),\n",
    "            nn.ELU(),\n",
    "            nn.AvgPool2d((1, 4), stride=(1, 4)),\n",
    "            nn.Dropout(0.25)\n",
    "        )\n",
    "\n",
    "        self.separableConv = nn.Sequential(\n",
    "            nn.Conv2d(32, 32, (1, 15), stride=(1, 1), padding=(0, 7), bias=False),\n",
    "            nn.BatchNorm2d(32),\n",
    "            nn.ELU(),\n",
    "            nn.AvgPool2d((1, 8), stride=(1, 8)),\n",
    "            nn.Dropout(0.25)\n",
    "        )\n",
    "\n",
    "        self.classify = nn.Sequential(\n",
    "            nn.Linear(32 * (samples // 32), num_classes)\n",
    "        )\n",
    "\n",
    "    def forward(self, x):\n",
    "        x = self.firstconv(x)\n",
    "        x = self.depthwiseConv(x)\n",
    "        x = self.separableConv(x)\n",
    "        x = x.view(x.size(0), -1)\n",
    "        x = self.classify(x)\n",
    "        return x\n",
    "\n",
    "# データの前処理関数\n",
    "def resample_data(data, target_rate, current_rate):\n",
    "    num_samples = int(data.shape[2] * target_rate / current_rate)\n",
    "    resampled_data = resample(data, num_samples, axis=2)\n",
    "    return resampled_data\n",
    "\n",
    "def butter_bandpass(lowcut, highcut, fs, order=5):\n",
    "    b, a = butter(order, [lowcut / (0.5 * fs), highcut / (0.5 * fs)], btype='band', output='ba')\n",
    "    return b.astype(np.float32), a.astype(np.float32)  # 精度をfloat32に変更\n",
    "\n",
    "def bandpass_filter(data, lowcut, highcut, fs, order=5):\n",
    "    b, a = butter_bandpass(lowcut, highcut, fs, order=order)\n",
    "    filtered_data = filtfilt(b, a, data.astype(np.float32), axis=2)  # 精度をfloat32に変更\n",
    "    return filtered_data\n",
    "\n",
    "def standardize(data):\n",
    "    mean = np.mean(data, axis=2, keepdims=True)\n",
    "    std = np.std(data, axis=2, keepdims=True)\n",
    "    standardized_data = (data - mean) / std\n",
    "    return standardized_data\n",
    "\n",
    "def preprocess_eeg_data(data, target_rate, current_rate, lowcut, highcut, fs):\n",
    "    print(\"resample_data\")\n",
    "    data = resample_data(data, target_rate, current_rate)\n",
    "    gc.collect()\n",
    "    print(\"bandpass_filter\")\n",
    "    data = bandpass_filter(data, lowcut, highcut, fs)\n",
    "    gc.collect()\n",
    "    print(\"standardize\")\n",
    "    data = standardize(data)\n",
    "    return data\n",
    "\n",
    "def set_lr(lr, optimizer):\n",
    "    for param_group in optimizer.param_groups:\n",
    "        param_group[\"lr\"] = lr\n",
    "\n",
    "# cosine scheduler\n",
    "class CosineScheduler:\n",
    "    def __init__(self, epochs, lr, warmup_length=5):\n",
    "        \"\"\"\n",
    "        Arguments\n",
    "        ---------\n",
    "        epochs : int\n",
    "            学習のエポック数．\n",
    "        lr : float\n",
    "            学習率．\n",
    "        warmup_length : int\n",
    "            warmupを適用するエポック数．\n",
    "        \"\"\"\n",
    "        self.epochs = epochs\n",
    "        self.lr = lr\n",
    "        self.warmup = warmup_length\n",
    "\n",
    "    def __call__(self, epoch):\n",
    "        \"\"\"\n",
    "        Arguments\n",
    "        ---------\n",
    "        epoch : int\n",
    "            現在のエポック数．\n",
    "        \"\"\"\n",
    "        progress = (epoch - self.warmup) / (self.epochs - self.warmup)\n",
    "        progress = np.clip(progress, 0.0, 1.0)\n",
    "        lr = self.lr * 0.5 * (1. + np.cos(np.pi * progress))\n",
    "\n",
    "        if self.warmup:\n",
    "            lr = lr * min(1., (epoch+1) / self.warmup)\n",
    "\n",
    "        return lr\n",
    "\n",
    "class EarlyStopping:\n",
    "    def __init__(self, patience=7, verbose=False, delta=0):\n",
    "        self.patience = patience\n",
    "        self.verbose = verbose\n",
    "        self.counter = 0\n",
    "        self.best_score = None\n",
    "        self.early_stop = False\n",
    "        self.val_acc_max = np.NINF\n",
    "        self.delta = delta\n",
    "\n",
    "    def __call__(self, val_acc, model):\n",
    "\n",
    "        score = val_acc\n",
    "\n",
    "        if self.best_score is None:\n",
    "            self.best_score = score\n",
    "            self.save_checkpoint(val_acc, model)\n",
    "        elif score < self.best_score + self.delta:\n",
    "            self.counter += 1\n",
    "            if self.verbose:\n",
    "                print(f'EarlyStopping counter: {self.counter} out of {self.patience}')\n",
    "            if self.counter >= self.patience:\n",
    "                self.early_stop = True\n",
    "        else:\n",
    "            self.best_score = score\n",
    "            self.save_checkpoint(val_acc, model)\n",
    "            self.counter = 0\n",
    "\n",
    "    def save_checkpoint(self, val_acc, model):\n",
    "        if self.verbose:\n",
    "            print(f'Validation accuracy increased ({self.val_acc_max:.6f} --> {val_acc:.6f}).  Saving model ...')\n",
    "        torch.save(model.state_dict(), 'checkpoint.pt')\n",
    "        self.val_acc_max = val_acc"
   ]
  },
  {
   "cell_type": "code",
   "execution_count": 3,
   "metadata": {},
   "outputs": [],
   "source": [
    "import torch\n",
    "from torch.utils.data import TensorDataset, DataLoader\n",
    "\n",
    "# dataset_filename = \"train_val-1000.pt\"\n",
    "dataset_filename = \"train_val.pt\"\n",
    "# dataset_filename = \"combined.pt\"\n",
    "folder_path = 'data/subject_1/'\n",
    "# folder_path = 'data/'"
   ]
  },
  {
   "cell_type": "code",
   "execution_count": null,
   "metadata": {},
   "outputs": [],
   "source": []
  },
  {
   "cell_type": "code",
   "execution_count": 4,
   "metadata": {},
   "outputs": [],
   "source": [
    "# def process_in_batches(X, batch_size, preprocess_function, *args):\n",
    "#     num_samples = X.shape[0]\n",
    "#     for start_idx in range(0, num_samples, batch_size):\n",
    "#         end_idx = min(start_idx + batch_size, num_samples)\n",
    "#         yield preprocess_function(X[start_idx:end_idx], *args), start_idx, end_idx"
   ]
  },
  {
   "cell_type": "code",
   "execution_count": 5,
   "metadata": {},
   "outputs": [],
   "source": [
    "# import os\n",
    "# import datetime\n",
    "# import pytz\n",
    "# import torch\n",
    "# import numpy as np\n",
    "# from scipy.signal import resample, butter, filtfilt\n",
    "\n",
    "# # 上記で提供された前処理関数をここに挿入\n",
    "\n",
    "# def process_in_batches(X, batch_size, preprocess_function, *args):\n",
    "#     num_samples = X.shape[0]\n",
    "#     for start_idx in range(0, num_samples, batch_size):\n",
    "#         end_idx = min(start_idx + batch_size, num_samples)\n",
    "#         yield preprocess_function(X[start_idx:end_idx], *args), start_idx, end_idx\n",
    "\n",
    "# # ベースとなるフォルダ名\n",
    "# base_folder_name = \"outputs\"\n",
    "\n",
    "# # 日本のタイムゾーンを取得\n",
    "# jst = pytz.timezone('Asia/Tokyo')\n",
    "\n",
    "# # 現在の日付と時間を取得（日本のローカルタイム）\n",
    "# now = datetime.datetime.now(jst)\n",
    "\n",
    "# # フォルダ名を生成（例：2023-06-20/23-59）\n",
    "# save_folder_name = os.path.join(base_folder_name, now.strftime(\"%Y-%m-%d/%H-%M\"))\n",
    "\n",
    "# # フォルダを作成（存在しない場合）\n",
    "# os.makedirs(save_folder_name, exist_ok=True)\n",
    "\n",
    "# # 元データを読み出す\n",
    "# data = torch.load(folder_path + dataset_filename)\n",
    "# X, y = data\n",
    "\n",
    "# batch_size = 256  # メモリに収まるサイズに応じて調整\n",
    "# preprocessed_X = None\n",
    "\n",
    "# for preprocessed_batch, start_idx, end_idx in tqdm(process_in_batches(X.numpy(), batch_size, preprocess_eeg_data, target_rate, current_rate, lowcut, highcut, fs), desc=\"Preprocess\"):\n",
    "#     if preprocessed_X is None:\n",
    "#         preprocessed_X = preprocessed_batch\n",
    "#     else:\n",
    "#         preprocessed_X = np.concatenate([preprocessed_X, preprocessed_batch], axis=0)\n",
    "\n",
    "# # PyTorchテンソルに変換し、保存\n",
    "# X_tensor = torch.tensor(preprocessed_X, dtype=torch.float32).unsqueeze(1)  # (samples, 1, channels, timepoints)\n",
    "# y_tensor = torch.tensor(y, dtype=torch.long)\n",
    "\n",
    "# # 処理後のデータを保存\n",
    "# torch.save((X_tensor, y_tensor), os.path.join(save_folder_name, 'preprocessed_data.pt'))\n",
    "\n",
    "# print(X_tensor.shape)\n",
    "# print(y_tensor.shape)"
   ]
  },
  {
   "cell_type": "markdown",
   "metadata": {},
   "source": [
    "torch.Size([82160, 1, 271, 128])\n",
    "torch.Size([82160])"
   ]
  },
  {
   "cell_type": "code",
   "execution_count": 6,
   "metadata": {},
   "outputs": [],
   "source": [
    "# パラメータ\n",
    "target_rate = 128\n",
    "num_channels = 271  # チャンネル数\n",
    "num_timepoints = target_rate  # タイムポイント数\n",
    "fs = 128\n",
    "current_rate = 281\n",
    "num_classes = 1854  # クラス数\n",
    "lr = 0.001\n",
    "num_epochs = 50\n",
    "batch_size=128\n",
    "n_splits = 5\n",
    "\n",
    "# デバイスの設定\n",
    "device = torch.device('cuda' if torch.cuda.is_available() else 'cpu')"
   ]
  },
  {
   "cell_type": "code",
   "execution_count": 7,
   "metadata": {},
   "outputs": [],
   "source": [
    "import optuna\n",
    "\n",
    "def objective(trial):\n",
    "\n",
    "    print(\"Start objective\", trial.number)\n",
    "    \n",
    "\n",
    "    lowcut = trial.suggest_uniform('lowcut', 0.01, fs / 2 - 1)\n",
    "    highcut = trial.suggest_uniform('highcut', lowcut + 1, fs / 2)\n",
    "    \n",
    "    print(f\"lowcut: {lowcut}, highcut: {highcut}\")\n",
    "\n",
    "    # ベースとなるフォルダ名\n",
    "    base_folder_name = \"outputs\"\n",
    "\n",
    "    # 日本のタイムゾーンを取得\n",
    "    jst = pytz.timezone('Asia/Tokyo')\n",
    "\n",
    "    # 現在の日付と時間を取得（日本のローカルタイム）\n",
    "    now = datetime.datetime.now(jst)\n",
    "\n",
    "    # フォルダ名を生成（例：06-20/23-59）\n",
    "    save_folder_name = os.path.join(base_folder_name, now.strftime(\"%Y-%m-%d/%H-%M\"))\n",
    "\n",
    "    # フォルダを作成（存在しない場合）\n",
    "    os.makedirs(save_folder_name, exist_ok=True)\n",
    "\n",
    "    # 元データを読み出す\n",
    "    data = torch.load(folder_path+dataset_filename)\n",
    "    X, y = data\n",
    "    del data\n",
    "\n",
    "    # 前処理を行うコード（ここに適切な前処理を行うコードを書く）\n",
    "    preprocessed_data = preprocess_eeg_data(X.numpy(), target_rate, current_rate, lowcut, highcut, fs)\n",
    "    del X\n",
    "\n",
    "    # PyTorchテンソルに変換\n",
    "    X = torch.tensor(preprocessed_data, dtype=torch.float32).unsqueeze(1)  # (samples, 1, channels, timepoints)\n",
    "    y = torch.tensor(y, dtype=torch.long)\n",
    "\n",
    "    print(X.shape)\n",
    "    print(y.shape)\n",
    "\n",
    "    dataset = TensorDataset(X, y)\n",
    "\n",
    "    accuracy = Accuracy(\n",
    "        task=\"multiclass\", num_classes=num_classes, top_k=10\n",
    "    ).to(device)\n",
    "\n",
    "    max_val_acc = 0\n",
    "    max_val_acc_list = []\n",
    "\n",
    "\n",
    "    # KFoldによる交差検証の設定\n",
    "    kf = KFold(n_splits=n_splits, shuffle=True, random_state=3711)\n",
    "\n",
    "    # 交差検証のループ\n",
    "    for fold, (train_index, val_index) in enumerate(kf.split(dataset)):\n",
    "        print(f\"Fold {fold + 1}\")\n",
    "\n",
    "        # トレーニングデータと検証データに分割\n",
    "        train_data = torch.utils.data.Subset(dataset, train_index)\n",
    "        val_data = torch.utils.data.Subset(dataset, val_index)\n",
    "        print(train_data.dataset[0])\n",
    "\n",
    "        # データローダの定義\n",
    "        train_loader = DataLoader(train_data, batch_size=batch_size, shuffle=True)\n",
    "        val_loader = DataLoader(val_data, batch_size=batch_size, shuffle=False)\n",
    "\n",
    "        # モデルの定義\n",
    "        model = EEGNet(num_classes=num_classes, num_channels=num_channels, samples=target_rate).to(device)\n",
    "        criterion = torch.nn.CrossEntropyLoss()\n",
    "        optimizer = torch.optim.Adam(model.parameters(), lr=0.001)\n",
    "        # optimizer = torch.optim.AdamW(model.parameters(), lr=lr, weight_decay=0.02)\n",
    "        scheduler = CosineLRScheduler(optimizer, t_initial=100, lr_min=1e-6,\n",
    "                                    warmup_t=3, warmup_lr_init=1e-6, warmup_prefix=True)\n",
    "        early_stopping = EarlyStopping(patience=2, verbose=True)\n",
    "\n",
    "        max_val_acc = 0  # 各Foldの最大検証精度を追跡するために、ループの内部で初期化\n",
    "\n",
    "        # トレーニングループ\n",
    "        for epoch in range(num_epochs):\n",
    "            print(f\"Epoch {epoch+1}/{num_epochs}\")\n",
    "\n",
    "            train_loss, train_acc, val_loss, val_acc = [], [], [], []\n",
    "\n",
    "            model.train()\n",
    "            for X, y in tqdm(train_loader, desc=\"Train\"):\n",
    "                X, y = X.to(device), y.to(device)\n",
    "\n",
    "                y_pred = model(X)\n",
    "\n",
    "                loss = F.cross_entropy(y_pred, y)\n",
    "                train_loss.append(loss.item())\n",
    "\n",
    "                optimizer.zero_grad()\n",
    "                loss.backward()\n",
    "                optimizer.step()\n",
    "\n",
    "                acc = accuracy(y_pred, y)\n",
    "                train_acc.append(acc.item())\n",
    "\n",
    "            model.eval()\n",
    "            for X, y in tqdm(val_loader, desc=\"Validation\"):\n",
    "                X, y = X.to(device), y.to(device)\n",
    "\n",
    "                with torch.no_grad():\n",
    "                    y_pred = model(X)\n",
    "\n",
    "                val_loss.append(F.cross_entropy(y_pred, y).item())\n",
    "                val_acc.append(accuracy(y_pred, y).item())\n",
    "\n",
    "            scheduler.step(np.mean(val_loss))  # 学習率を調整\n",
    "\n",
    "            print(f\"Epoch {epoch+1}/{num_epochs} | train loss: {np.mean(train_loss):.3f} | train acc: {np.mean(train_acc):.3f} | val loss: {np.mean(val_loss):.3f} | val acc: {np.mean(val_acc):.3f}\")\n",
    "\n",
    "            # 各Foldの最初のエポックでモデルを保存\n",
    "            if epoch == 0:\n",
    "                torch.save(model.state_dict(), os.path.join(save_folder_name, f\"model_best_fold{fold+1}.pt\"))\n",
    "                print(f\"Initial model for Fold {fold+1} saved.\")\n",
    "\n",
    "            val_acc_mean = np.mean(val_acc)\n",
    "            if val_acc_mean > max_val_acc:\n",
    "                cprint(\"New best.\", \"cyan\")\n",
    "                # Fold番号をファイル名に含める\n",
    "                torch.save(model.state_dict(), os.path.join(save_folder_name, f\"model_best_fold{fold+1}.pt\"))\n",
    "                max_val_acc = np.mean(val_acc)\n",
    "\n",
    "\n",
    "            early_stopping(val_acc_mean, model)\n",
    "            if early_stopping.early_stop:\n",
    "                print(\"Early stopping. Max Acc = \", max_val_acc)\n",
    "                break\n",
    "        \n",
    "        max_val_acc_list.append(max_val_acc)\n",
    "        print(\"Max Acc = \", max_val_acc)\n",
    "\n",
    "    mean_acc = np.mean(max_val_acc_list)\n",
    "    print(\"Acc mean = \", mean_acc)\n",
    "\n",
    "    return mean_acc"
   ]
  },
  {
   "cell_type": "code",
   "execution_count": 8,
   "metadata": {},
   "outputs": [
    {
     "name": "stderr",
     "output_type": "stream",
     "text": [
      "[I 2024-06-29 00:08:02,836] Using an existing study with name 'bandpass_filter_study_5cv' instead of creating a new one.\n",
      "C:\\Users\\tshigata\\AppData\\Local\\Temp\\ipykernel_21432\\3549913540.py:13: FutureWarning: suggest_uniform has been deprecated in v3.0.0. This feature will be removed in v6.0.0. See https://github.com/optuna/optuna/releases/tag/v3.0.0. Use suggest_float instead.\n",
      "  lowcut = trial.suggest_uniform('lowcut', 0.01, fs / 2 - 1)\n",
      "C:\\Users\\tshigata\\AppData\\Local\\Temp\\ipykernel_21432\\3549913540.py:14: FutureWarning: suggest_uniform has been deprecated in v3.0.0. This feature will be removed in v6.0.0. See https://github.com/optuna/optuna/releases/tag/v3.0.0. Use suggest_float instead.\n",
      "  highcut = trial.suggest_uniform('highcut', lowcut + 1, fs / 2)\n"
     ]
    },
    {
     "name": "stdout",
     "output_type": "stream",
     "text": [
      "Start objective 45\n",
      "lowcut: 2.661366086401874, highcut: 50.62553988077899\n",
      "resample_data\n",
      "bandpass_filter\n",
      "standardize\n"
     ]
    },
    {
     "name": "stderr",
     "output_type": "stream",
     "text": [
      "C:\\Users\\tshigata\\AppData\\Local\\Temp\\ipykernel_21432\\3549913540.py:44: UserWarning: To copy construct from a tensor, it is recommended to use sourceTensor.clone().detach() or sourceTensor.clone().detach().requires_grad_(True), rather than torch.tensor(sourceTensor).\n",
      "  y = torch.tensor(y, dtype=torch.long)\n"
     ]
    },
    {
     "name": "stdout",
     "output_type": "stream",
     "text": [
      "torch.Size([20540, 1, 271, 128])\n",
      "torch.Size([20540])\n",
      "Fold 1\n",
      "(tensor([[[ 0.1535, -1.4050, -1.4050,  ..., -0.6757, -1.6552,  0.1524],\n",
      "         [ 0.0613, -0.6979,  0.0453,  ..., -0.6955, -1.5045,  0.1395],\n",
      "         [-0.0156, -0.6249,  0.5772,  ..., -0.3120, -1.3291,  0.1629],\n",
      "         ...,\n",
      "         [ 0.1421, -0.6935, -1.8076,  ..., -0.0542,  0.5249,  0.0315],\n",
      "         [ 0.1956, -2.3301, -2.2354,  ..., -0.7933, -0.9568,  0.0909],\n",
      "         [ 0.0561, -0.9262, -1.5930,  ..., -0.9961, -0.0278,  0.0721]]]), tensor(1225))\n",
      "Epoch 1/50\n"
     ]
    },
    {
     "name": "stderr",
     "output_type": "stream",
     "text": [
      "Train: 100%|██████████| 129/129 [00:11<00:00, 11.05it/s]\n",
      "Validation: 100%|██████████| 33/33 [00:00<00:00, 76.03it/s]\n"
     ]
    },
    {
     "name": "stdout",
     "output_type": "stream",
     "text": [
      "Epoch 1/50 | train loss: 7.545 | train acc: 0.006 | val loss: 7.538 | val acc: 0.007\n",
      "Initial model for Fold 1 saved.\n",
      "\u001b[36mNew best.\u001b[0m\n",
      "Validation accuracy increased (-inf --> 0.006629).  Saving model ...\n",
      "Epoch 2/50\n"
     ]
    },
    {
     "name": "stderr",
     "output_type": "stream",
     "text": [
      "Train: 100%|██████████| 129/129 [00:11<00:00, 11.18it/s]\n",
      "Validation: 100%|██████████| 33/33 [00:00<00:00, 69.94it/s]\n"
     ]
    },
    {
     "name": "stdout",
     "output_type": "stream",
     "text": [
      "Epoch 2/50 | train loss: 7.539 | train acc: 0.007 | val loss: 7.538 | val acc: 0.007\n",
      "\u001b[36mNew best.\u001b[0m\n",
      "Validation accuracy increased (0.006629 --> 0.007339).  Saving model ...\n",
      "Epoch 3/50\n"
     ]
    },
    {
     "name": "stderr",
     "output_type": "stream",
     "text": [
      "Train: 100%|██████████| 129/129 [00:11<00:00, 11.16it/s]\n",
      "Validation: 100%|██████████| 33/33 [00:00<00:00, 71.56it/s]\n"
     ]
    },
    {
     "name": "stdout",
     "output_type": "stream",
     "text": [
      "Epoch 3/50 | train loss: 7.466 | train acc: 0.014 | val loss: 7.549 | val acc: 0.006\n",
      "EarlyStopping counter: 1 out of 2\n",
      "Epoch 4/50\n"
     ]
    },
    {
     "name": "stderr",
     "output_type": "stream",
     "text": [
      "Train: 100%|██████████| 129/129 [00:11<00:00, 11.19it/s]\n",
      "Validation: 100%|██████████| 33/33 [00:00<00:00, 70.57it/s]\n"
     ]
    },
    {
     "name": "stdout",
     "output_type": "stream",
     "text": [
      "Epoch 4/50 | train loss: 7.362 | train acc: 0.024 | val loss: 7.587 | val acc: 0.008\n",
      "\u001b[36mNew best.\u001b[0m\n",
      "Validation accuracy increased (0.007339 --> 0.007812).  Saving model ...\n",
      "Epoch 5/50\n"
     ]
    },
    {
     "name": "stderr",
     "output_type": "stream",
     "text": [
      "Train: 100%|██████████| 129/129 [00:11<00:00, 11.13it/s]\n",
      "Validation: 100%|██████████| 33/33 [00:00<00:00, 66.89it/s]\n"
     ]
    },
    {
     "name": "stdout",
     "output_type": "stream",
     "text": [
      "Epoch 5/50 | train loss: 7.208 | train acc: 0.036 | val loss: 7.640 | val acc: 0.010\n",
      "\u001b[36mNew best.\u001b[0m\n",
      "Validation accuracy increased (0.007812 --> 0.009943).  Saving model ...\n",
      "Epoch 6/50\n"
     ]
    },
    {
     "name": "stderr",
     "output_type": "stream",
     "text": [
      "Train: 100%|██████████| 129/129 [00:11<00:00, 11.12it/s]\n",
      "Validation: 100%|██████████| 33/33 [00:00<00:00, 67.29it/s]\n"
     ]
    },
    {
     "name": "stdout",
     "output_type": "stream",
     "text": [
      "Epoch 6/50 | train loss: 7.027 | train acc: 0.052 | val loss: 7.716 | val acc: 0.009\n",
      "EarlyStopping counter: 1 out of 2\n",
      "Epoch 7/50\n"
     ]
    },
    {
     "name": "stderr",
     "output_type": "stream",
     "text": [
      "Train: 100%|██████████| 129/129 [00:11<00:00, 10.82it/s]\n",
      "Validation: 100%|██████████| 33/33 [00:00<00:00, 62.96it/s]\n"
     ]
    },
    {
     "name": "stdout",
     "output_type": "stream",
     "text": [
      "Epoch 7/50 | train loss: 6.845 | train acc: 0.074 | val loss: 7.796 | val acc: 0.010\n",
      "Validation accuracy increased (0.009943 --> 0.009943).  Saving model ...\n",
      "Epoch 8/50\n"
     ]
    },
    {
     "name": "stderr",
     "output_type": "stream",
     "text": [
      "Train: 100%|██████████| 129/129 [00:11<00:00, 10.76it/s]\n",
      "Validation: 100%|██████████| 33/33 [00:00<00:00, 65.63it/s]\n"
     ]
    },
    {
     "name": "stdout",
     "output_type": "stream",
     "text": [
      "Epoch 8/50 | train loss: 6.652 | train acc: 0.100 | val loss: 7.847 | val acc: 0.009\n",
      "EarlyStopping counter: 1 out of 2\n",
      "Epoch 9/50\n"
     ]
    },
    {
     "name": "stderr",
     "output_type": "stream",
     "text": [
      "Train: 100%|██████████| 129/129 [00:11<00:00, 10.79it/s]\n",
      "Validation: 100%|██████████| 33/33 [00:00<00:00, 61.79it/s]\n"
     ]
    },
    {
     "name": "stdout",
     "output_type": "stream",
     "text": [
      "Epoch 9/50 | train loss: 6.475 | train acc: 0.125 | val loss: 7.925 | val acc: 0.009\n",
      "EarlyStopping counter: 2 out of 2\n",
      "Early stopping. Max Acc =  0.009943181818181818\n",
      "Max Acc =  0.009943181818181818\n",
      "Fold 2\n",
      "(tensor([[[ 0.1535, -1.4050, -1.4050,  ..., -0.6757, -1.6552,  0.1524],\n",
      "         [ 0.0613, -0.6979,  0.0453,  ..., -0.6955, -1.5045,  0.1395],\n",
      "         [-0.0156, -0.6249,  0.5772,  ..., -0.3120, -1.3291,  0.1629],\n",
      "         ...,\n",
      "         [ 0.1421, -0.6935, -1.8076,  ..., -0.0542,  0.5249,  0.0315],\n",
      "         [ 0.1956, -2.3301, -2.2354,  ..., -0.7933, -0.9568,  0.0909],\n",
      "         [ 0.0561, -0.9262, -1.5930,  ..., -0.9961, -0.0278,  0.0721]]]), tensor(1225))\n",
      "Epoch 1/50\n"
     ]
    },
    {
     "name": "stderr",
     "output_type": "stream",
     "text": [
      "Train: 100%|██████████| 129/129 [00:11<00:00, 10.79it/s]\n",
      "Validation: 100%|██████████| 33/33 [00:00<00:00, 64.64it/s]\n"
     ]
    },
    {
     "name": "stdout",
     "output_type": "stream",
     "text": [
      "Epoch 1/50 | train loss: 7.544 | train acc: 0.005 | val loss: 7.533 | val acc: 0.006\n",
      "Initial model for Fold 2 saved.\n",
      "\u001b[36mNew best.\u001b[0m\n",
      "Validation accuracy increased (-inf --> 0.006392).  Saving model ...\n",
      "Epoch 2/50\n"
     ]
    },
    {
     "name": "stderr",
     "output_type": "stream",
     "text": [
      "Train: 100%|██████████| 129/129 [00:11<00:00, 10.78it/s]\n",
      "Validation: 100%|██████████| 33/33 [00:00<00:00, 70.63it/s]\n"
     ]
    },
    {
     "name": "stdout",
     "output_type": "stream",
     "text": [
      "Epoch 2/50 | train loss: 7.537 | train acc: 0.007 | val loss: 7.542 | val acc: 0.007\n",
      "\u001b[36mNew best.\u001b[0m\n",
      "Validation accuracy increased (0.006392 --> 0.007339).  Saving model ...\n",
      "Epoch 3/50\n"
     ]
    },
    {
     "name": "stderr",
     "output_type": "stream",
     "text": [
      "Train: 100%|██████████| 129/129 [00:11<00:00, 10.77it/s]\n",
      "Validation: 100%|██████████| 33/33 [00:00<00:00, 70.09it/s]\n"
     ]
    },
    {
     "name": "stdout",
     "output_type": "stream",
     "text": [
      "Epoch 3/50 | train loss: 7.469 | train acc: 0.016 | val loss: 7.556 | val acc: 0.009\n",
      "\u001b[36mNew best.\u001b[0m\n",
      "Validation accuracy increased (0.007339 --> 0.008759).  Saving model ...\n",
      "Epoch 4/50\n"
     ]
    },
    {
     "name": "stderr",
     "output_type": "stream",
     "text": [
      "Train: 100%|██████████| 129/129 [00:11<00:00, 10.82it/s]\n",
      "Validation: 100%|██████████| 33/33 [00:00<00:00, 69.25it/s]\n"
     ]
    },
    {
     "name": "stdout",
     "output_type": "stream",
     "text": [
      "Epoch 4/50 | train loss: 7.384 | train acc: 0.023 | val loss: 7.572 | val acc: 0.009\n",
      "\u001b[36mNew best.\u001b[0m\n",
      "Validation accuracy increased (0.008759 --> 0.008996).  Saving model ...\n",
      "Epoch 5/50\n"
     ]
    },
    {
     "name": "stderr",
     "output_type": "stream",
     "text": [
      "Train: 100%|██████████| 129/129 [00:11<00:00, 10.77it/s]\n",
      "Validation: 100%|██████████| 33/33 [00:00<00:00, 73.85it/s]\n"
     ]
    },
    {
     "name": "stdout",
     "output_type": "stream",
     "text": [
      "Epoch 5/50 | train loss: 7.242 | train acc: 0.032 | val loss: 7.598 | val acc: 0.009\n",
      "EarlyStopping counter: 1 out of 2\n",
      "Epoch 6/50\n"
     ]
    },
    {
     "name": "stderr",
     "output_type": "stream",
     "text": [
      "Train: 100%|██████████| 129/129 [00:11<00:00, 10.87it/s]\n",
      "Validation: 100%|██████████| 33/33 [00:00<00:00, 65.92it/s]\n"
     ]
    },
    {
     "name": "stdout",
     "output_type": "stream",
     "text": [
      "Epoch 6/50 | train loss: 7.053 | train acc: 0.050 | val loss: 7.628 | val acc: 0.010\n",
      "\u001b[36mNew best.\u001b[0m\n",
      "Validation accuracy increased (0.008996 --> 0.009706).  Saving model ...\n",
      "Epoch 7/50\n"
     ]
    },
    {
     "name": "stderr",
     "output_type": "stream",
     "text": [
      "Train: 100%|██████████| 129/129 [00:11<00:00, 10.80it/s]\n",
      "Validation: 100%|██████████| 33/33 [00:00<00:00, 65.91it/s]\n"
     ]
    },
    {
     "name": "stdout",
     "output_type": "stream",
     "text": [
      "Epoch 7/50 | train loss: 6.841 | train acc: 0.074 | val loss: 7.672 | val acc: 0.013\n",
      "\u001b[36mNew best.\u001b[0m\n",
      "Validation accuracy increased (0.009706 --> 0.013021).  Saving model ...\n",
      "Epoch 8/50\n"
     ]
    },
    {
     "name": "stderr",
     "output_type": "stream",
     "text": [
      "Train: 100%|██████████| 129/129 [00:11<00:00, 10.85it/s]\n",
      "Validation: 100%|██████████| 33/33 [00:00<00:00, 65.62it/s]\n"
     ]
    },
    {
     "name": "stdout",
     "output_type": "stream",
     "text": [
      "Epoch 8/50 | train loss: 6.633 | train acc: 0.104 | val loss: 7.735 | val acc: 0.014\n",
      "\u001b[36mNew best.\u001b[0m\n",
      "Validation accuracy increased (0.013021 --> 0.013731).  Saving model ...\n",
      "Epoch 9/50\n"
     ]
    },
    {
     "name": "stderr",
     "output_type": "stream",
     "text": [
      "Train: 100%|██████████| 129/129 [00:11<00:00, 10.79it/s]\n",
      "Validation: 100%|██████████| 33/33 [00:00<00:00, 76.80it/s]\n"
     ]
    },
    {
     "name": "stdout",
     "output_type": "stream",
     "text": [
      "Epoch 9/50 | train loss: 6.446 | train acc: 0.129 | val loss: 7.826 | val acc: 0.013\n",
      "EarlyStopping counter: 1 out of 2\n",
      "Epoch 10/50\n"
     ]
    },
    {
     "name": "stderr",
     "output_type": "stream",
     "text": [
      "Train: 100%|██████████| 129/129 [00:11<00:00, 10.83it/s]\n",
      "Validation: 100%|██████████| 33/33 [00:00<00:00, 66.50it/s]\n"
     ]
    },
    {
     "name": "stdout",
     "output_type": "stream",
     "text": [
      "Epoch 10/50 | train loss: 6.259 | train acc: 0.159 | val loss: 7.895 | val acc: 0.014\n",
      "Validation accuracy increased (0.013731 --> 0.013731).  Saving model ...\n",
      "Epoch 11/50\n"
     ]
    },
    {
     "name": "stderr",
     "output_type": "stream",
     "text": [
      "Train: 100%|██████████| 129/129 [00:11<00:00, 10.77it/s]\n",
      "Validation: 100%|██████████| 33/33 [00:00<00:00, 70.95it/s]\n"
     ]
    },
    {
     "name": "stdout",
     "output_type": "stream",
     "text": [
      "Epoch 11/50 | train loss: 6.091 | train acc: 0.183 | val loss: 7.974 | val acc: 0.011\n",
      "EarlyStopping counter: 1 out of 2\n",
      "Epoch 12/50\n"
     ]
    },
    {
     "name": "stderr",
     "output_type": "stream",
     "text": [
      "Train: 100%|██████████| 129/129 [00:11<00:00, 10.84it/s]\n",
      "Validation: 100%|██████████| 33/33 [00:00<00:00, 63.71it/s]\n"
     ]
    },
    {
     "name": "stdout",
     "output_type": "stream",
     "text": [
      "Epoch 12/50 | train loss: 5.937 | train acc: 0.207 | val loss: 8.106 | val acc: 0.012\n",
      "EarlyStopping counter: 2 out of 2\n",
      "Early stopping. Max Acc =  0.013731060606060606\n",
      "Max Acc =  0.013731060606060606\n",
      "Fold 3\n",
      "(tensor([[[ 0.1535, -1.4050, -1.4050,  ..., -0.6757, -1.6552,  0.1524],\n",
      "         [ 0.0613, -0.6979,  0.0453,  ..., -0.6955, -1.5045,  0.1395],\n",
      "         [-0.0156, -0.6249,  0.5772,  ..., -0.3120, -1.3291,  0.1629],\n",
      "         ...,\n",
      "         [ 0.1421, -0.6935, -1.8076,  ..., -0.0542,  0.5249,  0.0315],\n",
      "         [ 0.1956, -2.3301, -2.2354,  ..., -0.7933, -0.9568,  0.0909],\n",
      "         [ 0.0561, -0.9262, -1.5930,  ..., -0.9961, -0.0278,  0.0721]]]), tensor(1225))\n",
      "Epoch 1/50\n"
     ]
    },
    {
     "name": "stderr",
     "output_type": "stream",
     "text": [
      "Train: 100%|██████████| 129/129 [00:11<00:00, 10.77it/s]\n",
      "Validation: 100%|██████████| 33/33 [00:00<00:00, 66.91it/s]\n"
     ]
    },
    {
     "name": "stdout",
     "output_type": "stream",
     "text": [
      "Epoch 1/50 | train loss: 7.543 | train acc: 0.006 | val loss: 7.537 | val acc: 0.005\n",
      "Initial model for Fold 3 saved.\n",
      "\u001b[36mNew best.\u001b[0m\n",
      "Validation accuracy increased (-inf --> 0.005445).  Saving model ...\n",
      "Epoch 2/50\n"
     ]
    },
    {
     "name": "stderr",
     "output_type": "stream",
     "text": [
      "Train: 100%|██████████| 129/129 [00:11<00:00, 10.83it/s]\n",
      "Validation: 100%|██████████| 33/33 [00:00<00:00, 73.55it/s]\n"
     ]
    },
    {
     "name": "stdout",
     "output_type": "stream",
     "text": [
      "Epoch 2/50 | train loss: 7.537 | train acc: 0.007 | val loss: 7.541 | val acc: 0.009\n",
      "\u001b[36mNew best.\u001b[0m\n",
      "Validation accuracy increased (0.005445 --> 0.008996).  Saving model ...\n",
      "Epoch 3/50\n"
     ]
    },
    {
     "name": "stderr",
     "output_type": "stream",
     "text": [
      "Train: 100%|██████████| 129/129 [00:11<00:00, 10.78it/s]\n",
      "Validation: 100%|██████████| 33/33 [00:00<00:00, 77.39it/s]\n"
     ]
    },
    {
     "name": "stdout",
     "output_type": "stream",
     "text": [
      "Epoch 3/50 | train loss: 7.465 | train acc: 0.015 | val loss: 7.559 | val acc: 0.011\n",
      "\u001b[36mNew best.\u001b[0m\n",
      "Validation accuracy increased (0.008996 --> 0.010653).  Saving model ...\n",
      "Epoch 4/50\n"
     ]
    },
    {
     "name": "stderr",
     "output_type": "stream",
     "text": [
      "Train: 100%|██████████| 129/129 [00:11<00:00, 10.78it/s]\n",
      "Validation: 100%|██████████| 33/33 [00:00<00:00, 72.02it/s]\n"
     ]
    },
    {
     "name": "stdout",
     "output_type": "stream",
     "text": [
      "Epoch 4/50 | train loss: 7.359 | train acc: 0.022 | val loss: 7.600 | val acc: 0.010\n",
      "EarlyStopping counter: 1 out of 2\n",
      "Epoch 5/50\n"
     ]
    },
    {
     "name": "stderr",
     "output_type": "stream",
     "text": [
      "Train: 100%|██████████| 129/129 [00:11<00:00, 10.80it/s]\n",
      "Validation: 100%|██████████| 33/33 [00:00<00:00, 73.80it/s]\n"
     ]
    },
    {
     "name": "stdout",
     "output_type": "stream",
     "text": [
      "Epoch 5/50 | train loss: 7.208 | train acc: 0.034 | val loss: 7.661 | val acc: 0.009\n",
      "EarlyStopping counter: 2 out of 2\n",
      "Early stopping. Max Acc =  0.01065340909090909\n",
      "Max Acc =  0.01065340909090909\n",
      "Fold 4\n",
      "(tensor([[[ 0.1535, -1.4050, -1.4050,  ..., -0.6757, -1.6552,  0.1524],\n",
      "         [ 0.0613, -0.6979,  0.0453,  ..., -0.6955, -1.5045,  0.1395],\n",
      "         [-0.0156, -0.6249,  0.5772,  ..., -0.3120, -1.3291,  0.1629],\n",
      "         ...,\n",
      "         [ 0.1421, -0.6935, -1.8076,  ..., -0.0542,  0.5249,  0.0315],\n",
      "         [ 0.1956, -2.3301, -2.2354,  ..., -0.7933, -0.9568,  0.0909],\n",
      "         [ 0.0561, -0.9262, -1.5930,  ..., -0.9961, -0.0278,  0.0721]]]), tensor(1225))\n",
      "Epoch 1/50\n"
     ]
    },
    {
     "name": "stderr",
     "output_type": "stream",
     "text": [
      "Train: 100%|██████████| 129/129 [00:11<00:00, 10.78it/s]\n",
      "Validation: 100%|██████████| 33/33 [00:00<00:00, 63.46it/s]\n"
     ]
    },
    {
     "name": "stdout",
     "output_type": "stream",
     "text": [
      "Epoch 1/50 | train loss: 7.542 | train acc: 0.005 | val loss: 7.534 | val acc: 0.004\n",
      "Initial model for Fold 4 saved.\n",
      "\u001b[36mNew best.\u001b[0m\n",
      "Validation accuracy increased (-inf --> 0.004498).  Saving model ...\n",
      "Epoch 2/50\n"
     ]
    },
    {
     "name": "stderr",
     "output_type": "stream",
     "text": [
      "Train: 100%|██████████| 129/129 [00:12<00:00, 10.69it/s]\n",
      "Validation: 100%|██████████| 33/33 [00:00<00:00, 71.22it/s]\n"
     ]
    },
    {
     "name": "stdout",
     "output_type": "stream",
     "text": [
      "Epoch 2/50 | train loss: 7.537 | train acc: 0.006 | val loss: 7.545 | val acc: 0.008\n",
      "\u001b[36mNew best.\u001b[0m\n",
      "Validation accuracy increased (0.004498 --> 0.008049).  Saving model ...\n",
      "Epoch 3/50\n"
     ]
    },
    {
     "name": "stderr",
     "output_type": "stream",
     "text": [
      "Train: 100%|██████████| 129/129 [00:11<00:00, 10.79it/s]\n",
      "Validation: 100%|██████████| 33/33 [00:00<00:00, 70.76it/s]\n"
     ]
    },
    {
     "name": "stdout",
     "output_type": "stream",
     "text": [
      "Epoch 3/50 | train loss: 7.467 | train acc: 0.014 | val loss: 7.559 | val acc: 0.010\n",
      "\u001b[36mNew best.\u001b[0m\n",
      "Validation accuracy increased (0.008049 --> 0.009943).  Saving model ...\n",
      "Epoch 4/50\n"
     ]
    },
    {
     "name": "stderr",
     "output_type": "stream",
     "text": [
      "Train: 100%|██████████| 129/129 [00:11<00:00, 10.79it/s]\n",
      "Validation: 100%|██████████| 33/33 [00:00<00:00, 65.46it/s]\n"
     ]
    },
    {
     "name": "stdout",
     "output_type": "stream",
     "text": [
      "Epoch 4/50 | train loss: 7.374 | train acc: 0.023 | val loss: 7.594 | val acc: 0.010\n",
      "\u001b[36mNew best.\u001b[0m\n",
      "Validation accuracy increased (0.009943 --> 0.010417).  Saving model ...\n",
      "Epoch 5/50\n"
     ]
    },
    {
     "name": "stderr",
     "output_type": "stream",
     "text": [
      "Train: 100%|██████████| 129/129 [00:11<00:00, 10.77it/s]\n",
      "Validation: 100%|██████████| 33/33 [00:00<00:00, 79.06it/s]\n"
     ]
    },
    {
     "name": "stdout",
     "output_type": "stream",
     "text": [
      "Epoch 5/50 | train loss: 7.233 | train acc: 0.036 | val loss: 7.630 | val acc: 0.012\n",
      "\u001b[36mNew best.\u001b[0m\n",
      "Validation accuracy increased (0.010417 --> 0.011837).  Saving model ...\n",
      "Epoch 6/50\n"
     ]
    },
    {
     "name": "stderr",
     "output_type": "stream",
     "text": [
      "Train: 100%|██████████| 129/129 [00:11<00:00, 10.79it/s]\n",
      "Validation: 100%|██████████| 33/33 [00:00<00:00, 61.77it/s]\n"
     ]
    },
    {
     "name": "stdout",
     "output_type": "stream",
     "text": [
      "Epoch 6/50 | train loss: 7.061 | train acc: 0.051 | val loss: 7.661 | val acc: 0.013\n",
      "\u001b[36mNew best.\u001b[0m\n",
      "Validation accuracy increased (0.011837 --> 0.013494).  Saving model ...\n",
      "Epoch 7/50\n"
     ]
    },
    {
     "name": "stderr",
     "output_type": "stream",
     "text": [
      "Train: 100%|██████████| 129/129 [00:11<00:00, 10.76it/s]\n",
      "Validation: 100%|██████████| 33/33 [00:00<00:00, 64.24it/s]\n"
     ]
    },
    {
     "name": "stdout",
     "output_type": "stream",
     "text": [
      "Epoch 7/50 | train loss: 6.860 | train acc: 0.071 | val loss: 7.708 | val acc: 0.014\n",
      "\u001b[36mNew best.\u001b[0m\n",
      "Validation accuracy increased (0.013494 --> 0.014205).  Saving model ...\n",
      "Epoch 8/50\n"
     ]
    },
    {
     "name": "stderr",
     "output_type": "stream",
     "text": [
      "Train: 100%|██████████| 129/129 [00:11<00:00, 10.76it/s]\n",
      "Validation: 100%|██████████| 33/33 [00:00<00:00, 63.80it/s]\n"
     ]
    },
    {
     "name": "stdout",
     "output_type": "stream",
     "text": [
      "Epoch 8/50 | train loss: 6.658 | train acc: 0.100 | val loss: 7.738 | val acc: 0.012\n",
      "EarlyStopping counter: 1 out of 2\n",
      "Epoch 9/50\n"
     ]
    },
    {
     "name": "stderr",
     "output_type": "stream",
     "text": [
      "Train: 100%|██████████| 129/129 [00:12<00:00, 10.75it/s]\n",
      "Validation: 100%|██████████| 33/33 [00:00<00:00, 63.84it/s]\n"
     ]
    },
    {
     "name": "stdout",
     "output_type": "stream",
     "text": [
      "Epoch 9/50 | train loss: 6.464 | train acc: 0.127 | val loss: 7.814 | val acc: 0.013\n",
      "EarlyStopping counter: 2 out of 2\n",
      "Early stopping. Max Acc =  0.014204545454545454\n",
      "Max Acc =  0.014204545454545454\n",
      "Fold 5\n",
      "(tensor([[[ 0.1535, -1.4050, -1.4050,  ..., -0.6757, -1.6552,  0.1524],\n",
      "         [ 0.0613, -0.6979,  0.0453,  ..., -0.6955, -1.5045,  0.1395],\n",
      "         [-0.0156, -0.6249,  0.5772,  ..., -0.3120, -1.3291,  0.1629],\n",
      "         ...,\n",
      "         [ 0.1421, -0.6935, -1.8076,  ..., -0.0542,  0.5249,  0.0315],\n",
      "         [ 0.1956, -2.3301, -2.2354,  ..., -0.7933, -0.9568,  0.0909],\n",
      "         [ 0.0561, -0.9262, -1.5930,  ..., -0.9961, -0.0278,  0.0721]]]), tensor(1225))\n",
      "Epoch 1/50\n"
     ]
    },
    {
     "name": "stderr",
     "output_type": "stream",
     "text": [
      "Train: 100%|██████████| 129/129 [00:11<00:00, 10.77it/s]\n",
      "Validation: 100%|██████████| 33/33 [00:00<00:00, 62.00it/s]\n"
     ]
    },
    {
     "name": "stdout",
     "output_type": "stream",
     "text": [
      "Epoch 1/50 | train loss: 7.542 | train acc: 0.006 | val loss: 7.532 | val acc: 0.004\n",
      "Initial model for Fold 5 saved.\n",
      "\u001b[36mNew best.\u001b[0m\n",
      "Validation accuracy increased (-inf --> 0.004025).  Saving model ...\n",
      "Epoch 2/50\n"
     ]
    },
    {
     "name": "stderr",
     "output_type": "stream",
     "text": [
      "Train: 100%|██████████| 129/129 [00:11<00:00, 10.79it/s]\n",
      "Validation: 100%|██████████| 33/33 [00:00<00:00, 61.92it/s]\n"
     ]
    },
    {
     "name": "stdout",
     "output_type": "stream",
     "text": [
      "Epoch 2/50 | train loss: 7.535 | train acc: 0.008 | val loss: 7.544 | val acc: 0.007\n",
      "\u001b[36mNew best.\u001b[0m\n",
      "Validation accuracy increased (0.004025 --> 0.006629).  Saving model ...\n",
      "Epoch 3/50\n"
     ]
    },
    {
     "name": "stderr",
     "output_type": "stream",
     "text": [
      "Train: 100%|██████████| 129/129 [00:11<00:00, 10.80it/s]\n",
      "Validation: 100%|██████████| 33/33 [00:00<00:00, 66.53it/s]\n"
     ]
    },
    {
     "name": "stdout",
     "output_type": "stream",
     "text": [
      "Epoch 3/50 | train loss: 7.469 | train acc: 0.013 | val loss: 7.564 | val acc: 0.005\n",
      "EarlyStopping counter: 1 out of 2\n",
      "Epoch 4/50\n"
     ]
    },
    {
     "name": "stderr",
     "output_type": "stream",
     "text": [
      "Train: 100%|██████████| 129/129 [00:11<00:00, 10.81it/s]\n",
      "Validation: 100%|██████████| 33/33 [00:00<00:00, 62.07it/s]\n"
     ]
    },
    {
     "name": "stdout",
     "output_type": "stream",
     "text": [
      "Epoch 4/50 | train loss: 7.375 | train acc: 0.021 | val loss: 7.603 | val acc: 0.007\n",
      "Validation accuracy increased (0.006629 --> 0.006629).  Saving model ...\n",
      "Epoch 5/50\n"
     ]
    },
    {
     "name": "stderr",
     "output_type": "stream",
     "text": [
      "Train: 100%|██████████| 129/129 [00:11<00:00, 10.80it/s]\n",
      "Validation: 100%|██████████| 33/33 [00:00<00:00, 59.11it/s]\n"
     ]
    },
    {
     "name": "stdout",
     "output_type": "stream",
     "text": [
      "Epoch 5/50 | train loss: 7.233 | train acc: 0.031 | val loss: 7.648 | val acc: 0.007\n",
      "\u001b[36mNew best.\u001b[0m\n",
      "Validation accuracy increased (0.006629 --> 0.007339).  Saving model ...\n",
      "Epoch 6/50\n"
     ]
    },
    {
     "name": "stderr",
     "output_type": "stream",
     "text": [
      "Train: 100%|██████████| 129/129 [00:11<00:00, 10.83it/s]\n",
      "Validation: 100%|██████████| 33/33 [00:00<00:00, 72.07it/s]\n"
     ]
    },
    {
     "name": "stdout",
     "output_type": "stream",
     "text": [
      "Epoch 6/50 | train loss: 7.053 | train acc: 0.050 | val loss: 7.715 | val acc: 0.009\n",
      "\u001b[36mNew best.\u001b[0m\n",
      "Validation accuracy increased (0.007339 --> 0.008996).  Saving model ...\n",
      "Epoch 7/50\n"
     ]
    },
    {
     "name": "stderr",
     "output_type": "stream",
     "text": [
      "Train: 100%|██████████| 129/129 [00:11<00:00, 10.76it/s]\n",
      "Validation: 100%|██████████| 33/33 [00:00<00:00, 58.28it/s]\n"
     ]
    },
    {
     "name": "stdout",
     "output_type": "stream",
     "text": [
      "Epoch 7/50 | train loss: 6.861 | train acc: 0.073 | val loss: 7.771 | val acc: 0.009\n",
      "EarlyStopping counter: 1 out of 2\n",
      "Epoch 8/50\n"
     ]
    },
    {
     "name": "stderr",
     "output_type": "stream",
     "text": [
      "Train: 100%|██████████| 129/129 [00:11<00:00, 10.78it/s]\n",
      "Validation: 100%|██████████| 33/33 [00:00<00:00, 67.64it/s]\n"
     ]
    },
    {
     "name": "stdout",
     "output_type": "stream",
     "text": [
      "Epoch 8/50 | train loss: 6.660 | train acc: 0.100 | val loss: 7.832 | val acc: 0.010\n",
      "\u001b[36mNew best.\u001b[0m\n",
      "Validation accuracy increased (0.008996 --> 0.009943).  Saving model ...\n",
      "Epoch 9/50\n"
     ]
    },
    {
     "name": "stderr",
     "output_type": "stream",
     "text": [
      "Train: 100%|██████████| 129/129 [00:12<00:00, 10.75it/s]\n",
      "Validation: 100%|██████████| 33/33 [00:00<00:00, 66.42it/s]\n"
     ]
    },
    {
     "name": "stdout",
     "output_type": "stream",
     "text": [
      "Epoch 9/50 | train loss: 6.477 | train acc: 0.125 | val loss: 7.890 | val acc: 0.010\n",
      "\u001b[36mNew best.\u001b[0m\n",
      "Validation accuracy increased (0.009943 --> 0.010180).  Saving model ...\n",
      "Epoch 10/50\n"
     ]
    },
    {
     "name": "stderr",
     "output_type": "stream",
     "text": [
      "Train: 100%|██████████| 129/129 [00:11<00:00, 10.79it/s]\n",
      "Validation: 100%|██████████| 33/33 [00:00<00:00, 64.12it/s]\n"
     ]
    },
    {
     "name": "stdout",
     "output_type": "stream",
     "text": [
      "Epoch 10/50 | train loss: 6.288 | train acc: 0.157 | val loss: 7.976 | val acc: 0.010\n",
      "Validation accuracy increased (0.010180 --> 0.010180).  Saving model ...\n",
      "Epoch 11/50\n"
     ]
    },
    {
     "name": "stderr",
     "output_type": "stream",
     "text": [
      "Train: 100%|██████████| 129/129 [00:11<00:00, 10.78it/s]\n",
      "Validation: 100%|██████████| 33/33 [00:00<00:00, 65.99it/s]\n"
     ]
    },
    {
     "name": "stdout",
     "output_type": "stream",
     "text": [
      "Epoch 11/50 | train loss: 6.113 | train acc: 0.184 | val loss: 8.074 | val acc: 0.010\n",
      "EarlyStopping counter: 1 out of 2\n",
      "Epoch 12/50\n"
     ]
    },
    {
     "name": "stderr",
     "output_type": "stream",
     "text": [
      "Train: 100%|██████████| 129/129 [00:11<00:00, 10.82it/s]\n",
      "Validation: 100%|██████████| 33/33 [00:00<00:00, 68.31it/s]\n",
      "[I 2024-06-29 00:18:33,265] Trial 45 finished with value: 0.011742424242424242 and parameters: {'lowcut': 2.661366086401874, 'highcut': 50.62553988077899}. Best is trial 39 with value: 0.01950757575757576.\n"
     ]
    },
    {
     "name": "stdout",
     "output_type": "stream",
     "text": [
      "Epoch 12/50 | train loss: 5.953 | train acc: 0.208 | val loss: 8.147 | val acc: 0.010\n",
      "EarlyStopping counter: 2 out of 2\n",
      "Early stopping. Max Acc =  0.010179924242424242\n",
      "Max Acc =  0.010179924242424242\n",
      "Acc mean =  0.011742424242424242\n",
      "Start objective 46\n",
      "lowcut: 11.110645065888074, highcut: 60.41255402383338\n",
      "resample_data\n",
      "bandpass_filter\n",
      "standardize\n",
      "torch.Size([20540, 1, 271, 128])\n",
      "torch.Size([20540])\n",
      "Fold 1\n",
      "(tensor([[[ 2.9822e-02, -1.4871e+00, -1.0484e+00,  ..., -7.4798e-01,\n",
      "          -2.4784e+00,  3.9638e-02],\n",
      "         [ 2.2466e-02, -1.0391e+00,  7.3268e-01,  ..., -6.6297e-01,\n",
      "          -2.1799e+00,  1.1532e-02],\n",
      "         [ 1.8848e-02, -1.0814e+00,  1.0919e+00,  ..., -4.6848e-01,\n",
      "          -2.2530e+00,  4.0555e-02],\n",
      "         ...,\n",
      "         [ 7.3805e-03,  1.5781e-01,  6.1630e-01,  ...,  2.1748e-01,\n",
      "           1.0977e+00, -2.4948e-02],\n",
      "         [ 2.9238e-02, -3.0338e+00, -7.0899e-01,  ...,  8.0360e-02,\n",
      "          -9.8854e-01,  2.9174e-02],\n",
      "         [ 2.2107e-03, -1.9096e-01,  2.2367e-01,  ..., -7.3033e-01,\n",
      "           1.6306e-01,  2.2263e-02]]]), tensor(1225))\n",
      "Epoch 1/50\n"
     ]
    },
    {
     "name": "stderr",
     "output_type": "stream",
     "text": [
      "Train: 100%|██████████| 129/129 [00:11<00:00, 10.79it/s]\n",
      "Validation: 100%|██████████| 33/33 [00:00<00:00, 70.77it/s]\n"
     ]
    },
    {
     "name": "stdout",
     "output_type": "stream",
     "text": [
      "Epoch 1/50 | train loss: 7.542 | train acc: 0.006 | val loss: 7.533 | val acc: 0.005\n",
      "Initial model for Fold 1 saved.\n",
      "\u001b[36mNew best.\u001b[0m\n",
      "Validation accuracy increased (-inf --> 0.005445).  Saving model ...\n",
      "Epoch 2/50\n"
     ]
    },
    {
     "name": "stderr",
     "output_type": "stream",
     "text": [
      "Train: 100%|██████████| 129/129 [00:11<00:00, 10.87it/s]\n",
      "Validation: 100%|██████████| 33/33 [00:00<00:00, 72.34it/s]\n"
     ]
    },
    {
     "name": "stdout",
     "output_type": "stream",
     "text": [
      "Epoch 2/50 | train loss: 7.539 | train acc: 0.007 | val loss: 7.543 | val acc: 0.007\n",
      "\u001b[36mNew best.\u001b[0m\n",
      "Validation accuracy increased (0.005445 --> 0.006866).  Saving model ...\n",
      "Epoch 3/50\n"
     ]
    },
    {
     "name": "stderr",
     "output_type": "stream",
     "text": [
      "Train: 100%|██████████| 129/129 [00:11<00:00, 10.80it/s]\n",
      "Validation: 100%|██████████| 33/33 [00:00<00:00, 67.69it/s]\n"
     ]
    },
    {
     "name": "stdout",
     "output_type": "stream",
     "text": [
      "Epoch 3/50 | train loss: 7.485 | train acc: 0.013 | val loss: 7.554 | val acc: 0.006\n",
      "EarlyStopping counter: 1 out of 2\n",
      "Epoch 4/50\n"
     ]
    },
    {
     "name": "stderr",
     "output_type": "stream",
     "text": [
      "Train: 100%|██████████| 129/129 [00:11<00:00, 10.88it/s]\n",
      "Validation: 100%|██████████| 33/33 [00:00<00:00, 73.42it/s]\n"
     ]
    },
    {
     "name": "stdout",
     "output_type": "stream",
     "text": [
      "Epoch 4/50 | train loss: 7.428 | train acc: 0.017 | val loss: 7.566 | val acc: 0.008\n",
      "\u001b[36mNew best.\u001b[0m\n",
      "Validation accuracy increased (0.006866 --> 0.007812).  Saving model ...\n",
      "Epoch 5/50\n"
     ]
    },
    {
     "name": "stderr",
     "output_type": "stream",
     "text": [
      "Train: 100%|██████████| 129/129 [00:11<00:00, 10.82it/s]\n",
      "Validation: 100%|██████████| 33/33 [00:00<00:00, 65.87it/s]\n"
     ]
    },
    {
     "name": "stdout",
     "output_type": "stream",
     "text": [
      "Epoch 5/50 | train loss: 7.332 | train acc: 0.025 | val loss: 7.604 | val acc: 0.009\n",
      "\u001b[36mNew best.\u001b[0m\n",
      "Validation accuracy increased (0.007812 --> 0.008759).  Saving model ...\n",
      "Epoch 6/50\n"
     ]
    },
    {
     "name": "stderr",
     "output_type": "stream",
     "text": [
      "Train: 100%|██████████| 129/129 [00:11<00:00, 10.82it/s]\n",
      "Validation: 100%|██████████| 33/33 [00:00<00:00, 60.60it/s]\n"
     ]
    },
    {
     "name": "stdout",
     "output_type": "stream",
     "text": [
      "Epoch 6/50 | train loss: 7.186 | train acc: 0.037 | val loss: 7.685 | val acc: 0.007\n",
      "EarlyStopping counter: 1 out of 2\n",
      "Epoch 7/50\n"
     ]
    },
    {
     "name": "stderr",
     "output_type": "stream",
     "text": [
      "Train: 100%|██████████| 129/129 [00:11<00:00, 10.82it/s]\n",
      "Validation: 100%|██████████| 33/33 [00:00<00:00, 65.96it/s]\n"
     ]
    },
    {
     "name": "stdout",
     "output_type": "stream",
     "text": [
      "Epoch 7/50 | train loss: 6.971 | train acc: 0.062 | val loss: 7.763 | val acc: 0.010\n",
      "\u001b[36mNew best.\u001b[0m\n",
      "Validation accuracy increased (0.008759 --> 0.010101).  Saving model ...\n",
      "Epoch 8/50\n"
     ]
    },
    {
     "name": "stderr",
     "output_type": "stream",
     "text": [
      "Train: 100%|██████████| 129/129 [00:11<00:00, 10.82it/s]\n",
      "Validation: 100%|██████████| 33/33 [00:00<00:00, 63.86it/s]\n"
     ]
    },
    {
     "name": "stdout",
     "output_type": "stream",
     "text": [
      "Epoch 8/50 | train loss: 6.735 | train acc: 0.093 | val loss: 7.869 | val acc: 0.009\n",
      "EarlyStopping counter: 1 out of 2\n",
      "Epoch 9/50\n"
     ]
    },
    {
     "name": "stderr",
     "output_type": "stream",
     "text": [
      "Train: 100%|██████████| 129/129 [00:11<00:00, 10.78it/s]\n",
      "Validation: 100%|██████████| 33/33 [00:00<00:00, 64.14it/s]\n"
     ]
    },
    {
     "name": "stdout",
     "output_type": "stream",
     "text": [
      "Epoch 9/50 | train loss: 6.503 | train acc: 0.125 | val loss: 8.002 | val acc: 0.010\n",
      "EarlyStopping counter: 2 out of 2\n",
      "Early stopping. Max Acc =  0.010101010176268492\n",
      "Max Acc =  0.010101010176268492\n",
      "Fold 2\n",
      "(tensor([[[ 2.9822e-02, -1.4871e+00, -1.0484e+00,  ..., -7.4798e-01,\n",
      "          -2.4784e+00,  3.9638e-02],\n",
      "         [ 2.2466e-02, -1.0391e+00,  7.3268e-01,  ..., -6.6297e-01,\n",
      "          -2.1799e+00,  1.1532e-02],\n",
      "         [ 1.8848e-02, -1.0814e+00,  1.0919e+00,  ..., -4.6848e-01,\n",
      "          -2.2530e+00,  4.0555e-02],\n",
      "         ...,\n",
      "         [ 7.3805e-03,  1.5781e-01,  6.1630e-01,  ...,  2.1748e-01,\n",
      "           1.0977e+00, -2.4948e-02],\n",
      "         [ 2.9238e-02, -3.0338e+00, -7.0899e-01,  ...,  8.0360e-02,\n",
      "          -9.8854e-01,  2.9174e-02],\n",
      "         [ 2.2107e-03, -1.9096e-01,  2.2367e-01,  ..., -7.3033e-01,\n",
      "           1.6306e-01,  2.2263e-02]]]), tensor(1225))\n",
      "Epoch 1/50\n"
     ]
    },
    {
     "name": "stderr",
     "output_type": "stream",
     "text": [
      "Train: 100%|██████████| 129/129 [00:11<00:00, 10.81it/s]\n",
      "Validation: 100%|██████████| 33/33 [00:00<00:00, 67.58it/s]\n"
     ]
    },
    {
     "name": "stdout",
     "output_type": "stream",
     "text": [
      "Epoch 1/50 | train loss: 7.543 | train acc: 0.005 | val loss: 7.533 | val acc: 0.005\n",
      "Initial model for Fold 2 saved.\n",
      "\u001b[36mNew best.\u001b[0m\n",
      "Validation accuracy increased (-inf --> 0.004735).  Saving model ...\n",
      "Epoch 2/50\n"
     ]
    },
    {
     "name": "stderr",
     "output_type": "stream",
     "text": [
      "Train: 100%|██████████| 129/129 [00:11<00:00, 10.84it/s]\n",
      "Validation: 100%|██████████| 33/33 [00:00<00:00, 65.87it/s]\n"
     ]
    },
    {
     "name": "stdout",
     "output_type": "stream",
     "text": [
      "Epoch 2/50 | train loss: 7.538 | train acc: 0.006 | val loss: 7.545 | val acc: 0.005\n",
      "Validation accuracy increased (0.004735 --> 0.004735).  Saving model ...\n",
      "Epoch 3/50\n"
     ]
    },
    {
     "name": "stderr",
     "output_type": "stream",
     "text": [
      "Train: 100%|██████████| 129/129 [00:11<00:00, 10.88it/s]\n",
      "Validation: 100%|██████████| 33/33 [00:00<00:00, 63.63it/s]\n"
     ]
    },
    {
     "name": "stdout",
     "output_type": "stream",
     "text": [
      "Epoch 3/50 | train loss: 7.479 | train acc: 0.013 | val loss: 7.565 | val acc: 0.007\n",
      "\u001b[36mNew best.\u001b[0m\n",
      "Validation accuracy increased (0.004735 --> 0.007102).  Saving model ...\n",
      "Epoch 4/50\n"
     ]
    },
    {
     "name": "stderr",
     "output_type": "stream",
     "text": [
      "Train: 100%|██████████| 129/129 [00:11<00:00, 10.81it/s]\n",
      "Validation: 100%|██████████| 33/33 [00:00<00:00, 63.72it/s]\n"
     ]
    },
    {
     "name": "stdout",
     "output_type": "stream",
     "text": [
      "Epoch 4/50 | train loss: 7.417 | train acc: 0.020 | val loss: 7.590 | val acc: 0.007\n",
      "EarlyStopping counter: 1 out of 2\n",
      "Epoch 5/50\n"
     ]
    },
    {
     "name": "stderr",
     "output_type": "stream",
     "text": [
      "Train: 100%|██████████| 129/129 [00:11<00:00, 10.82it/s]\n",
      "Validation: 100%|██████████| 33/33 [00:00<00:00, 69.95it/s]\n"
     ]
    },
    {
     "name": "stdout",
     "output_type": "stream",
     "text": [
      "Epoch 5/50 | train loss: 7.315 | train acc: 0.027 | val loss: 7.636 | val acc: 0.009\n",
      "\u001b[36mNew best.\u001b[0m\n",
      "Validation accuracy increased (0.007102 --> 0.009233).  Saving model ...\n",
      "Epoch 6/50\n"
     ]
    },
    {
     "name": "stderr",
     "output_type": "stream",
     "text": [
      "Train: 100%|██████████| 129/129 [00:11<00:00, 10.85it/s]\n",
      "Validation: 100%|██████████| 33/33 [00:00<00:00, 64.04it/s]\n"
     ]
    },
    {
     "name": "stdout",
     "output_type": "stream",
     "text": [
      "Epoch 6/50 | train loss: 7.172 | train acc: 0.037 | val loss: 7.694 | val acc: 0.008\n",
      "EarlyStopping counter: 1 out of 2\n",
      "Epoch 7/50\n"
     ]
    },
    {
     "name": "stderr",
     "output_type": "stream",
     "text": [
      "Train: 100%|██████████| 129/129 [00:11<00:00, 10.82it/s]\n",
      "Validation: 100%|██████████| 33/33 [00:00<00:00, 68.06it/s]\n"
     ]
    },
    {
     "name": "stdout",
     "output_type": "stream",
     "text": [
      "Epoch 7/50 | train loss: 6.995 | train acc: 0.056 | val loss: 7.789 | val acc: 0.008\n",
      "EarlyStopping counter: 2 out of 2\n",
      "Early stopping. Max Acc =  0.009232954545454546\n",
      "Max Acc =  0.009232954545454546\n",
      "Fold 3\n",
      "(tensor([[[ 2.9822e-02, -1.4871e+00, -1.0484e+00,  ..., -7.4798e-01,\n",
      "          -2.4784e+00,  3.9638e-02],\n",
      "         [ 2.2466e-02, -1.0391e+00,  7.3268e-01,  ..., -6.6297e-01,\n",
      "          -2.1799e+00,  1.1532e-02],\n",
      "         [ 1.8848e-02, -1.0814e+00,  1.0919e+00,  ..., -4.6848e-01,\n",
      "          -2.2530e+00,  4.0555e-02],\n",
      "         ...,\n",
      "         [ 7.3805e-03,  1.5781e-01,  6.1630e-01,  ...,  2.1748e-01,\n",
      "           1.0977e+00, -2.4948e-02],\n",
      "         [ 2.9238e-02, -3.0338e+00, -7.0899e-01,  ...,  8.0360e-02,\n",
      "          -9.8854e-01,  2.9174e-02],\n",
      "         [ 2.2107e-03, -1.9096e-01,  2.2367e-01,  ..., -7.3033e-01,\n",
      "           1.6306e-01,  2.2263e-02]]]), tensor(1225))\n",
      "Epoch 1/50\n"
     ]
    },
    {
     "name": "stderr",
     "output_type": "stream",
     "text": [
      "Train: 100%|██████████| 129/129 [00:11<00:00, 10.80it/s]\n",
      "Validation: 100%|██████████| 33/33 [00:00<00:00, 64.00it/s]\n"
     ]
    },
    {
     "name": "stdout",
     "output_type": "stream",
     "text": [
      "Epoch 1/50 | train loss: 7.545 | train acc: 0.005 | val loss: 7.532 | val acc: 0.004\n",
      "Initial model for Fold 3 saved.\n",
      "\u001b[36mNew best.\u001b[0m\n",
      "Validation accuracy increased (-inf --> 0.003551).  Saving model ...\n",
      "Epoch 2/50\n"
     ]
    },
    {
     "name": "stderr",
     "output_type": "stream",
     "text": [
      "Train: 100%|██████████| 129/129 [00:11<00:00, 10.84it/s]\n",
      "Validation: 100%|██████████| 33/33 [00:00<00:00, 68.23it/s]\n"
     ]
    },
    {
     "name": "stdout",
     "output_type": "stream",
     "text": [
      "Epoch 2/50 | train loss: 7.540 | train acc: 0.006 | val loss: 7.539 | val acc: 0.007\n",
      "\u001b[36mNew best.\u001b[0m\n",
      "Validation accuracy increased (0.003551 --> 0.006629).  Saving model ...\n",
      "Epoch 3/50\n"
     ]
    },
    {
     "name": "stderr",
     "output_type": "stream",
     "text": [
      "Train: 100%|██████████| 129/129 [00:11<00:00, 10.76it/s]\n",
      "Validation: 100%|██████████| 33/33 [00:00<00:00, 63.84it/s]\n"
     ]
    },
    {
     "name": "stdout",
     "output_type": "stream",
     "text": [
      "Epoch 3/50 | train loss: 7.485 | train acc: 0.013 | val loss: 7.552 | val acc: 0.007\n",
      "Validation accuracy increased (0.006629 --> 0.006629).  Saving model ...\n",
      "Epoch 4/50\n"
     ]
    },
    {
     "name": "stderr",
     "output_type": "stream",
     "text": [
      "Train: 100%|██████████| 129/129 [00:11<00:00, 10.82it/s]\n",
      "Validation: 100%|██████████| 33/33 [00:00<00:00, 68.42it/s]\n"
     ]
    },
    {
     "name": "stdout",
     "output_type": "stream",
     "text": [
      "Epoch 4/50 | train loss: 7.425 | train acc: 0.018 | val loss: 7.559 | val acc: 0.011\n",
      "\u001b[36mNew best.\u001b[0m\n",
      "Validation accuracy increased (0.006629 --> 0.011364).  Saving model ...\n",
      "Epoch 5/50\n"
     ]
    },
    {
     "name": "stderr",
     "output_type": "stream",
     "text": [
      "Train: 100%|██████████| 129/129 [00:11<00:00, 10.81it/s]\n",
      "Validation: 100%|██████████| 33/33 [00:00<00:00, 69.12it/s]\n"
     ]
    },
    {
     "name": "stdout",
     "output_type": "stream",
     "text": [
      "Epoch 5/50 | train loss: 7.332 | train acc: 0.027 | val loss: 7.599 | val acc: 0.010\n",
      "EarlyStopping counter: 1 out of 2\n",
      "Epoch 6/50\n"
     ]
    },
    {
     "name": "stderr",
     "output_type": "stream",
     "text": [
      "Train: 100%|██████████| 129/129 [00:11<00:00, 10.81it/s]\n",
      "Validation: 100%|██████████| 33/33 [00:00<00:00, 61.76it/s]\n"
     ]
    },
    {
     "name": "stdout",
     "output_type": "stream",
     "text": [
      "Epoch 6/50 | train loss: 7.176 | train acc: 0.041 | val loss: 7.652 | val acc: 0.012\n",
      "\u001b[36mNew best.\u001b[0m\n",
      "Validation accuracy increased (0.011364 --> 0.012232).  Saving model ...\n",
      "Epoch 7/50\n"
     ]
    },
    {
     "name": "stderr",
     "output_type": "stream",
     "text": [
      "Train: 100%|██████████| 129/129 [00:11<00:00, 10.79it/s]\n",
      "Validation: 100%|██████████| 33/33 [00:00<00:00, 63.99it/s]\n"
     ]
    },
    {
     "name": "stdout",
     "output_type": "stream",
     "text": [
      "Epoch 7/50 | train loss: 6.983 | train acc: 0.059 | val loss: 7.769 | val acc: 0.010\n",
      "EarlyStopping counter: 1 out of 2\n",
      "Epoch 8/50\n"
     ]
    },
    {
     "name": "stderr",
     "output_type": "stream",
     "text": [
      "Train: 100%|██████████| 129/129 [00:11<00:00, 10.82it/s]\n",
      "Validation: 100%|██████████| 33/33 [00:00<00:00, 67.93it/s]\n"
     ]
    },
    {
     "name": "stdout",
     "output_type": "stream",
     "text": [
      "Epoch 8/50 | train loss: 6.778 | train acc: 0.079 | val loss: 7.865 | val acc: 0.008\n",
      "EarlyStopping counter: 2 out of 2\n",
      "Early stopping. Max Acc =  0.01223169199445031\n",
      "Max Acc =  0.01223169199445031\n",
      "Fold 4\n",
      "(tensor([[[ 2.9822e-02, -1.4871e+00, -1.0484e+00,  ..., -7.4798e-01,\n",
      "          -2.4784e+00,  3.9638e-02],\n",
      "         [ 2.2466e-02, -1.0391e+00,  7.3268e-01,  ..., -6.6297e-01,\n",
      "          -2.1799e+00,  1.1532e-02],\n",
      "         [ 1.8848e-02, -1.0814e+00,  1.0919e+00,  ..., -4.6848e-01,\n",
      "          -2.2530e+00,  4.0555e-02],\n",
      "         ...,\n",
      "         [ 7.3805e-03,  1.5781e-01,  6.1630e-01,  ...,  2.1748e-01,\n",
      "           1.0977e+00, -2.4948e-02],\n",
      "         [ 2.9238e-02, -3.0338e+00, -7.0899e-01,  ...,  8.0360e-02,\n",
      "          -9.8854e-01,  2.9174e-02],\n",
      "         [ 2.2107e-03, -1.9096e-01,  2.2367e-01,  ..., -7.3033e-01,\n",
      "           1.6306e-01,  2.2263e-02]]]), tensor(1225))\n",
      "Epoch 1/50\n"
     ]
    },
    {
     "name": "stderr",
     "output_type": "stream",
     "text": [
      "Train: 100%|██████████| 129/129 [00:11<00:00, 10.79it/s]\n",
      "Validation: 100%|██████████| 33/33 [00:00<00:00, 64.34it/s]\n"
     ]
    },
    {
     "name": "stdout",
     "output_type": "stream",
     "text": [
      "Epoch 1/50 | train loss: 7.545 | train acc: 0.005 | val loss: 7.532 | val acc: 0.006\n",
      "Initial model for Fold 4 saved.\n",
      "\u001b[36mNew best.\u001b[0m\n",
      "Validation accuracy increased (-inf --> 0.006392).  Saving model ...\n",
      "Epoch 2/50\n"
     ]
    },
    {
     "name": "stderr",
     "output_type": "stream",
     "text": [
      "Train: 100%|██████████| 129/129 [00:11<00:00, 10.80it/s]\n",
      "Validation: 100%|██████████| 33/33 [00:00<00:00, 65.86it/s]\n"
     ]
    },
    {
     "name": "stdout",
     "output_type": "stream",
     "text": [
      "Epoch 2/50 | train loss: 7.539 | train acc: 0.007 | val loss: 7.547 | val acc: 0.007\n",
      "\u001b[36mNew best.\u001b[0m\n",
      "Validation accuracy increased (0.006392 --> 0.007339).  Saving model ...\n",
      "Epoch 3/50\n"
     ]
    },
    {
     "name": "stderr",
     "output_type": "stream",
     "text": [
      "Train: 100%|██████████| 129/129 [00:11<00:00, 10.84it/s]\n",
      "Validation: 100%|██████████| 33/33 [00:00<00:00, 72.36it/s]\n"
     ]
    },
    {
     "name": "stdout",
     "output_type": "stream",
     "text": [
      "Epoch 3/50 | train loss: 7.482 | train acc: 0.013 | val loss: 7.554 | val acc: 0.008\n",
      "\u001b[36mNew best.\u001b[0m\n",
      "Validation accuracy increased (0.007339 --> 0.008049).  Saving model ...\n",
      "Epoch 4/50\n"
     ]
    },
    {
     "name": "stderr",
     "output_type": "stream",
     "text": [
      "Train: 100%|██████████| 129/129 [00:11<00:00, 10.75it/s]\n",
      "Validation: 100%|██████████| 33/33 [00:00<00:00, 63.73it/s]\n"
     ]
    },
    {
     "name": "stdout",
     "output_type": "stream",
     "text": [
      "Epoch 4/50 | train loss: 7.424 | train acc: 0.017 | val loss: 7.580 | val acc: 0.006\n",
      "EarlyStopping counter: 1 out of 2\n",
      "Epoch 5/50\n"
     ]
    },
    {
     "name": "stderr",
     "output_type": "stream",
     "text": [
      "Train: 100%|██████████| 129/129 [00:11<00:00, 10.82it/s]\n",
      "Validation: 100%|██████████| 33/33 [00:00<00:00, 72.06it/s]\n"
     ]
    },
    {
     "name": "stdout",
     "output_type": "stream",
     "text": [
      "Epoch 5/50 | train loss: 7.320 | train acc: 0.025 | val loss: 7.616 | val acc: 0.007\n",
      "EarlyStopping counter: 2 out of 2\n",
      "Early stopping. Max Acc =  0.008049242424242424\n",
      "Max Acc =  0.008049242424242424\n",
      "Fold 5\n",
      "(tensor([[[ 2.9822e-02, -1.4871e+00, -1.0484e+00,  ..., -7.4798e-01,\n",
      "          -2.4784e+00,  3.9638e-02],\n",
      "         [ 2.2466e-02, -1.0391e+00,  7.3268e-01,  ..., -6.6297e-01,\n",
      "          -2.1799e+00,  1.1532e-02],\n",
      "         [ 1.8848e-02, -1.0814e+00,  1.0919e+00,  ..., -4.6848e-01,\n",
      "          -2.2530e+00,  4.0555e-02],\n",
      "         ...,\n",
      "         [ 7.3805e-03,  1.5781e-01,  6.1630e-01,  ...,  2.1748e-01,\n",
      "           1.0977e+00, -2.4948e-02],\n",
      "         [ 2.9238e-02, -3.0338e+00, -7.0899e-01,  ...,  8.0360e-02,\n",
      "          -9.8854e-01,  2.9174e-02],\n",
      "         [ 2.2107e-03, -1.9096e-01,  2.2367e-01,  ..., -7.3033e-01,\n",
      "           1.6306e-01,  2.2263e-02]]]), tensor(1225))\n",
      "Epoch 1/50\n"
     ]
    },
    {
     "name": "stderr",
     "output_type": "stream",
     "text": [
      "Train: 100%|██████████| 129/129 [00:11<00:00, 10.82it/s]\n",
      "Validation: 100%|██████████| 33/33 [00:00<00:00, 73.23it/s]\n"
     ]
    },
    {
     "name": "stdout",
     "output_type": "stream",
     "text": [
      "Epoch 1/50 | train loss: 7.544 | train acc: 0.004 | val loss: 7.534 | val acc: 0.004\n",
      "Initial model for Fold 5 saved.\n",
      "\u001b[36mNew best.\u001b[0m\n",
      "Validation accuracy increased (-inf --> 0.004498).  Saving model ...\n",
      "Epoch 2/50\n"
     ]
    },
    {
     "name": "stderr",
     "output_type": "stream",
     "text": [
      "Train: 100%|██████████| 129/129 [00:11<00:00, 10.84it/s]\n",
      "Validation: 100%|██████████| 33/33 [00:00<00:00, 63.77it/s]\n"
     ]
    },
    {
     "name": "stdout",
     "output_type": "stream",
     "text": [
      "Epoch 2/50 | train loss: 7.538 | train acc: 0.006 | val loss: 7.544 | val acc: 0.007\n",
      "\u001b[36mNew best.\u001b[0m\n",
      "Validation accuracy increased (0.004498 --> 0.007102).  Saving model ...\n",
      "Epoch 3/50\n"
     ]
    },
    {
     "name": "stderr",
     "output_type": "stream",
     "text": [
      "Train: 100%|██████████| 129/129 [00:11<00:00, 10.85it/s]\n",
      "Validation: 100%|██████████| 33/33 [00:00<00:00, 66.00it/s]\n"
     ]
    },
    {
     "name": "stdout",
     "output_type": "stream",
     "text": [
      "Epoch 3/50 | train loss: 7.479 | train acc: 0.012 | val loss: 7.568 | val acc: 0.004\n",
      "EarlyStopping counter: 1 out of 2\n",
      "Epoch 4/50\n"
     ]
    },
    {
     "name": "stderr",
     "output_type": "stream",
     "text": [
      "Train: 100%|██████████| 129/129 [00:11<00:00, 10.83it/s]\n",
      "Validation: 100%|██████████| 33/33 [00:00<00:00, 61.63it/s]\n"
     ]
    },
    {
     "name": "stdout",
     "output_type": "stream",
     "text": [
      "Epoch 4/50 | train loss: 7.419 | train acc: 0.018 | val loss: 7.581 | val acc: 0.010\n",
      "\u001b[36mNew best.\u001b[0m\n",
      "Validation accuracy increased (0.007102 --> 0.010101).  Saving model ...\n",
      "Epoch 5/50\n"
     ]
    },
    {
     "name": "stderr",
     "output_type": "stream",
     "text": [
      "Train: 100%|██████████| 129/129 [00:11<00:00, 10.85it/s]\n",
      "Validation: 100%|██████████| 33/33 [00:00<00:00, 68.38it/s]\n"
     ]
    },
    {
     "name": "stdout",
     "output_type": "stream",
     "text": [
      "Epoch 5/50 | train loss: 7.323 | train acc: 0.024 | val loss: 7.623 | val acc: 0.006\n",
      "EarlyStopping counter: 1 out of 2\n",
      "Epoch 6/50\n"
     ]
    },
    {
     "name": "stderr",
     "output_type": "stream",
     "text": [
      "Train: 100%|██████████| 129/129 [00:11<00:00, 10.85it/s]\n",
      "Validation: 100%|██████████| 33/33 [00:00<00:00, 65.56it/s]\n"
     ]
    },
    {
     "name": "stdout",
     "output_type": "stream",
     "text": [
      "Epoch 6/50 | train loss: 7.181 | train acc: 0.038 | val loss: 7.680 | val acc: 0.010\n",
      "Validation accuracy increased (0.010101 --> 0.010101).  Saving model ...\n",
      "Epoch 7/50\n"
     ]
    },
    {
     "name": "stderr",
     "output_type": "stream",
     "text": [
      "Train: 100%|██████████| 129/129 [00:11<00:00, 10.82it/s]\n",
      "Validation: 100%|██████████| 33/33 [00:00<00:00, 72.00it/s]\n"
     ]
    },
    {
     "name": "stdout",
     "output_type": "stream",
     "text": [
      "Epoch 7/50 | train loss: 7.022 | train acc: 0.053 | val loss: 7.784 | val acc: 0.010\n",
      "EarlyStopping counter: 1 out of 2\n",
      "Epoch 8/50\n"
     ]
    },
    {
     "name": "stderr",
     "output_type": "stream",
     "text": [
      "Train: 100%|██████████| 129/129 [00:11<00:00, 10.80it/s]\n",
      "Validation: 100%|██████████| 33/33 [00:00<00:00, 73.13it/s]\n"
     ]
    },
    {
     "name": "stdout",
     "output_type": "stream",
     "text": [
      "Epoch 8/50 | train loss: 6.836 | train acc: 0.073 | val loss: 7.872 | val acc: 0.006\n",
      "EarlyStopping counter: 2 out of 2\n",
      "Early stopping. Max Acc =  0.010101010176268492\n",
      "Max Acc =  0.010101010176268492\n",
      "Acc mean =  0.009943181863336852\n"
     ]
    },
    {
     "name": "stderr",
     "output_type": "stream",
     "text": [
      "[I 2024-06-29 00:27:00,625] Trial 46 finished with value: 0.009943181863336852 and parameters: {'lowcut': 11.110645065888074, 'highcut': 60.41255402383338}. Best is trial 39 with value: 0.01950757575757576.\n"
     ]
    },
    {
     "name": "stdout",
     "output_type": "stream",
     "text": [
      "Start objective 47\n",
      "lowcut: 24.663910437682745, highcut: 55.44694181188674\n",
      "resample_data\n",
      "bandpass_filter\n",
      "standardize\n",
      "torch.Size([20540, 1, 271, 128])\n",
      "torch.Size([20540])\n",
      "Fold 1\n",
      "(tensor([[[ 1.4175e-02, -8.9403e-01,  8.4698e-01,  ...,  1.5519e-01,\n",
      "          -3.0413e+00,  6.7036e-03],\n",
      "         [ 5.5216e-03, -1.3347e+00,  1.7821e+00,  ...,  5.8451e-03,\n",
      "          -2.5127e+00,  1.1499e-02],\n",
      "         [ 1.0337e-02, -1.6989e+00,  2.5868e+00,  ...,  4.7498e-01,\n",
      "          -2.7024e+00,  2.3614e-02],\n",
      "         ...,\n",
      "         [-7.6623e-03,  2.2860e-01,  1.4430e+00,  ..., -3.9636e-01,\n",
      "           9.3070e-01,  1.2299e-02],\n",
      "         [ 9.4942e-03, -1.6911e+00,  1.7474e+00,  ...,  5.8062e-01,\n",
      "          -7.9119e-01,  1.2082e-02],\n",
      "         [ 2.2927e-03, -3.9952e-01,  5.9402e-01,  ..., -4.8876e-01,\n",
      "           7.6075e-01,  2.8283e-02]]]), tensor(1225))\n",
      "Epoch 1/50\n"
     ]
    },
    {
     "name": "stderr",
     "output_type": "stream",
     "text": [
      "Train: 100%|██████████| 129/129 [00:11<00:00, 10.83it/s]\n",
      "Validation: 100%|██████████| 33/33 [00:00<00:00, 65.33it/s]\n"
     ]
    },
    {
     "name": "stdout",
     "output_type": "stream",
     "text": [
      "Epoch 1/50 | train loss: 7.552 | train acc: 0.006 | val loss: 7.540 | val acc: 0.005\n",
      "Initial model for Fold 1 saved.\n",
      "\u001b[36mNew best.\u001b[0m\n",
      "Validation accuracy increased (-inf --> 0.004972).  Saving model ...\n",
      "Epoch 2/50\n"
     ]
    },
    {
     "name": "stderr",
     "output_type": "stream",
     "text": [
      "Train: 100%|██████████| 129/129 [00:11<00:00, 10.78it/s]\n",
      "Validation: 100%|██████████| 33/33 [00:00<00:00, 66.12it/s]\n"
     ]
    },
    {
     "name": "stdout",
     "output_type": "stream",
     "text": [
      "Epoch 2/50 | train loss: 7.548 | train acc: 0.006 | val loss: 7.540 | val acc: 0.009\n",
      "\u001b[36mNew best.\u001b[0m\n",
      "Validation accuracy increased (0.004972 --> 0.008759).  Saving model ...\n",
      "Epoch 3/50\n"
     ]
    },
    {
     "name": "stderr",
     "output_type": "stream",
     "text": [
      "Train: 100%|██████████| 129/129 [00:11<00:00, 10.85it/s]\n",
      "Validation: 100%|██████████| 33/33 [00:00<00:00, 67.43it/s]\n"
     ]
    },
    {
     "name": "stdout",
     "output_type": "stream",
     "text": [
      "Epoch 3/50 | train loss: 7.477 | train acc: 0.013 | val loss: 7.553 | val acc: 0.008\n",
      "EarlyStopping counter: 1 out of 2\n",
      "Epoch 4/50\n"
     ]
    },
    {
     "name": "stderr",
     "output_type": "stream",
     "text": [
      "Train: 100%|██████████| 129/129 [00:11<00:00, 10.83it/s]\n",
      "Validation: 100%|██████████| 33/33 [00:00<00:00, 63.36it/s]\n"
     ]
    },
    {
     "name": "stdout",
     "output_type": "stream",
     "text": [
      "Epoch 4/50 | train loss: 7.380 | train acc: 0.023 | val loss: 7.582 | val acc: 0.005\n",
      "EarlyStopping counter: 2 out of 2\n",
      "Early stopping. Max Acc =  0.008759469696969696\n",
      "Max Acc =  0.008759469696969696\n",
      "Fold 2\n",
      "(tensor([[[ 1.4175e-02, -8.9403e-01,  8.4698e-01,  ...,  1.5519e-01,\n",
      "          -3.0413e+00,  6.7036e-03],\n",
      "         [ 5.5216e-03, -1.3347e+00,  1.7821e+00,  ...,  5.8451e-03,\n",
      "          -2.5127e+00,  1.1499e-02],\n",
      "         [ 1.0337e-02, -1.6989e+00,  2.5868e+00,  ...,  4.7498e-01,\n",
      "          -2.7024e+00,  2.3614e-02],\n",
      "         ...,\n",
      "         [-7.6623e-03,  2.2860e-01,  1.4430e+00,  ..., -3.9636e-01,\n",
      "           9.3070e-01,  1.2299e-02],\n",
      "         [ 9.4942e-03, -1.6911e+00,  1.7474e+00,  ...,  5.8062e-01,\n",
      "          -7.9119e-01,  1.2082e-02],\n",
      "         [ 2.2927e-03, -3.9952e-01,  5.9402e-01,  ..., -4.8876e-01,\n",
      "           7.6075e-01,  2.8283e-02]]]), tensor(1225))\n",
      "Epoch 1/50\n"
     ]
    },
    {
     "name": "stderr",
     "output_type": "stream",
     "text": [
      "Train: 100%|██████████| 129/129 [00:11<00:00, 10.80it/s]\n",
      "Validation: 100%|██████████| 33/33 [00:00<00:00, 58.49it/s]\n"
     ]
    },
    {
     "name": "stdout",
     "output_type": "stream",
     "text": [
      "Epoch 1/50 | train loss: 7.550 | train acc: 0.005 | val loss: 7.540 | val acc: 0.007\n",
      "Initial model for Fold 2 saved.\n",
      "\u001b[36mNew best.\u001b[0m\n",
      "Validation accuracy increased (-inf --> 0.006629).  Saving model ...\n",
      "Epoch 2/50\n"
     ]
    },
    {
     "name": "stderr",
     "output_type": "stream",
     "text": [
      "Train: 100%|██████████| 129/129 [00:11<00:00, 10.79it/s]\n",
      "Validation: 100%|██████████| 33/33 [00:00<00:00, 68.43it/s]\n"
     ]
    },
    {
     "name": "stdout",
     "output_type": "stream",
     "text": [
      "Epoch 2/50 | train loss: 7.546 | train acc: 0.006 | val loss: 7.551 | val acc: 0.008\n",
      "\u001b[36mNew best.\u001b[0m\n",
      "Validation accuracy increased (0.006629 --> 0.007812).  Saving model ...\n",
      "Epoch 3/50\n"
     ]
    },
    {
     "name": "stderr",
     "output_type": "stream",
     "text": [
      "Train: 100%|██████████| 129/129 [00:11<00:00, 10.84it/s]\n",
      "Validation: 100%|██████████| 33/33 [00:00<00:00, 68.31it/s]\n"
     ]
    },
    {
     "name": "stdout",
     "output_type": "stream",
     "text": [
      "Epoch 3/50 | train loss: 7.463 | train acc: 0.014 | val loss: 7.579 | val acc: 0.007\n",
      "EarlyStopping counter: 1 out of 2\n",
      "Epoch 4/50\n"
     ]
    },
    {
     "name": "stderr",
     "output_type": "stream",
     "text": [
      "Train: 100%|██████████| 129/129 [00:11<00:00, 10.81it/s]\n",
      "Validation: 100%|██████████| 33/33 [00:00<00:00, 64.22it/s]\n"
     ]
    },
    {
     "name": "stdout",
     "output_type": "stream",
     "text": [
      "Epoch 4/50 | train loss: 7.349 | train acc: 0.025 | val loss: 7.618 | val acc: 0.007\n",
      "EarlyStopping counter: 2 out of 2\n",
      "Early stopping. Max Acc =  0.0078125\n",
      "Max Acc =  0.0078125\n",
      "Fold 3\n",
      "(tensor([[[ 1.4175e-02, -8.9403e-01,  8.4698e-01,  ...,  1.5519e-01,\n",
      "          -3.0413e+00,  6.7036e-03],\n",
      "         [ 5.5216e-03, -1.3347e+00,  1.7821e+00,  ...,  5.8451e-03,\n",
      "          -2.5127e+00,  1.1499e-02],\n",
      "         [ 1.0337e-02, -1.6989e+00,  2.5868e+00,  ...,  4.7498e-01,\n",
      "          -2.7024e+00,  2.3614e-02],\n",
      "         ...,\n",
      "         [-7.6623e-03,  2.2860e-01,  1.4430e+00,  ..., -3.9636e-01,\n",
      "           9.3070e-01,  1.2299e-02],\n",
      "         [ 9.4942e-03, -1.6911e+00,  1.7474e+00,  ...,  5.8062e-01,\n",
      "          -7.9119e-01,  1.2082e-02],\n",
      "         [ 2.2927e-03, -3.9952e-01,  5.9402e-01,  ..., -4.8876e-01,\n",
      "           7.6075e-01,  2.8283e-02]]]), tensor(1225))\n",
      "Epoch 1/50\n"
     ]
    },
    {
     "name": "stderr",
     "output_type": "stream",
     "text": [
      "Train: 100%|██████████| 129/129 [00:11<00:00, 10.78it/s]\n",
      "Validation: 100%|██████████| 33/33 [00:00<00:00, 63.74it/s]\n"
     ]
    },
    {
     "name": "stdout",
     "output_type": "stream",
     "text": [
      "Epoch 1/50 | train loss: 7.549 | train acc: 0.006 | val loss: 7.538 | val acc: 0.004\n",
      "Initial model for Fold 3 saved.\n",
      "\u001b[36mNew best.\u001b[0m\n",
      "Validation accuracy increased (-inf --> 0.004261).  Saving model ...\n",
      "Epoch 2/50\n"
     ]
    },
    {
     "name": "stderr",
     "output_type": "stream",
     "text": [
      "Train: 100%|██████████| 129/129 [00:11<00:00, 10.77it/s]\n",
      "Validation: 100%|██████████| 33/33 [00:00<00:00, 61.56it/s]\n"
     ]
    },
    {
     "name": "stdout",
     "output_type": "stream",
     "text": [
      "Epoch 2/50 | train loss: 7.546 | train acc: 0.007 | val loss: 7.546 | val acc: 0.005\n",
      "\u001b[36mNew best.\u001b[0m\n",
      "Validation accuracy increased (0.004261 --> 0.004735).  Saving model ...\n",
      "Epoch 3/50\n"
     ]
    },
    {
     "name": "stderr",
     "output_type": "stream",
     "text": [
      "Train: 100%|██████████| 129/129 [00:11<00:00, 10.81it/s]\n",
      "Validation: 100%|██████████| 33/33 [00:00<00:00, 73.36it/s]\n"
     ]
    },
    {
     "name": "stdout",
     "output_type": "stream",
     "text": [
      "Epoch 3/50 | train loss: 7.467 | train acc: 0.014 | val loss: 7.559 | val acc: 0.007\n",
      "\u001b[36mNew best.\u001b[0m\n",
      "Validation accuracy increased (0.004735 --> 0.007339).  Saving model ...\n",
      "Epoch 4/50\n"
     ]
    },
    {
     "name": "stderr",
     "output_type": "stream",
     "text": [
      "Train: 100%|██████████| 129/129 [00:11<00:00, 10.79it/s]\n",
      "Validation: 100%|██████████| 33/33 [00:00<00:00, 68.01it/s]\n"
     ]
    },
    {
     "name": "stdout",
     "output_type": "stream",
     "text": [
      "Epoch 4/50 | train loss: 7.356 | train acc: 0.025 | val loss: 7.604 | val acc: 0.009\n",
      "\u001b[36mNew best.\u001b[0m\n",
      "Validation accuracy increased (0.007339 --> 0.008917).  Saving model ...\n",
      "Epoch 5/50\n"
     ]
    },
    {
     "name": "stderr",
     "output_type": "stream",
     "text": [
      "Train: 100%|██████████| 129/129 [00:11<00:00, 10.84it/s]\n",
      "Validation: 100%|██████████| 33/33 [00:00<00:00, 63.72it/s]\n"
     ]
    },
    {
     "name": "stdout",
     "output_type": "stream",
     "text": [
      "Epoch 5/50 | train loss: 7.167 | train acc: 0.041 | val loss: 7.681 | val acc: 0.007\n",
      "EarlyStopping counter: 1 out of 2\n",
      "Epoch 6/50\n"
     ]
    },
    {
     "name": "stderr",
     "output_type": "stream",
     "text": [
      "Train: 100%|██████████| 129/129 [00:12<00:00, 10.75it/s]\n",
      "Validation: 100%|██████████| 33/33 [00:00<00:00, 63.57it/s]\n"
     ]
    },
    {
     "name": "stdout",
     "output_type": "stream",
     "text": [
      "Epoch 6/50 | train loss: 6.903 | train acc: 0.073 | val loss: 7.794 | val acc: 0.006\n",
      "EarlyStopping counter: 2 out of 2\n",
      "Early stopping. Max Acc =  0.00891729805505637\n",
      "Max Acc =  0.00891729805505637\n",
      "Fold 4\n",
      "(tensor([[[ 1.4175e-02, -8.9403e-01,  8.4698e-01,  ...,  1.5519e-01,\n",
      "          -3.0413e+00,  6.7036e-03],\n",
      "         [ 5.5216e-03, -1.3347e+00,  1.7821e+00,  ...,  5.8451e-03,\n",
      "          -2.5127e+00,  1.1499e-02],\n",
      "         [ 1.0337e-02, -1.6989e+00,  2.5868e+00,  ...,  4.7498e-01,\n",
      "          -2.7024e+00,  2.3614e-02],\n",
      "         ...,\n",
      "         [-7.6623e-03,  2.2860e-01,  1.4430e+00,  ..., -3.9636e-01,\n",
      "           9.3070e-01,  1.2299e-02],\n",
      "         [ 9.4942e-03, -1.6911e+00,  1.7474e+00,  ...,  5.8062e-01,\n",
      "          -7.9119e-01,  1.2082e-02],\n",
      "         [ 2.2927e-03, -3.9952e-01,  5.9402e-01,  ..., -4.8876e-01,\n",
      "           7.6075e-01,  2.8283e-02]]]), tensor(1225))\n",
      "Epoch 1/50\n"
     ]
    },
    {
     "name": "stderr",
     "output_type": "stream",
     "text": [
      "Train: 100%|██████████| 129/129 [00:11<00:00, 10.78it/s]\n",
      "Validation: 100%|██████████| 33/33 [00:00<00:00, 63.99it/s]\n"
     ]
    },
    {
     "name": "stdout",
     "output_type": "stream",
     "text": [
      "Epoch 1/50 | train loss: 7.557 | train acc: 0.006 | val loss: 7.540 | val acc: 0.005\n",
      "Initial model for Fold 4 saved.\n",
      "\u001b[36mNew best.\u001b[0m\n",
      "Validation accuracy increased (-inf --> 0.004735).  Saving model ...\n",
      "Epoch 2/50\n"
     ]
    },
    {
     "name": "stderr",
     "output_type": "stream",
     "text": [
      "Train: 100%|██████████| 129/129 [00:11<00:00, 10.79it/s]\n",
      "Validation: 100%|██████████| 33/33 [00:00<00:00, 68.34it/s]\n"
     ]
    },
    {
     "name": "stdout",
     "output_type": "stream",
     "text": [
      "Epoch 2/50 | train loss: 7.546 | train acc: 0.006 | val loss: 7.546 | val acc: 0.007\n",
      "\u001b[36mNew best.\u001b[0m\n",
      "Validation accuracy increased (0.004735 --> 0.006866).  Saving model ...\n",
      "Epoch 3/50\n"
     ]
    },
    {
     "name": "stderr",
     "output_type": "stream",
     "text": [
      "Train: 100%|██████████| 129/129 [00:11<00:00, 10.82it/s]\n",
      "Validation: 100%|██████████| 33/33 [00:00<00:00, 61.73it/s]\n"
     ]
    },
    {
     "name": "stdout",
     "output_type": "stream",
     "text": [
      "Epoch 3/50 | train loss: 7.469 | train acc: 0.014 | val loss: 7.568 | val acc: 0.007\n",
      "\u001b[36mNew best.\u001b[0m\n",
      "Validation accuracy increased (0.006866 --> 0.007102).  Saving model ...\n",
      "Epoch 4/50\n"
     ]
    },
    {
     "name": "stderr",
     "output_type": "stream",
     "text": [
      "Train: 100%|██████████| 129/129 [00:11<00:00, 10.82it/s]\n",
      "Validation: 100%|██████████| 33/33 [00:00<00:00, 65.98it/s]\n"
     ]
    },
    {
     "name": "stdout",
     "output_type": "stream",
     "text": [
      "Epoch 4/50 | train loss: 7.355 | train acc: 0.025 | val loss: 7.622 | val acc: 0.007\n",
      "\u001b[36mNew best.\u001b[0m\n",
      "Validation accuracy increased (0.007102 --> 0.007339).  Saving model ...\n",
      "Epoch 5/50\n"
     ]
    },
    {
     "name": "stderr",
     "output_type": "stream",
     "text": [
      "Train: 100%|██████████| 129/129 [00:11<00:00, 10.82it/s]\n",
      "Validation: 100%|██████████| 33/33 [00:00<00:00, 63.99it/s]\n"
     ]
    },
    {
     "name": "stdout",
     "output_type": "stream",
     "text": [
      "Epoch 5/50 | train loss: 7.160 | train acc: 0.042 | val loss: 7.706 | val acc: 0.006\n",
      "EarlyStopping counter: 1 out of 2\n",
      "Epoch 6/50\n"
     ]
    },
    {
     "name": "stderr",
     "output_type": "stream",
     "text": [
      "Train: 100%|██████████| 129/129 [00:11<00:00, 10.79it/s]\n",
      "Validation: 100%|██████████| 33/33 [00:00<00:00, 65.87it/s]\n"
     ]
    },
    {
     "name": "stdout",
     "output_type": "stream",
     "text": [
      "Epoch 6/50 | train loss: 6.896 | train acc: 0.075 | val loss: 7.806 | val acc: 0.006\n",
      "EarlyStopping counter: 2 out of 2\n",
      "Early stopping. Max Acc =  0.007339015151515152\n",
      "Max Acc =  0.007339015151515152\n",
      "Fold 5\n",
      "(tensor([[[ 1.4175e-02, -8.9403e-01,  8.4698e-01,  ...,  1.5519e-01,\n",
      "          -3.0413e+00,  6.7036e-03],\n",
      "         [ 5.5216e-03, -1.3347e+00,  1.7821e+00,  ...,  5.8451e-03,\n",
      "          -2.5127e+00,  1.1499e-02],\n",
      "         [ 1.0337e-02, -1.6989e+00,  2.5868e+00,  ...,  4.7498e-01,\n",
      "          -2.7024e+00,  2.3614e-02],\n",
      "         ...,\n",
      "         [-7.6623e-03,  2.2860e-01,  1.4430e+00,  ..., -3.9636e-01,\n",
      "           9.3070e-01,  1.2299e-02],\n",
      "         [ 9.4942e-03, -1.6911e+00,  1.7474e+00,  ...,  5.8062e-01,\n",
      "          -7.9119e-01,  1.2082e-02],\n",
      "         [ 2.2927e-03, -3.9952e-01,  5.9402e-01,  ..., -4.8876e-01,\n",
      "           7.6075e-01,  2.8283e-02]]]), tensor(1225))\n",
      "Epoch 1/50\n"
     ]
    },
    {
     "name": "stderr",
     "output_type": "stream",
     "text": [
      "Train: 100%|██████████| 129/129 [00:11<00:00, 10.80it/s]\n",
      "Validation: 100%|██████████| 33/33 [00:00<00:00, 65.85it/s]\n"
     ]
    },
    {
     "name": "stdout",
     "output_type": "stream",
     "text": [
      "Epoch 1/50 | train loss: 7.553 | train acc: 0.005 | val loss: 7.541 | val acc: 0.008\n",
      "Initial model for Fold 5 saved.\n",
      "\u001b[36mNew best.\u001b[0m\n",
      "Validation accuracy increased (-inf --> 0.007812).  Saving model ...\n",
      "Epoch 2/50\n"
     ]
    },
    {
     "name": "stderr",
     "output_type": "stream",
     "text": [
      "Train: 100%|██████████| 129/129 [00:11<00:00, 10.84it/s]\n",
      "Validation: 100%|██████████| 33/33 [00:00<00:00, 59.41it/s]\n"
     ]
    },
    {
     "name": "stdout",
     "output_type": "stream",
     "text": [
      "Epoch 2/50 | train loss: 7.545 | train acc: 0.006 | val loss: 7.549 | val acc: 0.005\n",
      "EarlyStopping counter: 1 out of 2\n",
      "Epoch 3/50\n"
     ]
    },
    {
     "name": "stderr",
     "output_type": "stream",
     "text": [
      "Train: 100%|██████████| 129/129 [00:11<00:00, 10.78it/s]\n",
      "Validation: 100%|██████████| 33/33 [00:00<00:00, 63.37it/s]\n",
      "[I 2024-06-29 00:32:33,820] Trial 47 finished with value: 0.008128156580708243 and parameters: {'lowcut': 24.663910437682745, 'highcut': 55.44694181188674}. Best is trial 39 with value: 0.01950757575757576.\n"
     ]
    },
    {
     "name": "stdout",
     "output_type": "stream",
     "text": [
      "Epoch 3/50 | train loss: 7.470 | train acc: 0.014 | val loss: 7.569 | val acc: 0.006\n",
      "EarlyStopping counter: 2 out of 2\n",
      "Early stopping. Max Acc =  0.0078125\n",
      "Max Acc =  0.0078125\n",
      "Acc mean =  0.008128156580708243\n",
      "Start objective 48\n",
      "lowcut: 21.136120684021826, highcut: 58.87446291275339\n",
      "resample_data\n",
      "bandpass_filter\n",
      "standardize\n",
      "torch.Size([20540, 1, 271, 128])\n",
      "torch.Size([20540])\n",
      "Fold 1\n",
      "(tensor([[[ 1.7459e-02, -7.9496e-01,  5.3439e-01,  ...,  6.9844e-02,\n",
      "          -2.8215e+00,  2.8289e-03],\n",
      "         [ 8.5630e-03, -9.2204e-01,  1.9751e+00,  ...,  2.6818e-01,\n",
      "          -2.3401e+00,  4.9478e-02],\n",
      "         [ 1.3629e-02, -1.1443e+00,  2.6310e+00,  ...,  4.2182e-01,\n",
      "          -2.4830e+00,  3.3357e-02],\n",
      "         ...,\n",
      "         [-1.7213e-02,  9.0698e-01,  2.1301e+00,  ..., -2.8143e-01,\n",
      "           8.7318e-01,  3.5317e-03],\n",
      "         [ 1.0397e-02, -1.9465e+00,  1.6981e+00,  ...,  2.7067e-01,\n",
      "          -1.1125e+00,  3.1882e-02],\n",
      "         [-2.1073e-04, -1.3541e-01,  7.6986e-01,  ...,  1.0465e-01,\n",
      "           1.0864e+00, -1.4115e-02]]]), tensor(1225))\n",
      "Epoch 1/50\n"
     ]
    },
    {
     "name": "stderr",
     "output_type": "stream",
     "text": [
      "Train: 100%|██████████| 129/129 [00:12<00:00, 10.75it/s]\n",
      "Validation: 100%|██████████| 33/33 [00:00<00:00, 63.55it/s]\n"
     ]
    },
    {
     "name": "stdout",
     "output_type": "stream",
     "text": [
      "Epoch 1/50 | train loss: 7.548 | train acc: 0.006 | val loss: 7.534 | val acc: 0.006\n",
      "Initial model for Fold 1 saved.\n",
      "\u001b[36mNew best.\u001b[0m\n",
      "Validation accuracy increased (-inf --> 0.005682).  Saving model ...\n",
      "Epoch 2/50\n"
     ]
    },
    {
     "name": "stderr",
     "output_type": "stream",
     "text": [
      "Train: 100%|██████████| 129/129 [00:11<00:00, 10.83it/s]\n",
      "Validation: 100%|██████████| 33/33 [00:00<00:00, 68.25it/s]\n"
     ]
    },
    {
     "name": "stdout",
     "output_type": "stream",
     "text": [
      "Epoch 2/50 | train loss: 7.543 | train acc: 0.006 | val loss: 7.541 | val acc: 0.006\n",
      "Validation accuracy increased (0.005682 --> 0.005682).  Saving model ...\n",
      "Epoch 3/50\n"
     ]
    },
    {
     "name": "stderr",
     "output_type": "stream",
     "text": [
      "Train: 100%|██████████| 129/129 [00:11<00:00, 10.84it/s]\n",
      "Validation: 100%|██████████| 33/33 [00:00<00:00, 67.20it/s]\n"
     ]
    },
    {
     "name": "stdout",
     "output_type": "stream",
     "text": [
      "Epoch 3/50 | train loss: 7.470 | train acc: 0.013 | val loss: 7.550 | val acc: 0.006\n",
      "\u001b[36mNew best.\u001b[0m\n",
      "Validation accuracy increased (0.005682 --> 0.006392).  Saving model ...\n",
      "Epoch 4/50\n"
     ]
    },
    {
     "name": "stderr",
     "output_type": "stream",
     "text": [
      "Train: 100%|██████████| 129/129 [00:11<00:00, 10.86it/s]\n",
      "Validation: 100%|██████████| 33/33 [00:00<00:00, 63.40it/s]\n"
     ]
    },
    {
     "name": "stdout",
     "output_type": "stream",
     "text": [
      "Epoch 4/50 | train loss: 7.369 | train acc: 0.024 | val loss: 7.585 | val acc: 0.007\n",
      "\u001b[36mNew best.\u001b[0m\n",
      "Validation accuracy increased (0.006392 --> 0.006629).  Saving model ...\n",
      "Epoch 5/50\n"
     ]
    },
    {
     "name": "stderr",
     "output_type": "stream",
     "text": [
      "Train: 100%|██████████| 129/129 [00:11<00:00, 10.84it/s]\n",
      "Validation: 100%|██████████| 33/33 [00:00<00:00, 66.70it/s]\n"
     ]
    },
    {
     "name": "stdout",
     "output_type": "stream",
     "text": [
      "Epoch 5/50 | train loss: 7.181 | train acc: 0.044 | val loss: 7.679 | val acc: 0.009\n",
      "\u001b[36mNew best.\u001b[0m\n",
      "Validation accuracy increased (0.006629 --> 0.008523).  Saving model ...\n",
      "Epoch 6/50\n"
     ]
    },
    {
     "name": "stderr",
     "output_type": "stream",
     "text": [
      "Train: 100%|██████████| 129/129 [00:11<00:00, 10.79it/s]\n",
      "Validation: 100%|██████████| 33/33 [00:00<00:00, 64.01it/s]\n"
     ]
    },
    {
     "name": "stdout",
     "output_type": "stream",
     "text": [
      "Epoch 6/50 | train loss: 6.920 | train acc: 0.070 | val loss: 7.781 | val acc: 0.004\n",
      "EarlyStopping counter: 1 out of 2\n",
      "Epoch 7/50\n"
     ]
    },
    {
     "name": "stderr",
     "output_type": "stream",
     "text": [
      "Train: 100%|██████████| 129/129 [00:11<00:00, 10.80it/s]\n",
      "Validation: 100%|██████████| 33/33 [00:00<00:00, 70.65it/s]\n"
     ]
    },
    {
     "name": "stdout",
     "output_type": "stream",
     "text": [
      "Epoch 7/50 | train loss: 6.641 | train acc: 0.107 | val loss: 7.930 | val acc: 0.006\n",
      "EarlyStopping counter: 2 out of 2\n",
      "Early stopping. Max Acc =  0.008522727272727272\n",
      "Max Acc =  0.008522727272727272\n",
      "Fold 2\n",
      "(tensor([[[ 1.7459e-02, -7.9496e-01,  5.3439e-01,  ...,  6.9844e-02,\n",
      "          -2.8215e+00,  2.8289e-03],\n",
      "         [ 8.5630e-03, -9.2204e-01,  1.9751e+00,  ...,  2.6818e-01,\n",
      "          -2.3401e+00,  4.9478e-02],\n",
      "         [ 1.3629e-02, -1.1443e+00,  2.6310e+00,  ...,  4.2182e-01,\n",
      "          -2.4830e+00,  3.3357e-02],\n",
      "         ...,\n",
      "         [-1.7213e-02,  9.0698e-01,  2.1301e+00,  ..., -2.8143e-01,\n",
      "           8.7318e-01,  3.5317e-03],\n",
      "         [ 1.0397e-02, -1.9465e+00,  1.6981e+00,  ...,  2.7067e-01,\n",
      "          -1.1125e+00,  3.1882e-02],\n",
      "         [-2.1073e-04, -1.3541e-01,  7.6986e-01,  ...,  1.0465e-01,\n",
      "           1.0864e+00, -1.4115e-02]]]), tensor(1225))\n",
      "Epoch 1/50\n"
     ]
    },
    {
     "name": "stderr",
     "output_type": "stream",
     "text": [
      "Train: 100%|██████████| 129/129 [00:11<00:00, 10.81it/s]\n",
      "Validation: 100%|██████████| 33/33 [00:00<00:00, 62.03it/s]\n"
     ]
    },
    {
     "name": "stdout",
     "output_type": "stream",
     "text": [
      "Epoch 1/50 | train loss: 7.550 | train acc: 0.005 | val loss: 7.540 | val acc: 0.005\n",
      "Initial model for Fold 2 saved.\n",
      "\u001b[36mNew best.\u001b[0m\n",
      "Validation accuracy increased (-inf --> 0.005208).  Saving model ...\n",
      "Epoch 2/50\n"
     ]
    },
    {
     "name": "stderr",
     "output_type": "stream",
     "text": [
      "Train: 100%|██████████| 129/129 [00:11<00:00, 10.79it/s]\n",
      "Validation: 100%|██████████| 33/33 [00:00<00:00, 68.14it/s]\n"
     ]
    },
    {
     "name": "stdout",
     "output_type": "stream",
     "text": [
      "Epoch 2/50 | train loss: 7.543 | train acc: 0.008 | val loss: 7.554 | val acc: 0.006\n",
      "\u001b[36mNew best.\u001b[0m\n",
      "Validation accuracy increased (0.005208 --> 0.005919).  Saving model ...\n",
      "Epoch 3/50\n"
     ]
    },
    {
     "name": "stderr",
     "output_type": "stream",
     "text": [
      "Train: 100%|██████████| 129/129 [00:11<00:00, 10.81it/s]\n",
      "Validation: 100%|██████████| 33/33 [00:00<00:00, 66.27it/s]\n"
     ]
    },
    {
     "name": "stdout",
     "output_type": "stream",
     "text": [
      "Epoch 3/50 | train loss: 7.472 | train acc: 0.012 | val loss: 7.574 | val acc: 0.009\n",
      "\u001b[36mNew best.\u001b[0m\n",
      "Validation accuracy increased (0.005919 --> 0.008759).  Saving model ...\n",
      "Epoch 4/50\n"
     ]
    },
    {
     "name": "stderr",
     "output_type": "stream",
     "text": [
      "Train: 100%|██████████| 129/129 [00:11<00:00, 10.81it/s]\n",
      "Validation: 100%|██████████| 33/33 [00:00<00:00, 61.26it/s]\n"
     ]
    },
    {
     "name": "stdout",
     "output_type": "stream",
     "text": [
      "Epoch 4/50 | train loss: 7.375 | train acc: 0.022 | val loss: 7.636 | val acc: 0.008\n",
      "EarlyStopping counter: 1 out of 2\n",
      "Epoch 5/50\n"
     ]
    },
    {
     "name": "stderr",
     "output_type": "stream",
     "text": [
      "Train: 100%|██████████| 129/129 [00:11<00:00, 10.85it/s]\n",
      "Validation: 100%|██████████| 33/33 [00:00<00:00, 64.36it/s]\n"
     ]
    },
    {
     "name": "stdout",
     "output_type": "stream",
     "text": [
      "Epoch 5/50 | train loss: 7.202 | train acc: 0.038 | val loss: 7.692 | val acc: 0.006\n",
      "EarlyStopping counter: 2 out of 2\n",
      "Early stopping. Max Acc =  0.008759469696969696\n",
      "Max Acc =  0.008759469696969696\n",
      "Fold 3\n",
      "(tensor([[[ 1.7459e-02, -7.9496e-01,  5.3439e-01,  ...,  6.9844e-02,\n",
      "          -2.8215e+00,  2.8289e-03],\n",
      "         [ 8.5630e-03, -9.2204e-01,  1.9751e+00,  ...,  2.6818e-01,\n",
      "          -2.3401e+00,  4.9478e-02],\n",
      "         [ 1.3629e-02, -1.1443e+00,  2.6310e+00,  ...,  4.2182e-01,\n",
      "          -2.4830e+00,  3.3357e-02],\n",
      "         ...,\n",
      "         [-1.7213e-02,  9.0698e-01,  2.1301e+00,  ..., -2.8143e-01,\n",
      "           8.7318e-01,  3.5317e-03],\n",
      "         [ 1.0397e-02, -1.9465e+00,  1.6981e+00,  ...,  2.7067e-01,\n",
      "          -1.1125e+00,  3.1882e-02],\n",
      "         [-2.1073e-04, -1.3541e-01,  7.6986e-01,  ...,  1.0465e-01,\n",
      "           1.0864e+00, -1.4115e-02]]]), tensor(1225))\n",
      "Epoch 1/50\n"
     ]
    },
    {
     "name": "stderr",
     "output_type": "stream",
     "text": [
      "Train: 100%|██████████| 129/129 [00:11<00:00, 10.81it/s]\n",
      "Validation: 100%|██████████| 33/33 [00:00<00:00, 61.48it/s]\n"
     ]
    },
    {
     "name": "stdout",
     "output_type": "stream",
     "text": [
      "Epoch 1/50 | train loss: 7.550 | train acc: 0.006 | val loss: 7.541 | val acc: 0.004\n",
      "Initial model for Fold 3 saved.\n",
      "\u001b[36mNew best.\u001b[0m\n",
      "Validation accuracy increased (-inf --> 0.004025).  Saving model ...\n",
      "Epoch 2/50\n"
     ]
    },
    {
     "name": "stderr",
     "output_type": "stream",
     "text": [
      "Train: 100%|██████████| 129/129 [00:11<00:00, 10.81it/s]\n",
      "Validation: 100%|██████████| 33/33 [00:00<00:00, 67.53it/s]\n"
     ]
    },
    {
     "name": "stdout",
     "output_type": "stream",
     "text": [
      "Epoch 2/50 | train loss: 7.545 | train acc: 0.006 | val loss: 7.552 | val acc: 0.006\n",
      "\u001b[36mNew best.\u001b[0m\n",
      "Validation accuracy increased (0.004025 --> 0.005682).  Saving model ...\n",
      "Epoch 3/50\n"
     ]
    },
    {
     "name": "stderr",
     "output_type": "stream",
     "text": [
      "Train: 100%|██████████| 129/129 [00:11<00:00, 10.80it/s]\n",
      "Validation: 100%|██████████| 33/33 [00:00<00:00, 70.73it/s]\n"
     ]
    },
    {
     "name": "stdout",
     "output_type": "stream",
     "text": [
      "Epoch 3/50 | train loss: 7.475 | train acc: 0.015 | val loss: 7.556 | val acc: 0.008\n",
      "\u001b[36mNew best.\u001b[0m\n",
      "Validation accuracy increased (0.005682 --> 0.008207).  Saving model ...\n",
      "Epoch 4/50\n"
     ]
    },
    {
     "name": "stderr",
     "output_type": "stream",
     "text": [
      "Train: 100%|██████████| 129/129 [00:11<00:00, 10.79it/s]\n",
      "Validation: 100%|██████████| 33/33 [00:00<00:00, 63.83it/s]\n"
     ]
    },
    {
     "name": "stdout",
     "output_type": "stream",
     "text": [
      "Epoch 4/50 | train loss: 7.378 | train acc: 0.024 | val loss: 7.597 | val acc: 0.006\n",
      "EarlyStopping counter: 1 out of 2\n",
      "Epoch 5/50\n"
     ]
    },
    {
     "name": "stderr",
     "output_type": "stream",
     "text": [
      "Train: 100%|██████████| 129/129 [00:12<00:00, 10.74it/s]\n",
      "Validation: 100%|██████████| 33/33 [00:00<00:00, 64.67it/s]\n"
     ]
    },
    {
     "name": "stdout",
     "output_type": "stream",
     "text": [
      "Epoch 5/50 | train loss: 7.199 | train acc: 0.038 | val loss: 7.665 | val acc: 0.008\n",
      "EarlyStopping counter: 2 out of 2\n",
      "Early stopping. Max Acc =  0.008207070782329098\n",
      "Max Acc =  0.008207070782329098\n",
      "Fold 4\n",
      "(tensor([[[ 1.7459e-02, -7.9496e-01,  5.3439e-01,  ...,  6.9844e-02,\n",
      "          -2.8215e+00,  2.8289e-03],\n",
      "         [ 8.5630e-03, -9.2204e-01,  1.9751e+00,  ...,  2.6818e-01,\n",
      "          -2.3401e+00,  4.9478e-02],\n",
      "         [ 1.3629e-02, -1.1443e+00,  2.6310e+00,  ...,  4.2182e-01,\n",
      "          -2.4830e+00,  3.3357e-02],\n",
      "         ...,\n",
      "         [-1.7213e-02,  9.0698e-01,  2.1301e+00,  ..., -2.8143e-01,\n",
      "           8.7318e-01,  3.5317e-03],\n",
      "         [ 1.0397e-02, -1.9465e+00,  1.6981e+00,  ...,  2.7067e-01,\n",
      "          -1.1125e+00,  3.1882e-02],\n",
      "         [-2.1073e-04, -1.3541e-01,  7.6986e-01,  ...,  1.0465e-01,\n",
      "           1.0864e+00, -1.4115e-02]]]), tensor(1225))\n",
      "Epoch 1/50\n"
     ]
    },
    {
     "name": "stderr",
     "output_type": "stream",
     "text": [
      "Train: 100%|██████████| 129/129 [00:11<00:00, 10.81it/s]\n",
      "Validation: 100%|██████████| 33/33 [00:00<00:00, 63.81it/s]\n"
     ]
    },
    {
     "name": "stdout",
     "output_type": "stream",
     "text": [
      "Epoch 1/50 | train loss: 7.552 | train acc: 0.006 | val loss: 7.534 | val acc: 0.006\n",
      "Initial model for Fold 4 saved.\n",
      "\u001b[36mNew best.\u001b[0m\n",
      "Validation accuracy increased (-inf --> 0.006155).  Saving model ...\n",
      "Epoch 2/50\n"
     ]
    },
    {
     "name": "stderr",
     "output_type": "stream",
     "text": [
      "Train: 100%|██████████| 129/129 [00:11<00:00, 10.81it/s]\n",
      "Validation: 100%|██████████| 33/33 [00:00<00:00, 70.46it/s]\n"
     ]
    },
    {
     "name": "stdout",
     "output_type": "stream",
     "text": [
      "Epoch 2/50 | train loss: 7.541 | train acc: 0.007 | val loss: 7.544 | val acc: 0.008\n",
      "\u001b[36mNew best.\u001b[0m\n",
      "Validation accuracy increased (0.006155 --> 0.008049).  Saving model ...\n",
      "Epoch 3/50\n"
     ]
    },
    {
     "name": "stderr",
     "output_type": "stream",
     "text": [
      "Train: 100%|██████████| 129/129 [00:11<00:00, 10.84it/s]\n",
      "Validation: 100%|██████████| 33/33 [00:00<00:00, 61.65it/s]\n"
     ]
    },
    {
     "name": "stdout",
     "output_type": "stream",
     "text": [
      "Epoch 3/50 | train loss: 7.468 | train acc: 0.014 | val loss: 7.558 | val acc: 0.008\n",
      "EarlyStopping counter: 1 out of 2\n",
      "Epoch 4/50\n"
     ]
    },
    {
     "name": "stderr",
     "output_type": "stream",
     "text": [
      "Train: 100%|██████████| 129/129 [00:11<00:00, 10.82it/s]\n",
      "Validation: 100%|██████████| 33/33 [00:00<00:00, 67.35it/s]\n"
     ]
    },
    {
     "name": "stdout",
     "output_type": "stream",
     "text": [
      "Epoch 4/50 | train loss: 7.364 | train acc: 0.022 | val loss: 7.609 | val acc: 0.009\n",
      "\u001b[36mNew best.\u001b[0m\n",
      "Validation accuracy increased (0.008049 --> 0.008759).  Saving model ...\n",
      "Epoch 5/50\n"
     ]
    },
    {
     "name": "stderr",
     "output_type": "stream",
     "text": [
      "Train: 100%|██████████| 129/129 [00:12<00:00, 10.75it/s]\n",
      "Validation: 100%|██████████| 33/33 [00:00<00:00, 66.25it/s]\n"
     ]
    },
    {
     "name": "stdout",
     "output_type": "stream",
     "text": [
      "Epoch 5/50 | train loss: 7.177 | train acc: 0.039 | val loss: 7.679 | val acc: 0.010\n",
      "\u001b[36mNew best.\u001b[0m\n",
      "Validation accuracy increased (0.008759 --> 0.009706).  Saving model ...\n",
      "Epoch 6/50\n"
     ]
    },
    {
     "name": "stderr",
     "output_type": "stream",
     "text": [
      "Train: 100%|██████████| 129/129 [00:11<00:00, 10.80it/s]\n",
      "Validation: 100%|██████████| 33/33 [00:00<00:00, 67.30it/s]\n"
     ]
    },
    {
     "name": "stdout",
     "output_type": "stream",
     "text": [
      "Epoch 6/50 | train loss: 6.926 | train acc: 0.067 | val loss: 7.771 | val acc: 0.010\n",
      "\u001b[36mNew best.\u001b[0m\n",
      "Validation accuracy increased (0.009706 --> 0.010180).  Saving model ...\n",
      "Epoch 7/50\n"
     ]
    },
    {
     "name": "stderr",
     "output_type": "stream",
     "text": [
      "Train: 100%|██████████| 129/129 [00:11<00:00, 10.80it/s]\n",
      "Validation: 100%|██████████| 33/33 [00:00<00:00, 68.33it/s]\n"
     ]
    },
    {
     "name": "stdout",
     "output_type": "stream",
     "text": [
      "Epoch 7/50 | train loss: 6.648 | train acc: 0.104 | val loss: 7.888 | val acc: 0.010\n",
      "EarlyStopping counter: 1 out of 2\n",
      "Epoch 8/50\n"
     ]
    },
    {
     "name": "stderr",
     "output_type": "stream",
     "text": [
      "Train: 100%|██████████| 129/129 [00:11<00:00, 10.82it/s]\n",
      "Validation: 100%|██████████| 33/33 [00:00<00:00, 67.75it/s]\n"
     ]
    },
    {
     "name": "stdout",
     "output_type": "stream",
     "text": [
      "Epoch 8/50 | train loss: 6.376 | train acc: 0.150 | val loss: 8.040 | val acc: 0.009\n",
      "EarlyStopping counter: 2 out of 2\n",
      "Early stopping. Max Acc =  0.010179924242424242\n",
      "Max Acc =  0.010179924242424242\n",
      "Fold 5\n",
      "(tensor([[[ 1.7459e-02, -7.9496e-01,  5.3439e-01,  ...,  6.9844e-02,\n",
      "          -2.8215e+00,  2.8289e-03],\n",
      "         [ 8.5630e-03, -9.2204e-01,  1.9751e+00,  ...,  2.6818e-01,\n",
      "          -2.3401e+00,  4.9478e-02],\n",
      "         [ 1.3629e-02, -1.1443e+00,  2.6310e+00,  ...,  4.2182e-01,\n",
      "          -2.4830e+00,  3.3357e-02],\n",
      "         ...,\n",
      "         [-1.7213e-02,  9.0698e-01,  2.1301e+00,  ..., -2.8143e-01,\n",
      "           8.7318e-01,  3.5317e-03],\n",
      "         [ 1.0397e-02, -1.9465e+00,  1.6981e+00,  ...,  2.7067e-01,\n",
      "          -1.1125e+00,  3.1882e-02],\n",
      "         [-2.1073e-04, -1.3541e-01,  7.6986e-01,  ...,  1.0465e-01,\n",
      "           1.0864e+00, -1.4115e-02]]]), tensor(1225))\n",
      "Epoch 1/50\n"
     ]
    },
    {
     "name": "stderr",
     "output_type": "stream",
     "text": [
      "Train: 100%|██████████| 129/129 [00:11<00:00, 10.81it/s]\n",
      "Validation: 100%|██████████| 33/33 [00:00<00:00, 64.05it/s]\n"
     ]
    },
    {
     "name": "stdout",
     "output_type": "stream",
     "text": [
      "Epoch 1/50 | train loss: 7.545 | train acc: 0.005 | val loss: 7.537 | val acc: 0.007\n",
      "Initial model for Fold 5 saved.\n",
      "\u001b[36mNew best.\u001b[0m\n",
      "Validation accuracy increased (-inf --> 0.006629).  Saving model ...\n",
      "Epoch 2/50\n"
     ]
    },
    {
     "name": "stderr",
     "output_type": "stream",
     "text": [
      "Train: 100%|██████████| 129/129 [00:11<00:00, 10.79it/s]\n",
      "Validation: 100%|██████████| 33/33 [00:00<00:00, 65.46it/s]\n"
     ]
    },
    {
     "name": "stdout",
     "output_type": "stream",
     "text": [
      "Epoch 2/50 | train loss: 7.542 | train acc: 0.007 | val loss: 7.549 | val acc: 0.003\n",
      "EarlyStopping counter: 1 out of 2\n",
      "Epoch 3/50\n"
     ]
    },
    {
     "name": "stderr",
     "output_type": "stream",
     "text": [
      "Train: 100%|██████████| 129/129 [00:11<00:00, 10.85it/s]\n",
      "Validation: 100%|██████████| 33/33 [00:00<00:00, 70.66it/s]\n",
      "[I 2024-06-29 00:39:09,105] Trial 48 finished with value: 0.008459595974647637 and parameters: {'lowcut': 21.136120684021826, 'highcut': 58.87446291275339}. Best is trial 39 with value: 0.01950757575757576.\n"
     ]
    },
    {
     "name": "stdout",
     "output_type": "stream",
     "text": [
      "Epoch 3/50 | train loss: 7.473 | train acc: 0.015 | val loss: 7.568 | val acc: 0.006\n",
      "EarlyStopping counter: 2 out of 2\n",
      "Early stopping. Max Acc =  0.006628787878787879\n",
      "Max Acc =  0.006628787878787879\n",
      "Acc mean =  0.008459595974647637\n",
      "Start objective 49\n",
      "lowcut: 0.31410799357859054, highcut: 52.64256726748275\n",
      "resample_data\n",
      "bandpass_filter\n",
      "standardize\n",
      "torch.Size([20540, 1, 271, 128])\n",
      "torch.Size([20540])\n",
      "Fold 1\n",
      "(tensor([[[ 3.0158,  2.6886,  2.5802,  ..., -0.6649, -0.7905, -0.5276],\n",
      "         [ 2.7788,  2.5782,  2.6052,  ..., -0.7986, -0.8922, -0.6612],\n",
      "         [ 2.8115,  2.6041,  2.7378,  ..., -0.7205, -0.8859, -0.6224],\n",
      "         ...,\n",
      "         [ 2.8900,  2.7376,  2.5722,  ..., -0.7198, -0.6816, -0.7106],\n",
      "         [ 3.1579,  2.8753,  2.7620,  ..., -0.6505, -0.6539, -0.5788],\n",
      "         [ 2.8612,  2.6822,  2.5339,  ..., -0.7320, -0.6435, -0.6294]]]), tensor(1225))\n",
      "Epoch 1/50\n"
     ]
    },
    {
     "name": "stderr",
     "output_type": "stream",
     "text": [
      "Train: 100%|██████████| 129/129 [00:12<00:00, 10.74it/s]\n",
      "Validation: 100%|██████████| 33/33 [00:00<00:00, 66.26it/s]\n"
     ]
    },
    {
     "name": "stdout",
     "output_type": "stream",
     "text": [
      "Epoch 1/50 | train loss: 7.599 | train acc: 0.005 | val loss: 7.576 | val acc: 0.004\n",
      "Initial model for Fold 1 saved.\n",
      "\u001b[36mNew best.\u001b[0m\n",
      "Validation accuracy increased (-inf --> 0.003551).  Saving model ...\n",
      "Epoch 2/50\n"
     ]
    },
    {
     "name": "stderr",
     "output_type": "stream",
     "text": [
      "Train: 100%|██████████| 129/129 [00:11<00:00, 10.82it/s]\n",
      "Validation: 100%|██████████| 33/33 [00:00<00:00, 61.88it/s]\n"
     ]
    },
    {
     "name": "stdout",
     "output_type": "stream",
     "text": [
      "Epoch 2/50 | train loss: 7.561 | train acc: 0.005 | val loss: 7.554 | val acc: 0.007\n",
      "\u001b[36mNew best.\u001b[0m\n",
      "Validation accuracy increased (0.003551 --> 0.006866).  Saving model ...\n",
      "Epoch 3/50\n"
     ]
    },
    {
     "name": "stderr",
     "output_type": "stream",
     "text": [
      "Train: 100%|██████████| 129/129 [00:11<00:00, 10.81it/s]\n",
      "Validation: 100%|██████████| 33/33 [00:00<00:00, 68.16it/s]\n"
     ]
    },
    {
     "name": "stdout",
     "output_type": "stream",
     "text": [
      "Epoch 3/50 | train loss: 7.454 | train acc: 0.013 | val loss: 7.578 | val acc: 0.009\n",
      "\u001b[36mNew best.\u001b[0m\n",
      "Validation accuracy increased (0.006866 --> 0.008996).  Saving model ...\n",
      "Epoch 4/50\n"
     ]
    },
    {
     "name": "stderr",
     "output_type": "stream",
     "text": [
      "Train: 100%|██████████| 129/129 [00:11<00:00, 10.81it/s]\n",
      "Validation: 100%|██████████| 33/33 [00:00<00:00, 70.74it/s]\n"
     ]
    },
    {
     "name": "stdout",
     "output_type": "stream",
     "text": [
      "Epoch 4/50 | train loss: 7.317 | train acc: 0.025 | val loss: 7.622 | val acc: 0.008\n",
      "EarlyStopping counter: 1 out of 2\n",
      "Epoch 5/50\n"
     ]
    },
    {
     "name": "stderr",
     "output_type": "stream",
     "text": [
      "Train: 100%|██████████| 129/129 [00:11<00:00, 10.80it/s]\n",
      "Validation: 100%|██████████| 33/33 [00:00<00:00, 68.27it/s]\n"
     ]
    },
    {
     "name": "stdout",
     "output_type": "stream",
     "text": [
      "Epoch 5/50 | train loss: 7.141 | train acc: 0.042 | val loss: 7.705 | val acc: 0.008\n",
      "EarlyStopping counter: 2 out of 2\n",
      "Early stopping. Max Acc =  0.008996212121212122\n",
      "Max Acc =  0.008996212121212122\n",
      "Fold 2\n",
      "(tensor([[[ 3.0158,  2.6886,  2.5802,  ..., -0.6649, -0.7905, -0.5276],\n",
      "         [ 2.7788,  2.5782,  2.6052,  ..., -0.7986, -0.8922, -0.6612],\n",
      "         [ 2.8115,  2.6041,  2.7378,  ..., -0.7205, -0.8859, -0.6224],\n",
      "         ...,\n",
      "         [ 2.8900,  2.7376,  2.5722,  ..., -0.7198, -0.6816, -0.7106],\n",
      "         [ 3.1579,  2.8753,  2.7620,  ..., -0.6505, -0.6539, -0.5788],\n",
      "         [ 2.8612,  2.6822,  2.5339,  ..., -0.7320, -0.6435, -0.6294]]]), tensor(1225))\n",
      "Epoch 1/50\n"
     ]
    },
    {
     "name": "stderr",
     "output_type": "stream",
     "text": [
      "Train: 100%|██████████| 129/129 [00:11<00:00, 10.82it/s]\n",
      "Validation: 100%|██████████| 33/33 [00:00<00:00, 67.20it/s]\n"
     ]
    },
    {
     "name": "stdout",
     "output_type": "stream",
     "text": [
      "Epoch 1/50 | train loss: 7.603 | train acc: 0.006 | val loss: 7.579 | val acc: 0.005\n",
      "Initial model for Fold 2 saved.\n",
      "\u001b[36mNew best.\u001b[0m\n",
      "Validation accuracy increased (-inf --> 0.004735).  Saving model ...\n",
      "Epoch 2/50\n"
     ]
    },
    {
     "name": "stderr",
     "output_type": "stream",
     "text": [
      "Train: 100%|██████████| 129/129 [00:11<00:00, 10.76it/s]\n",
      "Validation: 100%|██████████| 33/33 [00:00<00:00, 73.40it/s]\n"
     ]
    },
    {
     "name": "stdout",
     "output_type": "stream",
     "text": [
      "Epoch 2/50 | train loss: 7.563 | train acc: 0.005 | val loss: 7.552 | val acc: 0.006\n",
      "\u001b[36mNew best.\u001b[0m\n",
      "Validation accuracy increased (0.004735 --> 0.006155).  Saving model ...\n",
      "Epoch 3/50\n"
     ]
    },
    {
     "name": "stderr",
     "output_type": "stream",
     "text": [
      "Train: 100%|██████████| 129/129 [00:11<00:00, 10.80it/s]\n",
      "Validation: 100%|██████████| 33/33 [00:00<00:00, 62.27it/s]\n"
     ]
    },
    {
     "name": "stdout",
     "output_type": "stream",
     "text": [
      "Epoch 3/50 | train loss: 7.437 | train acc: 0.016 | val loss: 7.589 | val acc: 0.007\n",
      "\u001b[36mNew best.\u001b[0m\n",
      "Validation accuracy increased (0.006155 --> 0.006866).  Saving model ...\n",
      "Epoch 4/50\n"
     ]
    },
    {
     "name": "stderr",
     "output_type": "stream",
     "text": [
      "Train: 100%|██████████| 129/129 [00:11<00:00, 10.79it/s]\n",
      "Validation: 100%|██████████| 33/33 [00:00<00:00, 67.70it/s]\n"
     ]
    },
    {
     "name": "stdout",
     "output_type": "stream",
     "text": [
      "Epoch 4/50 | train loss: 7.277 | train acc: 0.029 | val loss: 7.660 | val acc: 0.006\n",
      "EarlyStopping counter: 1 out of 2\n",
      "Epoch 5/50\n"
     ]
    },
    {
     "name": "stderr",
     "output_type": "stream",
     "text": [
      "Train: 100%|██████████| 129/129 [00:11<00:00, 10.81it/s]\n",
      "Validation: 100%|██████████| 33/33 [00:00<00:00, 68.09it/s]\n"
     ]
    },
    {
     "name": "stdout",
     "output_type": "stream",
     "text": [
      "Epoch 5/50 | train loss: 7.087 | train acc: 0.048 | val loss: 7.746 | val acc: 0.009\n",
      "\u001b[36mNew best.\u001b[0m\n",
      "Validation accuracy increased (0.006866 --> 0.008523).  Saving model ...\n",
      "Epoch 6/50\n"
     ]
    },
    {
     "name": "stderr",
     "output_type": "stream",
     "text": [
      "Train: 100%|██████████| 129/129 [00:11<00:00, 10.76it/s]\n",
      "Validation: 100%|██████████| 33/33 [00:00<00:00, 61.84it/s]\n"
     ]
    },
    {
     "name": "stdout",
     "output_type": "stream",
     "text": [
      "Epoch 6/50 | train loss: 6.888 | train acc: 0.069 | val loss: 7.859 | val acc: 0.007\n",
      "EarlyStopping counter: 1 out of 2\n",
      "Epoch 7/50\n"
     ]
    },
    {
     "name": "stderr",
     "output_type": "stream",
     "text": [
      "Train: 100%|██████████| 129/129 [00:11<00:00, 10.82it/s]\n",
      "Validation: 100%|██████████| 33/33 [00:00<00:00, 76.11it/s]\n"
     ]
    },
    {
     "name": "stdout",
     "output_type": "stream",
     "text": [
      "Epoch 7/50 | train loss: 6.690 | train acc: 0.091 | val loss: 7.966 | val acc: 0.007\n",
      "EarlyStopping counter: 2 out of 2\n",
      "Early stopping. Max Acc =  0.008522727272727272\n",
      "Max Acc =  0.008522727272727272\n",
      "Fold 3\n",
      "(tensor([[[ 3.0158,  2.6886,  2.5802,  ..., -0.6649, -0.7905, -0.5276],\n",
      "         [ 2.7788,  2.5782,  2.6052,  ..., -0.7986, -0.8922, -0.6612],\n",
      "         [ 2.8115,  2.6041,  2.7378,  ..., -0.7205, -0.8859, -0.6224],\n",
      "         ...,\n",
      "         [ 2.8900,  2.7376,  2.5722,  ..., -0.7198, -0.6816, -0.7106],\n",
      "         [ 3.1579,  2.8753,  2.7620,  ..., -0.6505, -0.6539, -0.5788],\n",
      "         [ 2.8612,  2.6822,  2.5339,  ..., -0.7320, -0.6435, -0.6294]]]), tensor(1225))\n",
      "Epoch 1/50\n"
     ]
    },
    {
     "name": "stderr",
     "output_type": "stream",
     "text": [
      "Train: 100%|██████████| 129/129 [00:11<00:00, 10.78it/s]\n",
      "Validation: 100%|██████████| 33/33 [00:00<00:00, 70.23it/s]\n"
     ]
    },
    {
     "name": "stdout",
     "output_type": "stream",
     "text": [
      "Epoch 1/50 | train loss: 7.598 | train acc: 0.006 | val loss: 7.586 | val acc: 0.004\n",
      "Initial model for Fold 3 saved.\n",
      "\u001b[36mNew best.\u001b[0m\n",
      "Validation accuracy increased (-inf --> 0.004261).  Saving model ...\n",
      "Epoch 2/50\n"
     ]
    },
    {
     "name": "stderr",
     "output_type": "stream",
     "text": [
      "Train: 100%|██████████| 129/129 [00:11<00:00, 10.79it/s]\n",
      "Validation: 100%|██████████| 33/33 [00:00<00:00, 68.41it/s]\n"
     ]
    },
    {
     "name": "stdout",
     "output_type": "stream",
     "text": [
      "Epoch 2/50 | train loss: 7.567 | train acc: 0.005 | val loss: 7.549 | val acc: 0.005\n",
      "\u001b[36mNew best.\u001b[0m\n",
      "Validation accuracy increased (0.004261 --> 0.005208).  Saving model ...\n",
      "Epoch 3/50\n"
     ]
    },
    {
     "name": "stderr",
     "output_type": "stream",
     "text": [
      "Train: 100%|██████████| 129/129 [00:11<00:00, 10.82it/s]\n",
      "Validation: 100%|██████████| 33/33 [00:00<00:00, 70.79it/s]\n"
     ]
    },
    {
     "name": "stdout",
     "output_type": "stream",
     "text": [
      "Epoch 3/50 | train loss: 7.454 | train acc: 0.014 | val loss: 7.587 | val acc: 0.006\n",
      "\u001b[36mNew best.\u001b[0m\n",
      "Validation accuracy increased (0.005208 --> 0.006392).  Saving model ...\n",
      "Epoch 4/50\n"
     ]
    },
    {
     "name": "stderr",
     "output_type": "stream",
     "text": [
      "Train: 100%|██████████| 129/129 [00:12<00:00, 10.75it/s]\n",
      "Validation: 100%|██████████| 33/33 [00:00<00:00, 65.76it/s]\n"
     ]
    },
    {
     "name": "stdout",
     "output_type": "stream",
     "text": [
      "Epoch 4/50 | train loss: 7.314 | train acc: 0.026 | val loss: 7.635 | val acc: 0.008\n",
      "\u001b[36mNew best.\u001b[0m\n",
      "Validation accuracy increased (0.006392 --> 0.007812).  Saving model ...\n",
      "Epoch 5/50\n"
     ]
    },
    {
     "name": "stderr",
     "output_type": "stream",
     "text": [
      "Train: 100%|██████████| 129/129 [00:11<00:00, 10.79it/s]\n",
      "Validation: 100%|██████████| 33/33 [00:00<00:00, 61.89it/s]\n"
     ]
    },
    {
     "name": "stdout",
     "output_type": "stream",
     "text": [
      "Epoch 5/50 | train loss: 7.141 | train acc: 0.042 | val loss: 7.704 | val acc: 0.008\n",
      "\u001b[36mNew best.\u001b[0m\n",
      "Validation accuracy increased (0.007812 --> 0.008049).  Saving model ...\n",
      "Epoch 6/50\n"
     ]
    },
    {
     "name": "stderr",
     "output_type": "stream",
     "text": [
      "Train: 100%|██████████| 129/129 [00:11<00:00, 10.77it/s]\n",
      "Validation: 100%|██████████| 33/33 [00:00<00:00, 64.51it/s]\n"
     ]
    },
    {
     "name": "stdout",
     "output_type": "stream",
     "text": [
      "Epoch 6/50 | train loss: 6.946 | train acc: 0.063 | val loss: 7.807 | val acc: 0.007\n",
      "EarlyStopping counter: 1 out of 2\n",
      "Epoch 7/50\n"
     ]
    },
    {
     "name": "stderr",
     "output_type": "stream",
     "text": [
      "Train: 100%|██████████| 129/129 [00:11<00:00, 10.78it/s]\n",
      "Validation: 100%|██████████| 33/33 [00:00<00:00, 65.65it/s]\n"
     ]
    },
    {
     "name": "stdout",
     "output_type": "stream",
     "text": [
      "Epoch 7/50 | train loss: 6.759 | train acc: 0.084 | val loss: 7.930 | val acc: 0.008\n",
      "Validation accuracy increased (0.008049 --> 0.008049).  Saving model ...\n",
      "Epoch 8/50\n"
     ]
    },
    {
     "name": "stderr",
     "output_type": "stream",
     "text": [
      "Train: 100%|██████████| 129/129 [00:11<00:00, 10.82it/s]\n",
      "Validation: 100%|██████████| 33/33 [00:00<00:00, 70.91it/s]\n"
     ]
    },
    {
     "name": "stdout",
     "output_type": "stream",
     "text": [
      "Epoch 8/50 | train loss: 6.566 | train acc: 0.109 | val loss: 8.043 | val acc: 0.008\n",
      "EarlyStopping counter: 1 out of 2\n",
      "Epoch 9/50\n"
     ]
    },
    {
     "name": "stderr",
     "output_type": "stream",
     "text": [
      "Train: 100%|██████████| 129/129 [00:11<00:00, 10.81it/s]\n",
      "Validation: 100%|██████████| 33/33 [00:00<00:00, 62.00it/s]\n"
     ]
    },
    {
     "name": "stdout",
     "output_type": "stream",
     "text": [
      "Epoch 9/50 | train loss: 6.381 | train acc: 0.134 | val loss: 8.184 | val acc: 0.006\n",
      "EarlyStopping counter: 2 out of 2\n",
      "Early stopping. Max Acc =  0.008049242424242424\n",
      "Max Acc =  0.008049242424242424\n",
      "Fold 4\n",
      "(tensor([[[ 3.0158,  2.6886,  2.5802,  ..., -0.6649, -0.7905, -0.5276],\n",
      "         [ 2.7788,  2.5782,  2.6052,  ..., -0.7986, -0.8922, -0.6612],\n",
      "         [ 2.8115,  2.6041,  2.7378,  ..., -0.7205, -0.8859, -0.6224],\n",
      "         ...,\n",
      "         [ 2.8900,  2.7376,  2.5722,  ..., -0.7198, -0.6816, -0.7106],\n",
      "         [ 3.1579,  2.8753,  2.7620,  ..., -0.6505, -0.6539, -0.5788],\n",
      "         [ 2.8612,  2.6822,  2.5339,  ..., -0.7320, -0.6435, -0.6294]]]), tensor(1225))\n",
      "Epoch 1/50\n"
     ]
    },
    {
     "name": "stderr",
     "output_type": "stream",
     "text": [
      "Train: 100%|██████████| 129/129 [00:11<00:00, 10.77it/s]\n",
      "Validation: 100%|██████████| 33/33 [00:00<00:00, 67.95it/s]\n"
     ]
    },
    {
     "name": "stdout",
     "output_type": "stream",
     "text": [
      "Epoch 1/50 | train loss: 7.597 | train acc: 0.005 | val loss: 7.579 | val acc: 0.005\n",
      "Initial model for Fold 4 saved.\n",
      "\u001b[36mNew best.\u001b[0m\n",
      "Validation accuracy increased (-inf --> 0.005208).  Saving model ...\n",
      "Epoch 2/50\n"
     ]
    },
    {
     "name": "stderr",
     "output_type": "stream",
     "text": [
      "Train: 100%|██████████| 129/129 [00:12<00:00, 10.74it/s]\n",
      "Validation: 100%|██████████| 33/33 [00:00<00:00, 66.03it/s]\n"
     ]
    },
    {
     "name": "stdout",
     "output_type": "stream",
     "text": [
      "Epoch 2/50 | train loss: 7.565 | train acc: 0.006 | val loss: 7.549 | val acc: 0.005\n",
      "EarlyStopping counter: 1 out of 2\n",
      "Epoch 3/50\n"
     ]
    },
    {
     "name": "stderr",
     "output_type": "stream",
     "text": [
      "Train: 100%|██████████| 129/129 [00:11<00:00, 10.80it/s]\n",
      "Validation: 100%|██████████| 33/33 [00:00<00:00, 68.04it/s]\n"
     ]
    },
    {
     "name": "stdout",
     "output_type": "stream",
     "text": [
      "Epoch 3/50 | train loss: 7.441 | train acc: 0.014 | val loss: 7.591 | val acc: 0.009\n",
      "\u001b[36mNew best.\u001b[0m\n",
      "Validation accuracy increased (0.005208 --> 0.008759).  Saving model ...\n",
      "Epoch 4/50\n"
     ]
    },
    {
     "name": "stderr",
     "output_type": "stream",
     "text": [
      "Train: 100%|██████████| 129/129 [00:11<00:00, 10.80it/s]\n",
      "Validation: 100%|██████████| 33/33 [00:00<00:00, 64.13it/s]\n"
     ]
    },
    {
     "name": "stdout",
     "output_type": "stream",
     "text": [
      "Epoch 4/50 | train loss: 7.292 | train acc: 0.029 | val loss: 7.637 | val acc: 0.008\n",
      "EarlyStopping counter: 1 out of 2\n",
      "Epoch 5/50\n"
     ]
    },
    {
     "name": "stderr",
     "output_type": "stream",
     "text": [
      "Train: 100%|██████████| 129/129 [00:12<00:00, 10.72it/s]\n",
      "Validation: 100%|██████████| 33/33 [00:00<00:00, 68.86it/s]\n"
     ]
    },
    {
     "name": "stdout",
     "output_type": "stream",
     "text": [
      "Epoch 5/50 | train loss: 7.111 | train acc: 0.047 | val loss: 7.715 | val acc: 0.009\n",
      "\u001b[36mNew best.\u001b[0m\n",
      "Validation accuracy increased (0.008759 --> 0.008996).  Saving model ...\n",
      "Epoch 6/50\n"
     ]
    },
    {
     "name": "stderr",
     "output_type": "stream",
     "text": [
      "Train: 100%|██████████| 129/129 [00:11<00:00, 10.92it/s]\n",
      "Validation: 100%|██████████| 33/33 [00:00<00:00, 65.64it/s]\n"
     ]
    },
    {
     "name": "stdout",
     "output_type": "stream",
     "text": [
      "Epoch 6/50 | train loss: 6.923 | train acc: 0.065 | val loss: 7.809 | val acc: 0.009\n",
      "EarlyStopping counter: 1 out of 2\n",
      "Epoch 7/50\n"
     ]
    },
    {
     "name": "stderr",
     "output_type": "stream",
     "text": [
      "Train: 100%|██████████| 129/129 [00:11<00:00, 10.93it/s]\n",
      "Validation: 100%|██████████| 33/33 [00:00<00:00, 62.80it/s]\n"
     ]
    },
    {
     "name": "stdout",
     "output_type": "stream",
     "text": [
      "Epoch 7/50 | train loss: 6.737 | train acc: 0.084 | val loss: 7.931 | val acc: 0.008\n",
      "EarlyStopping counter: 2 out of 2\n",
      "Early stopping. Max Acc =  0.008996212121212122\n",
      "Max Acc =  0.008996212121212122\n",
      "Fold 5\n",
      "(tensor([[[ 3.0158,  2.6886,  2.5802,  ..., -0.6649, -0.7905, -0.5276],\n",
      "         [ 2.7788,  2.5782,  2.6052,  ..., -0.7986, -0.8922, -0.6612],\n",
      "         [ 2.8115,  2.6041,  2.7378,  ..., -0.7205, -0.8859, -0.6224],\n",
      "         ...,\n",
      "         [ 2.8900,  2.7376,  2.5722,  ..., -0.7198, -0.6816, -0.7106],\n",
      "         [ 3.1579,  2.8753,  2.7620,  ..., -0.6505, -0.6539, -0.5788],\n",
      "         [ 2.8612,  2.6822,  2.5339,  ..., -0.7320, -0.6435, -0.6294]]]), tensor(1225))\n",
      "Epoch 1/50\n"
     ]
    },
    {
     "name": "stderr",
     "output_type": "stream",
     "text": [
      "Train: 100%|██████████| 129/129 [00:11<00:00, 10.90it/s]\n",
      "Validation: 100%|██████████| 33/33 [00:00<00:00, 61.56it/s]\n"
     ]
    },
    {
     "name": "stdout",
     "output_type": "stream",
     "text": [
      "Epoch 1/50 | train loss: 7.601 | train acc: 0.005 | val loss: 7.589 | val acc: 0.004\n",
      "Initial model for Fold 5 saved.\n",
      "\u001b[36mNew best.\u001b[0m\n",
      "Validation accuracy increased (-inf --> 0.004261).  Saving model ...\n",
      "Epoch 2/50\n"
     ]
    },
    {
     "name": "stderr",
     "output_type": "stream",
     "text": [
      "Train: 100%|██████████| 129/129 [00:11<00:00, 11.00it/s]\n",
      "Validation: 100%|██████████| 33/33 [00:00<00:00, 64.98it/s]\n"
     ]
    },
    {
     "name": "stdout",
     "output_type": "stream",
     "text": [
      "Epoch 2/50 | train loss: 7.562 | train acc: 0.006 | val loss: 7.554 | val acc: 0.008\n",
      "\u001b[36mNew best.\u001b[0m\n",
      "Validation accuracy increased (0.004261 --> 0.007812).  Saving model ...\n",
      "Epoch 3/50\n"
     ]
    },
    {
     "name": "stderr",
     "output_type": "stream",
     "text": [
      "Train: 100%|██████████| 129/129 [00:11<00:00, 10.98it/s]\n",
      "Validation: 100%|██████████| 33/33 [00:00<00:00, 67.17it/s]\n"
     ]
    },
    {
     "name": "stdout",
     "output_type": "stream",
     "text": [
      "Epoch 3/50 | train loss: 7.446 | train acc: 0.016 | val loss: 7.594 | val acc: 0.007\n",
      "EarlyStopping counter: 1 out of 2\n",
      "Epoch 4/50\n"
     ]
    },
    {
     "name": "stderr",
     "output_type": "stream",
     "text": [
      "Train: 100%|██████████| 129/129 [00:11<00:00, 10.98it/s]\n",
      "Validation: 100%|██████████| 33/33 [00:00<00:00, 87.05it/s]\n",
      "[I 2024-06-29 00:46:33,607] Trial 49 finished with value: 0.008475378787878787 and parameters: {'lowcut': 0.31410799357859054, 'highcut': 52.64256726748275}. Best is trial 39 with value: 0.01950757575757576.\n"
     ]
    },
    {
     "name": "stdout",
     "output_type": "stream",
     "text": [
      "Epoch 4/50 | train loss: 7.295 | train acc: 0.030 | val loss: 7.661 | val acc: 0.007\n",
      "EarlyStopping counter: 2 out of 2\n",
      "Early stopping. Max Acc =  0.0078125\n",
      "Max Acc =  0.0078125\n",
      "Acc mean =  0.008475378787878787\n",
      "Start objective 50\n",
      "lowcut: 31.14770231118458, highcut: 62.03823977540807\n",
      "resample_data\n",
      "bandpass_filter\n",
      "standardize\n",
      "torch.Size([20540, 1, 271, 128])\n",
      "torch.Size([20540])\n",
      "Fold 1\n",
      "(tensor([[[ 1.8776e-04, -9.9577e-01,  9.3586e-01,  ...,  7.4528e-01,\n",
      "          -2.3279e+00, -2.3989e-02],\n",
      "         [-4.2745e-03, -1.8516e+00,  2.1569e+00,  ...,  3.9845e-01,\n",
      "          -2.0668e+00, -2.2177e-02],\n",
      "         [ 2.9352e-02, -2.5966e+00,  2.7938e+00,  ...,  8.7647e-01,\n",
      "          -2.1956e+00, -5.7046e-03],\n",
      "         ...,\n",
      "         [-2.4222e-02, -1.0915e+00,  1.5105e+00,  ..., -6.0021e-01,\n",
      "           8.8317e-01,  7.1738e-03],\n",
      "         [-6.2595e-03, -2.5662e+00,  2.7959e+00,  ...,  1.1507e+00,\n",
      "          -5.5428e-01, -4.9515e-02],\n",
      "         [ 1.1098e-02, -6.4219e-01,  1.1459e+00,  ..., -9.0700e-01,\n",
      "           7.8165e-01, -3.7670e-02]]]), tensor(1225))\n",
      "Epoch 1/50\n"
     ]
    },
    {
     "name": "stderr",
     "output_type": "stream",
     "text": [
      "Train: 100%|██████████| 129/129 [00:11<00:00, 11.02it/s]\n",
      "Validation: 100%|██████████| 33/33 [00:00<00:00, 67.93it/s]\n"
     ]
    },
    {
     "name": "stdout",
     "output_type": "stream",
     "text": [
      "Epoch 1/50 | train loss: 7.550 | train acc: 0.006 | val loss: 7.538 | val acc: 0.005\n",
      "Initial model for Fold 1 saved.\n",
      "\u001b[36mNew best.\u001b[0m\n",
      "Validation accuracy increased (-inf --> 0.005445).  Saving model ...\n",
      "Epoch 2/50\n"
     ]
    },
    {
     "name": "stderr",
     "output_type": "stream",
     "text": [
      "Train: 100%|██████████| 129/129 [00:11<00:00, 11.04it/s]\n",
      "Validation: 100%|██████████| 33/33 [00:00<00:00, 75.11it/s]\n"
     ]
    },
    {
     "name": "stdout",
     "output_type": "stream",
     "text": [
      "Epoch 2/50 | train loss: 7.547 | train acc: 0.007 | val loss: 7.551 | val acc: 0.007\n",
      "\u001b[36mNew best.\u001b[0m\n",
      "Validation accuracy increased (0.005445 --> 0.007339).  Saving model ...\n",
      "Epoch 3/50\n"
     ]
    },
    {
     "name": "stderr",
     "output_type": "stream",
     "text": [
      "Train: 100%|██████████| 129/129 [00:11<00:00, 11.08it/s]\n",
      "Validation: 100%|██████████| 33/33 [00:00<00:00, 67.25it/s]\n"
     ]
    },
    {
     "name": "stdout",
     "output_type": "stream",
     "text": [
      "Epoch 3/50 | train loss: 7.472 | train acc: 0.014 | val loss: 7.569 | val acc: 0.011\n",
      "\u001b[36mNew best.\u001b[0m\n",
      "Validation accuracy increased (0.007339 --> 0.011048).  Saving model ...\n",
      "Epoch 4/50\n"
     ]
    },
    {
     "name": "stderr",
     "output_type": "stream",
     "text": [
      "Train: 100%|██████████| 129/129 [00:11<00:00, 11.02it/s]\n",
      "Validation: 100%|██████████| 33/33 [00:00<00:00, 73.92it/s]\n"
     ]
    },
    {
     "name": "stdout",
     "output_type": "stream",
     "text": [
      "Epoch 4/50 | train loss: 7.376 | train acc: 0.022 | val loss: 7.606 | val acc: 0.008\n",
      "EarlyStopping counter: 1 out of 2\n",
      "Epoch 5/50\n"
     ]
    },
    {
     "name": "stderr",
     "output_type": "stream",
     "text": [
      "Train: 100%|██████████| 129/129 [00:11<00:00, 11.04it/s]\n",
      "Validation: 100%|██████████| 33/33 [00:00<00:00, 75.06it/s]\n"
     ]
    },
    {
     "name": "stdout",
     "output_type": "stream",
     "text": [
      "Epoch 5/50 | train loss: 7.196 | train acc: 0.040 | val loss: 7.672 | val acc: 0.006\n",
      "EarlyStopping counter: 2 out of 2\n",
      "Early stopping. Max Acc =  0.011047979873238188\n",
      "Max Acc =  0.011047979873238188\n",
      "Fold 2\n",
      "(tensor([[[ 1.8776e-04, -9.9577e-01,  9.3586e-01,  ...,  7.4528e-01,\n",
      "          -2.3279e+00, -2.3989e-02],\n",
      "         [-4.2745e-03, -1.8516e+00,  2.1569e+00,  ...,  3.9845e-01,\n",
      "          -2.0668e+00, -2.2177e-02],\n",
      "         [ 2.9352e-02, -2.5966e+00,  2.7938e+00,  ...,  8.7647e-01,\n",
      "          -2.1956e+00, -5.7046e-03],\n",
      "         ...,\n",
      "         [-2.4222e-02, -1.0915e+00,  1.5105e+00,  ..., -6.0021e-01,\n",
      "           8.8317e-01,  7.1738e-03],\n",
      "         [-6.2595e-03, -2.5662e+00,  2.7959e+00,  ...,  1.1507e+00,\n",
      "          -5.5428e-01, -4.9515e-02],\n",
      "         [ 1.1098e-02, -6.4219e-01,  1.1459e+00,  ..., -9.0700e-01,\n",
      "           7.8165e-01, -3.7670e-02]]]), tensor(1225))\n",
      "Epoch 1/50\n"
     ]
    },
    {
     "name": "stderr",
     "output_type": "stream",
     "text": [
      "Train: 100%|██████████| 129/129 [00:11<00:00, 11.05it/s]\n",
      "Validation: 100%|██████████| 33/33 [00:00<00:00, 75.57it/s]\n"
     ]
    },
    {
     "name": "stdout",
     "output_type": "stream",
     "text": [
      "Epoch 1/50 | train loss: 7.552 | train acc: 0.005 | val loss: 7.542 | val acc: 0.008\n",
      "Initial model for Fold 2 saved.\n",
      "\u001b[36mNew best.\u001b[0m\n",
      "Validation accuracy increased (-inf --> 0.007970).  Saving model ...\n",
      "Epoch 2/50\n"
     ]
    },
    {
     "name": "stderr",
     "output_type": "stream",
     "text": [
      "Train: 100%|██████████| 129/129 [00:11<00:00, 11.01it/s]\n",
      "Validation: 100%|██████████| 33/33 [00:00<00:00, 75.75it/s]\n"
     ]
    },
    {
     "name": "stdout",
     "output_type": "stream",
     "text": [
      "Epoch 2/50 | train loss: 7.544 | train acc: 0.006 | val loss: 7.554 | val acc: 0.005\n",
      "EarlyStopping counter: 1 out of 2\n",
      "Epoch 3/50\n"
     ]
    },
    {
     "name": "stderr",
     "output_type": "stream",
     "text": [
      "Train: 100%|██████████| 129/129 [00:11<00:00, 10.95it/s]\n",
      "Validation: 100%|██████████| 33/33 [00:00<00:00, 67.02it/s]\n"
     ]
    },
    {
     "name": "stdout",
     "output_type": "stream",
     "text": [
      "Epoch 3/50 | train loss: 7.466 | train acc: 0.015 | val loss: 7.565 | val acc: 0.006\n",
      "EarlyStopping counter: 2 out of 2\n",
      "Early stopping. Max Acc =  0.007970328358086672\n",
      "Max Acc =  0.007970328358086672\n",
      "Fold 3\n",
      "(tensor([[[ 1.8776e-04, -9.9577e-01,  9.3586e-01,  ...,  7.4528e-01,\n",
      "          -2.3279e+00, -2.3989e-02],\n",
      "         [-4.2745e-03, -1.8516e+00,  2.1569e+00,  ...,  3.9845e-01,\n",
      "          -2.0668e+00, -2.2177e-02],\n",
      "         [ 2.9352e-02, -2.5966e+00,  2.7938e+00,  ...,  8.7647e-01,\n",
      "          -2.1956e+00, -5.7046e-03],\n",
      "         ...,\n",
      "         [-2.4222e-02, -1.0915e+00,  1.5105e+00,  ..., -6.0021e-01,\n",
      "           8.8317e-01,  7.1738e-03],\n",
      "         [-6.2595e-03, -2.5662e+00,  2.7959e+00,  ...,  1.1507e+00,\n",
      "          -5.5428e-01, -4.9515e-02],\n",
      "         [ 1.1098e-02, -6.4219e-01,  1.1459e+00,  ..., -9.0700e-01,\n",
      "           7.8165e-01, -3.7670e-02]]]), tensor(1225))\n",
      "Epoch 1/50\n"
     ]
    },
    {
     "name": "stderr",
     "output_type": "stream",
     "text": [
      "Train: 100%|██████████| 129/129 [00:11<00:00, 10.99it/s]\n",
      "Validation: 100%|██████████| 33/33 [00:00<00:00, 72.31it/s]\n"
     ]
    },
    {
     "name": "stdout",
     "output_type": "stream",
     "text": [
      "Epoch 1/50 | train loss: 7.550 | train acc: 0.006 | val loss: 7.542 | val acc: 0.005\n",
      "Initial model for Fold 3 saved.\n",
      "\u001b[36mNew best.\u001b[0m\n",
      "Validation accuracy increased (-inf --> 0.004972).  Saving model ...\n",
      "Epoch 2/50\n"
     ]
    },
    {
     "name": "stderr",
     "output_type": "stream",
     "text": [
      "Train: 100%|██████████| 129/129 [00:11<00:00, 11.08it/s]\n",
      "Validation: 100%|██████████| 33/33 [00:00<00:00, 70.89it/s]\n"
     ]
    },
    {
     "name": "stdout",
     "output_type": "stream",
     "text": [
      "Epoch 2/50 | train loss: 7.545 | train acc: 0.007 | val loss: 7.559 | val acc: 0.007\n",
      "\u001b[36mNew best.\u001b[0m\n",
      "Validation accuracy increased (0.004972 --> 0.006629).  Saving model ...\n",
      "Epoch 3/50\n"
     ]
    },
    {
     "name": "stderr",
     "output_type": "stream",
     "text": [
      "Train: 100%|██████████| 129/129 [00:11<00:00, 11.01it/s]\n",
      "Validation: 100%|██████████| 33/33 [00:00<00:00, 63.52it/s]\n"
     ]
    },
    {
     "name": "stdout",
     "output_type": "stream",
     "text": [
      "Epoch 3/50 | train loss: 7.471 | train acc: 0.015 | val loss: 7.566 | val acc: 0.008\n",
      "\u001b[36mNew best.\u001b[0m\n",
      "Validation accuracy increased (0.006629 --> 0.008286).  Saving model ...\n",
      "Epoch 4/50\n"
     ]
    },
    {
     "name": "stderr",
     "output_type": "stream",
     "text": [
      "Train: 100%|██████████| 129/129 [00:11<00:00, 11.02it/s]\n",
      "Validation: 100%|██████████| 33/33 [00:00<00:00, 64.47it/s]\n"
     ]
    },
    {
     "name": "stdout",
     "output_type": "stream",
     "text": [
      "Epoch 4/50 | train loss: 7.366 | train acc: 0.023 | val loss: 7.611 | val acc: 0.009\n",
      "\u001b[36mNew best.\u001b[0m\n",
      "Validation accuracy increased (0.008286 --> 0.009233).  Saving model ...\n",
      "Epoch 5/50\n"
     ]
    },
    {
     "name": "stderr",
     "output_type": "stream",
     "text": [
      "Train: 100%|██████████| 129/129 [00:11<00:00, 11.05it/s]\n",
      "Validation: 100%|██████████| 33/33 [00:00<00:00, 63.37it/s]\n"
     ]
    },
    {
     "name": "stdout",
     "output_type": "stream",
     "text": [
      "Epoch 5/50 | train loss: 7.184 | train acc: 0.040 | val loss: 7.675 | val acc: 0.008\n",
      "EarlyStopping counter: 1 out of 2\n",
      "Epoch 6/50\n"
     ]
    },
    {
     "name": "stderr",
     "output_type": "stream",
     "text": [
      "Train: 100%|██████████| 129/129 [00:11<00:00, 11.02it/s]\n",
      "Validation: 100%|██████████| 33/33 [00:00<00:00, 58.17it/s]\n"
     ]
    },
    {
     "name": "stdout",
     "output_type": "stream",
     "text": [
      "Epoch 6/50 | train loss: 6.918 | train acc: 0.072 | val loss: 7.785 | val acc: 0.008\n",
      "EarlyStopping counter: 2 out of 2\n",
      "Early stopping. Max Acc =  0.009232954545454546\n",
      "Max Acc =  0.009232954545454546\n",
      "Fold 4\n",
      "(tensor([[[ 1.8776e-04, -9.9577e-01,  9.3586e-01,  ...,  7.4528e-01,\n",
      "          -2.3279e+00, -2.3989e-02],\n",
      "         [-4.2745e-03, -1.8516e+00,  2.1569e+00,  ...,  3.9845e-01,\n",
      "          -2.0668e+00, -2.2177e-02],\n",
      "         [ 2.9352e-02, -2.5966e+00,  2.7938e+00,  ...,  8.7647e-01,\n",
      "          -2.1956e+00, -5.7046e-03],\n",
      "         ...,\n",
      "         [-2.4222e-02, -1.0915e+00,  1.5105e+00,  ..., -6.0021e-01,\n",
      "           8.8317e-01,  7.1738e-03],\n",
      "         [-6.2595e-03, -2.5662e+00,  2.7959e+00,  ...,  1.1507e+00,\n",
      "          -5.5428e-01, -4.9515e-02],\n",
      "         [ 1.1098e-02, -6.4219e-01,  1.1459e+00,  ..., -9.0700e-01,\n",
      "           7.8165e-01, -3.7670e-02]]]), tensor(1225))\n",
      "Epoch 1/50\n"
     ]
    },
    {
     "name": "stderr",
     "output_type": "stream",
     "text": [
      "Train: 100%|██████████| 129/129 [00:11<00:00, 11.05it/s]\n",
      "Validation: 100%|██████████| 33/33 [00:00<00:00, 61.96it/s]\n"
     ]
    },
    {
     "name": "stdout",
     "output_type": "stream",
     "text": [
      "Epoch 1/50 | train loss: 7.556 | train acc: 0.005 | val loss: 7.538 | val acc: 0.008\n",
      "Initial model for Fold 4 saved.\n",
      "\u001b[36mNew best.\u001b[0m\n",
      "Validation accuracy increased (-inf --> 0.007734).  Saving model ...\n",
      "Epoch 2/50\n"
     ]
    },
    {
     "name": "stderr",
     "output_type": "stream",
     "text": [
      "Train: 100%|██████████| 129/129 [00:11<00:00, 11.02it/s]\n",
      "Validation: 100%|██████████| 33/33 [00:00<00:00, 61.91it/s]\n"
     ]
    },
    {
     "name": "stdout",
     "output_type": "stream",
     "text": [
      "Epoch 2/50 | train loss: 7.545 | train acc: 0.006 | val loss: 7.551 | val acc: 0.006\n",
      "EarlyStopping counter: 1 out of 2\n",
      "Epoch 3/50\n"
     ]
    },
    {
     "name": "stderr",
     "output_type": "stream",
     "text": [
      "Train: 100%|██████████| 129/129 [00:11<00:00, 10.98it/s]\n",
      "Validation: 100%|██████████| 33/33 [00:00<00:00, 70.20it/s]\n"
     ]
    },
    {
     "name": "stdout",
     "output_type": "stream",
     "text": [
      "Epoch 3/50 | train loss: 7.471 | train acc: 0.014 | val loss: 7.566 | val acc: 0.010\n",
      "\u001b[36mNew best.\u001b[0m\n",
      "Validation accuracy increased (0.007734 --> 0.009706).  Saving model ...\n",
      "Epoch 4/50\n"
     ]
    },
    {
     "name": "stderr",
     "output_type": "stream",
     "text": [
      "Train: 100%|██████████| 129/129 [00:11<00:00, 10.99it/s]\n",
      "Validation: 100%|██████████| 33/33 [00:00<00:00, 64.48it/s]\n"
     ]
    },
    {
     "name": "stdout",
     "output_type": "stream",
     "text": [
      "Epoch 4/50 | train loss: 7.363 | train acc: 0.024 | val loss: 7.609 | val acc: 0.009\n",
      "EarlyStopping counter: 1 out of 2\n",
      "Epoch 5/50\n"
     ]
    },
    {
     "name": "stderr",
     "output_type": "stream",
     "text": [
      "Train: 100%|██████████| 129/129 [00:11<00:00, 10.98it/s]\n",
      "Validation: 100%|██████████| 33/33 [00:00<00:00, 70.22it/s]\n"
     ]
    },
    {
     "name": "stdout",
     "output_type": "stream",
     "text": [
      "Epoch 5/50 | train loss: 7.169 | train acc: 0.043 | val loss: 7.694 | val acc: 0.007\n",
      "EarlyStopping counter: 2 out of 2\n",
      "Early stopping. Max Acc =  0.009706439393939394\n",
      "Max Acc =  0.009706439393939394\n",
      "Fold 5\n",
      "(tensor([[[ 1.8776e-04, -9.9577e-01,  9.3586e-01,  ...,  7.4528e-01,\n",
      "          -2.3279e+00, -2.3989e-02],\n",
      "         [-4.2745e-03, -1.8516e+00,  2.1569e+00,  ...,  3.9845e-01,\n",
      "          -2.0668e+00, -2.2177e-02],\n",
      "         [ 2.9352e-02, -2.5966e+00,  2.7938e+00,  ...,  8.7647e-01,\n",
      "          -2.1956e+00, -5.7046e-03],\n",
      "         ...,\n",
      "         [-2.4222e-02, -1.0915e+00,  1.5105e+00,  ..., -6.0021e-01,\n",
      "           8.8317e-01,  7.1738e-03],\n",
      "         [-6.2595e-03, -2.5662e+00,  2.7959e+00,  ...,  1.1507e+00,\n",
      "          -5.5428e-01, -4.9515e-02],\n",
      "         [ 1.1098e-02, -6.4219e-01,  1.1459e+00,  ..., -9.0700e-01,\n",
      "           7.8165e-01, -3.7670e-02]]]), tensor(1225))\n",
      "Epoch 1/50\n"
     ]
    },
    {
     "name": "stderr",
     "output_type": "stream",
     "text": [
      "Train: 100%|██████████| 129/129 [00:11<00:00, 10.96it/s]\n",
      "Validation: 100%|██████████| 33/33 [00:00<00:00, 63.19it/s]\n"
     ]
    },
    {
     "name": "stdout",
     "output_type": "stream",
     "text": [
      "Epoch 1/50 | train loss: 7.552 | train acc: 0.005 | val loss: 7.543 | val acc: 0.005\n",
      "Initial model for Fold 5 saved.\n",
      "\u001b[36mNew best.\u001b[0m\n",
      "Validation accuracy increased (-inf --> 0.004972).  Saving model ...\n",
      "Epoch 2/50\n"
     ]
    },
    {
     "name": "stderr",
     "output_type": "stream",
     "text": [
      "Train: 100%|██████████| 129/129 [00:11<00:00, 11.04it/s]\n",
      "Validation: 100%|██████████| 33/33 [00:00<00:00, 71.66it/s]\n"
     ]
    },
    {
     "name": "stdout",
     "output_type": "stream",
     "text": [
      "Epoch 2/50 | train loss: 7.543 | train acc: 0.007 | val loss: 7.548 | val acc: 0.005\n",
      "EarlyStopping counter: 1 out of 2\n",
      "Epoch 3/50\n"
     ]
    },
    {
     "name": "stderr",
     "output_type": "stream",
     "text": [
      "Train: 100%|██████████| 129/129 [00:11<00:00, 11.00it/s]\n",
      "Validation: 100%|██████████| 33/33 [00:00<00:00, 70.30it/s]\n"
     ]
    },
    {
     "name": "stdout",
     "output_type": "stream",
     "text": [
      "Epoch 3/50 | train loss: 7.469 | train acc: 0.015 | val loss: 7.574 | val acc: 0.006\n",
      "\u001b[36mNew best.\u001b[0m\n",
      "Validation accuracy increased (0.004972 --> 0.005919).  Saving model ...\n",
      "Epoch 4/50\n"
     ]
    },
    {
     "name": "stderr",
     "output_type": "stream",
     "text": [
      "Train: 100%|██████████| 129/129 [00:11<00:00, 11.03it/s]\n",
      "Validation: 100%|██████████| 33/33 [00:00<00:00, 69.72it/s]\n"
     ]
    },
    {
     "name": "stdout",
     "output_type": "stream",
     "text": [
      "Epoch 4/50 | train loss: 7.369 | train acc: 0.022 | val loss: 7.607 | val acc: 0.008\n",
      "\u001b[36mNew best.\u001b[0m\n",
      "Validation accuracy increased (0.005919 --> 0.007812).  Saving model ...\n",
      "Epoch 5/50\n"
     ]
    },
    {
     "name": "stderr",
     "output_type": "stream",
     "text": [
      "Train: 100%|██████████| 129/129 [00:11<00:00, 11.04it/s]\n",
      "Validation: 100%|██████████| 33/33 [00:00<00:00, 61.93it/s]\n"
     ]
    },
    {
     "name": "stdout",
     "output_type": "stream",
     "text": [
      "Epoch 5/50 | train loss: 7.191 | train acc: 0.037 | val loss: 7.707 | val acc: 0.007\n",
      "EarlyStopping counter: 1 out of 2\n",
      "Epoch 6/50\n"
     ]
    },
    {
     "name": "stderr",
     "output_type": "stream",
     "text": [
      "Train: 100%|██████████| 129/129 [00:11<00:00, 10.97it/s]\n",
      "Validation: 100%|██████████| 33/33 [00:00<00:00, 73.87it/s]\n",
      "[I 2024-06-29 00:52:26,893] Trial 50 finished with value: 0.00915404043414376 and parameters: {'lowcut': 31.14770231118458, 'highcut': 62.03823977540807}. Best is trial 39 with value: 0.01950757575757576.\n"
     ]
    },
    {
     "name": "stdout",
     "output_type": "stream",
     "text": [
      "Epoch 6/50 | train loss: 6.947 | train acc: 0.067 | val loss: 7.797 | val acc: 0.006\n",
      "EarlyStopping counter: 2 out of 2\n",
      "Early stopping. Max Acc =  0.0078125\n",
      "Max Acc =  0.0078125\n",
      "Acc mean =  0.00915404043414376\n",
      "Start objective 51\n",
      "lowcut: 13.14043883850356, highcut: 47.53586172026338\n",
      "resample_data\n",
      "bandpass_filter\n",
      "standardize\n",
      "torch.Size([20540, 1, 271, 128])\n",
      "torch.Size([20540])\n",
      "Fold 1\n",
      "(tensor([[[ 3.9101e-02, -1.5930e+00, -1.1653e+00,  ..., -6.7990e-01,\n",
      "          -2.4607e+00,  3.4508e-02],\n",
      "         [ 2.7797e-02, -8.5744e-01,  1.9100e-01,  ..., -3.3334e-01,\n",
      "          -2.2265e+00,  1.9797e-02],\n",
      "         [ 2.7582e-02, -9.6848e-01,  8.3517e-01,  ..., -3.6101e-01,\n",
      "          -2.5211e+00,  2.2324e-02],\n",
      "         ...,\n",
      "         [-7.9015e-03,  8.5512e-01,  6.9518e-01,  ...,  5.4338e-01,\n",
      "           1.2038e+00, -6.1620e-03],\n",
      "         [ 3.2523e-02, -2.5060e+00, -1.7580e+00,  ..., -2.3421e-01,\n",
      "          -8.9151e-01,  2.7777e-02],\n",
      "         [-3.1387e-04,  3.5219e-02,  4.0217e-01,  ..., -6.1401e-01,\n",
      "           3.9458e-01,  1.6446e-02]]]), tensor(1225))\n",
      "Epoch 1/50\n"
     ]
    },
    {
     "name": "stderr",
     "output_type": "stream",
     "text": [
      "Train: 100%|██████████| 129/129 [00:11<00:00, 11.08it/s]\n",
      "Validation: 100%|██████████| 33/33 [00:00<00:00, 64.00it/s]\n"
     ]
    },
    {
     "name": "stdout",
     "output_type": "stream",
     "text": [
      "Epoch 1/50 | train loss: 7.543 | train acc: 0.005 | val loss: 7.533 | val acc: 0.005\n",
      "Initial model for Fold 1 saved.\n",
      "\u001b[36mNew best.\u001b[0m\n",
      "Validation accuracy increased (-inf --> 0.005208).  Saving model ...\n",
      "Epoch 2/50\n"
     ]
    },
    {
     "name": "stderr",
     "output_type": "stream",
     "text": [
      "Train: 100%|██████████| 129/129 [00:11<00:00, 11.10it/s]\n",
      "Validation: 100%|██████████| 33/33 [00:00<00:00, 71.01it/s]\n"
     ]
    },
    {
     "name": "stdout",
     "output_type": "stream",
     "text": [
      "Epoch 2/50 | train loss: 7.539 | train acc: 0.007 | val loss: 7.542 | val acc: 0.008\n",
      "\u001b[36mNew best.\u001b[0m\n",
      "Validation accuracy increased (0.005208 --> 0.008286).  Saving model ...\n",
      "Epoch 3/50\n"
     ]
    },
    {
     "name": "stderr",
     "output_type": "stream",
     "text": [
      "Train: 100%|██████████| 129/129 [00:11<00:00, 11.13it/s]\n",
      "Validation: 100%|██████████| 33/33 [00:00<00:00, 74.92it/s]\n"
     ]
    },
    {
     "name": "stdout",
     "output_type": "stream",
     "text": [
      "Epoch 3/50 | train loss: 7.480 | train acc: 0.011 | val loss: 7.556 | val acc: 0.008\n",
      "EarlyStopping counter: 1 out of 2\n",
      "Epoch 4/50\n"
     ]
    },
    {
     "name": "stderr",
     "output_type": "stream",
     "text": [
      "Train: 100%|██████████| 129/129 [00:11<00:00, 11.05it/s]\n",
      "Validation: 100%|██████████| 33/33 [00:00<00:00, 75.65it/s]\n"
     ]
    },
    {
     "name": "stdout",
     "output_type": "stream",
     "text": [
      "Epoch 4/50 | train loss: 7.417 | train acc: 0.020 | val loss: 7.572 | val acc: 0.007\n",
      "EarlyStopping counter: 2 out of 2\n",
      "Early stopping. Max Acc =  0.008285984848484848\n",
      "Max Acc =  0.008285984848484848\n",
      "Fold 2\n",
      "(tensor([[[ 3.9101e-02, -1.5930e+00, -1.1653e+00,  ..., -6.7990e-01,\n",
      "          -2.4607e+00,  3.4508e-02],\n",
      "         [ 2.7797e-02, -8.5744e-01,  1.9100e-01,  ..., -3.3334e-01,\n",
      "          -2.2265e+00,  1.9797e-02],\n",
      "         [ 2.7582e-02, -9.6848e-01,  8.3517e-01,  ..., -3.6101e-01,\n",
      "          -2.5211e+00,  2.2324e-02],\n",
      "         ...,\n",
      "         [-7.9015e-03,  8.5512e-01,  6.9518e-01,  ...,  5.4338e-01,\n",
      "           1.2038e+00, -6.1620e-03],\n",
      "         [ 3.2523e-02, -2.5060e+00, -1.7580e+00,  ..., -2.3421e-01,\n",
      "          -8.9151e-01,  2.7777e-02],\n",
      "         [-3.1387e-04,  3.5219e-02,  4.0217e-01,  ..., -6.1401e-01,\n",
      "           3.9458e-01,  1.6446e-02]]]), tensor(1225))\n",
      "Epoch 1/50\n"
     ]
    },
    {
     "name": "stderr",
     "output_type": "stream",
     "text": [
      "Train: 100%|██████████| 129/129 [00:11<00:00, 11.06it/s]\n",
      "Validation: 100%|██████████| 33/33 [00:00<00:00, 76.52it/s]\n"
     ]
    },
    {
     "name": "stdout",
     "output_type": "stream",
     "text": [
      "Epoch 1/50 | train loss: 7.545 | train acc: 0.005 | val loss: 7.535 | val acc: 0.006\n",
      "Initial model for Fold 2 saved.\n",
      "\u001b[36mNew best.\u001b[0m\n",
      "Validation accuracy increased (-inf --> 0.005919).  Saving model ...\n",
      "Epoch 2/50\n"
     ]
    },
    {
     "name": "stderr",
     "output_type": "stream",
     "text": [
      "Train: 100%|██████████| 129/129 [00:11<00:00, 11.08it/s]\n",
      "Validation: 100%|██████████| 33/33 [00:00<00:00, 64.81it/s]\n"
     ]
    },
    {
     "name": "stdout",
     "output_type": "stream",
     "text": [
      "Epoch 2/50 | train loss: 7.539 | train acc: 0.007 | val loss: 7.546 | val acc: 0.007\n",
      "\u001b[36mNew best.\u001b[0m\n",
      "Validation accuracy increased (0.005919 --> 0.006866).  Saving model ...\n",
      "Epoch 3/50\n"
     ]
    },
    {
     "name": "stderr",
     "output_type": "stream",
     "text": [
      "Train: 100%|██████████| 129/129 [00:11<00:00, 11.02it/s]\n",
      "Validation: 100%|██████████| 33/33 [00:00<00:00, 74.98it/s]\n"
     ]
    },
    {
     "name": "stdout",
     "output_type": "stream",
     "text": [
      "Epoch 3/50 | train loss: 7.479 | train acc: 0.013 | val loss: 7.568 | val acc: 0.006\n",
      "EarlyStopping counter: 1 out of 2\n",
      "Epoch 4/50\n"
     ]
    },
    {
     "name": "stderr",
     "output_type": "stream",
     "text": [
      "Train: 100%|██████████| 129/129 [00:11<00:00, 11.08it/s]\n",
      "Validation: 100%|██████████| 33/33 [00:00<00:00, 69.60it/s]\n"
     ]
    },
    {
     "name": "stdout",
     "output_type": "stream",
     "text": [
      "Epoch 4/50 | train loss: 7.415 | train acc: 0.018 | val loss: 7.581 | val acc: 0.006\n",
      "EarlyStopping counter: 2 out of 2\n",
      "Early stopping. Max Acc =  0.006865530303030303\n",
      "Max Acc =  0.006865530303030303\n",
      "Fold 3\n",
      "(tensor([[[ 3.9101e-02, -1.5930e+00, -1.1653e+00,  ..., -6.7990e-01,\n",
      "          -2.4607e+00,  3.4508e-02],\n",
      "         [ 2.7797e-02, -8.5744e-01,  1.9100e-01,  ..., -3.3334e-01,\n",
      "          -2.2265e+00,  1.9797e-02],\n",
      "         [ 2.7582e-02, -9.6848e-01,  8.3517e-01,  ..., -3.6101e-01,\n",
      "          -2.5211e+00,  2.2324e-02],\n",
      "         ...,\n",
      "         [-7.9015e-03,  8.5512e-01,  6.9518e-01,  ...,  5.4338e-01,\n",
      "           1.2038e+00, -6.1620e-03],\n",
      "         [ 3.2523e-02, -2.5060e+00, -1.7580e+00,  ..., -2.3421e-01,\n",
      "          -8.9151e-01,  2.7777e-02],\n",
      "         [-3.1387e-04,  3.5219e-02,  4.0217e-01,  ..., -6.1401e-01,\n",
      "           3.9458e-01,  1.6446e-02]]]), tensor(1225))\n",
      "Epoch 1/50\n"
     ]
    },
    {
     "name": "stderr",
     "output_type": "stream",
     "text": [
      "Train: 100%|██████████| 129/129 [00:11<00:00, 11.04it/s]\n",
      "Validation: 100%|██████████| 33/33 [00:00<00:00, 74.49it/s]\n"
     ]
    },
    {
     "name": "stdout",
     "output_type": "stream",
     "text": [
      "Epoch 1/50 | train loss: 7.548 | train acc: 0.005 | val loss: 7.536 | val acc: 0.007\n",
      "Initial model for Fold 3 saved.\n",
      "\u001b[36mNew best.\u001b[0m\n",
      "Validation accuracy increased (-inf --> 0.006629).  Saving model ...\n",
      "Epoch 2/50\n"
     ]
    },
    {
     "name": "stderr",
     "output_type": "stream",
     "text": [
      "Train: 100%|██████████| 129/129 [00:11<00:00, 11.03it/s]\n",
      "Validation: 100%|██████████| 33/33 [00:00<00:00, 70.86it/s]\n"
     ]
    },
    {
     "name": "stdout",
     "output_type": "stream",
     "text": [
      "Epoch 2/50 | train loss: 7.539 | train acc: 0.006 | val loss: 7.543 | val acc: 0.009\n",
      "\u001b[36mNew best.\u001b[0m\n",
      "Validation accuracy increased (0.006629 --> 0.009391).  Saving model ...\n",
      "Epoch 3/50\n"
     ]
    },
    {
     "name": "stderr",
     "output_type": "stream",
     "text": [
      "Train: 100%|██████████| 129/129 [00:11<00:00, 11.07it/s]\n",
      "Validation: 100%|██████████| 33/33 [00:00<00:00, 67.77it/s]\n"
     ]
    },
    {
     "name": "stdout",
     "output_type": "stream",
     "text": [
      "Epoch 3/50 | train loss: 7.480 | train acc: 0.013 | val loss: 7.549 | val acc: 0.011\n",
      "\u001b[36mNew best.\u001b[0m\n",
      "Validation accuracy increased (0.009391 --> 0.011048).  Saving model ...\n",
      "Epoch 4/50\n"
     ]
    },
    {
     "name": "stderr",
     "output_type": "stream",
     "text": [
      "Train: 100%|██████████| 129/129 [00:11<00:00, 11.07it/s]\n",
      "Validation: 100%|██████████| 33/33 [00:00<00:00, 78.53it/s]\n"
     ]
    },
    {
     "name": "stdout",
     "output_type": "stream",
     "text": [
      "Epoch 4/50 | train loss: 7.414 | train acc: 0.019 | val loss: 7.566 | val acc: 0.012\n",
      "\u001b[36mNew best.\u001b[0m\n",
      "Validation accuracy increased (0.011048 --> 0.012232).  Saving model ...\n",
      "Epoch 5/50\n"
     ]
    },
    {
     "name": "stderr",
     "output_type": "stream",
     "text": [
      "Train: 100%|██████████| 129/129 [00:11<00:00, 11.08it/s]\n",
      "Validation: 100%|██████████| 33/33 [00:00<00:00, 84.11it/s]\n"
     ]
    },
    {
     "name": "stdout",
     "output_type": "stream",
     "text": [
      "Epoch 5/50 | train loss: 7.309 | train acc: 0.026 | val loss: 7.608 | val acc: 0.012\n",
      "Validation accuracy increased (0.012232 --> 0.012232).  Saving model ...\n",
      "Epoch 6/50\n"
     ]
    },
    {
     "name": "stderr",
     "output_type": "stream",
     "text": [
      "Train: 100%|██████████| 129/129 [00:11<00:00, 11.13it/s]\n",
      "Validation: 100%|██████████| 33/33 [00:00<00:00, 74.43it/s]\n"
     ]
    },
    {
     "name": "stdout",
     "output_type": "stream",
     "text": [
      "Epoch 6/50 | train loss: 7.151 | train acc: 0.042 | val loss: 7.672 | val acc: 0.009\n",
      "EarlyStopping counter: 1 out of 2\n",
      "Epoch 7/50\n"
     ]
    },
    {
     "name": "stderr",
     "output_type": "stream",
     "text": [
      "Train: 100%|██████████| 129/129 [00:11<00:00, 11.07it/s]\n",
      "Validation: 100%|██████████| 33/33 [00:00<00:00, 85.25it/s]\n"
     ]
    },
    {
     "name": "stdout",
     "output_type": "stream",
     "text": [
      "Epoch 7/50 | train loss: 6.937 | train acc: 0.066 | val loss: 7.771 | val acc: 0.010\n",
      "EarlyStopping counter: 2 out of 2\n",
      "Early stopping. Max Acc =  0.01223169199445031\n",
      "Max Acc =  0.01223169199445031\n",
      "Fold 4\n",
      "(tensor([[[ 3.9101e-02, -1.5930e+00, -1.1653e+00,  ..., -6.7990e-01,\n",
      "          -2.4607e+00,  3.4508e-02],\n",
      "         [ 2.7797e-02, -8.5744e-01,  1.9100e-01,  ..., -3.3334e-01,\n",
      "          -2.2265e+00,  1.9797e-02],\n",
      "         [ 2.7582e-02, -9.6848e-01,  8.3517e-01,  ..., -3.6101e-01,\n",
      "          -2.5211e+00,  2.2324e-02],\n",
      "         ...,\n",
      "         [-7.9015e-03,  8.5512e-01,  6.9518e-01,  ...,  5.4338e-01,\n",
      "           1.2038e+00, -6.1620e-03],\n",
      "         [ 3.2523e-02, -2.5060e+00, -1.7580e+00,  ..., -2.3421e-01,\n",
      "          -8.9151e-01,  2.7777e-02],\n",
      "         [-3.1387e-04,  3.5219e-02,  4.0217e-01,  ..., -6.1401e-01,\n",
      "           3.9458e-01,  1.6446e-02]]]), tensor(1225))\n",
      "Epoch 1/50\n"
     ]
    },
    {
     "name": "stderr",
     "output_type": "stream",
     "text": [
      "Train: 100%|██████████| 129/129 [00:11<00:00, 11.13it/s]\n",
      "Validation: 100%|██████████| 33/33 [00:00<00:00, 72.86it/s]\n"
     ]
    },
    {
     "name": "stdout",
     "output_type": "stream",
     "text": [
      "Epoch 1/50 | train loss: 7.545 | train acc: 0.006 | val loss: 7.534 | val acc: 0.004\n",
      "Initial model for Fold 4 saved.\n",
      "\u001b[36mNew best.\u001b[0m\n",
      "Validation accuracy increased (-inf --> 0.004498).  Saving model ...\n",
      "Epoch 2/50\n"
     ]
    },
    {
     "name": "stderr",
     "output_type": "stream",
     "text": [
      "Train: 100%|██████████| 129/129 [00:11<00:00, 11.09it/s]\n",
      "Validation: 100%|██████████| 33/33 [00:00<00:00, 80.80it/s]\n"
     ]
    },
    {
     "name": "stdout",
     "output_type": "stream",
     "text": [
      "Epoch 2/50 | train loss: 7.541 | train acc: 0.006 | val loss: 7.546 | val acc: 0.006\n",
      "\u001b[36mNew best.\u001b[0m\n",
      "Validation accuracy increased (0.004498 --> 0.006392).  Saving model ...\n",
      "Epoch 3/50\n"
     ]
    },
    {
     "name": "stderr",
     "output_type": "stream",
     "text": [
      "Train: 100%|██████████| 129/129 [00:11<00:00, 11.03it/s]\n",
      "Validation: 100%|██████████| 33/33 [00:00<00:00, 68.77it/s]\n"
     ]
    },
    {
     "name": "stdout",
     "output_type": "stream",
     "text": [
      "Epoch 3/50 | train loss: 7.481 | train acc: 0.011 | val loss: 7.564 | val acc: 0.011\n",
      "\u001b[36mNew best.\u001b[0m\n",
      "Validation accuracy increased (0.006392 --> 0.010574).  Saving model ...\n",
      "Epoch 4/50\n"
     ]
    },
    {
     "name": "stderr",
     "output_type": "stream",
     "text": [
      "Train: 100%|██████████| 129/129 [00:11<00:00, 11.09it/s]\n",
      "Validation: 100%|██████████| 33/33 [00:00<00:00, 68.59it/s]\n"
     ]
    },
    {
     "name": "stdout",
     "output_type": "stream",
     "text": [
      "Epoch 4/50 | train loss: 7.410 | train acc: 0.020 | val loss: 7.581 | val acc: 0.006\n",
      "EarlyStopping counter: 1 out of 2\n",
      "Epoch 5/50\n"
     ]
    },
    {
     "name": "stderr",
     "output_type": "stream",
     "text": [
      "Train: 100%|██████████| 129/129 [00:11<00:00, 10.93it/s]\n",
      "Validation: 100%|██████████| 33/33 [00:00<00:00, 77.05it/s]\n"
     ]
    },
    {
     "name": "stdout",
     "output_type": "stream",
     "text": [
      "Epoch 5/50 | train loss: 7.298 | train acc: 0.026 | val loss: 7.643 | val acc: 0.009\n",
      "EarlyStopping counter: 2 out of 2\n",
      "Early stopping. Max Acc =  0.01057449502475334\n",
      "Max Acc =  0.01057449502475334\n",
      "Fold 5\n",
      "(tensor([[[ 3.9101e-02, -1.5930e+00, -1.1653e+00,  ..., -6.7990e-01,\n",
      "          -2.4607e+00,  3.4508e-02],\n",
      "         [ 2.7797e-02, -8.5744e-01,  1.9100e-01,  ..., -3.3334e-01,\n",
      "          -2.2265e+00,  1.9797e-02],\n",
      "         [ 2.7582e-02, -9.6848e-01,  8.3517e-01,  ..., -3.6101e-01,\n",
      "          -2.5211e+00,  2.2324e-02],\n",
      "         ...,\n",
      "         [-7.9015e-03,  8.5512e-01,  6.9518e-01,  ...,  5.4338e-01,\n",
      "           1.2038e+00, -6.1620e-03],\n",
      "         [ 3.2523e-02, -2.5060e+00, -1.7580e+00,  ..., -2.3421e-01,\n",
      "          -8.9151e-01,  2.7777e-02],\n",
      "         [-3.1387e-04,  3.5219e-02,  4.0217e-01,  ..., -6.1401e-01,\n",
      "           3.9458e-01,  1.6446e-02]]]), tensor(1225))\n",
      "Epoch 1/50\n"
     ]
    },
    {
     "name": "stderr",
     "output_type": "stream",
     "text": [
      "Train: 100%|██████████| 129/129 [00:11<00:00, 11.00it/s]\n",
      "Validation: 100%|██████████| 33/33 [00:00<00:00, 82.20it/s]\n"
     ]
    },
    {
     "name": "stdout",
     "output_type": "stream",
     "text": [
      "Epoch 1/50 | train loss: 7.544 | train acc: 0.006 | val loss: 7.530 | val acc: 0.006\n",
      "Initial model for Fold 5 saved.\n",
      "\u001b[36mNew best.\u001b[0m\n",
      "Validation accuracy increased (-inf --> 0.006155).  Saving model ...\n",
      "Epoch 2/50\n"
     ]
    },
    {
     "name": "stderr",
     "output_type": "stream",
     "text": [
      "Train: 100%|██████████| 129/129 [00:11<00:00, 10.95it/s]\n",
      "Validation: 100%|██████████| 33/33 [00:00<00:00, 74.77it/s]\n"
     ]
    },
    {
     "name": "stdout",
     "output_type": "stream",
     "text": [
      "Epoch 2/50 | train loss: 7.537 | train acc: 0.007 | val loss: 7.544 | val acc: 0.007\n",
      "\u001b[36mNew best.\u001b[0m\n",
      "Validation accuracy increased (0.006155 --> 0.006629).  Saving model ...\n",
      "Epoch 3/50\n"
     ]
    },
    {
     "name": "stderr",
     "output_type": "stream",
     "text": [
      "Train: 100%|██████████| 129/129 [00:11<00:00, 11.06it/s]\n",
      "Validation: 100%|██████████| 33/33 [00:00<00:00, 66.98it/s]\n"
     ]
    },
    {
     "name": "stdout",
     "output_type": "stream",
     "text": [
      "Epoch 3/50 | train loss: 7.481 | train acc: 0.013 | val loss: 7.558 | val acc: 0.008\n",
      "\u001b[36mNew best.\u001b[0m\n",
      "Validation accuracy increased (0.006629 --> 0.008049).  Saving model ...\n",
      "Epoch 4/50\n"
     ]
    },
    {
     "name": "stderr",
     "output_type": "stream",
     "text": [
      "Train: 100%|██████████| 129/129 [00:11<00:00, 11.08it/s]\n",
      "Validation: 100%|██████████| 33/33 [00:00<00:00, 72.61it/s]\n"
     ]
    },
    {
     "name": "stdout",
     "output_type": "stream",
     "text": [
      "Epoch 4/50 | train loss: 7.414 | train acc: 0.018 | val loss: 7.578 | val acc: 0.008\n",
      "EarlyStopping counter: 1 out of 2\n",
      "Epoch 5/50\n"
     ]
    },
    {
     "name": "stderr",
     "output_type": "stream",
     "text": [
      "Train: 100%|██████████| 129/129 [00:11<00:00, 11.05it/s]\n",
      "Validation: 100%|██████████| 33/33 [00:00<00:00, 65.45it/s]\n",
      "[I 2024-06-29 00:58:18,005] Trial 51 finished with value: 0.009201388918992245 and parameters: {'lowcut': 13.14043883850356, 'highcut': 47.53586172026338}. Best is trial 39 with value: 0.01950757575757576.\n"
     ]
    },
    {
     "name": "stdout",
     "output_type": "stream",
     "text": [
      "Epoch 5/50 | train loss: 7.309 | train acc: 0.028 | val loss: 7.625 | val acc: 0.006\n",
      "EarlyStopping counter: 2 out of 2\n",
      "Early stopping. Max Acc =  0.008049242424242424\n",
      "Max Acc =  0.008049242424242424\n",
      "Acc mean =  0.009201388918992245\n",
      "Start objective 52\n",
      "lowcut: 5.25384002250686, highcut: 56.5481579587521\n",
      "resample_data\n",
      "bandpass_filter\n",
      "standardize\n",
      "torch.Size([20540, 1, 271, 128])\n",
      "torch.Size([20540])\n",
      "Fold 1\n",
      "(tensor([[[ 4.2149e-02, -1.4484e+00, -1.2107e+00,  ..., -8.2944e-01,\n",
      "          -2.0367e+00,  1.0043e-02],\n",
      "         [ 1.7626e-02, -8.6229e-01,  5.2905e-01,  ..., -1.2794e+00,\n",
      "          -2.0648e+00, -2.6059e-02],\n",
      "         [-6.0951e-04, -7.9574e-01,  1.0586e+00,  ..., -1.1349e+00,\n",
      "          -2.0851e+00, -5.1235e-02],\n",
      "         ...,\n",
      "         [ 8.0044e-02, -6.6953e-01, -1.2500e+00,  ..., -8.4264e-02,\n",
      "           6.0445e-01,  3.4167e-02],\n",
      "         [ 1.1677e-01, -2.8149e+00, -1.6052e+00,  ..., -7.7466e-01,\n",
      "          -1.2416e+00,  2.7325e-02],\n",
      "         [ 7.8787e-02, -8.3465e-01, -1.2098e+00,  ..., -1.0233e+00,\n",
      "          -4.6886e-02,  5.6326e-02]]]), tensor(1225))\n",
      "Epoch 1/50\n"
     ]
    },
    {
     "name": "stderr",
     "output_type": "stream",
     "text": [
      "Train: 100%|██████████| 129/129 [00:11<00:00, 11.10it/s]\n",
      "Validation: 100%|██████████| 33/33 [00:00<00:00, 72.30it/s]\n"
     ]
    },
    {
     "name": "stdout",
     "output_type": "stream",
     "text": [
      "Epoch 1/50 | train loss: 7.545 | train acc: 0.005 | val loss: 7.534 | val acc: 0.005\n",
      "Initial model for Fold 1 saved.\n",
      "\u001b[36mNew best.\u001b[0m\n",
      "Validation accuracy increased (-inf --> 0.004972).  Saving model ...\n",
      "Epoch 2/50\n"
     ]
    },
    {
     "name": "stderr",
     "output_type": "stream",
     "text": [
      "Train: 100%|██████████| 129/129 [00:11<00:00, 11.10it/s]\n",
      "Validation: 100%|██████████| 33/33 [00:00<00:00, 67.75it/s]\n"
     ]
    },
    {
     "name": "stdout",
     "output_type": "stream",
     "text": [
      "Epoch 2/50 | train loss: 7.538 | train acc: 0.007 | val loss: 7.541 | val acc: 0.006\n",
      "\u001b[36mNew best.\u001b[0m\n",
      "Validation accuracy increased (0.004972 --> 0.006392).  Saving model ...\n",
      "Epoch 3/50\n"
     ]
    },
    {
     "name": "stderr",
     "output_type": "stream",
     "text": [
      "Train: 100%|██████████| 129/129 [00:11<00:00, 11.04it/s]\n",
      "Validation: 100%|██████████| 33/33 [00:00<00:00, 78.67it/s]\n"
     ]
    },
    {
     "name": "stdout",
     "output_type": "stream",
     "text": [
      "Epoch 3/50 | train loss: 7.485 | train acc: 0.014 | val loss: 7.547 | val acc: 0.006\n",
      "EarlyStopping counter: 1 out of 2\n",
      "Epoch 4/50\n"
     ]
    },
    {
     "name": "stderr",
     "output_type": "stream",
     "text": [
      "Train: 100%|██████████| 129/129 [00:11<00:00, 11.04it/s]\n",
      "Validation: 100%|██████████| 33/33 [00:00<00:00, 63.89it/s]\n"
     ]
    },
    {
     "name": "stdout",
     "output_type": "stream",
     "text": [
      "Epoch 4/50 | train loss: 7.428 | train acc: 0.018 | val loss: 7.557 | val acc: 0.008\n",
      "\u001b[36mNew best.\u001b[0m\n",
      "Validation accuracy increased (0.006392 --> 0.008049).  Saving model ...\n",
      "Epoch 5/50\n"
     ]
    },
    {
     "name": "stderr",
     "output_type": "stream",
     "text": [
      "Train: 100%|██████████| 129/129 [00:11<00:00, 10.92it/s]\n",
      "Validation: 100%|██████████| 33/33 [00:00<00:00, 60.39it/s]\n"
     ]
    },
    {
     "name": "stdout",
     "output_type": "stream",
     "text": [
      "Epoch 5/50 | train loss: 7.328 | train acc: 0.027 | val loss: 7.545 | val acc: 0.013\n",
      "\u001b[36mNew best.\u001b[0m\n",
      "Validation accuracy increased (0.008049 --> 0.013494).  Saving model ...\n",
      "Epoch 6/50\n"
     ]
    },
    {
     "name": "stderr",
     "output_type": "stream",
     "text": [
      "Train: 100%|██████████| 129/129 [00:11<00:00, 10.83it/s]\n",
      "Validation: 100%|██████████| 33/33 [00:00<00:00, 66.16it/s]\n"
     ]
    },
    {
     "name": "stdout",
     "output_type": "stream",
     "text": [
      "Epoch 6/50 | train loss: 7.153 | train acc: 0.042 | val loss: 7.562 | val acc: 0.014\n",
      "\u001b[36mNew best.\u001b[0m\n",
      "Validation accuracy increased (0.013494 --> 0.014205).  Saving model ...\n",
      "Epoch 7/50\n"
     ]
    },
    {
     "name": "stderr",
     "output_type": "stream",
     "text": [
      "Train: 100%|██████████| 129/129 [00:11<00:00, 10.94it/s]\n",
      "Validation: 100%|██████████| 33/33 [00:00<00:00, 62.21it/s]\n"
     ]
    },
    {
     "name": "stdout",
     "output_type": "stream",
     "text": [
      "Epoch 7/50 | train loss: 6.931 | train acc: 0.062 | val loss: 7.606 | val acc: 0.013\n",
      "EarlyStopping counter: 1 out of 2\n",
      "Epoch 8/50\n"
     ]
    },
    {
     "name": "stderr",
     "output_type": "stream",
     "text": [
      "Train: 100%|██████████| 129/129 [00:11<00:00, 10.97it/s]\n",
      "Validation: 100%|██████████| 33/33 [00:00<00:00, 64.96it/s]\n"
     ]
    },
    {
     "name": "stdout",
     "output_type": "stream",
     "text": [
      "Epoch 8/50 | train loss: 6.725 | train acc: 0.085 | val loss: 7.652 | val acc: 0.013\n",
      "EarlyStopping counter: 2 out of 2\n",
      "Early stopping. Max Acc =  0.014204545454545454\n",
      "Max Acc =  0.014204545454545454\n",
      "Fold 2\n",
      "(tensor([[[ 4.2149e-02, -1.4484e+00, -1.2107e+00,  ..., -8.2944e-01,\n",
      "          -2.0367e+00,  1.0043e-02],\n",
      "         [ 1.7626e-02, -8.6229e-01,  5.2905e-01,  ..., -1.2794e+00,\n",
      "          -2.0648e+00, -2.6059e-02],\n",
      "         [-6.0951e-04, -7.9574e-01,  1.0586e+00,  ..., -1.1349e+00,\n",
      "          -2.0851e+00, -5.1235e-02],\n",
      "         ...,\n",
      "         [ 8.0044e-02, -6.6953e-01, -1.2500e+00,  ..., -8.4264e-02,\n",
      "           6.0445e-01,  3.4167e-02],\n",
      "         [ 1.1677e-01, -2.8149e+00, -1.6052e+00,  ..., -7.7466e-01,\n",
      "          -1.2416e+00,  2.7325e-02],\n",
      "         [ 7.8787e-02, -8.3465e-01, -1.2098e+00,  ..., -1.0233e+00,\n",
      "          -4.6886e-02,  5.6326e-02]]]), tensor(1225))\n",
      "Epoch 1/50\n"
     ]
    },
    {
     "name": "stderr",
     "output_type": "stream",
     "text": [
      "Train: 100%|██████████| 129/129 [00:11<00:00, 11.05it/s]\n",
      "Validation: 100%|██████████| 33/33 [00:00<00:00, 68.62it/s]\n"
     ]
    },
    {
     "name": "stdout",
     "output_type": "stream",
     "text": [
      "Epoch 1/50 | train loss: 7.547 | train acc: 0.005 | val loss: 7.535 | val acc: 0.007\n",
      "Initial model for Fold 2 saved.\n",
      "\u001b[36mNew best.\u001b[0m\n",
      "Validation accuracy increased (-inf --> 0.007102).  Saving model ...\n",
      "Epoch 2/50\n"
     ]
    },
    {
     "name": "stderr",
     "output_type": "stream",
     "text": [
      "Train: 100%|██████████| 129/129 [00:11<00:00, 11.01it/s]\n",
      "Validation: 100%|██████████| 33/33 [00:00<00:00, 70.25it/s]\n"
     ]
    },
    {
     "name": "stdout",
     "output_type": "stream",
     "text": [
      "Epoch 2/50 | train loss: 7.539 | train acc: 0.007 | val loss: 7.544 | val acc: 0.007\n",
      "EarlyStopping counter: 1 out of 2\n",
      "Epoch 3/50\n"
     ]
    },
    {
     "name": "stderr",
     "output_type": "stream",
     "text": [
      "Train: 100%|██████████| 129/129 [00:11<00:00, 11.07it/s]\n",
      "Validation: 100%|██████████| 33/33 [00:00<00:00, 70.79it/s]\n"
     ]
    },
    {
     "name": "stdout",
     "output_type": "stream",
     "text": [
      "Epoch 3/50 | train loss: 7.479 | train acc: 0.013 | val loss: 7.558 | val acc: 0.008\n",
      "\u001b[36mNew best.\u001b[0m\n",
      "Validation accuracy increased (0.007102 --> 0.007576).  Saving model ...\n",
      "Epoch 4/50\n"
     ]
    },
    {
     "name": "stderr",
     "output_type": "stream",
     "text": [
      "Train: 100%|██████████| 129/129 [00:11<00:00, 11.04it/s]\n",
      "Validation: 100%|██████████| 33/33 [00:00<00:00, 64.49it/s]\n"
     ]
    },
    {
     "name": "stdout",
     "output_type": "stream",
     "text": [
      "Epoch 4/50 | train loss: 7.413 | train acc: 0.020 | val loss: 7.570 | val acc: 0.009\n",
      "\u001b[36mNew best.\u001b[0m\n",
      "Validation accuracy increased (0.007576 --> 0.009233).  Saving model ...\n",
      "Epoch 5/50\n"
     ]
    },
    {
     "name": "stderr",
     "output_type": "stream",
     "text": [
      "Train: 100%|██████████| 129/129 [00:11<00:00, 11.01it/s]\n",
      "Validation: 100%|██████████| 33/33 [00:00<00:00, 61.67it/s]\n"
     ]
    },
    {
     "name": "stdout",
     "output_type": "stream",
     "text": [
      "Epoch 5/50 | train loss: 7.299 | train acc: 0.030 | val loss: 7.555 | val acc: 0.010\n",
      "\u001b[36mNew best.\u001b[0m\n",
      "Validation accuracy increased (0.009233 --> 0.010417).  Saving model ...\n",
      "Epoch 6/50\n"
     ]
    },
    {
     "name": "stderr",
     "output_type": "stream",
     "text": [
      "Train: 100%|██████████| 129/129 [00:11<00:00, 11.08it/s]\n",
      "Validation: 100%|██████████| 33/33 [00:00<00:00, 77.53it/s]\n"
     ]
    },
    {
     "name": "stdout",
     "output_type": "stream",
     "text": [
      "Epoch 6/50 | train loss: 7.118 | train acc: 0.043 | val loss: 7.587 | val acc: 0.012\n",
      "\u001b[36mNew best.\u001b[0m\n",
      "Validation accuracy increased (0.010417 --> 0.012074).  Saving model ...\n",
      "Epoch 7/50\n"
     ]
    },
    {
     "name": "stderr",
     "output_type": "stream",
     "text": [
      "Train: 100%|██████████| 129/129 [00:11<00:00, 11.01it/s]\n",
      "Validation: 100%|██████████| 33/33 [00:00<00:00, 61.25it/s]\n"
     ]
    },
    {
     "name": "stdout",
     "output_type": "stream",
     "text": [
      "Epoch 7/50 | train loss: 6.917 | train acc: 0.062 | val loss: 7.633 | val acc: 0.013\n",
      "\u001b[36mNew best.\u001b[0m\n",
      "Validation accuracy increased (0.012074 --> 0.013258).  Saving model ...\n",
      "Epoch 8/50\n"
     ]
    },
    {
     "name": "stderr",
     "output_type": "stream",
     "text": [
      "Train: 100%|██████████| 129/129 [00:11<00:00, 11.03it/s]\n",
      "Validation: 100%|██████████| 33/33 [00:00<00:00, 65.02it/s]\n"
     ]
    },
    {
     "name": "stdout",
     "output_type": "stream",
     "text": [
      "Epoch 8/50 | train loss: 6.717 | train acc: 0.087 | val loss: 7.733 | val acc: 0.014\n",
      "\u001b[36mNew best.\u001b[0m\n",
      "Validation accuracy increased (0.013258 --> 0.013731).  Saving model ...\n",
      "Epoch 9/50\n"
     ]
    },
    {
     "name": "stderr",
     "output_type": "stream",
     "text": [
      "Train: 100%|██████████| 129/129 [00:11<00:00, 10.94it/s]\n",
      "Validation: 100%|██████████| 33/33 [00:00<00:00, 61.12it/s]\n"
     ]
    },
    {
     "name": "stdout",
     "output_type": "stream",
     "text": [
      "Epoch 9/50 | train loss: 6.517 | train acc: 0.113 | val loss: 7.792 | val acc: 0.013\n",
      "EarlyStopping counter: 1 out of 2\n",
      "Epoch 10/50\n"
     ]
    },
    {
     "name": "stderr",
     "output_type": "stream",
     "text": [
      "Train: 100%|██████████| 129/129 [00:11<00:00, 10.95it/s]\n",
      "Validation: 100%|██████████| 33/33 [00:00<00:00, 79.23it/s]\n"
     ]
    },
    {
     "name": "stdout",
     "output_type": "stream",
     "text": [
      "Epoch 10/50 | train loss: 6.342 | train acc: 0.143 | val loss: 7.884 | val acc: 0.011\n",
      "EarlyStopping counter: 2 out of 2\n",
      "Early stopping. Max Acc =  0.013731060606060606\n",
      "Max Acc =  0.013731060606060606\n",
      "Fold 3\n",
      "(tensor([[[ 4.2149e-02, -1.4484e+00, -1.2107e+00,  ..., -8.2944e-01,\n",
      "          -2.0367e+00,  1.0043e-02],\n",
      "         [ 1.7626e-02, -8.6229e-01,  5.2905e-01,  ..., -1.2794e+00,\n",
      "          -2.0648e+00, -2.6059e-02],\n",
      "         [-6.0951e-04, -7.9574e-01,  1.0586e+00,  ..., -1.1349e+00,\n",
      "          -2.0851e+00, -5.1235e-02],\n",
      "         ...,\n",
      "         [ 8.0044e-02, -6.6953e-01, -1.2500e+00,  ..., -8.4264e-02,\n",
      "           6.0445e-01,  3.4167e-02],\n",
      "         [ 1.1677e-01, -2.8149e+00, -1.6052e+00,  ..., -7.7466e-01,\n",
      "          -1.2416e+00,  2.7325e-02],\n",
      "         [ 7.8787e-02, -8.3465e-01, -1.2098e+00,  ..., -1.0233e+00,\n",
      "          -4.6886e-02,  5.6326e-02]]]), tensor(1225))\n",
      "Epoch 1/50\n"
     ]
    },
    {
     "name": "stderr",
     "output_type": "stream",
     "text": [
      "Train: 100%|██████████| 129/129 [00:11<00:00, 10.99it/s]\n",
      "Validation: 100%|██████████| 33/33 [00:00<00:00, 75.29it/s]\n"
     ]
    },
    {
     "name": "stdout",
     "output_type": "stream",
     "text": [
      "Epoch 1/50 | train loss: 7.544 | train acc: 0.006 | val loss: 7.531 | val acc: 0.005\n",
      "Initial model for Fold 3 saved.\n",
      "\u001b[36mNew best.\u001b[0m\n",
      "Validation accuracy increased (-inf --> 0.004735).  Saving model ...\n",
      "Epoch 2/50\n"
     ]
    },
    {
     "name": "stderr",
     "output_type": "stream",
     "text": [
      "Train: 100%|██████████| 129/129 [00:11<00:00, 11.02it/s]\n",
      "Validation: 100%|██████████| 33/33 [00:00<00:00, 68.34it/s]\n"
     ]
    },
    {
     "name": "stdout",
     "output_type": "stream",
     "text": [
      "Epoch 2/50 | train loss: 7.538 | train acc: 0.007 | val loss: 7.541 | val acc: 0.009\n",
      "\u001b[36mNew best.\u001b[0m\n",
      "Validation accuracy increased (0.004735 --> 0.008759).  Saving model ...\n",
      "Epoch 3/50\n"
     ]
    },
    {
     "name": "stderr",
     "output_type": "stream",
     "text": [
      "Train: 100%|██████████| 129/129 [00:11<00:00, 11.03it/s]\n",
      "Validation: 100%|██████████| 33/33 [00:00<00:00, 63.45it/s]\n"
     ]
    },
    {
     "name": "stdout",
     "output_type": "stream",
     "text": [
      "Epoch 3/50 | train loss: 7.482 | train acc: 0.015 | val loss: 7.547 | val acc: 0.010\n",
      "\u001b[36mNew best.\u001b[0m\n",
      "Validation accuracy increased (0.008759 --> 0.010338).  Saving model ...\n",
      "Epoch 4/50\n"
     ]
    },
    {
     "name": "stderr",
     "output_type": "stream",
     "text": [
      "Train: 100%|██████████| 129/129 [00:11<00:00, 10.99it/s]\n",
      "Validation: 100%|██████████| 33/33 [00:00<00:00, 62.12it/s]\n"
     ]
    },
    {
     "name": "stdout",
     "output_type": "stream",
     "text": [
      "Epoch 4/50 | train loss: 7.426 | train acc: 0.018 | val loss: 7.563 | val acc: 0.012\n",
      "\u001b[36mNew best.\u001b[0m\n",
      "Validation accuracy increased (0.010338 --> 0.011995).  Saving model ...\n",
      "Epoch 5/50\n"
     ]
    },
    {
     "name": "stderr",
     "output_type": "stream",
     "text": [
      "Train: 100%|██████████| 129/129 [00:11<00:00, 11.03it/s]\n",
      "Validation: 100%|██████████| 33/33 [00:00<00:00, 69.43it/s]\n"
     ]
    },
    {
     "name": "stdout",
     "output_type": "stream",
     "text": [
      "Epoch 5/50 | train loss: 7.314 | train acc: 0.026 | val loss: 7.610 | val acc: 0.011\n",
      "EarlyStopping counter: 1 out of 2\n",
      "Epoch 6/50\n"
     ]
    },
    {
     "name": "stderr",
     "output_type": "stream",
     "text": [
      "Train: 100%|██████████| 129/129 [00:11<00:00, 11.05it/s]\n",
      "Validation: 100%|██████████| 33/33 [00:00<00:00, 65.80it/s]\n"
     ]
    },
    {
     "name": "stdout",
     "output_type": "stream",
     "text": [
      "Epoch 6/50 | train loss: 7.151 | train acc: 0.038 | val loss: 7.682 | val acc: 0.010\n",
      "EarlyStopping counter: 2 out of 2\n",
      "Early stopping. Max Acc =  0.011994949570207886\n",
      "Max Acc =  0.011994949570207886\n",
      "Fold 4\n",
      "(tensor([[[ 4.2149e-02, -1.4484e+00, -1.2107e+00,  ..., -8.2944e-01,\n",
      "          -2.0367e+00,  1.0043e-02],\n",
      "         [ 1.7626e-02, -8.6229e-01,  5.2905e-01,  ..., -1.2794e+00,\n",
      "          -2.0648e+00, -2.6059e-02],\n",
      "         [-6.0951e-04, -7.9574e-01,  1.0586e+00,  ..., -1.1349e+00,\n",
      "          -2.0851e+00, -5.1235e-02],\n",
      "         ...,\n",
      "         [ 8.0044e-02, -6.6953e-01, -1.2500e+00,  ..., -8.4264e-02,\n",
      "           6.0445e-01,  3.4167e-02],\n",
      "         [ 1.1677e-01, -2.8149e+00, -1.6052e+00,  ..., -7.7466e-01,\n",
      "          -1.2416e+00,  2.7325e-02],\n",
      "         [ 7.8787e-02, -8.3465e-01, -1.2098e+00,  ..., -1.0233e+00,\n",
      "          -4.6886e-02,  5.6326e-02]]]), tensor(1225))\n",
      "Epoch 1/50\n"
     ]
    },
    {
     "name": "stderr",
     "output_type": "stream",
     "text": [
      "Train: 100%|██████████| 129/129 [00:11<00:00, 11.05it/s]\n",
      "Validation: 100%|██████████| 33/33 [00:00<00:00, 72.41it/s]\n"
     ]
    },
    {
     "name": "stdout",
     "output_type": "stream",
     "text": [
      "Epoch 1/50 | train loss: 7.541 | train acc: 0.005 | val loss: 7.531 | val acc: 0.005\n",
      "Initial model for Fold 4 saved.\n",
      "\u001b[36mNew best.\u001b[0m\n",
      "Validation accuracy increased (-inf --> 0.005208).  Saving model ...\n",
      "Epoch 2/50\n"
     ]
    },
    {
     "name": "stderr",
     "output_type": "stream",
     "text": [
      "Train: 100%|██████████| 129/129 [00:11<00:00, 10.98it/s]\n",
      "Validation: 100%|██████████| 33/33 [00:00<00:00, 62.10it/s]\n"
     ]
    },
    {
     "name": "stdout",
     "output_type": "stream",
     "text": [
      "Epoch 2/50 | train loss: 7.536 | train acc: 0.007 | val loss: 7.542 | val acc: 0.008\n",
      "\u001b[36mNew best.\u001b[0m\n",
      "Validation accuracy increased (0.005208 --> 0.008286).  Saving model ...\n",
      "Epoch 3/50\n"
     ]
    },
    {
     "name": "stderr",
     "output_type": "stream",
     "text": [
      "Train: 100%|██████████| 129/129 [00:11<00:00, 10.96it/s]\n",
      "Validation: 100%|██████████| 33/33 [00:00<00:00, 68.91it/s]\n"
     ]
    },
    {
     "name": "stdout",
     "output_type": "stream",
     "text": [
      "Epoch 3/50 | train loss: 7.479 | train acc: 0.013 | val loss: 7.558 | val acc: 0.007\n",
      "EarlyStopping counter: 1 out of 2\n",
      "Epoch 4/50\n"
     ]
    },
    {
     "name": "stderr",
     "output_type": "stream",
     "text": [
      "Train: 100%|██████████| 129/129 [00:11<00:00, 10.92it/s]\n",
      "Validation: 100%|██████████| 33/33 [00:00<00:00, 60.20it/s]\n"
     ]
    },
    {
     "name": "stdout",
     "output_type": "stream",
     "text": [
      "Epoch 4/50 | train loss: 7.418 | train acc: 0.018 | val loss: 7.567 | val acc: 0.012\n",
      "\u001b[36mNew best.\u001b[0m\n",
      "Validation accuracy increased (0.008286 --> 0.011600).  Saving model ...\n",
      "Epoch 5/50\n"
     ]
    },
    {
     "name": "stderr",
     "output_type": "stream",
     "text": [
      "Train: 100%|██████████| 129/129 [00:11<00:00, 11.00it/s]\n",
      "Validation: 100%|██████████| 33/33 [00:00<00:00, 62.04it/s]\n"
     ]
    },
    {
     "name": "stdout",
     "output_type": "stream",
     "text": [
      "Epoch 5/50 | train loss: 7.315 | train acc: 0.026 | val loss: 7.595 | val acc: 0.009\n",
      "EarlyStopping counter: 1 out of 2\n",
      "Epoch 6/50\n"
     ]
    },
    {
     "name": "stderr",
     "output_type": "stream",
     "text": [
      "Train: 100%|██████████| 129/129 [00:11<00:00, 10.95it/s]\n",
      "Validation: 100%|██████████| 33/33 [00:00<00:00, 61.84it/s]\n"
     ]
    },
    {
     "name": "stdout",
     "output_type": "stream",
     "text": [
      "Epoch 6/50 | train loss: 7.155 | train acc: 0.039 | val loss: 7.623 | val acc: 0.011\n",
      "EarlyStopping counter: 2 out of 2\n",
      "Early stopping. Max Acc =  0.011600378787878788\n",
      "Max Acc =  0.011600378787878788\n",
      "Fold 5\n",
      "(tensor([[[ 4.2149e-02, -1.4484e+00, -1.2107e+00,  ..., -8.2944e-01,\n",
      "          -2.0367e+00,  1.0043e-02],\n",
      "         [ 1.7626e-02, -8.6229e-01,  5.2905e-01,  ..., -1.2794e+00,\n",
      "          -2.0648e+00, -2.6059e-02],\n",
      "         [-6.0951e-04, -7.9574e-01,  1.0586e+00,  ..., -1.1349e+00,\n",
      "          -2.0851e+00, -5.1235e-02],\n",
      "         ...,\n",
      "         [ 8.0044e-02, -6.6953e-01, -1.2500e+00,  ..., -8.4264e-02,\n",
      "           6.0445e-01,  3.4167e-02],\n",
      "         [ 1.1677e-01, -2.8149e+00, -1.6052e+00,  ..., -7.7466e-01,\n",
      "          -1.2416e+00,  2.7325e-02],\n",
      "         [ 7.8787e-02, -8.3465e-01, -1.2098e+00,  ..., -1.0233e+00,\n",
      "          -4.6886e-02,  5.6326e-02]]]), tensor(1225))\n",
      "Epoch 1/50\n"
     ]
    },
    {
     "name": "stderr",
     "output_type": "stream",
     "text": [
      "Train: 100%|██████████| 129/129 [00:11<00:00, 10.97it/s]\n",
      "Validation: 100%|██████████| 33/33 [00:00<00:00, 64.93it/s]\n"
     ]
    },
    {
     "name": "stdout",
     "output_type": "stream",
     "text": [
      "Epoch 1/50 | train loss: 7.542 | train acc: 0.006 | val loss: 7.531 | val acc: 0.007\n",
      "Initial model for Fold 5 saved.\n",
      "\u001b[36mNew best.\u001b[0m\n",
      "Validation accuracy increased (-inf --> 0.006866).  Saving model ...\n",
      "Epoch 2/50\n"
     ]
    },
    {
     "name": "stderr",
     "output_type": "stream",
     "text": [
      "Train: 100%|██████████| 129/129 [00:11<00:00, 10.97it/s]\n",
      "Validation: 100%|██████████| 33/33 [00:00<00:00, 64.07it/s]\n"
     ]
    },
    {
     "name": "stdout",
     "output_type": "stream",
     "text": [
      "Epoch 2/50 | train loss: 7.535 | train acc: 0.008 | val loss: 7.547 | val acc: 0.007\n",
      "Validation accuracy increased (0.006866 --> 0.006866).  Saving model ...\n",
      "Epoch 3/50\n"
     ]
    },
    {
     "name": "stderr",
     "output_type": "stream",
     "text": [
      "Train: 100%|██████████| 129/129 [00:11<00:00, 11.00it/s]\n",
      "Validation: 100%|██████████| 33/33 [00:00<00:00, 67.19it/s]\n"
     ]
    },
    {
     "name": "stdout",
     "output_type": "stream",
     "text": [
      "Epoch 3/50 | train loss: 7.478 | train acc: 0.014 | val loss: 7.557 | val acc: 0.005\n",
      "EarlyStopping counter: 1 out of 2\n",
      "Epoch 4/50\n"
     ]
    },
    {
     "name": "stderr",
     "output_type": "stream",
     "text": [
      "Train: 100%|██████████| 129/129 [00:11<00:00, 10.97it/s]\n",
      "Validation: 100%|██████████| 33/33 [00:00<00:00, 86.51it/s]\n"
     ]
    },
    {
     "name": "stdout",
     "output_type": "stream",
     "text": [
      "Epoch 4/50 | train loss: 7.417 | train acc: 0.020 | val loss: 7.567 | val acc: 0.010\n",
      "\u001b[36mNew best.\u001b[0m\n",
      "Validation accuracy increased (0.006866 --> 0.009706).  Saving model ...\n",
      "Epoch 5/50\n"
     ]
    },
    {
     "name": "stderr",
     "output_type": "stream",
     "text": [
      "Train: 100%|██████████| 129/129 [00:11<00:00, 11.03it/s]\n",
      "Validation: 100%|██████████| 33/33 [00:00<00:00, 70.00it/s]\n"
     ]
    },
    {
     "name": "stdout",
     "output_type": "stream",
     "text": [
      "Epoch 5/50 | train loss: 7.309 | train acc: 0.028 | val loss: 7.552 | val acc: 0.013\n",
      "\u001b[36mNew best.\u001b[0m\n",
      "Validation accuracy increased (0.009706 --> 0.013494).  Saving model ...\n",
      "Epoch 6/50\n"
     ]
    },
    {
     "name": "stderr",
     "output_type": "stream",
     "text": [
      "Train: 100%|██████████| 129/129 [00:11<00:00, 11.00it/s]\n",
      "Validation: 100%|██████████| 33/33 [00:00<00:00, 65.26it/s]\n"
     ]
    },
    {
     "name": "stdout",
     "output_type": "stream",
     "text": [
      "Epoch 6/50 | train loss: 7.130 | train acc: 0.041 | val loss: 7.554 | val acc: 0.015\n",
      "\u001b[36mNew best.\u001b[0m\n",
      "Validation accuracy increased (0.013494 --> 0.015388).  Saving model ...\n",
      "Epoch 7/50\n"
     ]
    },
    {
     "name": "stderr",
     "output_type": "stream",
     "text": [
      "Train: 100%|██████████| 129/129 [00:11<00:00, 11.05it/s]\n",
      "Validation: 100%|██████████| 33/33 [00:00<00:00, 61.43it/s]\n"
     ]
    },
    {
     "name": "stdout",
     "output_type": "stream",
     "text": [
      "Epoch 7/50 | train loss: 6.935 | train acc: 0.058 | val loss: 7.599 | val acc: 0.012\n",
      "EarlyStopping counter: 1 out of 2\n",
      "Epoch 8/50\n"
     ]
    },
    {
     "name": "stderr",
     "output_type": "stream",
     "text": [
      "Train: 100%|██████████| 129/129 [00:11<00:00, 11.02it/s]\n",
      "Validation: 100%|██████████| 33/33 [00:00<00:00, 70.86it/s]\n",
      "[I 2024-06-29 01:06:50,892] Trial 52 finished with value: 0.013383838398890064 and parameters: {'lowcut': 5.25384002250686, 'highcut': 56.5481579587521}. Best is trial 39 with value: 0.01950757575757576.\n"
     ]
    },
    {
     "name": "stdout",
     "output_type": "stream",
     "text": [
      "Epoch 8/50 | train loss: 6.743 | train acc: 0.078 | val loss: 7.662 | val acc: 0.014\n",
      "EarlyStopping counter: 2 out of 2\n",
      "Early stopping. Max Acc =  0.015388257575757576\n",
      "Max Acc =  0.015388257575757576\n",
      "Acc mean =  0.013383838398890064\n",
      "Start objective 53\n",
      "lowcut: 5.720300925535033, highcut: 57.31038632064463\n",
      "resample_data\n",
      "bandpass_filter\n",
      "standardize\n",
      "torch.Size([20540, 1, 271, 128])\n",
      "torch.Size([20540])\n",
      "Fold 1\n",
      "(tensor([[[ 0.0448, -1.4324, -1.1869,  ..., -0.8017, -2.0524, -0.0082],\n",
      "         [ 0.0238, -0.8891,  0.5496,  ..., -1.2501, -2.1086, -0.0385],\n",
      "         [-0.0055, -0.8657,  1.0332,  ..., -1.1781, -2.1463, -0.0523],\n",
      "         ...,\n",
      "         [ 0.0809, -0.6539, -1.1474,  ..., -0.0748,  0.6149,  0.0030],\n",
      "         [ 0.1089, -2.8910, -1.4933,  ..., -0.7195, -1.2759, -0.0185],\n",
      "         [ 0.0566, -0.8286, -1.1218,  ..., -0.9980, -0.0233,  0.0298]]]), tensor(1225))\n",
      "Epoch 1/50\n"
     ]
    },
    {
     "name": "stderr",
     "output_type": "stream",
     "text": [
      "Train: 100%|██████████| 129/129 [00:11<00:00, 11.04it/s]\n",
      "Validation: 100%|██████████| 33/33 [00:00<00:00, 62.83it/s]\n"
     ]
    },
    {
     "name": "stdout",
     "output_type": "stream",
     "text": [
      "Epoch 1/50 | train loss: 7.539 | train acc: 0.006 | val loss: 7.534 | val acc: 0.004\n",
      "Initial model for Fold 1 saved.\n",
      "\u001b[36mNew best.\u001b[0m\n",
      "Validation accuracy increased (-inf --> 0.004498).  Saving model ...\n",
      "Epoch 2/50\n"
     ]
    },
    {
     "name": "stderr",
     "output_type": "stream",
     "text": [
      "Train: 100%|██████████| 129/129 [00:11<00:00, 11.17it/s]\n",
      "Validation: 100%|██████████| 33/33 [00:00<00:00, 63.90it/s]\n"
     ]
    },
    {
     "name": "stdout",
     "output_type": "stream",
     "text": [
      "Epoch 2/50 | train loss: 7.539 | train acc: 0.006 | val loss: 7.542 | val acc: 0.009\n",
      "\u001b[36mNew best.\u001b[0m\n",
      "Validation accuracy increased (0.004498 --> 0.009233).  Saving model ...\n",
      "Epoch 3/50\n"
     ]
    },
    {
     "name": "stderr",
     "output_type": "stream",
     "text": [
      "Train: 100%|██████████| 129/129 [00:11<00:00, 11.13it/s]\n",
      "Validation: 100%|██████████| 33/33 [00:00<00:00, 67.36it/s]\n"
     ]
    },
    {
     "name": "stdout",
     "output_type": "stream",
     "text": [
      "Epoch 3/50 | train loss: 7.486 | train acc: 0.013 | val loss: 7.544 | val acc: 0.009\n",
      "EarlyStopping counter: 1 out of 2\n",
      "Epoch 4/50\n"
     ]
    },
    {
     "name": "stderr",
     "output_type": "stream",
     "text": [
      "Train: 100%|██████████| 129/129 [00:11<00:00, 11.14it/s]\n",
      "Validation: 100%|██████████| 33/33 [00:00<00:00, 86.55it/s]\n"
     ]
    },
    {
     "name": "stdout",
     "output_type": "stream",
     "text": [
      "Epoch 4/50 | train loss: 7.433 | train acc: 0.018 | val loss: 7.543 | val acc: 0.009\n",
      "EarlyStopping counter: 2 out of 2\n",
      "Early stopping. Max Acc =  0.009232954545454546\n",
      "Max Acc =  0.009232954545454546\n",
      "Fold 2\n",
      "(tensor([[[ 0.0448, -1.4324, -1.1869,  ..., -0.8017, -2.0524, -0.0082],\n",
      "         [ 0.0238, -0.8891,  0.5496,  ..., -1.2501, -2.1086, -0.0385],\n",
      "         [-0.0055, -0.8657,  1.0332,  ..., -1.1781, -2.1463, -0.0523],\n",
      "         ...,\n",
      "         [ 0.0809, -0.6539, -1.1474,  ..., -0.0748,  0.6149,  0.0030],\n",
      "         [ 0.1089, -2.8910, -1.4933,  ..., -0.7195, -1.2759, -0.0185],\n",
      "         [ 0.0566, -0.8286, -1.1218,  ..., -0.9980, -0.0233,  0.0298]]]), tensor(1225))\n",
      "Epoch 1/50\n"
     ]
    },
    {
     "name": "stderr",
     "output_type": "stream",
     "text": [
      "Train: 100%|██████████| 129/129 [00:11<00:00, 11.12it/s]\n",
      "Validation: 100%|██████████| 33/33 [00:00<00:00, 60.74it/s]\n"
     ]
    },
    {
     "name": "stdout",
     "output_type": "stream",
     "text": [
      "Epoch 1/50 | train loss: 7.541 | train acc: 0.005 | val loss: 7.529 | val acc: 0.004\n",
      "Initial model for Fold 2 saved.\n",
      "\u001b[36mNew best.\u001b[0m\n",
      "Validation accuracy increased (-inf --> 0.004261).  Saving model ...\n",
      "Epoch 2/50\n"
     ]
    },
    {
     "name": "stderr",
     "output_type": "stream",
     "text": [
      "Train: 100%|██████████| 129/129 [00:11<00:00, 11.07it/s]\n",
      "Validation: 100%|██████████| 33/33 [00:00<00:00, 67.79it/s]\n"
     ]
    },
    {
     "name": "stdout",
     "output_type": "stream",
     "text": [
      "Epoch 2/50 | train loss: 7.537 | train acc: 0.006 | val loss: 7.540 | val acc: 0.004\n",
      "EarlyStopping counter: 1 out of 2\n",
      "Epoch 3/50\n"
     ]
    },
    {
     "name": "stderr",
     "output_type": "stream",
     "text": [
      "Train: 100%|██████████| 129/129 [00:11<00:00, 11.04it/s]\n",
      "Validation: 100%|██████████| 33/33 [00:00<00:00, 65.56it/s]\n"
     ]
    },
    {
     "name": "stdout",
     "output_type": "stream",
     "text": [
      "Epoch 3/50 | train loss: 7.480 | train acc: 0.014 | val loss: 7.554 | val acc: 0.006\n",
      "\u001b[36mNew best.\u001b[0m\n",
      "Validation accuracy increased (0.004261 --> 0.005682).  Saving model ...\n",
      "Epoch 4/50\n"
     ]
    },
    {
     "name": "stderr",
     "output_type": "stream",
     "text": [
      "Train: 100%|██████████| 129/129 [00:11<00:00, 11.00it/s]\n",
      "Validation: 100%|██████████| 33/33 [00:00<00:00, 69.66it/s]\n"
     ]
    },
    {
     "name": "stdout",
     "output_type": "stream",
     "text": [
      "Epoch 4/50 | train loss: 7.423 | train acc: 0.019 | val loss: 7.554 | val acc: 0.007\n",
      "\u001b[36mNew best.\u001b[0m\n",
      "Validation accuracy increased (0.005682 --> 0.006866).  Saving model ...\n",
      "Epoch 5/50\n"
     ]
    },
    {
     "name": "stderr",
     "output_type": "stream",
     "text": [
      "Train: 100%|██████████| 129/129 [00:11<00:00, 11.08it/s]\n",
      "Validation: 100%|██████████| 33/33 [00:00<00:00, 61.92it/s]\n"
     ]
    },
    {
     "name": "stdout",
     "output_type": "stream",
     "text": [
      "Epoch 5/50 | train loss: 7.319 | train acc: 0.027 | val loss: 7.533 | val acc: 0.011\n",
      "\u001b[36mNew best.\u001b[0m\n",
      "Validation accuracy increased (0.006866 --> 0.010890).  Saving model ...\n",
      "Epoch 6/50\n"
     ]
    },
    {
     "name": "stderr",
     "output_type": "stream",
     "text": [
      "Train: 100%|██████████| 129/129 [00:11<00:00, 11.03it/s]\n",
      "Validation: 100%|██████████| 33/33 [00:00<00:00, 83.49it/s]\n"
     ]
    },
    {
     "name": "stdout",
     "output_type": "stream",
     "text": [
      "Epoch 6/50 | train loss: 7.150 | train acc: 0.040 | val loss: 7.549 | val acc: 0.013\n",
      "\u001b[36mNew best.\u001b[0m\n",
      "Validation accuracy increased (0.010890 --> 0.013021).  Saving model ...\n",
      "Epoch 7/50\n"
     ]
    },
    {
     "name": "stderr",
     "output_type": "stream",
     "text": [
      "Train: 100%|██████████| 129/129 [00:11<00:00, 11.09it/s]\n",
      "Validation: 100%|██████████| 33/33 [00:00<00:00, 76.95it/s]\n"
     ]
    },
    {
     "name": "stdout",
     "output_type": "stream",
     "text": [
      "Epoch 7/50 | train loss: 6.959 | train acc: 0.057 | val loss: 7.591 | val acc: 0.012\n",
      "EarlyStopping counter: 1 out of 2\n",
      "Epoch 8/50\n"
     ]
    },
    {
     "name": "stderr",
     "output_type": "stream",
     "text": [
      "Train: 100%|██████████| 129/129 [00:11<00:00, 11.07it/s]\n",
      "Validation: 100%|██████████| 33/33 [00:00<00:00, 81.45it/s]\n"
     ]
    },
    {
     "name": "stdout",
     "output_type": "stream",
     "text": [
      "Epoch 8/50 | train loss: 6.765 | train acc: 0.078 | val loss: 7.684 | val acc: 0.013\n",
      "EarlyStopping counter: 2 out of 2\n",
      "Early stopping. Max Acc =  0.013020833333333334\n",
      "Max Acc =  0.013020833333333334\n",
      "Fold 3\n",
      "(tensor([[[ 0.0448, -1.4324, -1.1869,  ..., -0.8017, -2.0524, -0.0082],\n",
      "         [ 0.0238, -0.8891,  0.5496,  ..., -1.2501, -2.1086, -0.0385],\n",
      "         [-0.0055, -0.8657,  1.0332,  ..., -1.1781, -2.1463, -0.0523],\n",
      "         ...,\n",
      "         [ 0.0809, -0.6539, -1.1474,  ..., -0.0748,  0.6149,  0.0030],\n",
      "         [ 0.1089, -2.8910, -1.4933,  ..., -0.7195, -1.2759, -0.0185],\n",
      "         [ 0.0566, -0.8286, -1.1218,  ..., -0.9980, -0.0233,  0.0298]]]), tensor(1225))\n",
      "Epoch 1/50\n"
     ]
    },
    {
     "name": "stderr",
     "output_type": "stream",
     "text": [
      "Train: 100%|██████████| 129/129 [00:11<00:00, 11.05it/s]\n",
      "Validation: 100%|██████████| 33/33 [00:00<00:00, 61.83it/s]\n"
     ]
    },
    {
     "name": "stdout",
     "output_type": "stream",
     "text": [
      "Epoch 1/50 | train loss: 7.540 | train acc: 0.005 | val loss: 7.535 | val acc: 0.006\n",
      "Initial model for Fold 3 saved.\n",
      "\u001b[36mNew best.\u001b[0m\n",
      "Validation accuracy increased (-inf --> 0.005682).  Saving model ...\n",
      "Epoch 2/50\n"
     ]
    },
    {
     "name": "stderr",
     "output_type": "stream",
     "text": [
      "Train: 100%|██████████| 129/129 [00:11<00:00, 10.97it/s]\n",
      "Validation: 100%|██████████| 33/33 [00:00<00:00, 67.30it/s]\n"
     ]
    },
    {
     "name": "stdout",
     "output_type": "stream",
     "text": [
      "Epoch 2/50 | train loss: 7.537 | train acc: 0.006 | val loss: 7.542 | val acc: 0.005\n",
      "EarlyStopping counter: 1 out of 2\n",
      "Epoch 3/50\n"
     ]
    },
    {
     "name": "stderr",
     "output_type": "stream",
     "text": [
      "Train: 100%|██████████| 129/129 [00:11<00:00, 10.97it/s]\n",
      "Validation: 100%|██████████| 33/33 [00:00<00:00, 66.67it/s]\n"
     ]
    },
    {
     "name": "stdout",
     "output_type": "stream",
     "text": [
      "Epoch 3/50 | train loss: 7.485 | train acc: 0.013 | val loss: 7.546 | val acc: 0.005\n",
      "EarlyStopping counter: 2 out of 2\n",
      "Early stopping. Max Acc =  0.005681818181818182\n",
      "Max Acc =  0.005681818181818182\n",
      "Fold 4\n",
      "(tensor([[[ 0.0448, -1.4324, -1.1869,  ..., -0.8017, -2.0524, -0.0082],\n",
      "         [ 0.0238, -0.8891,  0.5496,  ..., -1.2501, -2.1086, -0.0385],\n",
      "         [-0.0055, -0.8657,  1.0332,  ..., -1.1781, -2.1463, -0.0523],\n",
      "         ...,\n",
      "         [ 0.0809, -0.6539, -1.1474,  ..., -0.0748,  0.6149,  0.0030],\n",
      "         [ 0.1089, -2.8910, -1.4933,  ..., -0.7195, -1.2759, -0.0185],\n",
      "         [ 0.0566, -0.8286, -1.1218,  ..., -0.9980, -0.0233,  0.0298]]]), tensor(1225))\n",
      "Epoch 1/50\n"
     ]
    },
    {
     "name": "stderr",
     "output_type": "stream",
     "text": [
      "Train: 100%|██████████| 129/129 [00:11<00:00, 11.09it/s]\n",
      "Validation: 100%|██████████| 33/33 [00:00<00:00, 64.91it/s]\n"
     ]
    },
    {
     "name": "stdout",
     "output_type": "stream",
     "text": [
      "Epoch 1/50 | train loss: 7.541 | train acc: 0.005 | val loss: 7.533 | val acc: 0.005\n",
      "Initial model for Fold 4 saved.\n",
      "\u001b[36mNew best.\u001b[0m\n",
      "Validation accuracy increased (-inf --> 0.004735).  Saving model ...\n",
      "Epoch 2/50\n"
     ]
    },
    {
     "name": "stderr",
     "output_type": "stream",
     "text": [
      "Train: 100%|██████████| 129/129 [00:11<00:00, 11.03it/s]\n",
      "Validation: 100%|██████████| 33/33 [00:00<00:00, 65.22it/s]\n"
     ]
    },
    {
     "name": "stdout",
     "output_type": "stream",
     "text": [
      "Epoch 2/50 | train loss: 7.538 | train acc: 0.007 | val loss: 7.542 | val acc: 0.007\n",
      "\u001b[36mNew best.\u001b[0m\n",
      "Validation accuracy increased (0.004735 --> 0.007102).  Saving model ...\n",
      "Epoch 3/50\n"
     ]
    },
    {
     "name": "stderr",
     "output_type": "stream",
     "text": [
      "Train: 100%|██████████| 129/129 [00:11<00:00, 11.02it/s]\n",
      "Validation: 100%|██████████| 33/33 [00:00<00:00, 65.44it/s]\n"
     ]
    },
    {
     "name": "stdout",
     "output_type": "stream",
     "text": [
      "Epoch 3/50 | train loss: 7.481 | train acc: 0.014 | val loss: 7.554 | val acc: 0.006\n",
      "EarlyStopping counter: 1 out of 2\n",
      "Epoch 4/50\n"
     ]
    },
    {
     "name": "stderr",
     "output_type": "stream",
     "text": [
      "Train: 100%|██████████| 129/129 [00:11<00:00, 11.01it/s]\n",
      "Validation: 100%|██████████| 33/33 [00:00<00:00, 68.95it/s]\n"
     ]
    },
    {
     "name": "stdout",
     "output_type": "stream",
     "text": [
      "Epoch 4/50 | train loss: 7.418 | train acc: 0.019 | val loss: 7.575 | val acc: 0.009\n",
      "\u001b[36mNew best.\u001b[0m\n",
      "Validation accuracy increased (0.007102 --> 0.008523).  Saving model ...\n",
      "Epoch 5/50\n"
     ]
    },
    {
     "name": "stderr",
     "output_type": "stream",
     "text": [
      "Train: 100%|██████████| 129/129 [00:11<00:00, 11.04it/s]\n",
      "Validation: 100%|██████████| 33/33 [00:00<00:00, 68.07it/s]\n"
     ]
    },
    {
     "name": "stdout",
     "output_type": "stream",
     "text": [
      "Epoch 5/50 | train loss: 7.303 | train acc: 0.027 | val loss: 7.606 | val acc: 0.010\n",
      "\u001b[36mNew best.\u001b[0m\n",
      "Validation accuracy increased (0.008523 --> 0.010417).  Saving model ...\n",
      "Epoch 6/50\n"
     ]
    },
    {
     "name": "stderr",
     "output_type": "stream",
     "text": [
      "Train: 100%|██████████| 129/129 [00:11<00:00, 11.07it/s]\n",
      "Validation: 100%|██████████| 33/33 [00:00<00:00, 76.22it/s]\n"
     ]
    },
    {
     "name": "stdout",
     "output_type": "stream",
     "text": [
      "Epoch 6/50 | train loss: 7.113 | train acc: 0.044 | val loss: 7.656 | val acc: 0.012\n",
      "\u001b[36mNew best.\u001b[0m\n",
      "Validation accuracy increased (0.010417 --> 0.011837).  Saving model ...\n",
      "Epoch 7/50\n"
     ]
    },
    {
     "name": "stderr",
     "output_type": "stream",
     "text": [
      "Train: 100%|██████████| 129/129 [00:11<00:00, 11.03it/s]\n",
      "Validation: 100%|██████████| 33/33 [00:00<00:00, 67.28it/s]\n"
     ]
    },
    {
     "name": "stdout",
     "output_type": "stream",
     "text": [
      "Epoch 7/50 | train loss: 6.896 | train acc: 0.066 | val loss: 7.704 | val acc: 0.013\n",
      "\u001b[36mNew best.\u001b[0m\n",
      "Validation accuracy increased (0.011837 --> 0.012784).  Saving model ...\n",
      "Epoch 8/50\n"
     ]
    },
    {
     "name": "stderr",
     "output_type": "stream",
     "text": [
      "Train: 100%|██████████| 129/129 [00:11<00:00, 10.93it/s]\n",
      "Validation: 100%|██████████| 33/33 [00:00<00:00, 59.03it/s]\n"
     ]
    },
    {
     "name": "stdout",
     "output_type": "stream",
     "text": [
      "Epoch 8/50 | train loss: 6.683 | train acc: 0.092 | val loss: 7.796 | val acc: 0.012\n",
      "EarlyStopping counter: 1 out of 2\n",
      "Epoch 9/50\n"
     ]
    },
    {
     "name": "stderr",
     "output_type": "stream",
     "text": [
      "Train: 100%|██████████| 129/129 [00:11<00:00, 10.99it/s]\n",
      "Validation: 100%|██████████| 33/33 [00:00<00:00, 60.88it/s]\n"
     ]
    },
    {
     "name": "stdout",
     "output_type": "stream",
     "text": [
      "Epoch 9/50 | train loss: 6.469 | train acc: 0.119 | val loss: 7.900 | val acc: 0.011\n",
      "EarlyStopping counter: 2 out of 2\n",
      "Early stopping. Max Acc =  0.01278409090909091\n",
      "Max Acc =  0.01278409090909091\n",
      "Fold 5\n",
      "(tensor([[[ 0.0448, -1.4324, -1.1869,  ..., -0.8017, -2.0524, -0.0082],\n",
      "         [ 0.0238, -0.8891,  0.5496,  ..., -1.2501, -2.1086, -0.0385],\n",
      "         [-0.0055, -0.8657,  1.0332,  ..., -1.1781, -2.1463, -0.0523],\n",
      "         ...,\n",
      "         [ 0.0809, -0.6539, -1.1474,  ..., -0.0748,  0.6149,  0.0030],\n",
      "         [ 0.1089, -2.8910, -1.4933,  ..., -0.7195, -1.2759, -0.0185],\n",
      "         [ 0.0566, -0.8286, -1.1218,  ..., -0.9980, -0.0233,  0.0298]]]), tensor(1225))\n",
      "Epoch 1/50\n"
     ]
    },
    {
     "name": "stderr",
     "output_type": "stream",
     "text": [
      "Train: 100%|██████████| 129/129 [00:11<00:00, 10.94it/s]\n",
      "Validation: 100%|██████████| 33/33 [00:00<00:00, 68.79it/s]\n"
     ]
    },
    {
     "name": "stdout",
     "output_type": "stream",
     "text": [
      "Epoch 1/50 | train loss: 7.544 | train acc: 0.005 | val loss: 7.537 | val acc: 0.007\n",
      "Initial model for Fold 5 saved.\n",
      "\u001b[36mNew best.\u001b[0m\n",
      "Validation accuracy increased (-inf --> 0.007260).  Saving model ...\n",
      "Epoch 2/50\n"
     ]
    },
    {
     "name": "stderr",
     "output_type": "stream",
     "text": [
      "Train: 100%|██████████| 129/129 [00:11<00:00, 10.95it/s]\n",
      "Validation: 100%|██████████| 33/33 [00:00<00:00, 64.78it/s]\n"
     ]
    },
    {
     "name": "stdout",
     "output_type": "stream",
     "text": [
      "Epoch 2/50 | train loss: 7.538 | train acc: 0.007 | val loss: 7.544 | val acc: 0.007\n",
      "EarlyStopping counter: 1 out of 2\n",
      "Epoch 3/50\n"
     ]
    },
    {
     "name": "stderr",
     "output_type": "stream",
     "text": [
      "Train: 100%|██████████| 129/129 [00:11<00:00, 10.99it/s]\n",
      "Validation: 100%|██████████| 33/33 [00:00<00:00, 59.85it/s]\n"
     ]
    },
    {
     "name": "stdout",
     "output_type": "stream",
     "text": [
      "Epoch 3/50 | train loss: 7.480 | train acc: 0.014 | val loss: 7.554 | val acc: 0.007\n",
      "EarlyStopping counter: 2 out of 2\n",
      "Early stopping. Max Acc =  0.0072601010853594\n",
      "Max Acc =  0.0072601010853594\n",
      "Acc mean =  0.009595959611011274\n"
     ]
    },
    {
     "name": "stderr",
     "output_type": "stream",
     "text": [
      "[I 2024-06-29 01:13:07,072] Trial 53 finished with value: 0.009595959611011274 and parameters: {'lowcut': 5.720300925535033, 'highcut': 57.31038632064463}. Best is trial 39 with value: 0.01950757575757576.\n"
     ]
    },
    {
     "name": "stdout",
     "output_type": "stream",
     "text": [
      "Start objective 54\n",
      "lowcut: 8.18455029183594, highcut: 49.46873683396802\n",
      "resample_data\n",
      "bandpass_filter\n",
      "standardize\n",
      "torch.Size([20540, 1, 271, 128])\n",
      "torch.Size([20540])\n",
      "Fold 1\n",
      "(tensor([[[ 0.0163, -1.4823, -1.1019,  ..., -0.9761, -2.1840,  0.0801],\n",
      "         [ 0.0146, -0.7767,  0.2983,  ..., -1.1568, -2.2034,  0.0671],\n",
      "         [ 0.0215, -0.8939,  0.7549,  ..., -0.8589, -2.2960,  0.0477],\n",
      "         ...,\n",
      "         [ 0.0273, -0.3128, -1.0897,  ...,  0.1931,  0.7930,  0.0497],\n",
      "         [ 0.0440, -2.7838, -2.1340,  ..., -0.4093, -0.9686,  0.0846],\n",
      "         [ 0.0408, -0.5316, -0.7633,  ..., -0.6714,  0.2822,  0.0298]]]), tensor(1225))\n",
      "Epoch 1/50\n"
     ]
    },
    {
     "name": "stderr",
     "output_type": "stream",
     "text": [
      "Train: 100%|██████████| 129/129 [00:11<00:00, 11.02it/s]\n",
      "Validation: 100%|██████████| 33/33 [00:00<00:00, 68.12it/s]\n"
     ]
    },
    {
     "name": "stdout",
     "output_type": "stream",
     "text": [
      "Epoch 1/50 | train loss: 7.543 | train acc: 0.006 | val loss: 7.537 | val acc: 0.005\n",
      "Initial model for Fold 1 saved.\n",
      "\u001b[36mNew best.\u001b[0m\n",
      "Validation accuracy increased (-inf --> 0.005445).  Saving model ...\n",
      "Epoch 2/50\n"
     ]
    },
    {
     "name": "stderr",
     "output_type": "stream",
     "text": [
      "Train: 100%|██████████| 129/129 [00:11<00:00, 11.03it/s]\n",
      "Validation: 100%|██████████| 33/33 [00:00<00:00, 72.77it/s]\n"
     ]
    },
    {
     "name": "stdout",
     "output_type": "stream",
     "text": [
      "Epoch 2/50 | train loss: 7.541 | train acc: 0.006 | val loss: 7.542 | val acc: 0.007\n",
      "\u001b[36mNew best.\u001b[0m\n",
      "Validation accuracy increased (0.005445 --> 0.006866).  Saving model ...\n",
      "Epoch 3/50\n"
     ]
    },
    {
     "name": "stderr",
     "output_type": "stream",
     "text": [
      "Train: 100%|██████████| 129/129 [00:11<00:00, 11.01it/s]\n",
      "Validation: 100%|██████████| 33/33 [00:00<00:00, 65.42it/s]\n"
     ]
    },
    {
     "name": "stdout",
     "output_type": "stream",
     "text": [
      "Epoch 3/50 | train loss: 7.488 | train acc: 0.013 | val loss: 7.551 | val acc: 0.007\n",
      "\u001b[36mNew best.\u001b[0m\n",
      "Validation accuracy increased (0.006866 --> 0.007339).  Saving model ...\n",
      "Epoch 4/50\n"
     ]
    },
    {
     "name": "stderr",
     "output_type": "stream",
     "text": [
      "Train: 100%|██████████| 129/129 [00:11<00:00, 11.03it/s]\n",
      "Validation: 100%|██████████| 33/33 [00:00<00:00, 75.60it/s]\n"
     ]
    },
    {
     "name": "stdout",
     "output_type": "stream",
     "text": [
      "Epoch 4/50 | train loss: 7.436 | train acc: 0.017 | val loss: 7.561 | val acc: 0.008\n",
      "\u001b[36mNew best.\u001b[0m\n",
      "Validation accuracy increased (0.007339 --> 0.007812).  Saving model ...\n",
      "Epoch 5/50\n"
     ]
    },
    {
     "name": "stderr",
     "output_type": "stream",
     "text": [
      "Train: 100%|██████████| 129/129 [00:11<00:00, 11.06it/s]\n",
      "Validation: 100%|██████████| 33/33 [00:00<00:00, 68.37it/s]\n"
     ]
    },
    {
     "name": "stdout",
     "output_type": "stream",
     "text": [
      "Epoch 5/50 | train loss: 7.350 | train acc: 0.023 | val loss: 7.604 | val acc: 0.010\n",
      "\u001b[36mNew best.\u001b[0m\n",
      "Validation accuracy increased (0.007812 --> 0.010338).  Saving model ...\n",
      "Epoch 6/50\n"
     ]
    },
    {
     "name": "stderr",
     "output_type": "stream",
     "text": [
      "Train: 100%|██████████| 129/129 [00:11<00:00, 11.03it/s]\n",
      "Validation: 100%|██████████| 33/33 [00:00<00:00, 63.73it/s]\n"
     ]
    },
    {
     "name": "stdout",
     "output_type": "stream",
     "text": [
      "Epoch 6/50 | train loss: 7.200 | train acc: 0.035 | val loss: 7.679 | val acc: 0.009\n",
      "EarlyStopping counter: 1 out of 2\n",
      "Epoch 7/50\n"
     ]
    },
    {
     "name": "stderr",
     "output_type": "stream",
     "text": [
      "Train: 100%|██████████| 129/129 [00:11<00:00, 11.01it/s]\n",
      "Validation: 100%|██████████| 33/33 [00:00<00:00, 67.51it/s]\n"
     ]
    },
    {
     "name": "stdout",
     "output_type": "stream",
     "text": [
      "Epoch 7/50 | train loss: 7.008 | train acc: 0.058 | val loss: 7.759 | val acc: 0.008\n",
      "EarlyStopping counter: 2 out of 2\n",
      "Early stopping. Max Acc =  0.010337752600510916\n",
      "Max Acc =  0.010337752600510916\n",
      "Fold 2\n",
      "(tensor([[[ 0.0163, -1.4823, -1.1019,  ..., -0.9761, -2.1840,  0.0801],\n",
      "         [ 0.0146, -0.7767,  0.2983,  ..., -1.1568, -2.2034,  0.0671],\n",
      "         [ 0.0215, -0.8939,  0.7549,  ..., -0.8589, -2.2960,  0.0477],\n",
      "         ...,\n",
      "         [ 0.0273, -0.3128, -1.0897,  ...,  0.1931,  0.7930,  0.0497],\n",
      "         [ 0.0440, -2.7838, -2.1340,  ..., -0.4093, -0.9686,  0.0846],\n",
      "         [ 0.0408, -0.5316, -0.7633,  ..., -0.6714,  0.2822,  0.0298]]]), tensor(1225))\n",
      "Epoch 1/50\n"
     ]
    },
    {
     "name": "stderr",
     "output_type": "stream",
     "text": [
      "Train: 100%|██████████| 129/129 [00:11<00:00, 10.99it/s]\n",
      "Validation: 100%|██████████| 33/33 [00:00<00:00, 75.49it/s]\n"
     ]
    },
    {
     "name": "stdout",
     "output_type": "stream",
     "text": [
      "Epoch 1/50 | train loss: 7.542 | train acc: 0.004 | val loss: 7.535 | val acc: 0.005\n",
      "Initial model for Fold 2 saved.\n",
      "\u001b[36mNew best.\u001b[0m\n",
      "Validation accuracy increased (-inf --> 0.004735).  Saving model ...\n",
      "Epoch 2/50\n"
     ]
    },
    {
     "name": "stderr",
     "output_type": "stream",
     "text": [
      "Train: 100%|██████████| 129/129 [00:11<00:00, 10.97it/s]\n",
      "Validation: 100%|██████████| 33/33 [00:00<00:00, 67.56it/s]\n"
     ]
    },
    {
     "name": "stdout",
     "output_type": "stream",
     "text": [
      "Epoch 2/50 | train loss: 7.538 | train acc: 0.007 | val loss: 7.545 | val acc: 0.010\n",
      "\u001b[36mNew best.\u001b[0m\n",
      "Validation accuracy increased (0.004735 --> 0.009706).  Saving model ...\n",
      "Epoch 3/50\n"
     ]
    },
    {
     "name": "stderr",
     "output_type": "stream",
     "text": [
      "Train: 100%|██████████| 129/129 [00:11<00:00, 11.01it/s]\n",
      "Validation: 100%|██████████| 33/33 [00:00<00:00, 66.05it/s]\n"
     ]
    },
    {
     "name": "stdout",
     "output_type": "stream",
     "text": [
      "Epoch 3/50 | train loss: 7.480 | train acc: 0.012 | val loss: 7.566 | val acc: 0.008\n",
      "EarlyStopping counter: 1 out of 2\n",
      "Epoch 4/50\n"
     ]
    },
    {
     "name": "stderr",
     "output_type": "stream",
     "text": [
      "Train: 100%|██████████| 129/129 [00:11<00:00, 11.00it/s]\n",
      "Validation: 100%|██████████| 33/33 [00:00<00:00, 69.44it/s]\n"
     ]
    },
    {
     "name": "stdout",
     "output_type": "stream",
     "text": [
      "Epoch 4/50 | train loss: 7.422 | train acc: 0.020 | val loss: 7.575 | val acc: 0.009\n",
      "EarlyStopping counter: 2 out of 2\n",
      "Early stopping. Max Acc =  0.009706439393939394\n",
      "Max Acc =  0.009706439393939394\n",
      "Fold 3\n",
      "(tensor([[[ 0.0163, -1.4823, -1.1019,  ..., -0.9761, -2.1840,  0.0801],\n",
      "         [ 0.0146, -0.7767,  0.2983,  ..., -1.1568, -2.2034,  0.0671],\n",
      "         [ 0.0215, -0.8939,  0.7549,  ..., -0.8589, -2.2960,  0.0477],\n",
      "         ...,\n",
      "         [ 0.0273, -0.3128, -1.0897,  ...,  0.1931,  0.7930,  0.0497],\n",
      "         [ 0.0440, -2.7838, -2.1340,  ..., -0.4093, -0.9686,  0.0846],\n",
      "         [ 0.0408, -0.5316, -0.7633,  ..., -0.6714,  0.2822,  0.0298]]]), tensor(1225))\n",
      "Epoch 1/50\n"
     ]
    },
    {
     "name": "stderr",
     "output_type": "stream",
     "text": [
      "Train: 100%|██████████| 129/129 [00:11<00:00, 10.96it/s]\n",
      "Validation: 100%|██████████| 33/33 [00:00<00:00, 71.74it/s]\n"
     ]
    },
    {
     "name": "stdout",
     "output_type": "stream",
     "text": [
      "Epoch 1/50 | train loss: 7.540 | train acc: 0.006 | val loss: 7.534 | val acc: 0.007\n",
      "Initial model for Fold 3 saved.\n",
      "\u001b[36mNew best.\u001b[0m\n",
      "Validation accuracy increased (-inf --> 0.006550).  Saving model ...\n",
      "Epoch 2/50\n"
     ]
    },
    {
     "name": "stderr",
     "output_type": "stream",
     "text": [
      "Train: 100%|██████████| 129/129 [00:11<00:00, 10.99it/s]\n",
      "Validation: 100%|██████████| 33/33 [00:00<00:00, 62.22it/s]\n"
     ]
    },
    {
     "name": "stdout",
     "output_type": "stream",
     "text": [
      "Epoch 2/50 | train loss: 7.539 | train acc: 0.006 | val loss: 7.536 | val acc: 0.010\n",
      "\u001b[36mNew best.\u001b[0m\n",
      "Validation accuracy increased (0.006550 --> 0.009628).  Saving model ...\n",
      "Epoch 3/50\n"
     ]
    },
    {
     "name": "stderr",
     "output_type": "stream",
     "text": [
      "Train: 100%|██████████| 129/129 [00:11<00:00, 10.98it/s]\n",
      "Validation: 100%|██████████| 33/33 [00:00<00:00, 67.86it/s]\n"
     ]
    },
    {
     "name": "stdout",
     "output_type": "stream",
     "text": [
      "Epoch 3/50 | train loss: 7.484 | train acc: 0.012 | val loss: 7.546 | val acc: 0.010\n",
      "Validation accuracy increased (0.009628 --> 0.009628).  Saving model ...\n",
      "Epoch 4/50\n"
     ]
    },
    {
     "name": "stderr",
     "output_type": "stream",
     "text": [
      "Train: 100%|██████████| 129/129 [00:11<00:00, 11.09it/s]\n",
      "Validation: 100%|██████████| 33/33 [00:00<00:00, 66.29it/s]\n"
     ]
    },
    {
     "name": "stdout",
     "output_type": "stream",
     "text": [
      "Epoch 4/50 | train loss: 7.432 | train acc: 0.020 | val loss: 7.543 | val acc: 0.011\n",
      "\u001b[36mNew best.\u001b[0m\n",
      "Validation accuracy increased (0.009628 --> 0.010811).  Saving model ...\n",
      "Epoch 5/50\n"
     ]
    },
    {
     "name": "stderr",
     "output_type": "stream",
     "text": [
      "Train: 100%|██████████| 129/129 [00:11<00:00, 11.00it/s]\n",
      "Validation: 100%|██████████| 33/33 [00:00<00:00, 66.55it/s]\n"
     ]
    },
    {
     "name": "stdout",
     "output_type": "stream",
     "text": [
      "Epoch 5/50 | train loss: 7.333 | train acc: 0.029 | val loss: 7.536 | val acc: 0.016\n",
      "\u001b[36mNew best.\u001b[0m\n",
      "Validation accuracy increased (0.010811 --> 0.016335).  Saving model ...\n",
      "Epoch 6/50\n"
     ]
    },
    {
     "name": "stderr",
     "output_type": "stream",
     "text": [
      "Train: 100%|██████████| 129/129 [00:11<00:00, 10.94it/s]\n",
      "Validation: 100%|██████████| 33/33 [00:00<00:00, 70.00it/s]\n"
     ]
    },
    {
     "name": "stdout",
     "output_type": "stream",
     "text": [
      "Epoch 6/50 | train loss: 7.151 | train acc: 0.039 | val loss: 7.526 | val acc: 0.016\n",
      "Validation accuracy increased (0.016335 --> 0.016335).  Saving model ...\n",
      "Epoch 7/50\n"
     ]
    },
    {
     "name": "stderr",
     "output_type": "stream",
     "text": [
      "Train: 100%|██████████| 129/129 [00:11<00:00, 10.94it/s]\n",
      "Validation: 100%|██████████| 33/33 [00:00<00:00, 62.09it/s]\n"
     ]
    },
    {
     "name": "stdout",
     "output_type": "stream",
     "text": [
      "Epoch 7/50 | train loss: 6.929 | train acc: 0.060 | val loss: 7.593 | val acc: 0.016\n",
      "EarlyStopping counter: 1 out of 2\n",
      "Epoch 8/50\n"
     ]
    },
    {
     "name": "stderr",
     "output_type": "stream",
     "text": [
      "Train: 100%|██████████| 129/129 [00:11<00:00, 10.95it/s]\n",
      "Validation: 100%|██████████| 33/33 [00:00<00:00, 60.17it/s]\n"
     ]
    },
    {
     "name": "stdout",
     "output_type": "stream",
     "text": [
      "Epoch 8/50 | train loss: 6.703 | train acc: 0.089 | val loss: 7.709 | val acc: 0.012\n",
      "EarlyStopping counter: 2 out of 2\n",
      "Early stopping. Max Acc =  0.016335227272727272\n",
      "Max Acc =  0.016335227272727272\n",
      "Fold 4\n",
      "(tensor([[[ 0.0163, -1.4823, -1.1019,  ..., -0.9761, -2.1840,  0.0801],\n",
      "         [ 0.0146, -0.7767,  0.2983,  ..., -1.1568, -2.2034,  0.0671],\n",
      "         [ 0.0215, -0.8939,  0.7549,  ..., -0.8589, -2.2960,  0.0477],\n",
      "         ...,\n",
      "         [ 0.0273, -0.3128, -1.0897,  ...,  0.1931,  0.7930,  0.0497],\n",
      "         [ 0.0440, -2.7838, -2.1340,  ..., -0.4093, -0.9686,  0.0846],\n",
      "         [ 0.0408, -0.5316, -0.7633,  ..., -0.6714,  0.2822,  0.0298]]]), tensor(1225))\n",
      "Epoch 1/50\n"
     ]
    },
    {
     "name": "stderr",
     "output_type": "stream",
     "text": [
      "Train: 100%|██████████| 129/129 [00:11<00:00, 10.94it/s]\n",
      "Validation: 100%|██████████| 33/33 [00:00<00:00, 68.64it/s]\n"
     ]
    },
    {
     "name": "stdout",
     "output_type": "stream",
     "text": [
      "Epoch 1/50 | train loss: 7.541 | train acc: 0.005 | val loss: 7.532 | val acc: 0.005\n",
      "Initial model for Fold 4 saved.\n",
      "\u001b[36mNew best.\u001b[0m\n",
      "Validation accuracy increased (-inf --> 0.004972).  Saving model ...\n",
      "Epoch 2/50\n"
     ]
    },
    {
     "name": "stderr",
     "output_type": "stream",
     "text": [
      "Train: 100%|██████████| 129/129 [00:11<00:00, 10.95it/s]\n",
      "Validation: 100%|██████████| 33/33 [00:00<00:00, 74.47it/s]\n"
     ]
    },
    {
     "name": "stdout",
     "output_type": "stream",
     "text": [
      "Epoch 2/50 | train loss: 7.537 | train acc: 0.006 | val loss: 7.547 | val acc: 0.006\n",
      "\u001b[36mNew best.\u001b[0m\n",
      "Validation accuracy increased (0.004972 --> 0.006155).  Saving model ...\n",
      "Epoch 3/50\n"
     ]
    },
    {
     "name": "stderr",
     "output_type": "stream",
     "text": [
      "Train: 100%|██████████| 129/129 [00:11<00:00, 11.00it/s]\n",
      "Validation: 100%|██████████| 33/33 [00:00<00:00, 72.88it/s]\n"
     ]
    },
    {
     "name": "stdout",
     "output_type": "stream",
     "text": [
      "Epoch 3/50 | train loss: 7.482 | train acc: 0.012 | val loss: 7.562 | val acc: 0.010\n",
      "\u001b[36mNew best.\u001b[0m\n",
      "Validation accuracy increased (0.006155 --> 0.009628).  Saving model ...\n",
      "Epoch 4/50\n"
     ]
    },
    {
     "name": "stderr",
     "output_type": "stream",
     "text": [
      "Train: 100%|██████████| 129/129 [00:11<00:00, 11.04it/s]\n",
      "Validation: 100%|██████████| 33/33 [00:00<00:00, 61.87it/s]\n"
     ]
    },
    {
     "name": "stdout",
     "output_type": "stream",
     "text": [
      "Epoch 4/50 | train loss: 7.421 | train acc: 0.019 | val loss: 7.578 | val acc: 0.008\n",
      "EarlyStopping counter: 1 out of 2\n",
      "Epoch 5/50\n"
     ]
    },
    {
     "name": "stderr",
     "output_type": "stream",
     "text": [
      "Train: 100%|██████████| 129/129 [00:11<00:00, 10.96it/s]\n",
      "Validation: 100%|██████████| 33/33 [00:00<00:00, 72.92it/s]\n"
     ]
    },
    {
     "name": "stdout",
     "output_type": "stream",
     "text": [
      "Epoch 5/50 | train loss: 7.316 | train acc: 0.024 | val loss: 7.628 | val acc: 0.007\n",
      "EarlyStopping counter: 2 out of 2\n",
      "Early stopping. Max Acc =  0.009627525327783642\n",
      "Max Acc =  0.009627525327783642\n",
      "Fold 5\n",
      "(tensor([[[ 0.0163, -1.4823, -1.1019,  ..., -0.9761, -2.1840,  0.0801],\n",
      "         [ 0.0146, -0.7767,  0.2983,  ..., -1.1568, -2.2034,  0.0671],\n",
      "         [ 0.0215, -0.8939,  0.7549,  ..., -0.8589, -2.2960,  0.0477],\n",
      "         ...,\n",
      "         [ 0.0273, -0.3128, -1.0897,  ...,  0.1931,  0.7930,  0.0497],\n",
      "         [ 0.0440, -2.7838, -2.1340,  ..., -0.4093, -0.9686,  0.0846],\n",
      "         [ 0.0408, -0.5316, -0.7633,  ..., -0.6714,  0.2822,  0.0298]]]), tensor(1225))\n",
      "Epoch 1/50\n"
     ]
    },
    {
     "name": "stderr",
     "output_type": "stream",
     "text": [
      "Train: 100%|██████████| 129/129 [00:11<00:00, 11.01it/s]\n",
      "Validation: 100%|██████████| 33/33 [00:00<00:00, 63.33it/s]\n"
     ]
    },
    {
     "name": "stdout",
     "output_type": "stream",
     "text": [
      "Epoch 1/50 | train loss: 7.541 | train acc: 0.006 | val loss: 7.533 | val acc: 0.006\n",
      "Initial model for Fold 5 saved.\n",
      "\u001b[36mNew best.\u001b[0m\n",
      "Validation accuracy increased (-inf --> 0.006155).  Saving model ...\n",
      "Epoch 2/50\n"
     ]
    },
    {
     "name": "stderr",
     "output_type": "stream",
     "text": [
      "Train: 100%|██████████| 129/129 [00:11<00:00, 10.99it/s]\n",
      "Validation: 100%|██████████| 33/33 [00:00<00:00, 60.80it/s]\n"
     ]
    },
    {
     "name": "stdout",
     "output_type": "stream",
     "text": [
      "Epoch 2/50 | train loss: 7.539 | train acc: 0.006 | val loss: 7.542 | val acc: 0.008\n",
      "\u001b[36mNew best.\u001b[0m\n",
      "Validation accuracy increased (0.006155 --> 0.007734).  Saving model ...\n",
      "Epoch 3/50\n"
     ]
    },
    {
     "name": "stderr",
     "output_type": "stream",
     "text": [
      "Train: 100%|██████████| 129/129 [00:11<00:00, 10.98it/s]\n",
      "Validation: 100%|██████████| 33/33 [00:00<00:00, 63.48it/s]\n"
     ]
    },
    {
     "name": "stdout",
     "output_type": "stream",
     "text": [
      "Epoch 3/50 | train loss: 7.483 | train acc: 0.013 | val loss: 7.559 | val acc: 0.007\n",
      "EarlyStopping counter: 1 out of 2\n",
      "Epoch 4/50\n"
     ]
    },
    {
     "name": "stderr",
     "output_type": "stream",
     "text": [
      "Train: 100%|██████████| 129/129 [00:11<00:00, 10.98it/s]\n",
      "Validation: 100%|██████████| 33/33 [00:00<00:00, 74.24it/s]\n"
     ]
    },
    {
     "name": "stdout",
     "output_type": "stream",
     "text": [
      "Epoch 4/50 | train loss: 7.428 | train acc: 0.018 | val loss: 7.573 | val acc: 0.006\n",
      "EarlyStopping counter: 2 out of 2\n",
      "Early stopping. Max Acc =  0.007733585933844249\n",
      "Max Acc =  0.007733585933844249\n",
      "Acc mean =  0.010748106105761095\n"
     ]
    },
    {
     "name": "stderr",
     "output_type": "stream",
     "text": [
      "[I 2024-06-29 01:19:36,938] Trial 54 finished with value: 0.010748106105761095 and parameters: {'lowcut': 8.18455029183594, 'highcut': 49.46873683396802}. Best is trial 39 with value: 0.01950757575757576.\n"
     ]
    },
    {
     "name": "stdout",
     "output_type": "stream",
     "text": [
      "Start objective 55\n",
      "lowcut: 2.2771592017402935, highcut: 53.97836089113458\n",
      "resample_data\n",
      "bandpass_filter\n",
      "standardize\n",
      "torch.Size([20540, 1, 271, 128])\n",
      "torch.Size([20540])\n",
      "Fold 1\n",
      "(tensor([[[ 0.1948, -1.3333, -1.3164,  ..., -0.6719, -1.6796,  0.0977],\n",
      "         [ 0.0843, -0.7530,  0.1571,  ..., -0.8119, -1.5338,  0.0689],\n",
      "         [-0.0103, -0.6814,  0.6561,  ..., -0.3869, -1.3431,  0.1293],\n",
      "         ...,\n",
      "         [ 0.2092, -0.6760, -1.7034,  ..., -0.1935,  0.4107, -0.0716],\n",
      "         [ 0.2188, -2.1670, -1.9493,  ..., -0.7908, -1.0192, -0.0108],\n",
      "         [ 0.0612, -0.9476, -1.5659,  ..., -1.0430, -0.0651,  0.0461]]]), tensor(1225))\n",
      "Epoch 1/50\n"
     ]
    },
    {
     "name": "stderr",
     "output_type": "stream",
     "text": [
      "Train: 100%|██████████| 129/129 [00:11<00:00, 10.99it/s]\n",
      "Validation: 100%|██████████| 33/33 [00:00<00:00, 63.43it/s]\n"
     ]
    },
    {
     "name": "stdout",
     "output_type": "stream",
     "text": [
      "Epoch 1/50 | train loss: 7.547 | train acc: 0.004 | val loss: 7.530 | val acc: 0.005\n",
      "Initial model for Fold 1 saved.\n",
      "\u001b[36mNew best.\u001b[0m\n",
      "Validation accuracy increased (-inf --> 0.004972).  Saving model ...\n",
      "Epoch 2/50\n"
     ]
    },
    {
     "name": "stderr",
     "output_type": "stream",
     "text": [
      "Train: 100%|██████████| 129/129 [00:11<00:00, 11.05it/s]\n",
      "Validation: 100%|██████████| 33/33 [00:00<00:00, 65.78it/s]\n"
     ]
    },
    {
     "name": "stdout",
     "output_type": "stream",
     "text": [
      "Epoch 2/50 | train loss: 7.539 | train acc: 0.007 | val loss: 7.534 | val acc: 0.009\n",
      "\u001b[36mNew best.\u001b[0m\n",
      "Validation accuracy increased (0.004972 --> 0.009233).  Saving model ...\n",
      "Epoch 3/50\n"
     ]
    },
    {
     "name": "stderr",
     "output_type": "stream",
     "text": [
      "Train: 100%|██████████| 129/129 [00:11<00:00, 10.97it/s]\n",
      "Validation: 100%|██████████| 33/33 [00:00<00:00, 74.70it/s]\n"
     ]
    },
    {
     "name": "stdout",
     "output_type": "stream",
     "text": [
      "Epoch 3/50 | train loss: 7.461 | train acc: 0.014 | val loss: 7.542 | val acc: 0.010\n",
      "\u001b[36mNew best.\u001b[0m\n",
      "Validation accuracy increased (0.009233 --> 0.009706).  Saving model ...\n",
      "Epoch 4/50\n"
     ]
    },
    {
     "name": "stderr",
     "output_type": "stream",
     "text": [
      "Train: 100%|██████████| 129/129 [00:11<00:00, 10.98it/s]\n",
      "Validation: 100%|██████████| 33/33 [00:00<00:00, 65.15it/s]\n"
     ]
    },
    {
     "name": "stdout",
     "output_type": "stream",
     "text": [
      "Epoch 4/50 | train loss: 7.350 | train acc: 0.024 | val loss: 7.563 | val acc: 0.007\n",
      "EarlyStopping counter: 1 out of 2\n",
      "Epoch 5/50\n"
     ]
    },
    {
     "name": "stderr",
     "output_type": "stream",
     "text": [
      "Train: 100%|██████████| 129/129 [00:11<00:00, 10.99it/s]\n",
      "Validation: 100%|██████████| 33/33 [00:00<00:00, 63.50it/s]\n"
     ]
    },
    {
     "name": "stdout",
     "output_type": "stream",
     "text": [
      "Epoch 5/50 | train loss: 7.179 | train acc: 0.037 | val loss: 7.615 | val acc: 0.010\n",
      "\u001b[36mNew best.\u001b[0m\n",
      "Validation accuracy increased (0.009706 --> 0.010417).  Saving model ...\n",
      "Epoch 6/50\n"
     ]
    },
    {
     "name": "stderr",
     "output_type": "stream",
     "text": [
      "Train: 100%|██████████| 129/129 [00:11<00:00, 11.00it/s]\n",
      "Validation: 100%|██████████| 33/33 [00:00<00:00, 74.16it/s]\n"
     ]
    },
    {
     "name": "stdout",
     "output_type": "stream",
     "text": [
      "Epoch 6/50 | train loss: 6.985 | train acc: 0.055 | val loss: 7.644 | val acc: 0.012\n",
      "\u001b[36mNew best.\u001b[0m\n",
      "Validation accuracy increased (0.010417 --> 0.012074).  Saving model ...\n",
      "Epoch 7/50\n"
     ]
    },
    {
     "name": "stderr",
     "output_type": "stream",
     "text": [
      "Train: 100%|██████████| 129/129 [00:11<00:00, 10.95it/s]\n",
      "Validation: 100%|██████████| 33/33 [00:00<00:00, 61.97it/s]\n"
     ]
    },
    {
     "name": "stdout",
     "output_type": "stream",
     "text": [
      "Epoch 7/50 | train loss: 6.772 | train acc: 0.084 | val loss: 7.697 | val acc: 0.011\n",
      "EarlyStopping counter: 1 out of 2\n",
      "Epoch 8/50\n"
     ]
    },
    {
     "name": "stderr",
     "output_type": "stream",
     "text": [
      "Train: 100%|██████████| 129/129 [00:11<00:00, 10.99it/s]\n",
      "Validation: 100%|██████████| 33/33 [00:00<00:00, 71.58it/s]\n"
     ]
    },
    {
     "name": "stdout",
     "output_type": "stream",
     "text": [
      "Epoch 8/50 | train loss: 6.564 | train acc: 0.110 | val loss: 7.755 | val acc: 0.013\n",
      "\u001b[36mNew best.\u001b[0m\n",
      "Validation accuracy increased (0.012074 --> 0.013258).  Saving model ...\n",
      "Epoch 9/50\n"
     ]
    },
    {
     "name": "stderr",
     "output_type": "stream",
     "text": [
      "Train: 100%|██████████| 129/129 [00:11<00:00, 11.09it/s]\n",
      "Validation: 100%|██████████| 33/33 [00:00<00:00, 62.75it/s]\n"
     ]
    },
    {
     "name": "stdout",
     "output_type": "stream",
     "text": [
      "Epoch 9/50 | train loss: 6.371 | train acc: 0.139 | val loss: 7.816 | val acc: 0.014\n",
      "\u001b[36mNew best.\u001b[0m\n",
      "Validation accuracy increased (0.013258 --> 0.014205).  Saving model ...\n",
      "Epoch 10/50\n"
     ]
    },
    {
     "name": "stderr",
     "output_type": "stream",
     "text": [
      "Train: 100%|██████████| 129/129 [00:11<00:00, 11.08it/s]\n",
      "Validation: 100%|██████████| 33/33 [00:00<00:00, 62.30it/s]\n"
     ]
    },
    {
     "name": "stdout",
     "output_type": "stream",
     "text": [
      "Epoch 10/50 | train loss: 6.191 | train acc: 0.168 | val loss: 7.918 | val acc: 0.013\n",
      "EarlyStopping counter: 1 out of 2\n",
      "Epoch 11/50\n"
     ]
    },
    {
     "name": "stderr",
     "output_type": "stream",
     "text": [
      "Train: 100%|██████████| 129/129 [00:11<00:00, 11.02it/s]\n",
      "Validation: 100%|██████████| 33/33 [00:00<00:00, 62.70it/s]\n"
     ]
    },
    {
     "name": "stdout",
     "output_type": "stream",
     "text": [
      "Epoch 11/50 | train loss: 6.013 | train acc: 0.196 | val loss: 8.034 | val acc: 0.013\n",
      "EarlyStopping counter: 2 out of 2\n",
      "Early stopping. Max Acc =  0.014204545454545454\n",
      "Max Acc =  0.014204545454545454\n",
      "Fold 2\n",
      "(tensor([[[ 0.1948, -1.3333, -1.3164,  ..., -0.6719, -1.6796,  0.0977],\n",
      "         [ 0.0843, -0.7530,  0.1571,  ..., -0.8119, -1.5338,  0.0689],\n",
      "         [-0.0103, -0.6814,  0.6561,  ..., -0.3869, -1.3431,  0.1293],\n",
      "         ...,\n",
      "         [ 0.2092, -0.6760, -1.7034,  ..., -0.1935,  0.4107, -0.0716],\n",
      "         [ 0.2188, -2.1670, -1.9493,  ..., -0.7908, -1.0192, -0.0108],\n",
      "         [ 0.0612, -0.9476, -1.5659,  ..., -1.0430, -0.0651,  0.0461]]]), tensor(1225))\n",
      "Epoch 1/50\n"
     ]
    },
    {
     "name": "stderr",
     "output_type": "stream",
     "text": [
      "Train: 100%|██████████| 129/129 [00:11<00:00, 11.03it/s]\n",
      "Validation: 100%|██████████| 33/33 [00:00<00:00, 62.83it/s]\n"
     ]
    },
    {
     "name": "stdout",
     "output_type": "stream",
     "text": [
      "Epoch 1/50 | train loss: 7.545 | train acc: 0.005 | val loss: 7.533 | val acc: 0.004\n",
      "Initial model for Fold 2 saved.\n",
      "\u001b[36mNew best.\u001b[0m\n",
      "Validation accuracy increased (-inf --> 0.004261).  Saving model ...\n",
      "Epoch 2/50\n"
     ]
    },
    {
     "name": "stderr",
     "output_type": "stream",
     "text": [
      "Train: 100%|██████████| 129/129 [00:11<00:00, 11.01it/s]\n",
      "Validation: 100%|██████████| 33/33 [00:00<00:00, 61.97it/s]\n"
     ]
    },
    {
     "name": "stdout",
     "output_type": "stream",
     "text": [
      "Epoch 2/50 | train loss: 7.537 | train acc: 0.007 | val loss: 7.542 | val acc: 0.007\n",
      "\u001b[36mNew best.\u001b[0m\n",
      "Validation accuracy increased (0.004261 --> 0.007339).  Saving model ...\n",
      "Epoch 3/50\n"
     ]
    },
    {
     "name": "stderr",
     "output_type": "stream",
     "text": [
      "Train: 100%|██████████| 129/129 [00:11<00:00, 11.03it/s]\n",
      "Validation: 100%|██████████| 33/33 [00:00<00:00, 78.18it/s]\n"
     ]
    },
    {
     "name": "stdout",
     "output_type": "stream",
     "text": [
      "Epoch 3/50 | train loss: 7.463 | train acc: 0.015 | val loss: 7.564 | val acc: 0.009\n",
      "\u001b[36mNew best.\u001b[0m\n",
      "Validation accuracy increased (0.007339 --> 0.009470).  Saving model ...\n",
      "Epoch 4/50\n"
     ]
    },
    {
     "name": "stderr",
     "output_type": "stream",
     "text": [
      "Train: 100%|██████████| 129/129 [00:11<00:00, 11.06it/s]\n",
      "Validation: 100%|██████████| 33/33 [00:00<00:00, 69.45it/s]\n"
     ]
    },
    {
     "name": "stdout",
     "output_type": "stream",
     "text": [
      "Epoch 4/50 | train loss: 7.352 | train acc: 0.023 | val loss: 7.601 | val acc: 0.012\n",
      "\u001b[36mNew best.\u001b[0m\n",
      "Validation accuracy increased (0.009470 --> 0.012468).  Saving model ...\n",
      "Epoch 5/50\n"
     ]
    },
    {
     "name": "stderr",
     "output_type": "stream",
     "text": [
      "Train: 100%|██████████| 129/129 [00:11<00:00, 10.98it/s]\n",
      "Validation: 100%|██████████| 33/33 [00:00<00:00, 78.69it/s]\n"
     ]
    },
    {
     "name": "stdout",
     "output_type": "stream",
     "text": [
      "Epoch 5/50 | train loss: 7.196 | train acc: 0.038 | val loss: 7.666 | val acc: 0.012\n",
      "EarlyStopping counter: 1 out of 2\n",
      "Epoch 6/50\n"
     ]
    },
    {
     "name": "stderr",
     "output_type": "stream",
     "text": [
      "Train: 100%|██████████| 129/129 [00:11<00:00, 10.97it/s]\n",
      "Validation: 100%|██████████| 33/33 [00:00<00:00, 85.20it/s]\n"
     ]
    },
    {
     "name": "stdout",
     "output_type": "stream",
     "text": [
      "Epoch 6/50 | train loss: 7.019 | train acc: 0.056 | val loss: 7.738 | val acc: 0.013\n",
      "\u001b[36mNew best.\u001b[0m\n",
      "Validation accuracy increased (0.012468 --> 0.012705).  Saving model ...\n",
      "Epoch 7/50\n"
     ]
    },
    {
     "name": "stderr",
     "output_type": "stream",
     "text": [
      "Train: 100%|██████████| 129/129 [00:11<00:00, 11.00it/s]\n",
      "Validation: 100%|██████████| 33/33 [00:00<00:00, 77.88it/s]\n"
     ]
    },
    {
     "name": "stdout",
     "output_type": "stream",
     "text": [
      "Epoch 7/50 | train loss: 6.831 | train acc: 0.074 | val loss: 7.813 | val acc: 0.008\n",
      "EarlyStopping counter: 1 out of 2\n",
      "Epoch 8/50\n"
     ]
    },
    {
     "name": "stderr",
     "output_type": "stream",
     "text": [
      "Train: 100%|██████████| 129/129 [00:11<00:00, 11.00it/s]\n",
      "Validation: 100%|██████████| 33/33 [00:00<00:00, 67.05it/s]\n"
     ]
    },
    {
     "name": "stdout",
     "output_type": "stream",
     "text": [
      "Epoch 8/50 | train loss: 6.649 | train acc: 0.099 | val loss: 7.905 | val acc: 0.009\n",
      "EarlyStopping counter: 2 out of 2\n",
      "Early stopping. Max Acc =  0.012705176842935158\n",
      "Max Acc =  0.012705176842935158\n",
      "Fold 3\n",
      "(tensor([[[ 0.1948, -1.3333, -1.3164,  ..., -0.6719, -1.6796,  0.0977],\n",
      "         [ 0.0843, -0.7530,  0.1571,  ..., -0.8119, -1.5338,  0.0689],\n",
      "         [-0.0103, -0.6814,  0.6561,  ..., -0.3869, -1.3431,  0.1293],\n",
      "         ...,\n",
      "         [ 0.2092, -0.6760, -1.7034,  ..., -0.1935,  0.4107, -0.0716],\n",
      "         [ 0.2188, -2.1670, -1.9493,  ..., -0.7908, -1.0192, -0.0108],\n",
      "         [ 0.0612, -0.9476, -1.5659,  ..., -1.0430, -0.0651,  0.0461]]]), tensor(1225))\n",
      "Epoch 1/50\n"
     ]
    },
    {
     "name": "stderr",
     "output_type": "stream",
     "text": [
      "Train: 100%|██████████| 129/129 [00:11<00:00, 10.99it/s]\n",
      "Validation: 100%|██████████| 33/33 [00:00<00:00, 65.81it/s]\n"
     ]
    },
    {
     "name": "stdout",
     "output_type": "stream",
     "text": [
      "Epoch 1/50 | train loss: 7.546 | train acc: 0.006 | val loss: 7.536 | val acc: 0.005\n",
      "Initial model for Fold 3 saved.\n",
      "\u001b[36mNew best.\u001b[0m\n",
      "Validation accuracy increased (-inf --> 0.004972).  Saving model ...\n",
      "Epoch 2/50\n"
     ]
    },
    {
     "name": "stderr",
     "output_type": "stream",
     "text": [
      "Train: 100%|██████████| 129/129 [00:11<00:00, 10.97it/s]\n",
      "Validation: 100%|██████████| 33/33 [00:00<00:00, 75.71it/s]\n"
     ]
    },
    {
     "name": "stdout",
     "output_type": "stream",
     "text": [
      "Epoch 2/50 | train loss: 7.537 | train acc: 0.008 | val loss: 7.541 | val acc: 0.010\n",
      "\u001b[36mNew best.\u001b[0m\n",
      "Validation accuracy increased (0.004972 --> 0.009943).  Saving model ...\n",
      "Epoch 3/50\n"
     ]
    },
    {
     "name": "stderr",
     "output_type": "stream",
     "text": [
      "Train: 100%|██████████| 129/129 [00:11<00:00, 10.91it/s]\n",
      "Validation: 100%|██████████| 33/33 [00:00<00:00, 64.35it/s]\n"
     ]
    },
    {
     "name": "stdout",
     "output_type": "stream",
     "text": [
      "Epoch 3/50 | train loss: 7.457 | train acc: 0.015 | val loss: 7.558 | val acc: 0.013\n",
      "\u001b[36mNew best.\u001b[0m\n",
      "Validation accuracy increased (0.009943 --> 0.013021).  Saving model ...\n",
      "Epoch 4/50\n"
     ]
    },
    {
     "name": "stderr",
     "output_type": "stream",
     "text": [
      "Train: 100%|██████████| 129/129 [00:11<00:00, 10.93it/s]\n",
      "Validation: 100%|██████████| 33/33 [00:00<00:00, 62.31it/s]\n"
     ]
    },
    {
     "name": "stdout",
     "output_type": "stream",
     "text": [
      "Epoch 4/50 | train loss: 7.346 | train acc: 0.024 | val loss: 7.587 | val acc: 0.012\n",
      "EarlyStopping counter: 1 out of 2\n",
      "Epoch 5/50\n"
     ]
    },
    {
     "name": "stderr",
     "output_type": "stream",
     "text": [
      "Train: 100%|██████████| 129/129 [00:11<00:00, 11.00it/s]\n",
      "Validation: 100%|██████████| 33/33 [00:00<00:00, 64.69it/s]\n"
     ]
    },
    {
     "name": "stdout",
     "output_type": "stream",
     "text": [
      "Epoch 5/50 | train loss: 7.177 | train acc: 0.040 | val loss: 7.637 | val acc: 0.011\n",
      "EarlyStopping counter: 2 out of 2\n",
      "Early stopping. Max Acc =  0.013020833333333334\n",
      "Max Acc =  0.013020833333333334\n",
      "Fold 4\n",
      "(tensor([[[ 0.1948, -1.3333, -1.3164,  ..., -0.6719, -1.6796,  0.0977],\n",
      "         [ 0.0843, -0.7530,  0.1571,  ..., -0.8119, -1.5338,  0.0689],\n",
      "         [-0.0103, -0.6814,  0.6561,  ..., -0.3869, -1.3431,  0.1293],\n",
      "         ...,\n",
      "         [ 0.2092, -0.6760, -1.7034,  ..., -0.1935,  0.4107, -0.0716],\n",
      "         [ 0.2188, -2.1670, -1.9493,  ..., -0.7908, -1.0192, -0.0108],\n",
      "         [ 0.0612, -0.9476, -1.5659,  ..., -1.0430, -0.0651,  0.0461]]]), tensor(1225))\n",
      "Epoch 1/50\n"
     ]
    },
    {
     "name": "stderr",
     "output_type": "stream",
     "text": [
      "Train: 100%|██████████| 129/129 [00:11<00:00, 11.04it/s]\n",
      "Validation: 100%|██████████| 33/33 [00:00<00:00, 68.26it/s]\n"
     ]
    },
    {
     "name": "stdout",
     "output_type": "stream",
     "text": [
      "Epoch 1/50 | train loss: 7.546 | train acc: 0.007 | val loss: 7.536 | val acc: 0.004\n",
      "Initial model for Fold 4 saved.\n",
      "\u001b[36mNew best.\u001b[0m\n",
      "Validation accuracy increased (-inf --> 0.003551).  Saving model ...\n",
      "Epoch 2/50\n"
     ]
    },
    {
     "name": "stderr",
     "output_type": "stream",
     "text": [
      "Train: 100%|██████████| 129/129 [00:11<00:00, 10.99it/s]\n",
      "Validation: 100%|██████████| 33/33 [00:00<00:00, 61.73it/s]\n"
     ]
    },
    {
     "name": "stdout",
     "output_type": "stream",
     "text": [
      "Epoch 2/50 | train loss: 7.538 | train acc: 0.007 | val loss: 7.543 | val acc: 0.008\n",
      "\u001b[36mNew best.\u001b[0m\n",
      "Validation accuracy increased (0.003551 --> 0.008049).  Saving model ...\n",
      "Epoch 3/50\n"
     ]
    },
    {
     "name": "stderr",
     "output_type": "stream",
     "text": [
      "Train: 100%|██████████| 129/129 [00:11<00:00, 11.08it/s]\n",
      "Validation: 100%|██████████| 33/33 [00:00<00:00, 60.61it/s]\n"
     ]
    },
    {
     "name": "stdout",
     "output_type": "stream",
     "text": [
      "Epoch 3/50 | train loss: 7.467 | train acc: 0.015 | val loss: 7.557 | val acc: 0.009\n",
      "\u001b[36mNew best.\u001b[0m\n",
      "Validation accuracy increased (0.008049 --> 0.008759).  Saving model ...\n",
      "Epoch 4/50\n"
     ]
    },
    {
     "name": "stderr",
     "output_type": "stream",
     "text": [
      "Train: 100%|██████████| 129/129 [00:11<00:00, 11.03it/s]\n",
      "Validation: 100%|██████████| 33/33 [00:00<00:00, 66.69it/s]\n"
     ]
    },
    {
     "name": "stdout",
     "output_type": "stream",
     "text": [
      "Epoch 4/50 | train loss: 7.366 | train acc: 0.023 | val loss: 7.593 | val acc: 0.011\n",
      "\u001b[36mNew best.\u001b[0m\n",
      "Validation accuracy increased (0.008759 --> 0.010890).  Saving model ...\n",
      "Epoch 5/50\n"
     ]
    },
    {
     "name": "stderr",
     "output_type": "stream",
     "text": [
      "Train: 100%|██████████| 129/129 [00:11<00:00, 11.06it/s]\n",
      "Validation: 100%|██████████| 33/33 [00:00<00:00, 79.94it/s]\n"
     ]
    },
    {
     "name": "stdout",
     "output_type": "stream",
     "text": [
      "Epoch 5/50 | train loss: 7.207 | train acc: 0.035 | val loss: 7.654 | val acc: 0.009\n",
      "EarlyStopping counter: 1 out of 2\n",
      "Epoch 6/50\n"
     ]
    },
    {
     "name": "stderr",
     "output_type": "stream",
     "text": [
      "Train: 100%|██████████| 129/129 [00:11<00:00, 11.00it/s]\n",
      "Validation: 100%|██████████| 33/33 [00:00<00:00, 64.67it/s]\n"
     ]
    },
    {
     "name": "stdout",
     "output_type": "stream",
     "text": [
      "Epoch 6/50 | train loss: 7.027 | train acc: 0.054 | val loss: 7.711 | val acc: 0.010\n",
      "EarlyStopping counter: 2 out of 2\n",
      "Early stopping. Max Acc =  0.010890151515151516\n",
      "Max Acc =  0.010890151515151516\n",
      "Fold 5\n",
      "(tensor([[[ 0.1948, -1.3333, -1.3164,  ..., -0.6719, -1.6796,  0.0977],\n",
      "         [ 0.0843, -0.7530,  0.1571,  ..., -0.8119, -1.5338,  0.0689],\n",
      "         [-0.0103, -0.6814,  0.6561,  ..., -0.3869, -1.3431,  0.1293],\n",
      "         ...,\n",
      "         [ 0.2092, -0.6760, -1.7034,  ..., -0.1935,  0.4107, -0.0716],\n",
      "         [ 0.2188, -2.1670, -1.9493,  ..., -0.7908, -1.0192, -0.0108],\n",
      "         [ 0.0612, -0.9476, -1.5659,  ..., -1.0430, -0.0651,  0.0461]]]), tensor(1225))\n",
      "Epoch 1/50\n"
     ]
    },
    {
     "name": "stderr",
     "output_type": "stream",
     "text": [
      "Train: 100%|██████████| 129/129 [00:11<00:00, 11.00it/s]\n",
      "Validation: 100%|██████████| 33/33 [00:00<00:00, 71.30it/s]\n"
     ]
    },
    {
     "name": "stdout",
     "output_type": "stream",
     "text": [
      "Epoch 1/50 | train loss: 7.547 | train acc: 0.004 | val loss: 7.539 | val acc: 0.004\n",
      "Initial model for Fold 5 saved.\n",
      "\u001b[36mNew best.\u001b[0m\n",
      "Validation accuracy increased (-inf --> 0.003788).  Saving model ...\n",
      "Epoch 2/50\n"
     ]
    },
    {
     "name": "stderr",
     "output_type": "stream",
     "text": [
      "Train: 100%|██████████| 129/129 [00:11<00:00, 10.98it/s]\n",
      "Validation: 100%|██████████| 33/33 [00:00<00:00, 70.90it/s]\n"
     ]
    },
    {
     "name": "stdout",
     "output_type": "stream",
     "text": [
      "Epoch 2/50 | train loss: 7.537 | train acc: 0.006 | val loss: 7.546 | val acc: 0.006\n",
      "\u001b[36mNew best.\u001b[0m\n",
      "Validation accuracy increased (0.003788 --> 0.006155).  Saving model ...\n",
      "Epoch 3/50\n"
     ]
    },
    {
     "name": "stderr",
     "output_type": "stream",
     "text": [
      "Train: 100%|██████████| 129/129 [00:11<00:00, 10.97it/s]\n",
      "Validation: 100%|██████████| 33/33 [00:00<00:00, 64.71it/s]\n"
     ]
    },
    {
     "name": "stdout",
     "output_type": "stream",
     "text": [
      "Epoch 3/50 | train loss: 7.457 | train acc: 0.016 | val loss: 7.569 | val acc: 0.007\n",
      "\u001b[36mNew best.\u001b[0m\n",
      "Validation accuracy increased (0.006155 --> 0.006629).  Saving model ...\n",
      "Epoch 4/50\n"
     ]
    },
    {
     "name": "stderr",
     "output_type": "stream",
     "text": [
      "Train: 100%|██████████| 129/129 [00:11<00:00, 11.01it/s]\n",
      "Validation: 100%|██████████| 33/33 [00:00<00:00, 62.51it/s]\n"
     ]
    },
    {
     "name": "stdout",
     "output_type": "stream",
     "text": [
      "Epoch 4/50 | train loss: 7.350 | train acc: 0.024 | val loss: 7.600 | val acc: 0.010\n",
      "\u001b[36mNew best.\u001b[0m\n",
      "Validation accuracy increased (0.006629 --> 0.010180).  Saving model ...\n",
      "Epoch 5/50\n"
     ]
    },
    {
     "name": "stderr",
     "output_type": "stream",
     "text": [
      "Train: 100%|██████████| 129/129 [00:11<00:00, 10.97it/s]\n",
      "Validation: 100%|██████████| 33/33 [00:00<00:00, 65.29it/s]\n"
     ]
    },
    {
     "name": "stdout",
     "output_type": "stream",
     "text": [
      "Epoch 5/50 | train loss: 7.199 | train acc: 0.036 | val loss: 7.653 | val acc: 0.009\n",
      "EarlyStopping counter: 1 out of 2\n",
      "Epoch 6/50\n"
     ]
    },
    {
     "name": "stderr",
     "output_type": "stream",
     "text": [
      "Train: 100%|██████████| 129/129 [00:11<00:00, 11.00it/s]\n",
      "Validation: 100%|██████████| 33/33 [00:00<00:00, 69.95it/s]\n",
      "[I 2024-06-29 01:27:48,599] Trial 55 finished with value: 0.012200126277677942 and parameters: {'lowcut': 2.2771592017402935, 'highcut': 53.97836089113458}. Best is trial 39 with value: 0.01950757575757576.\n"
     ]
    },
    {
     "name": "stdout",
     "output_type": "stream",
     "text": [
      "Epoch 6/50 | train loss: 7.021 | train acc: 0.054 | val loss: 7.718 | val acc: 0.009\n",
      "EarlyStopping counter: 2 out of 2\n",
      "Early stopping. Max Acc =  0.010179924242424242\n",
      "Max Acc =  0.010179924242424242\n",
      "Acc mean =  0.012200126277677942\n",
      "Start objective 56\n",
      "lowcut: 5.02321005867536, highcut: 63.80033314175017\n",
      "resample_data\n",
      "bandpass_filter\n",
      "standardize\n",
      "torch.Size([20540, 1, 271, 128])\n",
      "torch.Size([20540])\n",
      "Fold 1\n",
      "(tensor([[[ 1.5289, -2.5757,  0.4188,  ..., -0.5057, -1.7138,  0.1095],\n",
      "         [ 0.6509, -1.3786,  1.0672,  ..., -1.0030, -1.7751, -0.0090],\n",
      "         [ 0.4814, -1.1371,  1.3832,  ..., -0.9143, -1.9544, -0.0152],\n",
      "         ...,\n",
      "         [ 2.2684, -2.4919,  1.7292,  ...,  0.0583,  0.0960,  0.1076],\n",
      "         [ 2.4449, -2.7881,  2.1639,  ..., -0.0332, -0.2623,  0.0578],\n",
      "         [ 0.4943, -1.0311, -0.4326,  ..., -0.9770,  0.3298, -0.2598]]]), tensor(1225))\n",
      "Epoch 1/50\n"
     ]
    },
    {
     "name": "stderr",
     "output_type": "stream",
     "text": [
      "Train: 100%|██████████| 129/129 [00:11<00:00, 10.93it/s]\n",
      "Validation: 100%|██████████| 33/33 [00:00<00:00, 63.52it/s]\n"
     ]
    },
    {
     "name": "stdout",
     "output_type": "stream",
     "text": [
      "Epoch 1/50 | train loss: 7.544 | train acc: 0.005 | val loss: 7.533 | val acc: 0.006\n",
      "Initial model for Fold 1 saved.\n",
      "\u001b[36mNew best.\u001b[0m\n",
      "Validation accuracy increased (-inf --> 0.006155).  Saving model ...\n",
      "Epoch 2/50\n"
     ]
    },
    {
     "name": "stderr",
     "output_type": "stream",
     "text": [
      "Train: 100%|██████████| 129/129 [00:11<00:00, 11.10it/s]\n",
      "Validation: 100%|██████████| 33/33 [00:00<00:00, 76.25it/s]\n"
     ]
    },
    {
     "name": "stdout",
     "output_type": "stream",
     "text": [
      "Epoch 2/50 | train loss: 7.538 | train acc: 0.007 | val loss: 7.539 | val acc: 0.004\n",
      "EarlyStopping counter: 1 out of 2\n",
      "Epoch 3/50\n"
     ]
    },
    {
     "name": "stderr",
     "output_type": "stream",
     "text": [
      "Train: 100%|██████████| 129/129 [00:11<00:00, 11.14it/s]\n",
      "Validation: 100%|██████████| 33/33 [00:00<00:00, 67.98it/s]\n"
     ]
    },
    {
     "name": "stdout",
     "output_type": "stream",
     "text": [
      "Epoch 3/50 | train loss: 7.476 | train acc: 0.013 | val loss: 7.558 | val acc: 0.007\n",
      "\u001b[36mNew best.\u001b[0m\n",
      "Validation accuracy increased (0.006155 --> 0.007339).  Saving model ...\n",
      "Epoch 4/50\n"
     ]
    },
    {
     "name": "stderr",
     "output_type": "stream",
     "text": [
      "Train: 100%|██████████| 129/129 [00:11<00:00, 11.13it/s]\n",
      "Validation: 100%|██████████| 33/33 [00:00<00:00, 65.15it/s]\n"
     ]
    },
    {
     "name": "stdout",
     "output_type": "stream",
     "text": [
      "Epoch 4/50 | train loss: 7.383 | train acc: 0.020 | val loss: 7.601 | val acc: 0.007\n",
      "EarlyStopping counter: 1 out of 2\n",
      "Epoch 5/50\n"
     ]
    },
    {
     "name": "stderr",
     "output_type": "stream",
     "text": [
      "Train: 100%|██████████| 129/129 [00:11<00:00, 11.08it/s]\n",
      "Validation: 100%|██████████| 33/33 [00:00<00:00, 73.73it/s]\n"
     ]
    },
    {
     "name": "stdout",
     "output_type": "stream",
     "text": [
      "Epoch 5/50 | train loss: 7.184 | train acc: 0.041 | val loss: 7.701 | val acc: 0.007\n",
      "EarlyStopping counter: 2 out of 2\n",
      "Early stopping. Max Acc =  0.007339015151515152\n",
      "Max Acc =  0.007339015151515152\n",
      "Fold 2\n",
      "(tensor([[[ 1.5289, -2.5757,  0.4188,  ..., -0.5057, -1.7138,  0.1095],\n",
      "         [ 0.6509, -1.3786,  1.0672,  ..., -1.0030, -1.7751, -0.0090],\n",
      "         [ 0.4814, -1.1371,  1.3832,  ..., -0.9143, -1.9544, -0.0152],\n",
      "         ...,\n",
      "         [ 2.2684, -2.4919,  1.7292,  ...,  0.0583,  0.0960,  0.1076],\n",
      "         [ 2.4449, -2.7881,  2.1639,  ..., -0.0332, -0.2623,  0.0578],\n",
      "         [ 0.4943, -1.0311, -0.4326,  ..., -0.9770,  0.3298, -0.2598]]]), tensor(1225))\n",
      "Epoch 1/50\n"
     ]
    },
    {
     "name": "stderr",
     "output_type": "stream",
     "text": [
      "Train: 100%|██████████| 129/129 [00:11<00:00, 11.16it/s]\n",
      "Validation: 100%|██████████| 33/33 [00:00<00:00, 80.39it/s]\n"
     ]
    },
    {
     "name": "stdout",
     "output_type": "stream",
     "text": [
      "Epoch 1/50 | train loss: 7.542 | train acc: 0.006 | val loss: 7.533 | val acc: 0.005\n",
      "Initial model for Fold 2 saved.\n",
      "\u001b[36mNew best.\u001b[0m\n",
      "Validation accuracy increased (-inf --> 0.005208).  Saving model ...\n",
      "Epoch 2/50\n"
     ]
    },
    {
     "name": "stderr",
     "output_type": "stream",
     "text": [
      "Train: 100%|██████████| 129/129 [00:11<00:00, 11.07it/s]\n",
      "Validation: 100%|██████████| 33/33 [00:00<00:00, 64.54it/s]\n"
     ]
    },
    {
     "name": "stdout",
     "output_type": "stream",
     "text": [
      "Epoch 2/50 | train loss: 7.534 | train acc: 0.007 | val loss: 7.546 | val acc: 0.007\n",
      "\u001b[36mNew best.\u001b[0m\n",
      "Validation accuracy increased (0.005208 --> 0.006866).  Saving model ...\n",
      "Epoch 3/50\n"
     ]
    },
    {
     "name": "stderr",
     "output_type": "stream",
     "text": [
      "Train: 100%|██████████| 129/129 [00:11<00:00, 11.07it/s]\n",
      "Validation: 100%|██████████| 33/33 [00:00<00:00, 74.09it/s]\n"
     ]
    },
    {
     "name": "stdout",
     "output_type": "stream",
     "text": [
      "Epoch 3/50 | train loss: 7.468 | train acc: 0.014 | val loss: 7.565 | val acc: 0.006\n",
      "EarlyStopping counter: 1 out of 2\n",
      "Epoch 4/50\n"
     ]
    },
    {
     "name": "stderr",
     "output_type": "stream",
     "text": [
      "Train: 100%|██████████| 129/129 [00:11<00:00, 11.01it/s]\n",
      "Validation: 100%|██████████| 33/33 [00:00<00:00, 61.87it/s]\n"
     ]
    },
    {
     "name": "stdout",
     "output_type": "stream",
     "text": [
      "Epoch 4/50 | train loss: 7.360 | train acc: 0.023 | val loss: 7.613 | val acc: 0.007\n",
      "\u001b[36mNew best.\u001b[0m\n",
      "Validation accuracy increased (0.006866 --> 0.007339).  Saving model ...\n",
      "Epoch 5/50\n"
     ]
    },
    {
     "name": "stderr",
     "output_type": "stream",
     "text": [
      "Train: 100%|██████████| 129/129 [00:11<00:00, 11.04it/s]\n",
      "Validation: 100%|██████████| 33/33 [00:00<00:00, 68.18it/s]\n"
     ]
    },
    {
     "name": "stdout",
     "output_type": "stream",
     "text": [
      "Epoch 5/50 | train loss: 7.144 | train acc: 0.043 | val loss: 7.743 | val acc: 0.007\n",
      "Validation accuracy increased (0.007339 --> 0.007339).  Saving model ...\n",
      "Epoch 6/50\n"
     ]
    },
    {
     "name": "stderr",
     "output_type": "stream",
     "text": [
      "Train: 100%|██████████| 129/129 [00:11<00:00, 11.02it/s]\n",
      "Validation: 100%|██████████| 33/33 [00:00<00:00, 72.87it/s]\n"
     ]
    },
    {
     "name": "stdout",
     "output_type": "stream",
     "text": [
      "Epoch 6/50 | train loss: 6.837 | train acc: 0.078 | val loss: 7.900 | val acc: 0.007\n",
      "EarlyStopping counter: 1 out of 2\n",
      "Epoch 7/50\n"
     ]
    },
    {
     "name": "stderr",
     "output_type": "stream",
     "text": [
      "Train: 100%|██████████| 129/129 [00:11<00:00, 11.06it/s]\n",
      "Validation: 100%|██████████| 33/33 [00:00<00:00, 67.14it/s]\n"
     ]
    },
    {
     "name": "stdout",
     "output_type": "stream",
     "text": [
      "Epoch 7/50 | train loss: 6.512 | train acc: 0.125 | val loss: 8.074 | val acc: 0.005\n",
      "EarlyStopping counter: 2 out of 2\n",
      "Early stopping. Max Acc =  0.007339015151515152\n",
      "Max Acc =  0.007339015151515152\n",
      "Fold 3\n",
      "(tensor([[[ 1.5289, -2.5757,  0.4188,  ..., -0.5057, -1.7138,  0.1095],\n",
      "         [ 0.6509, -1.3786,  1.0672,  ..., -1.0030, -1.7751, -0.0090],\n",
      "         [ 0.4814, -1.1371,  1.3832,  ..., -0.9143, -1.9544, -0.0152],\n",
      "         ...,\n",
      "         [ 2.2684, -2.4919,  1.7292,  ...,  0.0583,  0.0960,  0.1076],\n",
      "         [ 2.4449, -2.7881,  2.1639,  ..., -0.0332, -0.2623,  0.0578],\n",
      "         [ 0.4943, -1.0311, -0.4326,  ..., -0.9770,  0.3298, -0.2598]]]), tensor(1225))\n",
      "Epoch 1/50\n"
     ]
    },
    {
     "name": "stderr",
     "output_type": "stream",
     "text": [
      "Train: 100%|██████████| 129/129 [00:11<00:00, 11.08it/s]\n",
      "Validation: 100%|██████████| 33/33 [00:00<00:00, 59.30it/s]\n"
     ]
    },
    {
     "name": "stdout",
     "output_type": "stream",
     "text": [
      "Epoch 1/50 | train loss: 7.544 | train acc: 0.006 | val loss: 7.533 | val acc: 0.005\n",
      "Initial model for Fold 3 saved.\n",
      "\u001b[36mNew best.\u001b[0m\n",
      "Validation accuracy increased (-inf --> 0.005208).  Saving model ...\n",
      "Epoch 2/50\n"
     ]
    },
    {
     "name": "stderr",
     "output_type": "stream",
     "text": [
      "Train: 100%|██████████| 129/129 [00:11<00:00, 10.93it/s]\n",
      "Validation: 100%|██████████| 33/33 [00:00<00:00, 60.22it/s]\n"
     ]
    },
    {
     "name": "stdout",
     "output_type": "stream",
     "text": [
      "Epoch 2/50 | train loss: 7.538 | train acc: 0.007 | val loss: 7.538 | val acc: 0.009\n",
      "\u001b[36mNew best.\u001b[0m\n",
      "Validation accuracy increased (0.005208 --> 0.008523).  Saving model ...\n",
      "Epoch 3/50\n"
     ]
    },
    {
     "name": "stderr",
     "output_type": "stream",
     "text": [
      "Train: 100%|██████████| 129/129 [00:11<00:00, 10.93it/s]\n",
      "Validation: 100%|██████████| 33/33 [00:00<00:00, 68.96it/s]\n"
     ]
    },
    {
     "name": "stdout",
     "output_type": "stream",
     "text": [
      "Epoch 3/50 | train loss: 7.469 | train acc: 0.015 | val loss: 7.562 | val acc: 0.008\n",
      "EarlyStopping counter: 1 out of 2\n",
      "Epoch 4/50\n"
     ]
    },
    {
     "name": "stderr",
     "output_type": "stream",
     "text": [
      "Train: 100%|██████████| 129/129 [00:11<00:00, 10.99it/s]\n",
      "Validation: 100%|██████████| 33/33 [00:00<00:00, 74.69it/s]\n"
     ]
    },
    {
     "name": "stdout",
     "output_type": "stream",
     "text": [
      "Epoch 4/50 | train loss: 7.355 | train acc: 0.023 | val loss: 7.609 | val acc: 0.007\n",
      "EarlyStopping counter: 2 out of 2\n",
      "Early stopping. Max Acc =  0.008522727272727272\n",
      "Max Acc =  0.008522727272727272\n",
      "Fold 4\n",
      "(tensor([[[ 1.5289, -2.5757,  0.4188,  ..., -0.5057, -1.7138,  0.1095],\n",
      "         [ 0.6509, -1.3786,  1.0672,  ..., -1.0030, -1.7751, -0.0090],\n",
      "         [ 0.4814, -1.1371,  1.3832,  ..., -0.9143, -1.9544, -0.0152],\n",
      "         ...,\n",
      "         [ 2.2684, -2.4919,  1.7292,  ...,  0.0583,  0.0960,  0.1076],\n",
      "         [ 2.4449, -2.7881,  2.1639,  ..., -0.0332, -0.2623,  0.0578],\n",
      "         [ 0.4943, -1.0311, -0.4326,  ..., -0.9770,  0.3298, -0.2598]]]), tensor(1225))\n",
      "Epoch 1/50\n"
     ]
    },
    {
     "name": "stderr",
     "output_type": "stream",
     "text": [
      "Train: 100%|██████████| 129/129 [00:11<00:00, 11.03it/s]\n",
      "Validation: 100%|██████████| 33/33 [00:00<00:00, 80.72it/s]\n"
     ]
    },
    {
     "name": "stdout",
     "output_type": "stream",
     "text": [
      "Epoch 1/50 | train loss: 7.547 | train acc: 0.006 | val loss: 7.533 | val acc: 0.005\n",
      "Initial model for Fold 4 saved.\n",
      "\u001b[36mNew best.\u001b[0m\n",
      "Validation accuracy increased (-inf --> 0.005208).  Saving model ...\n",
      "Epoch 2/50\n"
     ]
    },
    {
     "name": "stderr",
     "output_type": "stream",
     "text": [
      "Train: 100%|██████████| 129/129 [00:11<00:00, 11.12it/s]\n",
      "Validation: 100%|██████████| 33/33 [00:00<00:00, 71.67it/s]\n"
     ]
    },
    {
     "name": "stdout",
     "output_type": "stream",
     "text": [
      "Epoch 2/50 | train loss: 7.536 | train acc: 0.007 | val loss: 7.545 | val acc: 0.007\n",
      "\u001b[36mNew best.\u001b[0m\n",
      "Validation accuracy increased (0.005208 --> 0.007102).  Saving model ...\n",
      "Epoch 3/50\n"
     ]
    },
    {
     "name": "stderr",
     "output_type": "stream",
     "text": [
      "Train: 100%|██████████| 129/129 [00:11<00:00, 11.09it/s]\n",
      "Validation: 100%|██████████| 33/33 [00:00<00:00, 65.96it/s]\n"
     ]
    },
    {
     "name": "stdout",
     "output_type": "stream",
     "text": [
      "Epoch 3/50 | train loss: 7.463 | train acc: 0.016 | val loss: 7.569 | val acc: 0.010\n",
      "\u001b[36mNew best.\u001b[0m\n",
      "Validation accuracy increased (0.007102 --> 0.010417).  Saving model ...\n",
      "Epoch 4/50\n"
     ]
    },
    {
     "name": "stderr",
     "output_type": "stream",
     "text": [
      "Train: 100%|██████████| 129/129 [00:11<00:00, 11.00it/s]\n",
      "Validation: 100%|██████████| 33/33 [00:00<00:00, 61.78it/s]\n"
     ]
    },
    {
     "name": "stdout",
     "output_type": "stream",
     "text": [
      "Epoch 4/50 | train loss: 7.317 | train acc: 0.028 | val loss: 7.646 | val acc: 0.008\n",
      "EarlyStopping counter: 1 out of 2\n",
      "Epoch 5/50\n"
     ]
    },
    {
     "name": "stderr",
     "output_type": "stream",
     "text": [
      "Train: 100%|██████████| 129/129 [00:11<00:00, 10.92it/s]\n",
      "Validation: 100%|██████████| 33/33 [00:00<00:00, 65.60it/s]\n"
     ]
    },
    {
     "name": "stdout",
     "output_type": "stream",
     "text": [
      "Epoch 5/50 | train loss: 7.018 | train acc: 0.061 | val loss: 7.806 | val acc: 0.007\n",
      "EarlyStopping counter: 2 out of 2\n",
      "Early stopping. Max Acc =  0.010416666666666666\n",
      "Max Acc =  0.010416666666666666\n",
      "Fold 5\n",
      "(tensor([[[ 1.5289, -2.5757,  0.4188,  ..., -0.5057, -1.7138,  0.1095],\n",
      "         [ 0.6509, -1.3786,  1.0672,  ..., -1.0030, -1.7751, -0.0090],\n",
      "         [ 0.4814, -1.1371,  1.3832,  ..., -0.9143, -1.9544, -0.0152],\n",
      "         ...,\n",
      "         [ 2.2684, -2.4919,  1.7292,  ...,  0.0583,  0.0960,  0.1076],\n",
      "         [ 2.4449, -2.7881,  2.1639,  ..., -0.0332, -0.2623,  0.0578],\n",
      "         [ 0.4943, -1.0311, -0.4326,  ..., -0.9770,  0.3298, -0.2598]]]), tensor(1225))\n",
      "Epoch 1/50\n"
     ]
    },
    {
     "name": "stderr",
     "output_type": "stream",
     "text": [
      "Train: 100%|██████████| 129/129 [00:11<00:00, 10.92it/s]\n",
      "Validation: 100%|██████████| 33/33 [00:00<00:00, 65.33it/s]\n"
     ]
    },
    {
     "name": "stdout",
     "output_type": "stream",
     "text": [
      "Epoch 1/50 | train loss: 7.548 | train acc: 0.005 | val loss: 7.535 | val acc: 0.004\n",
      "Initial model for Fold 5 saved.\n",
      "\u001b[36mNew best.\u001b[0m\n",
      "Validation accuracy increased (-inf --> 0.004498).  Saving model ...\n",
      "Epoch 2/50\n"
     ]
    },
    {
     "name": "stderr",
     "output_type": "stream",
     "text": [
      "Train: 100%|██████████| 129/129 [00:11<00:00, 11.05it/s]\n",
      "Validation: 100%|██████████| 33/33 [00:00<00:00, 68.97it/s]\n"
     ]
    },
    {
     "name": "stdout",
     "output_type": "stream",
     "text": [
      "Epoch 2/50 | train loss: 7.538 | train acc: 0.006 | val loss: 7.544 | val acc: 0.005\n",
      "\u001b[36mNew best.\u001b[0m\n",
      "Validation accuracy increased (0.004498 --> 0.005208).  Saving model ...\n",
      "Epoch 3/50\n"
     ]
    },
    {
     "name": "stderr",
     "output_type": "stream",
     "text": [
      "Train: 100%|██████████| 129/129 [00:11<00:00, 11.07it/s]\n",
      "Validation: 100%|██████████| 33/33 [00:00<00:00, 74.17it/s]\n"
     ]
    },
    {
     "name": "stdout",
     "output_type": "stream",
     "text": [
      "Epoch 3/50 | train loss: 7.466 | train acc: 0.015 | val loss: 7.564 | val acc: 0.007\n",
      "\u001b[36mNew best.\u001b[0m\n",
      "Validation accuracy increased (0.005208 --> 0.007102).  Saving model ...\n",
      "Epoch 4/50\n"
     ]
    },
    {
     "name": "stderr",
     "output_type": "stream",
     "text": [
      "Train: 100%|██████████| 129/129 [00:11<00:00, 11.03it/s]\n",
      "Validation: 100%|██████████| 33/33 [00:00<00:00, 70.99it/s]\n"
     ]
    },
    {
     "name": "stdout",
     "output_type": "stream",
     "text": [
      "Epoch 4/50 | train loss: 7.351 | train acc: 0.024 | val loss: 7.617 | val acc: 0.006\n",
      "EarlyStopping counter: 1 out of 2\n",
      "Epoch 5/50\n"
     ]
    },
    {
     "name": "stderr",
     "output_type": "stream",
     "text": [
      "Train: 100%|██████████| 129/129 [00:11<00:00, 11.07it/s]\n",
      "Validation: 100%|██████████| 33/33 [00:00<00:00, 62.00it/s]\n"
     ]
    },
    {
     "name": "stdout",
     "output_type": "stream",
     "text": [
      "Epoch 5/50 | train loss: 7.113 | train acc: 0.047 | val loss: 7.737 | val acc: 0.008\n",
      "\u001b[36mNew best.\u001b[0m\n",
      "Validation accuracy increased (0.007102 --> 0.008286).  Saving model ...\n",
      "Epoch 6/50\n"
     ]
    },
    {
     "name": "stderr",
     "output_type": "stream",
     "text": [
      "Train: 100%|██████████| 129/129 [00:11<00:00, 11.09it/s]\n",
      "Validation: 100%|██████████| 33/33 [00:00<00:00, 67.58it/s]\n"
     ]
    },
    {
     "name": "stdout",
     "output_type": "stream",
     "text": [
      "Epoch 6/50 | train loss: 6.796 | train acc: 0.088 | val loss: 7.902 | val acc: 0.005\n",
      "EarlyStopping counter: 1 out of 2\n",
      "Epoch 7/50\n"
     ]
    },
    {
     "name": "stderr",
     "output_type": "stream",
     "text": [
      "Train: 100%|██████████| 129/129 [00:11<00:00, 11.02it/s]\n",
      "Validation: 100%|██████████| 33/33 [00:00<00:00, 75.14it/s]\n",
      "[I 2024-06-29 01:34:16,494] Trial 56 finished with value: 0.008380681818181818 and parameters: {'lowcut': 5.02321005867536, 'highcut': 63.80033314175017}. Best is trial 39 with value: 0.01950757575757576.\n"
     ]
    },
    {
     "name": "stdout",
     "output_type": "stream",
     "text": [
      "Epoch 7/50 | train loss: 6.470 | train acc: 0.134 | val loss: 8.084 | val acc: 0.004\n",
      "EarlyStopping counter: 2 out of 2\n",
      "Early stopping. Max Acc =  0.008285984848484848\n",
      "Max Acc =  0.008285984848484848\n",
      "Acc mean =  0.008380681818181818\n",
      "Start objective 57\n",
      "lowcut: 10.506871754729339, highcut: 60.300601399211374\n",
      "resample_data\n",
      "bandpass_filter\n",
      "standardize\n",
      "torch.Size([20540, 1, 271, 128])\n",
      "torch.Size([20540])\n",
      "Fold 1\n",
      "(tensor([[[ 3.3253e-02, -1.4489e+00, -1.0409e+00,  ..., -8.0956e-01,\n",
      "          -2.4561e+00,  3.7180e-02],\n",
      "         [ 2.4816e-02, -9.9064e-01,  7.2755e-01,  ..., -7.6430e-01,\n",
      "          -2.1944e+00,  1.3838e-02],\n",
      "         [ 2.2529e-02, -1.0429e+00,  1.0697e+00,  ..., -5.2194e-01,\n",
      "          -2.2268e+00,  4.5174e-02],\n",
      "         ...,\n",
      "         [ 1.2818e-02,  2.3851e-02,  3.6620e-01,  ...,  1.7940e-01,\n",
      "           1.0473e+00, -1.2229e-02],\n",
      "         [ 3.4267e-02, -3.0432e+00, -7.8125e-01,  ...,  5.3121e-02,\n",
      "          -1.0012e+00,  3.0161e-02],\n",
      "         [ 1.9249e-03, -2.6738e-01,  8.2828e-02,  ..., -7.0045e-01,\n",
      "           1.8013e-01,  4.1457e-02]]]), tensor(1225))\n",
      "Epoch 1/50\n"
     ]
    },
    {
     "name": "stderr",
     "output_type": "stream",
     "text": [
      "Train: 100%|██████████| 129/129 [00:11<00:00, 11.00it/s]\n",
      "Validation: 100%|██████████| 33/33 [00:00<00:00, 78.69it/s]\n"
     ]
    },
    {
     "name": "stdout",
     "output_type": "stream",
     "text": [
      "Epoch 1/50 | train loss: 7.545 | train acc: 0.005 | val loss: 7.533 | val acc: 0.006\n",
      "Initial model for Fold 1 saved.\n",
      "\u001b[36mNew best.\u001b[0m\n",
      "Validation accuracy increased (-inf --> 0.005682).  Saving model ...\n",
      "Epoch 2/50\n"
     ]
    },
    {
     "name": "stderr",
     "output_type": "stream",
     "text": [
      "Train: 100%|██████████| 129/129 [00:11<00:00, 11.04it/s]\n",
      "Validation: 100%|██████████| 33/33 [00:00<00:00, 64.88it/s]\n"
     ]
    },
    {
     "name": "stdout",
     "output_type": "stream",
     "text": [
      "Epoch 2/50 | train loss: 7.540 | train acc: 0.007 | val loss: 7.538 | val acc: 0.008\n",
      "\u001b[36mNew best.\u001b[0m\n",
      "Validation accuracy increased (0.005682 --> 0.008049).  Saving model ...\n",
      "Epoch 3/50\n"
     ]
    },
    {
     "name": "stderr",
     "output_type": "stream",
     "text": [
      "Train: 100%|██████████| 129/129 [00:11<00:00, 11.05it/s]\n",
      "Validation: 100%|██████████| 33/33 [00:00<00:00, 67.43it/s]\n"
     ]
    },
    {
     "name": "stdout",
     "output_type": "stream",
     "text": [
      "Epoch 3/50 | train loss: 7.483 | train acc: 0.012 | val loss: 7.552 | val acc: 0.007\n",
      "EarlyStopping counter: 1 out of 2\n",
      "Epoch 4/50\n"
     ]
    },
    {
     "name": "stderr",
     "output_type": "stream",
     "text": [
      "Train: 100%|██████████| 129/129 [00:11<00:00, 10.94it/s]\n",
      "Validation: 100%|██████████| 33/33 [00:00<00:00, 62.49it/s]\n"
     ]
    },
    {
     "name": "stdout",
     "output_type": "stream",
     "text": [
      "Epoch 4/50 | train loss: 7.426 | train acc: 0.019 | val loss: 7.559 | val acc: 0.007\n",
      "EarlyStopping counter: 2 out of 2\n",
      "Early stopping. Max Acc =  0.008049242424242424\n",
      "Max Acc =  0.008049242424242424\n",
      "Fold 2\n",
      "(tensor([[[ 3.3253e-02, -1.4489e+00, -1.0409e+00,  ..., -8.0956e-01,\n",
      "          -2.4561e+00,  3.7180e-02],\n",
      "         [ 2.4816e-02, -9.9064e-01,  7.2755e-01,  ..., -7.6430e-01,\n",
      "          -2.1944e+00,  1.3838e-02],\n",
      "         [ 2.2529e-02, -1.0429e+00,  1.0697e+00,  ..., -5.2194e-01,\n",
      "          -2.2268e+00,  4.5174e-02],\n",
      "         ...,\n",
      "         [ 1.2818e-02,  2.3851e-02,  3.6620e-01,  ...,  1.7940e-01,\n",
      "           1.0473e+00, -1.2229e-02],\n",
      "         [ 3.4267e-02, -3.0432e+00, -7.8125e-01,  ...,  5.3121e-02,\n",
      "          -1.0012e+00,  3.0161e-02],\n",
      "         [ 1.9249e-03, -2.6738e-01,  8.2828e-02,  ..., -7.0045e-01,\n",
      "           1.8013e-01,  4.1457e-02]]]), tensor(1225))\n",
      "Epoch 1/50\n"
     ]
    },
    {
     "name": "stderr",
     "output_type": "stream",
     "text": [
      "Train: 100%|██████████| 129/129 [00:11<00:00, 10.93it/s]\n",
      "Validation: 100%|██████████| 33/33 [00:00<00:00, 77.59it/s]\n"
     ]
    },
    {
     "name": "stdout",
     "output_type": "stream",
     "text": [
      "Epoch 1/50 | train loss: 7.548 | train acc: 0.005 | val loss: 7.538 | val acc: 0.005\n",
      "Initial model for Fold 2 saved.\n",
      "\u001b[36mNew best.\u001b[0m\n",
      "Validation accuracy increased (-inf --> 0.005208).  Saving model ...\n",
      "Epoch 2/50\n"
     ]
    },
    {
     "name": "stderr",
     "output_type": "stream",
     "text": [
      "Train: 100%|██████████| 129/129 [00:11<00:00, 10.98it/s]\n",
      "Validation: 100%|██████████| 33/33 [00:00<00:00, 67.67it/s]\n"
     ]
    },
    {
     "name": "stdout",
     "output_type": "stream",
     "text": [
      "Epoch 2/50 | train loss: 7.541 | train acc: 0.008 | val loss: 7.544 | val acc: 0.008\n",
      "\u001b[36mNew best.\u001b[0m\n",
      "Validation accuracy increased (0.005208 --> 0.008444).  Saving model ...\n",
      "Epoch 3/50\n"
     ]
    },
    {
     "name": "stderr",
     "output_type": "stream",
     "text": [
      "Train: 100%|██████████| 129/129 [00:11<00:00, 10.97it/s]\n",
      "Validation: 100%|██████████| 33/33 [00:00<00:00, 76.94it/s]\n"
     ]
    },
    {
     "name": "stdout",
     "output_type": "stream",
     "text": [
      "Epoch 3/50 | train loss: 7.483 | train acc: 0.013 | val loss: 7.564 | val acc: 0.005\n",
      "EarlyStopping counter: 1 out of 2\n",
      "Epoch 4/50\n"
     ]
    },
    {
     "name": "stderr",
     "output_type": "stream",
     "text": [
      "Train: 100%|██████████| 129/129 [00:11<00:00, 10.99it/s]\n",
      "Validation: 100%|██████████| 33/33 [00:00<00:00, 65.47it/s]\n"
     ]
    },
    {
     "name": "stdout",
     "output_type": "stream",
     "text": [
      "Epoch 4/50 | train loss: 7.426 | train acc: 0.017 | val loss: 7.580 | val acc: 0.006\n",
      "EarlyStopping counter: 2 out of 2\n",
      "Early stopping. Max Acc =  0.008443813206571522\n",
      "Max Acc =  0.008443813206571522\n",
      "Fold 3\n",
      "(tensor([[[ 3.3253e-02, -1.4489e+00, -1.0409e+00,  ..., -8.0956e-01,\n",
      "          -2.4561e+00,  3.7180e-02],\n",
      "         [ 2.4816e-02, -9.9064e-01,  7.2755e-01,  ..., -7.6430e-01,\n",
      "          -2.1944e+00,  1.3838e-02],\n",
      "         [ 2.2529e-02, -1.0429e+00,  1.0697e+00,  ..., -5.2194e-01,\n",
      "          -2.2268e+00,  4.5174e-02],\n",
      "         ...,\n",
      "         [ 1.2818e-02,  2.3851e-02,  3.6620e-01,  ...,  1.7940e-01,\n",
      "           1.0473e+00, -1.2229e-02],\n",
      "         [ 3.4267e-02, -3.0432e+00, -7.8125e-01,  ...,  5.3121e-02,\n",
      "          -1.0012e+00,  3.0161e-02],\n",
      "         [ 1.9249e-03, -2.6738e-01,  8.2828e-02,  ..., -7.0045e-01,\n",
      "           1.8013e-01,  4.1457e-02]]]), tensor(1225))\n",
      "Epoch 1/50\n"
     ]
    },
    {
     "name": "stderr",
     "output_type": "stream",
     "text": [
      "Train: 100%|██████████| 129/129 [00:11<00:00, 11.01it/s]\n",
      "Validation: 100%|██████████| 33/33 [00:00<00:00, 67.27it/s]\n"
     ]
    },
    {
     "name": "stdout",
     "output_type": "stream",
     "text": [
      "Epoch 1/50 | train loss: 7.547 | train acc: 0.004 | val loss: 7.535 | val acc: 0.007\n",
      "Initial model for Fold 3 saved.\n",
      "\u001b[36mNew best.\u001b[0m\n",
      "Validation accuracy increased (-inf --> 0.006866).  Saving model ...\n",
      "Epoch 2/50\n"
     ]
    },
    {
     "name": "stderr",
     "output_type": "stream",
     "text": [
      "Train: 100%|██████████| 129/129 [00:11<00:00, 10.92it/s]\n",
      "Validation: 100%|██████████| 33/33 [00:00<00:00, 68.34it/s]\n"
     ]
    },
    {
     "name": "stdout",
     "output_type": "stream",
     "text": [
      "Epoch 2/50 | train loss: 7.539 | train acc: 0.007 | val loss: 7.543 | val acc: 0.007\n",
      "\u001b[36mNew best.\u001b[0m\n",
      "Validation accuracy increased (0.006866 --> 0.007102).  Saving model ...\n",
      "Epoch 3/50\n"
     ]
    },
    {
     "name": "stderr",
     "output_type": "stream",
     "text": [
      "Train: 100%|██████████| 129/129 [00:11<00:00, 10.90it/s]\n",
      "Validation: 100%|██████████| 33/33 [00:00<00:00, 61.36it/s]\n"
     ]
    },
    {
     "name": "stdout",
     "output_type": "stream",
     "text": [
      "Epoch 3/50 | train loss: 7.485 | train acc: 0.012 | val loss: 7.557 | val acc: 0.007\n",
      "EarlyStopping counter: 1 out of 2\n",
      "Epoch 4/50\n"
     ]
    },
    {
     "name": "stderr",
     "output_type": "stream",
     "text": [
      "Train: 100%|██████████| 129/129 [00:11<00:00, 11.00it/s]\n",
      "Validation: 100%|██████████| 33/33 [00:00<00:00, 72.90it/s]\n"
     ]
    },
    {
     "name": "stdout",
     "output_type": "stream",
     "text": [
      "Epoch 4/50 | train loss: 7.429 | train acc: 0.018 | val loss: 7.576 | val acc: 0.009\n",
      "\u001b[36mNew best.\u001b[0m\n",
      "Validation accuracy increased (0.007102 --> 0.009233).  Saving model ...\n",
      "Epoch 5/50\n"
     ]
    },
    {
     "name": "stderr",
     "output_type": "stream",
     "text": [
      "Train: 100%|██████████| 129/129 [00:11<00:00, 11.01it/s]\n",
      "Validation: 100%|██████████| 33/33 [00:00<00:00, 73.71it/s]\n"
     ]
    },
    {
     "name": "stdout",
     "output_type": "stream",
     "text": [
      "Epoch 5/50 | train loss: 7.337 | train acc: 0.025 | val loss: 7.610 | val acc: 0.007\n",
      "EarlyStopping counter: 1 out of 2\n",
      "Epoch 6/50\n"
     ]
    },
    {
     "name": "stderr",
     "output_type": "stream",
     "text": [
      "Train: 100%|██████████| 129/129 [00:11<00:00, 10.99it/s]\n",
      "Validation: 100%|██████████| 33/33 [00:00<00:00, 65.32it/s]\n"
     ]
    },
    {
     "name": "stdout",
     "output_type": "stream",
     "text": [
      "Epoch 6/50 | train loss: 7.178 | train acc: 0.038 | val loss: 7.685 | val acc: 0.009\n",
      "EarlyStopping counter: 2 out of 2\n",
      "Early stopping. Max Acc =  0.009232954545454546\n",
      "Max Acc =  0.009232954545454546\n",
      "Fold 4\n",
      "(tensor([[[ 3.3253e-02, -1.4489e+00, -1.0409e+00,  ..., -8.0956e-01,\n",
      "          -2.4561e+00,  3.7180e-02],\n",
      "         [ 2.4816e-02, -9.9064e-01,  7.2755e-01,  ..., -7.6430e-01,\n",
      "          -2.1944e+00,  1.3838e-02],\n",
      "         [ 2.2529e-02, -1.0429e+00,  1.0697e+00,  ..., -5.2194e-01,\n",
      "          -2.2268e+00,  4.5174e-02],\n",
      "         ...,\n",
      "         [ 1.2818e-02,  2.3851e-02,  3.6620e-01,  ...,  1.7940e-01,\n",
      "           1.0473e+00, -1.2229e-02],\n",
      "         [ 3.4267e-02, -3.0432e+00, -7.8125e-01,  ...,  5.3121e-02,\n",
      "          -1.0012e+00,  3.0161e-02],\n",
      "         [ 1.9249e-03, -2.6738e-01,  8.2828e-02,  ..., -7.0045e-01,\n",
      "           1.8013e-01,  4.1457e-02]]]), tensor(1225))\n",
      "Epoch 1/50\n"
     ]
    },
    {
     "name": "stderr",
     "output_type": "stream",
     "text": [
      "Train: 100%|██████████| 129/129 [00:11<00:00, 10.95it/s]\n",
      "Validation: 100%|██████████| 33/33 [00:00<00:00, 71.88it/s]\n"
     ]
    },
    {
     "name": "stdout",
     "output_type": "stream",
     "text": [
      "Epoch 1/50 | train loss: 7.544 | train acc: 0.006 | val loss: 7.535 | val acc: 0.006\n",
      "Initial model for Fold 4 saved.\n",
      "\u001b[36mNew best.\u001b[0m\n",
      "Validation accuracy increased (-inf --> 0.006392).  Saving model ...\n",
      "Epoch 2/50\n"
     ]
    },
    {
     "name": "stderr",
     "output_type": "stream",
     "text": [
      "Train: 100%|██████████| 129/129 [00:11<00:00, 10.96it/s]\n",
      "Validation: 100%|██████████| 33/33 [00:00<00:00, 74.97it/s]\n"
     ]
    },
    {
     "name": "stdout",
     "output_type": "stream",
     "text": [
      "Epoch 2/50 | train loss: 7.538 | train acc: 0.007 | val loss: 7.545 | val acc: 0.005\n",
      "EarlyStopping counter: 1 out of 2\n",
      "Epoch 3/50\n"
     ]
    },
    {
     "name": "stderr",
     "output_type": "stream",
     "text": [
      "Train: 100%|██████████| 129/129 [00:11<00:00, 10.95it/s]\n",
      "Validation: 100%|██████████| 33/33 [00:00<00:00, 64.05it/s]\n"
     ]
    },
    {
     "name": "stdout",
     "output_type": "stream",
     "text": [
      "Epoch 3/50 | train loss: 7.481 | train acc: 0.013 | val loss: 7.561 | val acc: 0.008\n",
      "\u001b[36mNew best.\u001b[0m\n",
      "Validation accuracy increased (0.006392 --> 0.008049).  Saving model ...\n",
      "Epoch 4/50\n"
     ]
    },
    {
     "name": "stderr",
     "output_type": "stream",
     "text": [
      "Train: 100%|██████████| 129/129 [00:11<00:00, 10.95it/s]\n",
      "Validation: 100%|██████████| 33/33 [00:00<00:00, 89.79it/s]\n"
     ]
    },
    {
     "name": "stdout",
     "output_type": "stream",
     "text": [
      "Epoch 4/50 | train loss: 7.426 | train acc: 0.018 | val loss: 7.579 | val acc: 0.009\n",
      "\u001b[36mNew best.\u001b[0m\n",
      "Validation accuracy increased (0.008049 --> 0.008523).  Saving model ...\n",
      "Epoch 5/50\n"
     ]
    },
    {
     "name": "stderr",
     "output_type": "stream",
     "text": [
      "Train: 100%|██████████| 129/129 [00:11<00:00, 10.94it/s]\n",
      "Validation: 100%|██████████| 33/33 [00:00<00:00, 65.40it/s]\n"
     ]
    },
    {
     "name": "stdout",
     "output_type": "stream",
     "text": [
      "Epoch 5/50 | train loss: 7.336 | train acc: 0.025 | val loss: 7.637 | val acc: 0.009\n",
      "\u001b[36mNew best.\u001b[0m\n",
      "Validation accuracy increased (0.008523 --> 0.008759).  Saving model ...\n",
      "Epoch 6/50\n"
     ]
    },
    {
     "name": "stderr",
     "output_type": "stream",
     "text": [
      "Train: 100%|██████████| 129/129 [00:11<00:00, 10.99it/s]\n",
      "Validation: 100%|██████████| 33/33 [00:00<00:00, 63.87it/s]\n"
     ]
    },
    {
     "name": "stdout",
     "output_type": "stream",
     "text": [
      "Epoch 6/50 | train loss: 7.191 | train acc: 0.038 | val loss: 7.695 | val acc: 0.009\n",
      "Validation accuracy increased (0.008759 --> 0.008759).  Saving model ...\n",
      "Epoch 7/50\n"
     ]
    },
    {
     "name": "stderr",
     "output_type": "stream",
     "text": [
      "Train: 100%|██████████| 129/129 [00:11<00:00, 10.93it/s]\n",
      "Validation: 100%|██████████| 33/33 [00:00<00:00, 67.84it/s]\n"
     ]
    },
    {
     "name": "stdout",
     "output_type": "stream",
     "text": [
      "Epoch 7/50 | train loss: 6.999 | train acc: 0.055 | val loss: 7.800 | val acc: 0.009\n",
      "Validation accuracy increased (0.008759 --> 0.008759).  Saving model ...\n",
      "Epoch 8/50\n"
     ]
    },
    {
     "name": "stderr",
     "output_type": "stream",
     "text": [
      "Train: 100%|██████████| 129/129 [00:11<00:00, 11.00it/s]\n",
      "Validation: 100%|██████████| 33/33 [00:00<00:00, 63.12it/s]\n"
     ]
    },
    {
     "name": "stdout",
     "output_type": "stream",
     "text": [
      "Epoch 8/50 | train loss: 6.790 | train acc: 0.081 | val loss: 7.894 | val acc: 0.007\n",
      "EarlyStopping counter: 1 out of 2\n",
      "Epoch 9/50\n"
     ]
    },
    {
     "name": "stderr",
     "output_type": "stream",
     "text": [
      "Train: 100%|██████████| 129/129 [00:11<00:00, 11.03it/s]\n",
      "Validation: 100%|██████████| 33/33 [00:00<00:00, 69.44it/s]\n"
     ]
    },
    {
     "name": "stdout",
     "output_type": "stream",
     "text": [
      "Epoch 9/50 | train loss: 6.561 | train acc: 0.115 | val loss: 8.048 | val acc: 0.006\n",
      "EarlyStopping counter: 2 out of 2\n",
      "Early stopping. Max Acc =  0.008759469696969696\n",
      "Max Acc =  0.008759469696969696\n",
      "Fold 5\n",
      "(tensor([[[ 3.3253e-02, -1.4489e+00, -1.0409e+00,  ..., -8.0956e-01,\n",
      "          -2.4561e+00,  3.7180e-02],\n",
      "         [ 2.4816e-02, -9.9064e-01,  7.2755e-01,  ..., -7.6430e-01,\n",
      "          -2.1944e+00,  1.3838e-02],\n",
      "         [ 2.2529e-02, -1.0429e+00,  1.0697e+00,  ..., -5.2194e-01,\n",
      "          -2.2268e+00,  4.5174e-02],\n",
      "         ...,\n",
      "         [ 1.2818e-02,  2.3851e-02,  3.6620e-01,  ...,  1.7940e-01,\n",
      "           1.0473e+00, -1.2229e-02],\n",
      "         [ 3.4267e-02, -3.0432e+00, -7.8125e-01,  ...,  5.3121e-02,\n",
      "          -1.0012e+00,  3.0161e-02],\n",
      "         [ 1.9249e-03, -2.6738e-01,  8.2828e-02,  ..., -7.0045e-01,\n",
      "           1.8013e-01,  4.1457e-02]]]), tensor(1225))\n",
      "Epoch 1/50\n"
     ]
    },
    {
     "name": "stderr",
     "output_type": "stream",
     "text": [
      "Train: 100%|██████████| 129/129 [00:11<00:00, 11.02it/s]\n",
      "Validation: 100%|██████████| 33/33 [00:00<00:00, 68.93it/s]\n"
     ]
    },
    {
     "name": "stdout",
     "output_type": "stream",
     "text": [
      "Epoch 1/50 | train loss: 7.544 | train acc: 0.005 | val loss: 7.535 | val acc: 0.004\n",
      "Initial model for Fold 5 saved.\n",
      "\u001b[36mNew best.\u001b[0m\n",
      "Validation accuracy increased (-inf --> 0.003551).  Saving model ...\n",
      "Epoch 2/50\n"
     ]
    },
    {
     "name": "stderr",
     "output_type": "stream",
     "text": [
      "Train: 100%|██████████| 129/129 [00:11<00:00, 11.00it/s]\n",
      "Validation: 100%|██████████| 33/33 [00:00<00:00, 67.12it/s]\n"
     ]
    },
    {
     "name": "stdout",
     "output_type": "stream",
     "text": [
      "Epoch 2/50 | train loss: 7.539 | train acc: 0.007 | val loss: 7.547 | val acc: 0.007\n",
      "\u001b[36mNew best.\u001b[0m\n",
      "Validation accuracy increased (0.003551 --> 0.007102).  Saving model ...\n",
      "Epoch 3/50\n"
     ]
    },
    {
     "name": "stderr",
     "output_type": "stream",
     "text": [
      "Train: 100%|██████████| 129/129 [00:11<00:00, 10.96it/s]\n",
      "Validation: 100%|██████████| 33/33 [00:00<00:00, 69.56it/s]\n"
     ]
    },
    {
     "name": "stdout",
     "output_type": "stream",
     "text": [
      "Epoch 3/50 | train loss: 7.480 | train acc: 0.013 | val loss: 7.558 | val acc: 0.007\n",
      "Validation accuracy increased (0.007102 --> 0.007102).  Saving model ...\n",
      "Epoch 4/50\n"
     ]
    },
    {
     "name": "stderr",
     "output_type": "stream",
     "text": [
      "Train: 100%|██████████| 129/129 [00:11<00:00, 11.05it/s]\n",
      "Validation: 100%|██████████| 33/33 [00:00<00:00, 71.97it/s]\n"
     ]
    },
    {
     "name": "stdout",
     "output_type": "stream",
     "text": [
      "Epoch 4/50 | train loss: 7.419 | train acc: 0.020 | val loss: 7.582 | val acc: 0.008\n",
      "\u001b[36mNew best.\u001b[0m\n",
      "Validation accuracy increased (0.007102 --> 0.007576).  Saving model ...\n",
      "Epoch 5/50\n"
     ]
    },
    {
     "name": "stderr",
     "output_type": "stream",
     "text": [
      "Train: 100%|██████████| 129/129 [00:11<00:00, 11.03it/s]\n",
      "Validation: 100%|██████████| 33/33 [00:00<00:00, 66.27it/s]\n"
     ]
    },
    {
     "name": "stdout",
     "output_type": "stream",
     "text": [
      "Epoch 5/50 | train loss: 7.321 | train acc: 0.026 | val loss: 7.626 | val acc: 0.007\n",
      "EarlyStopping counter: 1 out of 2\n",
      "Epoch 6/50\n"
     ]
    },
    {
     "name": "stderr",
     "output_type": "stream",
     "text": [
      "Train: 100%|██████████| 129/129 [00:11<00:00, 11.09it/s]\n",
      "Validation: 100%|██████████| 33/33 [00:00<00:00, 68.98it/s]\n",
      "[I 2024-06-29 01:40:58,648] Trial 57 finished with value: 0.008412247489799154 and parameters: {'lowcut': 10.506871754729339, 'highcut': 60.300601399211374}. Best is trial 39 with value: 0.01950757575757576.\n"
     ]
    },
    {
     "name": "stdout",
     "output_type": "stream",
     "text": [
      "Epoch 6/50 | train loss: 7.171 | train acc: 0.039 | val loss: 7.713 | val acc: 0.005\n",
      "EarlyStopping counter: 2 out of 2\n",
      "Early stopping. Max Acc =  0.007575757575757576\n",
      "Max Acc =  0.007575757575757576\n",
      "Acc mean =  0.008412247489799154\n",
      "Start objective 58\n",
      "lowcut: 27.76543480985422, highcut: 50.93017812527952\n",
      "resample_data\n",
      "bandpass_filter\n",
      "standardize\n",
      "torch.Size([20540, 1, 271, 128])\n",
      "torch.Size([20540])\n",
      "Fold 1\n",
      "(tensor([[[ 1.7226e-02, -8.5950e-01,  1.0883e+00,  ...,  4.8497e-02,\n",
      "          -3.0537e+00, -1.1398e-03],\n",
      "         [ 1.7174e-02, -1.3957e+00,  1.5788e+00,  ...,  4.8500e-04,\n",
      "          -2.8965e+00,  1.7372e-02],\n",
      "         [ 1.7283e-02, -2.0279e+00,  2.5292e+00,  ...,  7.0602e-01,\n",
      "          -3.0035e+00,  1.4942e-02],\n",
      "         ...,\n",
      "         [-4.5211e-03, -4.0025e-01,  5.6900e-01,  ..., -3.7044e-01,\n",
      "           1.2136e+00,  2.9822e-03],\n",
      "         [ 1.8474e-03, -1.9735e+00,  1.3551e+00,  ...,  7.7766e-01,\n",
      "          -2.5869e-01,  3.0585e-03],\n",
      "         [ 3.3133e-03, -3.7658e-01,  2.8729e-01,  ..., -1.1476e+00,\n",
      "           6.1695e-01,  2.5888e-02]]]), tensor(1225))\n",
      "Epoch 1/50\n"
     ]
    },
    {
     "name": "stderr",
     "output_type": "stream",
     "text": [
      "Train: 100%|██████████| 129/129 [00:11<00:00, 11.04it/s]\n",
      "Validation: 100%|██████████| 33/33 [00:00<00:00, 66.83it/s]\n"
     ]
    },
    {
     "name": "stdout",
     "output_type": "stream",
     "text": [
      "Epoch 1/50 | train loss: 7.556 | train acc: 0.006 | val loss: 7.541 | val acc: 0.004\n",
      "Initial model for Fold 1 saved.\n",
      "\u001b[36mNew best.\u001b[0m\n",
      "Validation accuracy increased (-inf --> 0.004261).  Saving model ...\n",
      "Epoch 2/50\n"
     ]
    },
    {
     "name": "stderr",
     "output_type": "stream",
     "text": [
      "Train: 100%|██████████| 129/129 [00:11<00:00, 11.02it/s]\n",
      "Validation: 100%|██████████| 33/33 [00:00<00:00, 66.54it/s]\n"
     ]
    },
    {
     "name": "stdout",
     "output_type": "stream",
     "text": [
      "Epoch 2/50 | train loss: 7.546 | train acc: 0.007 | val loss: 7.549 | val acc: 0.004\n",
      "\u001b[36mNew best.\u001b[0m\n",
      "Validation accuracy increased (0.004261 --> 0.004498).  Saving model ...\n",
      "Epoch 3/50\n"
     ]
    },
    {
     "name": "stderr",
     "output_type": "stream",
     "text": [
      "Train: 100%|██████████| 129/129 [00:11<00:00, 11.02it/s]\n",
      "Validation: 100%|██████████| 33/33 [00:00<00:00, 70.38it/s]\n"
     ]
    },
    {
     "name": "stdout",
     "output_type": "stream",
     "text": [
      "Epoch 3/50 | train loss: 7.462 | train acc: 0.014 | val loss: 7.573 | val acc: 0.006\n",
      "\u001b[36mNew best.\u001b[0m\n",
      "Validation accuracy increased (0.004498 --> 0.006155).  Saving model ...\n",
      "Epoch 4/50\n"
     ]
    },
    {
     "name": "stderr",
     "output_type": "stream",
     "text": [
      "Train: 100%|██████████| 129/129 [00:11<00:00, 10.99it/s]\n",
      "Validation: 100%|██████████| 33/33 [00:00<00:00, 71.47it/s]\n"
     ]
    },
    {
     "name": "stdout",
     "output_type": "stream",
     "text": [
      "Epoch 4/50 | train loss: 7.333 | train acc: 0.026 | val loss: 7.609 | val acc: 0.004\n",
      "EarlyStopping counter: 1 out of 2\n",
      "Epoch 5/50\n"
     ]
    },
    {
     "name": "stderr",
     "output_type": "stream",
     "text": [
      "Train: 100%|██████████| 129/129 [00:11<00:00, 11.02it/s]\n",
      "Validation: 100%|██████████| 33/33 [00:00<00:00, 62.95it/s]\n"
     ]
    },
    {
     "name": "stdout",
     "output_type": "stream",
     "text": [
      "Epoch 5/50 | train loss: 7.116 | train acc: 0.050 | val loss: 7.714 | val acc: 0.007\n",
      "\u001b[36mNew best.\u001b[0m\n",
      "Validation accuracy increased (0.006155 --> 0.006866).  Saving model ...\n",
      "Epoch 6/50\n"
     ]
    },
    {
     "name": "stderr",
     "output_type": "stream",
     "text": [
      "Train: 100%|██████████| 129/129 [00:11<00:00, 11.05it/s]\n",
      "Validation: 100%|██████████| 33/33 [00:00<00:00, 70.12it/s]\n"
     ]
    },
    {
     "name": "stdout",
     "output_type": "stream",
     "text": [
      "Epoch 6/50 | train loss: 6.828 | train acc: 0.087 | val loss: 7.811 | val acc: 0.006\n",
      "EarlyStopping counter: 1 out of 2\n",
      "Epoch 7/50\n"
     ]
    },
    {
     "name": "stderr",
     "output_type": "stream",
     "text": [
      "Train: 100%|██████████| 129/129 [00:11<00:00, 11.06it/s]\n",
      "Validation: 100%|██████████| 33/33 [00:00<00:00, 70.51it/s]\n"
     ]
    },
    {
     "name": "stdout",
     "output_type": "stream",
     "text": [
      "Epoch 7/50 | train loss: 6.523 | train acc: 0.134 | val loss: 7.970 | val acc: 0.006\n",
      "EarlyStopping counter: 2 out of 2\n",
      "Early stopping. Max Acc =  0.006865530303030303\n",
      "Max Acc =  0.006865530303030303\n",
      "Fold 2\n",
      "(tensor([[[ 1.7226e-02, -8.5950e-01,  1.0883e+00,  ...,  4.8497e-02,\n",
      "          -3.0537e+00, -1.1398e-03],\n",
      "         [ 1.7174e-02, -1.3957e+00,  1.5788e+00,  ...,  4.8500e-04,\n",
      "          -2.8965e+00,  1.7372e-02],\n",
      "         [ 1.7283e-02, -2.0279e+00,  2.5292e+00,  ...,  7.0602e-01,\n",
      "          -3.0035e+00,  1.4942e-02],\n",
      "         ...,\n",
      "         [-4.5211e-03, -4.0025e-01,  5.6900e-01,  ..., -3.7044e-01,\n",
      "           1.2136e+00,  2.9822e-03],\n",
      "         [ 1.8474e-03, -1.9735e+00,  1.3551e+00,  ...,  7.7766e-01,\n",
      "          -2.5869e-01,  3.0585e-03],\n",
      "         [ 3.3133e-03, -3.7658e-01,  2.8729e-01,  ..., -1.1476e+00,\n",
      "           6.1695e-01,  2.5888e-02]]]), tensor(1225))\n",
      "Epoch 1/50\n"
     ]
    },
    {
     "name": "stderr",
     "output_type": "stream",
     "text": [
      "Train: 100%|██████████| 129/129 [00:11<00:00, 10.99it/s]\n",
      "Validation: 100%|██████████| 33/33 [00:00<00:00, 67.45it/s]\n"
     ]
    },
    {
     "name": "stdout",
     "output_type": "stream",
     "text": [
      "Epoch 1/50 | train loss: 7.561 | train acc: 0.006 | val loss: 7.540 | val acc: 0.006\n",
      "Initial model for Fold 2 saved.\n",
      "\u001b[36mNew best.\u001b[0m\n",
      "Validation accuracy increased (-inf --> 0.006155).  Saving model ...\n",
      "Epoch 2/50\n"
     ]
    },
    {
     "name": "stderr",
     "output_type": "stream",
     "text": [
      "Train: 100%|██████████| 129/129 [00:11<00:00, 11.00it/s]\n",
      "Validation: 100%|██████████| 33/33 [00:00<00:00, 65.63it/s]\n"
     ]
    },
    {
     "name": "stdout",
     "output_type": "stream",
     "text": [
      "Epoch 2/50 | train loss: 7.544 | train acc: 0.005 | val loss: 7.560 | val acc: 0.005\n",
      "EarlyStopping counter: 1 out of 2\n",
      "Epoch 3/50\n"
     ]
    },
    {
     "name": "stderr",
     "output_type": "stream",
     "text": [
      "Train: 100%|██████████| 129/129 [00:11<00:00, 11.11it/s]\n",
      "Validation: 100%|██████████| 33/33 [00:00<00:00, 91.42it/s]\n"
     ]
    },
    {
     "name": "stdout",
     "output_type": "stream",
     "text": [
      "Epoch 3/50 | train loss: 7.460 | train acc: 0.016 | val loss: 7.570 | val acc: 0.009\n",
      "\u001b[36mNew best.\u001b[0m\n",
      "Validation accuracy increased (0.006155 --> 0.008759).  Saving model ...\n",
      "Epoch 4/50\n"
     ]
    },
    {
     "name": "stderr",
     "output_type": "stream",
     "text": [
      "Train: 100%|██████████| 129/129 [00:11<00:00, 11.14it/s]\n",
      "Validation: 100%|██████████| 33/33 [00:00<00:00, 66.16it/s]\n"
     ]
    },
    {
     "name": "stdout",
     "output_type": "stream",
     "text": [
      "Epoch 4/50 | train loss: 7.340 | train acc: 0.027 | val loss: 7.633 | val acc: 0.007\n",
      "EarlyStopping counter: 1 out of 2\n",
      "Epoch 5/50\n"
     ]
    },
    {
     "name": "stderr",
     "output_type": "stream",
     "text": [
      "Train: 100%|██████████| 129/129 [00:11<00:00, 11.08it/s]\n",
      "Validation: 100%|██████████| 33/33 [00:00<00:00, 61.94it/s]\n"
     ]
    },
    {
     "name": "stdout",
     "output_type": "stream",
     "text": [
      "Epoch 5/50 | train loss: 7.131 | train acc: 0.048 | val loss: 7.723 | val acc: 0.005\n",
      "EarlyStopping counter: 2 out of 2\n",
      "Early stopping. Max Acc =  0.008759469696969696\n",
      "Max Acc =  0.008759469696969696\n",
      "Fold 3\n",
      "(tensor([[[ 1.7226e-02, -8.5950e-01,  1.0883e+00,  ...,  4.8497e-02,\n",
      "          -3.0537e+00, -1.1398e-03],\n",
      "         [ 1.7174e-02, -1.3957e+00,  1.5788e+00,  ...,  4.8500e-04,\n",
      "          -2.8965e+00,  1.7372e-02],\n",
      "         [ 1.7283e-02, -2.0279e+00,  2.5292e+00,  ...,  7.0602e-01,\n",
      "          -3.0035e+00,  1.4942e-02],\n",
      "         ...,\n",
      "         [-4.5211e-03, -4.0025e-01,  5.6900e-01,  ..., -3.7044e-01,\n",
      "           1.2136e+00,  2.9822e-03],\n",
      "         [ 1.8474e-03, -1.9735e+00,  1.3551e+00,  ...,  7.7766e-01,\n",
      "          -2.5869e-01,  3.0585e-03],\n",
      "         [ 3.3133e-03, -3.7658e-01,  2.8729e-01,  ..., -1.1476e+00,\n",
      "           6.1695e-01,  2.5888e-02]]]), tensor(1225))\n",
      "Epoch 1/50\n"
     ]
    },
    {
     "name": "stderr",
     "output_type": "stream",
     "text": [
      "Train: 100%|██████████| 129/129 [00:11<00:00, 11.08it/s]\n",
      "Validation: 100%|██████████| 33/33 [00:00<00:00, 65.20it/s]\n"
     ]
    },
    {
     "name": "stdout",
     "output_type": "stream",
     "text": [
      "Epoch 1/50 | train loss: 7.559 | train acc: 0.006 | val loss: 7.546 | val acc: 0.005\n",
      "Initial model for Fold 3 saved.\n",
      "\u001b[36mNew best.\u001b[0m\n",
      "Validation accuracy increased (-inf --> 0.005445).  Saving model ...\n",
      "Epoch 2/50\n"
     ]
    },
    {
     "name": "stderr",
     "output_type": "stream",
     "text": [
      "Train: 100%|██████████| 129/129 [00:11<00:00, 11.03it/s]\n",
      "Validation: 100%|██████████| 33/33 [00:00<00:00, 71.37it/s]\n"
     ]
    },
    {
     "name": "stdout",
     "output_type": "stream",
     "text": [
      "Epoch 2/50 | train loss: 7.546 | train acc: 0.007 | val loss: 7.559 | val acc: 0.007\n",
      "\u001b[36mNew best.\u001b[0m\n",
      "Validation accuracy increased (0.005445 --> 0.006629).  Saving model ...\n",
      "Epoch 3/50\n"
     ]
    },
    {
     "name": "stderr",
     "output_type": "stream",
     "text": [
      "Train: 100%|██████████| 129/129 [00:11<00:00, 11.07it/s]\n",
      "Validation: 100%|██████████| 33/33 [00:00<00:00, 71.97it/s]\n"
     ]
    },
    {
     "name": "stdout",
     "output_type": "stream",
     "text": [
      "Epoch 3/50 | train loss: 7.456 | train acc: 0.016 | val loss: 7.581 | val acc: 0.006\n",
      "EarlyStopping counter: 1 out of 2\n",
      "Epoch 4/50\n"
     ]
    },
    {
     "name": "stderr",
     "output_type": "stream",
     "text": [
      "Train: 100%|██████████| 129/129 [00:11<00:00, 11.06it/s]\n",
      "Validation: 100%|██████████| 33/33 [00:00<00:00, 65.04it/s]\n"
     ]
    },
    {
     "name": "stdout",
     "output_type": "stream",
     "text": [
      "Epoch 4/50 | train loss: 7.320 | train acc: 0.028 | val loss: 7.637 | val acc: 0.004\n",
      "EarlyStopping counter: 2 out of 2\n",
      "Early stopping. Max Acc =  0.006628787878787879\n",
      "Max Acc =  0.006628787878787879\n",
      "Fold 4\n",
      "(tensor([[[ 1.7226e-02, -8.5950e-01,  1.0883e+00,  ...,  4.8497e-02,\n",
      "          -3.0537e+00, -1.1398e-03],\n",
      "         [ 1.7174e-02, -1.3957e+00,  1.5788e+00,  ...,  4.8500e-04,\n",
      "          -2.8965e+00,  1.7372e-02],\n",
      "         [ 1.7283e-02, -2.0279e+00,  2.5292e+00,  ...,  7.0602e-01,\n",
      "          -3.0035e+00,  1.4942e-02],\n",
      "         ...,\n",
      "         [-4.5211e-03, -4.0025e-01,  5.6900e-01,  ..., -3.7044e-01,\n",
      "           1.2136e+00,  2.9822e-03],\n",
      "         [ 1.8474e-03, -1.9735e+00,  1.3551e+00,  ...,  7.7766e-01,\n",
      "          -2.5869e-01,  3.0585e-03],\n",
      "         [ 3.3133e-03, -3.7658e-01,  2.8729e-01,  ..., -1.1476e+00,\n",
      "           6.1695e-01,  2.5888e-02]]]), tensor(1225))\n",
      "Epoch 1/50\n"
     ]
    },
    {
     "name": "stderr",
     "output_type": "stream",
     "text": [
      "Train: 100%|██████████| 129/129 [00:11<00:00, 11.08it/s]\n",
      "Validation: 100%|██████████| 33/33 [00:00<00:00, 68.27it/s]\n"
     ]
    },
    {
     "name": "stdout",
     "output_type": "stream",
     "text": [
      "Epoch 1/50 | train loss: 7.556 | train acc: 0.005 | val loss: 7.537 | val acc: 0.006\n",
      "Initial model for Fold 4 saved.\n",
      "\u001b[36mNew best.\u001b[0m\n",
      "Validation accuracy increased (-inf --> 0.006155).  Saving model ...\n",
      "Epoch 2/50\n"
     ]
    },
    {
     "name": "stderr",
     "output_type": "stream",
     "text": [
      "Train: 100%|██████████| 129/129 [00:11<00:00, 11.02it/s]\n",
      "Validation: 100%|██████████| 33/33 [00:00<00:00, 67.73it/s]\n"
     ]
    },
    {
     "name": "stdout",
     "output_type": "stream",
     "text": [
      "Epoch 2/50 | train loss: 7.547 | train acc: 0.005 | val loss: 7.552 | val acc: 0.007\n",
      "\u001b[36mNew best.\u001b[0m\n",
      "Validation accuracy increased (0.006155 --> 0.007102).  Saving model ...\n",
      "Epoch 3/50\n"
     ]
    },
    {
     "name": "stderr",
     "output_type": "stream",
     "text": [
      "Train: 100%|██████████| 129/129 [00:11<00:00, 11.08it/s]\n",
      "Validation: 100%|██████████| 33/33 [00:00<00:00, 68.90it/s]\n"
     ]
    },
    {
     "name": "stdout",
     "output_type": "stream",
     "text": [
      "Epoch 3/50 | train loss: 7.463 | train acc: 0.014 | val loss: 7.570 | val acc: 0.005\n",
      "EarlyStopping counter: 1 out of 2\n",
      "Epoch 4/50\n"
     ]
    },
    {
     "name": "stderr",
     "output_type": "stream",
     "text": [
      "Train: 100%|██████████| 129/129 [00:11<00:00, 11.03it/s]\n",
      "Validation: 100%|██████████| 33/33 [00:00<00:00, 69.49it/s]\n"
     ]
    },
    {
     "name": "stdout",
     "output_type": "stream",
     "text": [
      "Epoch 4/50 | train loss: 7.347 | train acc: 0.025 | val loss: 7.625 | val acc: 0.005\n",
      "EarlyStopping counter: 2 out of 2\n",
      "Early stopping. Max Acc =  0.007102272727272727\n",
      "Max Acc =  0.007102272727272727\n",
      "Fold 5\n",
      "(tensor([[[ 1.7226e-02, -8.5950e-01,  1.0883e+00,  ...,  4.8497e-02,\n",
      "          -3.0537e+00, -1.1398e-03],\n",
      "         [ 1.7174e-02, -1.3957e+00,  1.5788e+00,  ...,  4.8500e-04,\n",
      "          -2.8965e+00,  1.7372e-02],\n",
      "         [ 1.7283e-02, -2.0279e+00,  2.5292e+00,  ...,  7.0602e-01,\n",
      "          -3.0035e+00,  1.4942e-02],\n",
      "         ...,\n",
      "         [-4.5211e-03, -4.0025e-01,  5.6900e-01,  ..., -3.7044e-01,\n",
      "           1.2136e+00,  2.9822e-03],\n",
      "         [ 1.8474e-03, -1.9735e+00,  1.3551e+00,  ...,  7.7766e-01,\n",
      "          -2.5869e-01,  3.0585e-03],\n",
      "         [ 3.3133e-03, -3.7658e-01,  2.8729e-01,  ..., -1.1476e+00,\n",
      "           6.1695e-01,  2.5888e-02]]]), tensor(1225))\n",
      "Epoch 1/50\n"
     ]
    },
    {
     "name": "stderr",
     "output_type": "stream",
     "text": [
      "Train: 100%|██████████| 129/129 [00:11<00:00, 11.07it/s]\n",
      "Validation: 100%|██████████| 33/33 [00:00<00:00, 66.43it/s]\n"
     ]
    },
    {
     "name": "stdout",
     "output_type": "stream",
     "text": [
      "Epoch 1/50 | train loss: 7.556 | train acc: 0.005 | val loss: 7.542 | val acc: 0.004\n",
      "Initial model for Fold 5 saved.\n",
      "\u001b[36mNew best.\u001b[0m\n",
      "Validation accuracy increased (-inf --> 0.004025).  Saving model ...\n",
      "Epoch 2/50\n"
     ]
    },
    {
     "name": "stderr",
     "output_type": "stream",
     "text": [
      "Train: 100%|██████████| 129/129 [00:11<00:00, 11.06it/s]\n",
      "Validation: 100%|██████████| 33/33 [00:00<00:00, 65.34it/s]\n"
     ]
    },
    {
     "name": "stdout",
     "output_type": "stream",
     "text": [
      "Epoch 2/50 | train loss: 7.547 | train acc: 0.006 | val loss: 7.554 | val acc: 0.007\n",
      "\u001b[36mNew best.\u001b[0m\n",
      "Validation accuracy increased (0.004025 --> 0.006629).  Saving model ...\n",
      "Epoch 3/50\n"
     ]
    },
    {
     "name": "stderr",
     "output_type": "stream",
     "text": [
      "Train: 100%|██████████| 129/129 [00:11<00:00, 11.12it/s]\n",
      "Validation: 100%|██████████| 33/33 [00:00<00:00, 73.33it/s]\n"
     ]
    },
    {
     "name": "stdout",
     "output_type": "stream",
     "text": [
      "Epoch 3/50 | train loss: 7.460 | train acc: 0.014 | val loss: 7.584 | val acc: 0.005\n",
      "EarlyStopping counter: 1 out of 2\n",
      "Epoch 4/50\n"
     ]
    },
    {
     "name": "stderr",
     "output_type": "stream",
     "text": [
      "Train: 100%|██████████| 129/129 [00:11<00:00, 11.09it/s]\n",
      "Validation: 100%|██████████| 33/33 [00:00<00:00, 76.56it/s]\n",
      "[I 2024-06-29 01:46:38,140] Trial 58 finished with value: 0.007196969696969697 and parameters: {'lowcut': 27.76543480985422, 'highcut': 50.93017812527952}. Best is trial 39 with value: 0.01950757575757576.\n"
     ]
    },
    {
     "name": "stdout",
     "output_type": "stream",
     "text": [
      "Epoch 4/50 | train loss: 7.329 | train acc: 0.027 | val loss: 7.629 | val acc: 0.005\n",
      "EarlyStopping counter: 2 out of 2\n",
      "Early stopping. Max Acc =  0.006628787878787879\n",
      "Max Acc =  0.006628787878787879\n",
      "Acc mean =  0.007196969696969697\n",
      "Start objective 59\n",
      "lowcut: 35.733354904588566, highcut: 56.67536481015861\n",
      "resample_data\n",
      "bandpass_filter\n",
      "standardize\n",
      "torch.Size([20540, 1, 271, 128])\n",
      "torch.Size([20540])\n",
      "Fold 1\n",
      "(tensor([[[ 1.9697e-03, -1.1639e+00,  1.3301e+00,  ...,  7.8094e-01,\n",
      "          -1.1682e+00,  1.0275e-02],\n",
      "         [ 1.5136e-02, -1.9519e+00,  2.5263e+00,  ...,  1.0737e-01,\n",
      "          -8.3644e-01,  9.2817e-04],\n",
      "         [ 2.1460e-02, -2.8935e+00,  3.2487e+00,  ...,  7.7539e-01,\n",
      "          -1.3411e+00,  2.0330e-03],\n",
      "         ...,\n",
      "         [ 1.3237e-04, -1.1414e+00,  1.4215e+00,  ..., -6.8526e-01,\n",
      "           6.8019e-01, -2.2801e-02],\n",
      "         [ 8.6335e-03, -1.9157e+00,  2.6595e+00,  ...,  1.3868e+00,\n",
      "          -9.6036e-01, -3.4207e-02],\n",
      "         [-1.9270e-02, -1.4178e+00,  1.4457e+00,  ..., -1.4706e+00,\n",
      "           1.4027e+00,  5.0816e-02]]]), tensor(1225))\n",
      "Epoch 1/50\n"
     ]
    },
    {
     "name": "stderr",
     "output_type": "stream",
     "text": [
      "Train: 100%|██████████| 129/129 [00:11<00:00, 10.89it/s]\n",
      "Validation: 100%|██████████| 33/33 [00:00<00:00, 65.28it/s]\n"
     ]
    },
    {
     "name": "stdout",
     "output_type": "stream",
     "text": [
      "Epoch 1/50 | train loss: 7.551 | train acc: 0.006 | val loss: 7.537 | val acc: 0.004\n",
      "Initial model for Fold 1 saved.\n",
      "\u001b[36mNew best.\u001b[0m\n",
      "Validation accuracy increased (-inf --> 0.004498).  Saving model ...\n",
      "Epoch 2/50\n"
     ]
    },
    {
     "name": "stderr",
     "output_type": "stream",
     "text": [
      "Train: 100%|██████████| 129/129 [00:11<00:00, 11.04it/s]\n",
      "Validation: 100%|██████████| 33/33 [00:00<00:00, 65.96it/s]\n"
     ]
    },
    {
     "name": "stdout",
     "output_type": "stream",
     "text": [
      "Epoch 2/50 | train loss: 7.547 | train acc: 0.006 | val loss: 7.544 | val acc: 0.003\n",
      "EarlyStopping counter: 1 out of 2\n",
      "Epoch 3/50\n"
     ]
    },
    {
     "name": "stderr",
     "output_type": "stream",
     "text": [
      "Train: 100%|██████████| 129/129 [00:11<00:00, 10.98it/s]\n",
      "Validation: 100%|██████████| 33/33 [00:00<00:00, 75.43it/s]\n"
     ]
    },
    {
     "name": "stdout",
     "output_type": "stream",
     "text": [
      "Epoch 3/50 | train loss: 7.467 | train acc: 0.013 | val loss: 7.563 | val acc: 0.004\n",
      "Validation accuracy increased (0.004498 --> 0.004498).  Saving model ...\n",
      "Epoch 4/50\n"
     ]
    },
    {
     "name": "stderr",
     "output_type": "stream",
     "text": [
      "Train: 100%|██████████| 129/129 [00:11<00:00, 10.97it/s]\n",
      "Validation: 100%|██████████| 33/33 [00:00<00:00, 70.68it/s]\n"
     ]
    },
    {
     "name": "stdout",
     "output_type": "stream",
     "text": [
      "Epoch 4/50 | train loss: 7.359 | train acc: 0.023 | val loss: 7.598 | val acc: 0.007\n",
      "\u001b[36mNew best.\u001b[0m\n",
      "Validation accuracy increased (0.004498 --> 0.007102).  Saving model ...\n",
      "Epoch 5/50\n"
     ]
    },
    {
     "name": "stderr",
     "output_type": "stream",
     "text": [
      "Train: 100%|██████████| 129/129 [00:11<00:00, 10.95it/s]\n",
      "Validation: 100%|██████████| 33/33 [00:00<00:00, 67.13it/s]\n"
     ]
    },
    {
     "name": "stdout",
     "output_type": "stream",
     "text": [
      "Epoch 5/50 | train loss: 7.164 | train acc: 0.042 | val loss: 7.682 | val acc: 0.005\n",
      "EarlyStopping counter: 1 out of 2\n",
      "Epoch 6/50\n"
     ]
    },
    {
     "name": "stderr",
     "output_type": "stream",
     "text": [
      "Train: 100%|██████████| 129/129 [00:11<00:00, 10.92it/s]\n",
      "Validation: 100%|██████████| 33/33 [00:00<00:00, 69.82it/s]\n"
     ]
    },
    {
     "name": "stdout",
     "output_type": "stream",
     "text": [
      "Epoch 6/50 | train loss: 6.885 | train acc: 0.079 | val loss: 7.808 | val acc: 0.004\n",
      "EarlyStopping counter: 2 out of 2\n",
      "Early stopping. Max Acc =  0.007102272727272727\n",
      "Max Acc =  0.007102272727272727\n",
      "Fold 2\n",
      "(tensor([[[ 1.9697e-03, -1.1639e+00,  1.3301e+00,  ...,  7.8094e-01,\n",
      "          -1.1682e+00,  1.0275e-02],\n",
      "         [ 1.5136e-02, -1.9519e+00,  2.5263e+00,  ...,  1.0737e-01,\n",
      "          -8.3644e-01,  9.2817e-04],\n",
      "         [ 2.1460e-02, -2.8935e+00,  3.2487e+00,  ...,  7.7539e-01,\n",
      "          -1.3411e+00,  2.0330e-03],\n",
      "         ...,\n",
      "         [ 1.3237e-04, -1.1414e+00,  1.4215e+00,  ..., -6.8526e-01,\n",
      "           6.8019e-01, -2.2801e-02],\n",
      "         [ 8.6335e-03, -1.9157e+00,  2.6595e+00,  ...,  1.3868e+00,\n",
      "          -9.6036e-01, -3.4207e-02],\n",
      "         [-1.9270e-02, -1.4178e+00,  1.4457e+00,  ..., -1.4706e+00,\n",
      "           1.4027e+00,  5.0816e-02]]]), tensor(1225))\n",
      "Epoch 1/50\n"
     ]
    },
    {
     "name": "stderr",
     "output_type": "stream",
     "text": [
      "Train: 100%|██████████| 129/129 [00:11<00:00, 10.99it/s]\n",
      "Validation: 100%|██████████| 33/33 [00:00<00:00, 73.12it/s]\n"
     ]
    },
    {
     "name": "stdout",
     "output_type": "stream",
     "text": [
      "Epoch 1/50 | train loss: 7.553 | train acc: 0.006 | val loss: 7.540 | val acc: 0.004\n",
      "Initial model for Fold 2 saved.\n",
      "\u001b[36mNew best.\u001b[0m\n",
      "Validation accuracy increased (-inf --> 0.004025).  Saving model ...\n",
      "Epoch 2/50\n"
     ]
    },
    {
     "name": "stderr",
     "output_type": "stream",
     "text": [
      "Train: 100%|██████████| 129/129 [00:11<00:00, 11.07it/s]\n",
      "Validation: 100%|██████████| 33/33 [00:00<00:00, 70.41it/s]\n"
     ]
    },
    {
     "name": "stdout",
     "output_type": "stream",
     "text": [
      "Epoch 2/50 | train loss: 7.547 | train acc: 0.006 | val loss: 7.544 | val acc: 0.006\n",
      "\u001b[36mNew best.\u001b[0m\n",
      "Validation accuracy increased (0.004025 --> 0.005919).  Saving model ...\n",
      "Epoch 3/50\n"
     ]
    },
    {
     "name": "stderr",
     "output_type": "stream",
     "text": [
      "Train: 100%|██████████| 129/129 [00:11<00:00, 11.06it/s]\n",
      "Validation: 100%|██████████| 33/33 [00:00<00:00, 61.86it/s]\n"
     ]
    },
    {
     "name": "stdout",
     "output_type": "stream",
     "text": [
      "Epoch 3/50 | train loss: 7.470 | train acc: 0.013 | val loss: 7.569 | val acc: 0.006\n",
      "\u001b[36mNew best.\u001b[0m\n",
      "Validation accuracy increased (0.005919 --> 0.006392).  Saving model ...\n",
      "Epoch 4/50\n"
     ]
    },
    {
     "name": "stderr",
     "output_type": "stream",
     "text": [
      "Train: 100%|██████████| 129/129 [00:11<00:00, 10.92it/s]\n",
      "Validation: 100%|██████████| 33/33 [00:00<00:00, 74.23it/s]\n"
     ]
    },
    {
     "name": "stdout",
     "output_type": "stream",
     "text": [
      "Epoch 4/50 | train loss: 7.366 | train acc: 0.024 | val loss: 7.613 | val acc: 0.009\n",
      "\u001b[36mNew best.\u001b[0m\n",
      "Validation accuracy increased (0.006392 --> 0.008523).  Saving model ...\n",
      "Epoch 5/50\n"
     ]
    },
    {
     "name": "stderr",
     "output_type": "stream",
     "text": [
      "Train: 100%|██████████| 129/129 [00:11<00:00, 11.06it/s]\n",
      "Validation: 100%|██████████| 33/33 [00:00<00:00, 80.79it/s]\n"
     ]
    },
    {
     "name": "stdout",
     "output_type": "stream",
     "text": [
      "Epoch 5/50 | train loss: 7.174 | train acc: 0.044 | val loss: 7.689 | val acc: 0.008\n",
      "EarlyStopping counter: 1 out of 2\n",
      "Epoch 6/50\n"
     ]
    },
    {
     "name": "stderr",
     "output_type": "stream",
     "text": [
      "Train: 100%|██████████| 129/129 [00:11<00:00, 11.08it/s]\n",
      "Validation: 100%|██████████| 33/33 [00:00<00:00, 69.59it/s]\n"
     ]
    },
    {
     "name": "stdout",
     "output_type": "stream",
     "text": [
      "Epoch 6/50 | train loss: 6.907 | train acc: 0.073 | val loss: 7.804 | val acc: 0.007\n",
      "EarlyStopping counter: 2 out of 2\n",
      "Early stopping. Max Acc =  0.008522727272727272\n",
      "Max Acc =  0.008522727272727272\n",
      "Fold 3\n",
      "(tensor([[[ 1.9697e-03, -1.1639e+00,  1.3301e+00,  ...,  7.8094e-01,\n",
      "          -1.1682e+00,  1.0275e-02],\n",
      "         [ 1.5136e-02, -1.9519e+00,  2.5263e+00,  ...,  1.0737e-01,\n",
      "          -8.3644e-01,  9.2817e-04],\n",
      "         [ 2.1460e-02, -2.8935e+00,  3.2487e+00,  ...,  7.7539e-01,\n",
      "          -1.3411e+00,  2.0330e-03],\n",
      "         ...,\n",
      "         [ 1.3237e-04, -1.1414e+00,  1.4215e+00,  ..., -6.8526e-01,\n",
      "           6.8019e-01, -2.2801e-02],\n",
      "         [ 8.6335e-03, -1.9157e+00,  2.6595e+00,  ...,  1.3868e+00,\n",
      "          -9.6036e-01, -3.4207e-02],\n",
      "         [-1.9270e-02, -1.4178e+00,  1.4457e+00,  ..., -1.4706e+00,\n",
      "           1.4027e+00,  5.0816e-02]]]), tensor(1225))\n",
      "Epoch 1/50\n"
     ]
    },
    {
     "name": "stderr",
     "output_type": "stream",
     "text": [
      "Train: 100%|██████████| 129/129 [00:11<00:00, 11.01it/s]\n",
      "Validation: 100%|██████████| 33/33 [00:00<00:00, 67.61it/s]\n"
     ]
    },
    {
     "name": "stdout",
     "output_type": "stream",
     "text": [
      "Epoch 1/50 | train loss: 7.547 | train acc: 0.006 | val loss: 7.539 | val acc: 0.006\n",
      "Initial model for Fold 3 saved.\n",
      "\u001b[36mNew best.\u001b[0m\n",
      "Validation accuracy increased (-inf --> 0.005682).  Saving model ...\n",
      "Epoch 2/50\n"
     ]
    },
    {
     "name": "stderr",
     "output_type": "stream",
     "text": [
      "Train: 100%|██████████| 129/129 [00:11<00:00, 11.02it/s]\n",
      "Validation: 100%|██████████| 33/33 [00:00<00:00, 59.59it/s]\n"
     ]
    },
    {
     "name": "stdout",
     "output_type": "stream",
     "text": [
      "Epoch 2/50 | train loss: 7.545 | train acc: 0.007 | val loss: 7.542 | val acc: 0.009\n",
      "\u001b[36mNew best.\u001b[0m\n",
      "Validation accuracy increased (0.005682 --> 0.008523).  Saving model ...\n",
      "Epoch 3/50\n"
     ]
    },
    {
     "name": "stderr",
     "output_type": "stream",
     "text": [
      "Train: 100%|██████████| 129/129 [00:11<00:00, 10.99it/s]\n",
      "Validation: 100%|██████████| 33/33 [00:00<00:00, 67.69it/s]\n"
     ]
    },
    {
     "name": "stdout",
     "output_type": "stream",
     "text": [
      "Epoch 3/50 | train loss: 7.471 | train acc: 0.014 | val loss: 7.560 | val acc: 0.010\n",
      "\u001b[36mNew best.\u001b[0m\n",
      "Validation accuracy increased (0.008523 --> 0.010338).  Saving model ...\n",
      "Epoch 4/50\n"
     ]
    },
    {
     "name": "stderr",
     "output_type": "stream",
     "text": [
      "Train: 100%|██████████| 129/129 [00:11<00:00, 11.09it/s]\n",
      "Validation: 100%|██████████| 33/33 [00:00<00:00, 74.71it/s]\n"
     ]
    },
    {
     "name": "stdout",
     "output_type": "stream",
     "text": [
      "Epoch 4/50 | train loss: 7.370 | train acc: 0.023 | val loss: 7.611 | val acc: 0.012\n",
      "\u001b[36mNew best.\u001b[0m\n",
      "Validation accuracy increased (0.010338 --> 0.011995).  Saving model ...\n",
      "Epoch 5/50\n"
     ]
    },
    {
     "name": "stderr",
     "output_type": "stream",
     "text": [
      "Train: 100%|██████████| 129/129 [00:11<00:00, 11.02it/s]\n",
      "Validation: 100%|██████████| 33/33 [00:00<00:00, 69.31it/s]\n"
     ]
    },
    {
     "name": "stdout",
     "output_type": "stream",
     "text": [
      "Epoch 5/50 | train loss: 7.197 | train acc: 0.038 | val loss: 7.688 | val acc: 0.005\n",
      "EarlyStopping counter: 1 out of 2\n",
      "Epoch 6/50\n"
     ]
    },
    {
     "name": "stderr",
     "output_type": "stream",
     "text": [
      "Train: 100%|██████████| 129/129 [00:11<00:00, 11.05it/s]\n",
      "Validation: 100%|██████████| 33/33 [00:00<00:00, 75.11it/s]\n"
     ]
    },
    {
     "name": "stdout",
     "output_type": "stream",
     "text": [
      "Epoch 6/50 | train loss: 6.937 | train acc: 0.071 | val loss: 7.783 | val acc: 0.007\n",
      "EarlyStopping counter: 2 out of 2\n",
      "Early stopping. Max Acc =  0.011994949570207886\n",
      "Max Acc =  0.011994949570207886\n",
      "Fold 4\n",
      "(tensor([[[ 1.9697e-03, -1.1639e+00,  1.3301e+00,  ...,  7.8094e-01,\n",
      "          -1.1682e+00,  1.0275e-02],\n",
      "         [ 1.5136e-02, -1.9519e+00,  2.5263e+00,  ...,  1.0737e-01,\n",
      "          -8.3644e-01,  9.2817e-04],\n",
      "         [ 2.1460e-02, -2.8935e+00,  3.2487e+00,  ...,  7.7539e-01,\n",
      "          -1.3411e+00,  2.0330e-03],\n",
      "         ...,\n",
      "         [ 1.3237e-04, -1.1414e+00,  1.4215e+00,  ..., -6.8526e-01,\n",
      "           6.8019e-01, -2.2801e-02],\n",
      "         [ 8.6335e-03, -1.9157e+00,  2.6595e+00,  ...,  1.3868e+00,\n",
      "          -9.6036e-01, -3.4207e-02],\n",
      "         [-1.9270e-02, -1.4178e+00,  1.4457e+00,  ..., -1.4706e+00,\n",
      "           1.4027e+00,  5.0816e-02]]]), tensor(1225))\n",
      "Epoch 1/50\n"
     ]
    },
    {
     "name": "stderr",
     "output_type": "stream",
     "text": [
      "Train: 100%|██████████| 129/129 [00:11<00:00, 11.02it/s]\n",
      "Validation: 100%|██████████| 33/33 [00:00<00:00, 79.69it/s]\n"
     ]
    },
    {
     "name": "stdout",
     "output_type": "stream",
     "text": [
      "Epoch 1/50 | train loss: 7.554 | train acc: 0.005 | val loss: 7.539 | val acc: 0.005\n",
      "Initial model for Fold 4 saved.\n",
      "\u001b[36mNew best.\u001b[0m\n",
      "Validation accuracy increased (-inf --> 0.005208).  Saving model ...\n",
      "Epoch 2/50\n"
     ]
    },
    {
     "name": "stderr",
     "output_type": "stream",
     "text": [
      "Train: 100%|██████████| 129/129 [00:11<00:00, 11.08it/s]\n",
      "Validation: 100%|██████████| 33/33 [00:00<00:00, 71.51it/s]\n"
     ]
    },
    {
     "name": "stdout",
     "output_type": "stream",
     "text": [
      "Epoch 2/50 | train loss: 7.547 | train acc: 0.007 | val loss: 7.550 | val acc: 0.007\n",
      "\u001b[36mNew best.\u001b[0m\n",
      "Validation accuracy increased (0.005208 --> 0.006629).  Saving model ...\n",
      "Epoch 3/50\n"
     ]
    },
    {
     "name": "stderr",
     "output_type": "stream",
     "text": [
      "Train: 100%|██████████| 129/129 [00:11<00:00, 11.09it/s]\n",
      "Validation: 100%|██████████| 33/33 [00:00<00:00, 61.36it/s]\n"
     ]
    },
    {
     "name": "stdout",
     "output_type": "stream",
     "text": [
      "Epoch 3/50 | train loss: 7.468 | train acc: 0.013 | val loss: 7.574 | val acc: 0.007\n",
      "\u001b[36mNew best.\u001b[0m\n",
      "Validation accuracy increased (0.006629 --> 0.007339).  Saving model ...\n",
      "Epoch 4/50\n"
     ]
    },
    {
     "name": "stderr",
     "output_type": "stream",
     "text": [
      "Train: 100%|██████████| 129/129 [00:11<00:00, 11.06it/s]\n",
      "Validation: 100%|██████████| 33/33 [00:00<00:00, 70.10it/s]\n"
     ]
    },
    {
     "name": "stdout",
     "output_type": "stream",
     "text": [
      "Epoch 4/50 | train loss: 7.363 | train acc: 0.023 | val loss: 7.625 | val acc: 0.009\n",
      "\u001b[36mNew best.\u001b[0m\n",
      "Validation accuracy increased (0.007339 --> 0.009233).  Saving model ...\n",
      "Epoch 5/50\n"
     ]
    },
    {
     "name": "stderr",
     "output_type": "stream",
     "text": [
      "Train: 100%|██████████| 129/129 [00:11<00:00, 11.13it/s]\n",
      "Validation: 100%|██████████| 33/33 [00:00<00:00, 63.12it/s]\n"
     ]
    },
    {
     "name": "stdout",
     "output_type": "stream",
     "text": [
      "Epoch 5/50 | train loss: 7.168 | train acc: 0.040 | val loss: 7.712 | val acc: 0.008\n",
      "EarlyStopping counter: 1 out of 2\n",
      "Epoch 6/50\n"
     ]
    },
    {
     "name": "stderr",
     "output_type": "stream",
     "text": [
      "Train: 100%|██████████| 129/129 [00:11<00:00, 11.08it/s]\n",
      "Validation: 100%|██████████| 33/33 [00:00<00:00, 79.80it/s]\n"
     ]
    },
    {
     "name": "stdout",
     "output_type": "stream",
     "text": [
      "Epoch 6/50 | train loss: 6.897 | train acc: 0.075 | val loss: 7.812 | val acc: 0.010\n",
      "\u001b[36mNew best.\u001b[0m\n",
      "Validation accuracy increased (0.009233 --> 0.010338).  Saving model ...\n",
      "Epoch 7/50\n"
     ]
    },
    {
     "name": "stderr",
     "output_type": "stream",
     "text": [
      "Train: 100%|██████████| 129/129 [00:11<00:00, 11.06it/s]\n",
      "Validation: 100%|██████████| 33/33 [00:00<00:00, 61.60it/s]\n"
     ]
    },
    {
     "name": "stdout",
     "output_type": "stream",
     "text": [
      "Epoch 7/50 | train loss: 6.600 | train acc: 0.124 | val loss: 7.954 | val acc: 0.007\n",
      "EarlyStopping counter: 1 out of 2\n",
      "Epoch 8/50\n"
     ]
    },
    {
     "name": "stderr",
     "output_type": "stream",
     "text": [
      "Train: 100%|██████████| 129/129 [00:11<00:00, 11.08it/s]\n",
      "Validation: 100%|██████████| 33/33 [00:00<00:00, 74.38it/s]\n"
     ]
    },
    {
     "name": "stdout",
     "output_type": "stream",
     "text": [
      "Epoch 8/50 | train loss: 6.299 | train acc: 0.168 | val loss: 8.117 | val acc: 0.010\n",
      "Validation accuracy increased (0.010338 --> 0.010338).  Saving model ...\n",
      "Epoch 9/50\n"
     ]
    },
    {
     "name": "stderr",
     "output_type": "stream",
     "text": [
      "Train: 100%|██████████| 129/129 [00:11<00:00, 11.04it/s]\n",
      "Validation: 100%|██████████| 33/33 [00:00<00:00, 85.39it/s]\n"
     ]
    },
    {
     "name": "stdout",
     "output_type": "stream",
     "text": [
      "Epoch 9/50 | train loss: 6.026 | train acc: 0.217 | val loss: 8.272 | val acc: 0.010\n",
      "Validation accuracy increased (0.010338 --> 0.010338).  Saving model ...\n",
      "Epoch 10/50\n"
     ]
    },
    {
     "name": "stderr",
     "output_type": "stream",
     "text": [
      "Train: 100%|██████████| 129/129 [00:11<00:00, 11.06it/s]\n",
      "Validation: 100%|██████████| 33/33 [00:00<00:00, 63.09it/s]\n"
     ]
    },
    {
     "name": "stdout",
     "output_type": "stream",
     "text": [
      "Epoch 10/50 | train loss: 5.745 | train acc: 0.264 | val loss: 8.434 | val acc: 0.011\n",
      "\u001b[36mNew best.\u001b[0m\n",
      "Validation accuracy increased (0.010338 --> 0.010574).  Saving model ...\n",
      "Epoch 11/50\n"
     ]
    },
    {
     "name": "stderr",
     "output_type": "stream",
     "text": [
      "Train: 100%|██████████| 129/129 [00:11<00:00, 11.06it/s]\n",
      "Validation: 100%|██████████| 33/33 [00:00<00:00, 69.04it/s]\n"
     ]
    },
    {
     "name": "stdout",
     "output_type": "stream",
     "text": [
      "Epoch 11/50 | train loss: 5.500 | train acc: 0.307 | val loss: 8.627 | val acc: 0.009\n",
      "EarlyStopping counter: 1 out of 2\n",
      "Epoch 12/50\n"
     ]
    },
    {
     "name": "stderr",
     "output_type": "stream",
     "text": [
      "Train: 100%|██████████| 129/129 [00:11<00:00, 11.04it/s]\n",
      "Validation: 100%|██████████| 33/33 [00:00<00:00, 73.28it/s]\n"
     ]
    },
    {
     "name": "stdout",
     "output_type": "stream",
     "text": [
      "Epoch 12/50 | train loss: 5.296 | train acc: 0.338 | val loss: 8.759 | val acc: 0.010\n",
      "EarlyStopping counter: 2 out of 2\n",
      "Early stopping. Max Acc =  0.01057449502475334\n",
      "Max Acc =  0.01057449502475334\n",
      "Fold 5\n",
      "(tensor([[[ 1.9697e-03, -1.1639e+00,  1.3301e+00,  ...,  7.8094e-01,\n",
      "          -1.1682e+00,  1.0275e-02],\n",
      "         [ 1.5136e-02, -1.9519e+00,  2.5263e+00,  ...,  1.0737e-01,\n",
      "          -8.3644e-01,  9.2817e-04],\n",
      "         [ 2.1460e-02, -2.8935e+00,  3.2487e+00,  ...,  7.7539e-01,\n",
      "          -1.3411e+00,  2.0330e-03],\n",
      "         ...,\n",
      "         [ 1.3237e-04, -1.1414e+00,  1.4215e+00,  ..., -6.8526e-01,\n",
      "           6.8019e-01, -2.2801e-02],\n",
      "         [ 8.6335e-03, -1.9157e+00,  2.6595e+00,  ...,  1.3868e+00,\n",
      "          -9.6036e-01, -3.4207e-02],\n",
      "         [-1.9270e-02, -1.4178e+00,  1.4457e+00,  ..., -1.4706e+00,\n",
      "           1.4027e+00,  5.0816e-02]]]), tensor(1225))\n",
      "Epoch 1/50\n"
     ]
    },
    {
     "name": "stderr",
     "output_type": "stream",
     "text": [
      "Train: 100%|██████████| 129/129 [00:11<00:00, 11.10it/s]\n",
      "Validation: 100%|██████████| 33/33 [00:00<00:00, 68.78it/s]\n"
     ]
    },
    {
     "name": "stdout",
     "output_type": "stream",
     "text": [
      "Epoch 1/50 | train loss: 7.547 | train acc: 0.006 | val loss: 7.544 | val acc: 0.006\n",
      "Initial model for Fold 5 saved.\n",
      "\u001b[36mNew best.\u001b[0m\n",
      "Validation accuracy increased (-inf --> 0.005919).  Saving model ...\n",
      "Epoch 2/50\n"
     ]
    },
    {
     "name": "stderr",
     "output_type": "stream",
     "text": [
      "Train: 100%|██████████| 129/129 [00:11<00:00, 11.08it/s]\n",
      "Validation: 100%|██████████| 33/33 [00:00<00:00, 66.12it/s]\n"
     ]
    },
    {
     "name": "stdout",
     "output_type": "stream",
     "text": [
      "Epoch 2/50 | train loss: 7.540 | train acc: 0.007 | val loss: 7.556 | val acc: 0.005\n",
      "EarlyStopping counter: 1 out of 2\n",
      "Epoch 3/50\n"
     ]
    },
    {
     "name": "stderr",
     "output_type": "stream",
     "text": [
      "Train: 100%|██████████| 129/129 [00:11<00:00, 11.07it/s]\n",
      "Validation: 100%|██████████| 33/33 [00:00<00:00, 74.56it/s]\n"
     ]
    },
    {
     "name": "stdout",
     "output_type": "stream",
     "text": [
      "Epoch 3/50 | train loss: 7.469 | train acc: 0.015 | val loss: 7.570 | val acc: 0.007\n",
      "\u001b[36mNew best.\u001b[0m\n",
      "Validation accuracy increased (0.005919 --> 0.006866).  Saving model ...\n",
      "Epoch 4/50\n"
     ]
    },
    {
     "name": "stderr",
     "output_type": "stream",
     "text": [
      "Train: 100%|██████████| 129/129 [00:11<00:00, 11.04it/s]\n",
      "Validation: 100%|██████████| 33/33 [00:00<00:00, 66.70it/s]\n"
     ]
    },
    {
     "name": "stdout",
     "output_type": "stream",
     "text": [
      "Epoch 4/50 | train loss: 7.368 | train acc: 0.022 | val loss: 7.611 | val acc: 0.006\n",
      "EarlyStopping counter: 1 out of 2\n",
      "Epoch 5/50\n"
     ]
    },
    {
     "name": "stderr",
     "output_type": "stream",
     "text": [
      "Train: 100%|██████████| 129/129 [00:11<00:00, 11.05it/s]\n",
      "Validation: 100%|██████████| 33/33 [00:00<00:00, 63.70it/s]\n"
     ]
    },
    {
     "name": "stdout",
     "output_type": "stream",
     "text": [
      "Epoch 5/50 | train loss: 7.190 | train acc: 0.041 | val loss: 7.708 | val acc: 0.007\n",
      "\u001b[36mNew best.\u001b[0m\n",
      "Validation accuracy increased (0.006866 --> 0.007102).  Saving model ...\n",
      "Epoch 6/50\n"
     ]
    },
    {
     "name": "stderr",
     "output_type": "stream",
     "text": [
      "Train: 100%|██████████| 129/129 [00:11<00:00, 11.00it/s]\n",
      "Validation: 100%|██████████| 33/33 [00:00<00:00, 73.75it/s]\n"
     ]
    },
    {
     "name": "stdout",
     "output_type": "stream",
     "text": [
      "Epoch 6/50 | train loss: 6.937 | train acc: 0.068 | val loss: 7.831 | val acc: 0.007\n",
      "EarlyStopping counter: 1 out of 2\n",
      "Epoch 7/50\n"
     ]
    },
    {
     "name": "stderr",
     "output_type": "stream",
     "text": [
      "Train: 100%|██████████| 129/129 [00:11<00:00, 11.02it/s]\n",
      "Validation: 100%|██████████| 33/33 [00:00<00:00, 87.42it/s]\n",
      "[I 2024-06-29 01:54:55,742] Trial 59 finished with value: 0.009059343464446791 and parameters: {'lowcut': 35.733354904588566, 'highcut': 56.67536481015861}. Best is trial 39 with value: 0.01950757575757576.\n"
     ]
    },
    {
     "name": "stdout",
     "output_type": "stream",
     "text": [
      "Epoch 7/50 | train loss: 6.654 | train acc: 0.107 | val loss: 7.947 | val acc: 0.007\n",
      "EarlyStopping counter: 2 out of 2\n",
      "Early stopping. Max Acc =  0.007102272727272727\n",
      "Max Acc =  0.007102272727272727\n",
      "Acc mean =  0.009059343464446791\n",
      "Start objective 60\n",
      "lowcut: 52.1411194767561, highcut: 59.455914418460615\n",
      "resample_data\n",
      "bandpass_filter\n",
      "standardize\n",
      "torch.Size([20540, 1, 271, 128])\n",
      "torch.Size([20540])\n",
      "Fold 1\n",
      "(tensor([[[-0.8517,  0.3020,  0.2584,  ...,  0.1319, -0.0617, -0.0197],\n",
      "         [-0.8096, -0.0027,  0.7635,  ..., -0.0035,  0.1030, -0.1824],\n",
      "         [-1.7422,  1.9492, -2.0579,  ...,  0.1612, -0.1859,  0.2311],\n",
      "         ...,\n",
      "         [ 0.4479, -1.0832,  1.6257,  ..., -0.2702,  0.3531, -0.4207],\n",
      "         [-2.2314,  1.5871, -0.8618,  ...,  0.0729,  0.0047, -0.0512],\n",
      "         [-1.2938,  1.6253, -1.8735,  ...,  0.3315, -0.2940,  0.2536]]]), tensor(1225))\n",
      "Epoch 1/50\n"
     ]
    },
    {
     "name": "stderr",
     "output_type": "stream",
     "text": [
      "Train: 100%|██████████| 129/129 [00:11<00:00, 10.98it/s]\n",
      "Validation: 100%|██████████| 33/33 [00:00<00:00, 66.88it/s]\n"
     ]
    },
    {
     "name": "stdout",
     "output_type": "stream",
     "text": [
      "Epoch 1/50 | train loss: 7.579 | train acc: 0.005 | val loss: 7.555 | val acc: 0.005\n",
      "Initial model for Fold 1 saved.\n",
      "\u001b[36mNew best.\u001b[0m\n",
      "Validation accuracy increased (-inf --> 0.005445).  Saving model ...\n",
      "Epoch 2/50\n"
     ]
    },
    {
     "name": "stderr",
     "output_type": "stream",
     "text": [
      "Train: 100%|██████████| 129/129 [00:11<00:00, 11.10it/s]\n",
      "Validation: 100%|██████████| 33/33 [00:00<00:00, 68.96it/s]\n"
     ]
    },
    {
     "name": "stdout",
     "output_type": "stream",
     "text": [
      "Epoch 2/50 | train loss: 7.555 | train acc: 0.006 | val loss: 7.549 | val acc: 0.004\n",
      "EarlyStopping counter: 1 out of 2\n",
      "Epoch 3/50\n"
     ]
    },
    {
     "name": "stderr",
     "output_type": "stream",
     "text": [
      "Train: 100%|██████████| 129/129 [00:11<00:00, 11.07it/s]\n",
      "Validation: 100%|██████████| 33/33 [00:00<00:00, 75.20it/s]\n"
     ]
    },
    {
     "name": "stdout",
     "output_type": "stream",
     "text": [
      "Epoch 3/50 | train loss: 7.447 | train acc: 0.016 | val loss: 7.571 | val acc: 0.007\n",
      "\u001b[36mNew best.\u001b[0m\n",
      "Validation accuracy increased (0.005445 --> 0.007102).  Saving model ...\n",
      "Epoch 4/50\n"
     ]
    },
    {
     "name": "stderr",
     "output_type": "stream",
     "text": [
      "Train: 100%|██████████| 129/129 [00:11<00:00, 11.13it/s]\n",
      "Validation: 100%|██████████| 33/33 [00:00<00:00, 65.17it/s]\n"
     ]
    },
    {
     "name": "stdout",
     "output_type": "stream",
     "text": [
      "Epoch 4/50 | train loss: 7.294 | train acc: 0.030 | val loss: 7.637 | val acc: 0.009\n",
      "\u001b[36mNew best.\u001b[0m\n",
      "Validation accuracy increased (0.007102 --> 0.008523).  Saving model ...\n",
      "Epoch 5/50\n"
     ]
    },
    {
     "name": "stderr",
     "output_type": "stream",
     "text": [
      "Train: 100%|██████████| 129/129 [00:11<00:00, 11.03it/s]\n",
      "Validation: 100%|██████████| 33/33 [00:00<00:00, 66.64it/s]\n"
     ]
    },
    {
     "name": "stdout",
     "output_type": "stream",
     "text": [
      "Epoch 5/50 | train loss: 7.069 | train acc: 0.053 | val loss: 7.756 | val acc: 0.006\n",
      "EarlyStopping counter: 1 out of 2\n",
      "Epoch 6/50\n"
     ]
    },
    {
     "name": "stderr",
     "output_type": "stream",
     "text": [
      "Train: 100%|██████████| 129/129 [00:11<00:00, 11.04it/s]\n",
      "Validation: 100%|██████████| 33/33 [00:00<00:00, 64.64it/s]\n"
     ]
    },
    {
     "name": "stdout",
     "output_type": "stream",
     "text": [
      "Epoch 6/50 | train loss: 6.809 | train acc: 0.085 | val loss: 7.928 | val acc: 0.006\n",
      "EarlyStopping counter: 2 out of 2\n",
      "Early stopping. Max Acc =  0.008522727272727272\n",
      "Max Acc =  0.008522727272727272\n",
      "Fold 2\n",
      "(tensor([[[-0.8517,  0.3020,  0.2584,  ...,  0.1319, -0.0617, -0.0197],\n",
      "         [-0.8096, -0.0027,  0.7635,  ..., -0.0035,  0.1030, -0.1824],\n",
      "         [-1.7422,  1.9492, -2.0579,  ...,  0.1612, -0.1859,  0.2311],\n",
      "         ...,\n",
      "         [ 0.4479, -1.0832,  1.6257,  ..., -0.2702,  0.3531, -0.4207],\n",
      "         [-2.2314,  1.5871, -0.8618,  ...,  0.0729,  0.0047, -0.0512],\n",
      "         [-1.2938,  1.6253, -1.8735,  ...,  0.3315, -0.2940,  0.2536]]]), tensor(1225))\n",
      "Epoch 1/50\n"
     ]
    },
    {
     "name": "stderr",
     "output_type": "stream",
     "text": [
      "Train: 100%|██████████| 129/129 [00:11<00:00, 11.10it/s]\n",
      "Validation: 100%|██████████| 33/33 [00:00<00:00, 62.41it/s]\n"
     ]
    },
    {
     "name": "stdout",
     "output_type": "stream",
     "text": [
      "Epoch 1/50 | train loss: 7.577 | train acc: 0.005 | val loss: 7.574 | val acc: 0.003\n",
      "Initial model for Fold 2 saved.\n",
      "\u001b[36mNew best.\u001b[0m\n",
      "Validation accuracy increased (-inf --> 0.003314).  Saving model ...\n",
      "Epoch 2/50\n"
     ]
    },
    {
     "name": "stderr",
     "output_type": "stream",
     "text": [
      "Train: 100%|██████████| 129/129 [00:11<00:00, 11.07it/s]\n",
      "Validation: 100%|██████████| 33/33 [00:00<00:00, 69.10it/s]\n"
     ]
    },
    {
     "name": "stdout",
     "output_type": "stream",
     "text": [
      "Epoch 2/50 | train loss: 7.557 | train acc: 0.007 | val loss: 7.565 | val acc: 0.006\n",
      "\u001b[36mNew best.\u001b[0m\n",
      "Validation accuracy increased (0.003314 --> 0.006155).  Saving model ...\n",
      "Epoch 3/50\n"
     ]
    },
    {
     "name": "stderr",
     "output_type": "stream",
     "text": [
      "Train: 100%|██████████| 129/129 [00:11<00:00, 10.95it/s]\n",
      "Validation: 100%|██████████| 33/33 [00:00<00:00, 69.79it/s]\n"
     ]
    },
    {
     "name": "stdout",
     "output_type": "stream",
     "text": [
      "Epoch 3/50 | train loss: 7.435 | train acc: 0.017 | val loss: 7.616 | val acc: 0.007\n",
      "\u001b[36mNew best.\u001b[0m\n",
      "Validation accuracy increased (0.006155 --> 0.006866).  Saving model ...\n",
      "Epoch 4/50\n"
     ]
    },
    {
     "name": "stderr",
     "output_type": "stream",
     "text": [
      "Train: 100%|██████████| 129/129 [00:11<00:00, 11.02it/s]\n",
      "Validation: 100%|██████████| 33/33 [00:00<00:00, 61.88it/s]\n"
     ]
    },
    {
     "name": "stdout",
     "output_type": "stream",
     "text": [
      "Epoch 4/50 | train loss: 7.274 | train acc: 0.030 | val loss: 7.674 | val acc: 0.004\n",
      "EarlyStopping counter: 1 out of 2\n",
      "Epoch 5/50\n"
     ]
    },
    {
     "name": "stderr",
     "output_type": "stream",
     "text": [
      "Train: 100%|██████████| 129/129 [00:11<00:00, 11.02it/s]\n",
      "Validation: 100%|██████████| 33/33 [00:00<00:00, 65.78it/s]\n"
     ]
    },
    {
     "name": "stdout",
     "output_type": "stream",
     "text": [
      "Epoch 5/50 | train loss: 7.053 | train acc: 0.054 | val loss: 7.794 | val acc: 0.004\n",
      "EarlyStopping counter: 2 out of 2\n",
      "Early stopping. Max Acc =  0.006865530303030303\n",
      "Max Acc =  0.006865530303030303\n",
      "Fold 3\n",
      "(tensor([[[-0.8517,  0.3020,  0.2584,  ...,  0.1319, -0.0617, -0.0197],\n",
      "         [-0.8096, -0.0027,  0.7635,  ..., -0.0035,  0.1030, -0.1824],\n",
      "         [-1.7422,  1.9492, -2.0579,  ...,  0.1612, -0.1859,  0.2311],\n",
      "         ...,\n",
      "         [ 0.4479, -1.0832,  1.6257,  ..., -0.2702,  0.3531, -0.4207],\n",
      "         [-2.2314,  1.5871, -0.8618,  ...,  0.0729,  0.0047, -0.0512],\n",
      "         [-1.2938,  1.6253, -1.8735,  ...,  0.3315, -0.2940,  0.2536]]]), tensor(1225))\n",
      "Epoch 1/50\n"
     ]
    },
    {
     "name": "stderr",
     "output_type": "stream",
     "text": [
      "Train: 100%|██████████| 129/129 [00:11<00:00, 11.02it/s]\n",
      "Validation: 100%|██████████| 33/33 [00:00<00:00, 60.70it/s]\n"
     ]
    },
    {
     "name": "stdout",
     "output_type": "stream",
     "text": [
      "Epoch 1/50 | train loss: 7.577 | train acc: 0.006 | val loss: 7.563 | val acc: 0.007\n",
      "Initial model for Fold 3 saved.\n",
      "\u001b[36mNew best.\u001b[0m\n",
      "Validation accuracy increased (-inf --> 0.007339).  Saving model ...\n",
      "Epoch 2/50\n"
     ]
    },
    {
     "name": "stderr",
     "output_type": "stream",
     "text": [
      "Train: 100%|██████████| 129/129 [00:11<00:00, 11.02it/s]\n",
      "Validation: 100%|██████████| 33/33 [00:00<00:00, 65.74it/s]\n"
     ]
    },
    {
     "name": "stdout",
     "output_type": "stream",
     "text": [
      "Epoch 2/50 | train loss: 7.551 | train acc: 0.007 | val loss: 7.550 | val acc: 0.005\n",
      "EarlyStopping counter: 1 out of 2\n",
      "Epoch 3/50\n"
     ]
    },
    {
     "name": "stderr",
     "output_type": "stream",
     "text": [
      "Train: 100%|██████████| 129/129 [00:11<00:00, 11.01it/s]\n",
      "Validation: 100%|██████████| 33/33 [00:00<00:00, 70.56it/s]\n"
     ]
    },
    {
     "name": "stdout",
     "output_type": "stream",
     "text": [
      "Epoch 3/50 | train loss: 7.453 | train acc: 0.014 | val loss: 7.583 | val acc: 0.011\n",
      "\u001b[36mNew best.\u001b[0m\n",
      "Validation accuracy increased (0.007339 --> 0.010574).  Saving model ...\n",
      "Epoch 4/50\n"
     ]
    },
    {
     "name": "stderr",
     "output_type": "stream",
     "text": [
      "Train: 100%|██████████| 129/129 [00:11<00:00, 11.02it/s]\n",
      "Validation: 100%|██████████| 33/33 [00:00<00:00, 78.68it/s]\n"
     ]
    },
    {
     "name": "stdout",
     "output_type": "stream",
     "text": [
      "Epoch 4/50 | train loss: 7.293 | train acc: 0.031 | val loss: 7.662 | val acc: 0.010\n",
      "EarlyStopping counter: 1 out of 2\n",
      "Epoch 5/50\n"
     ]
    },
    {
     "name": "stderr",
     "output_type": "stream",
     "text": [
      "Train: 100%|██████████| 129/129 [00:11<00:00, 11.10it/s]\n",
      "Validation: 100%|██████████| 33/33 [00:00<00:00, 79.34it/s]\n"
     ]
    },
    {
     "name": "stdout",
     "output_type": "stream",
     "text": [
      "Epoch 5/50 | train loss: 7.064 | train acc: 0.054 | val loss: 7.754 | val acc: 0.006\n",
      "EarlyStopping counter: 2 out of 2\n",
      "Early stopping. Max Acc =  0.01057449502475334\n",
      "Max Acc =  0.01057449502475334\n",
      "Fold 4\n",
      "(tensor([[[-0.8517,  0.3020,  0.2584,  ...,  0.1319, -0.0617, -0.0197],\n",
      "         [-0.8096, -0.0027,  0.7635,  ..., -0.0035,  0.1030, -0.1824],\n",
      "         [-1.7422,  1.9492, -2.0579,  ...,  0.1612, -0.1859,  0.2311],\n",
      "         ...,\n",
      "         [ 0.4479, -1.0832,  1.6257,  ..., -0.2702,  0.3531, -0.4207],\n",
      "         [-2.2314,  1.5871, -0.8618,  ...,  0.0729,  0.0047, -0.0512],\n",
      "         [-1.2938,  1.6253, -1.8735,  ...,  0.3315, -0.2940,  0.2536]]]), tensor(1225))\n",
      "Epoch 1/50\n"
     ]
    },
    {
     "name": "stderr",
     "output_type": "stream",
     "text": [
      "Train: 100%|██████████| 129/129 [00:11<00:00, 11.04it/s]\n",
      "Validation: 100%|██████████| 33/33 [00:00<00:00, 70.57it/s]\n"
     ]
    },
    {
     "name": "stdout",
     "output_type": "stream",
     "text": [
      "Epoch 1/50 | train loss: 7.572 | train acc: 0.005 | val loss: 7.554 | val acc: 0.005\n",
      "Initial model for Fold 4 saved.\n",
      "\u001b[36mNew best.\u001b[0m\n",
      "Validation accuracy increased (-inf --> 0.005445).  Saving model ...\n",
      "Epoch 2/50\n"
     ]
    },
    {
     "name": "stderr",
     "output_type": "stream",
     "text": [
      "Train: 100%|██████████| 129/129 [00:11<00:00, 11.08it/s]\n",
      "Validation: 100%|██████████| 33/33 [00:00<00:00, 64.14it/s]\n"
     ]
    },
    {
     "name": "stdout",
     "output_type": "stream",
     "text": [
      "Epoch 2/50 | train loss: 7.554 | train acc: 0.006 | val loss: 7.561 | val acc: 0.003\n",
      "EarlyStopping counter: 1 out of 2\n",
      "Epoch 3/50\n"
     ]
    },
    {
     "name": "stderr",
     "output_type": "stream",
     "text": [
      "Train: 100%|██████████| 129/129 [00:11<00:00, 11.04it/s]\n",
      "Validation: 100%|██████████| 33/33 [00:00<00:00, 67.50it/s]\n"
     ]
    },
    {
     "name": "stdout",
     "output_type": "stream",
     "text": [
      "Epoch 3/50 | train loss: 7.439 | train acc: 0.016 | val loss: 7.601 | val acc: 0.006\n",
      "\u001b[36mNew best.\u001b[0m\n",
      "Validation accuracy increased (0.005445 --> 0.005919).  Saving model ...\n",
      "Epoch 4/50\n"
     ]
    },
    {
     "name": "stderr",
     "output_type": "stream",
     "text": [
      "Train: 100%|██████████| 129/129 [00:11<00:00, 11.04it/s]\n",
      "Validation: 100%|██████████| 33/33 [00:00<00:00, 62.10it/s]\n"
     ]
    },
    {
     "name": "stdout",
     "output_type": "stream",
     "text": [
      "Epoch 4/50 | train loss: 7.277 | train acc: 0.032 | val loss: 7.685 | val acc: 0.008\n",
      "\u001b[36mNew best.\u001b[0m\n",
      "Validation accuracy increased (0.005919 --> 0.007812).  Saving model ...\n",
      "Epoch 5/50\n"
     ]
    },
    {
     "name": "stderr",
     "output_type": "stream",
     "text": [
      "Train: 100%|██████████| 129/129 [00:11<00:00, 11.08it/s]\n",
      "Validation: 100%|██████████| 33/33 [00:00<00:00, 65.84it/s]\n"
     ]
    },
    {
     "name": "stdout",
     "output_type": "stream",
     "text": [
      "Epoch 5/50 | train loss: 7.062 | train acc: 0.052 | val loss: 7.767 | val acc: 0.005\n",
      "EarlyStopping counter: 1 out of 2\n",
      "Epoch 6/50\n"
     ]
    },
    {
     "name": "stderr",
     "output_type": "stream",
     "text": [
      "Train: 100%|██████████| 129/129 [00:11<00:00, 11.12it/s]\n",
      "Validation: 100%|██████████| 33/33 [00:00<00:00, 70.14it/s]\n"
     ]
    },
    {
     "name": "stdout",
     "output_type": "stream",
     "text": [
      "Epoch 6/50 | train loss: 6.810 | train acc: 0.080 | val loss: 7.942 | val acc: 0.005\n",
      "EarlyStopping counter: 2 out of 2\n",
      "Early stopping. Max Acc =  0.0078125\n",
      "Max Acc =  0.0078125\n",
      "Fold 5\n",
      "(tensor([[[-0.8517,  0.3020,  0.2584,  ...,  0.1319, -0.0617, -0.0197],\n",
      "         [-0.8096, -0.0027,  0.7635,  ..., -0.0035,  0.1030, -0.1824],\n",
      "         [-1.7422,  1.9492, -2.0579,  ...,  0.1612, -0.1859,  0.2311],\n",
      "         ...,\n",
      "         [ 0.4479, -1.0832,  1.6257,  ..., -0.2702,  0.3531, -0.4207],\n",
      "         [-2.2314,  1.5871, -0.8618,  ...,  0.0729,  0.0047, -0.0512],\n",
      "         [-1.2938,  1.6253, -1.8735,  ...,  0.3315, -0.2940,  0.2536]]]), tensor(1225))\n",
      "Epoch 1/50\n"
     ]
    },
    {
     "name": "stderr",
     "output_type": "stream",
     "text": [
      "Train: 100%|██████████| 129/129 [00:11<00:00, 11.05it/s]\n",
      "Validation: 100%|██████████| 33/33 [00:00<00:00, 76.78it/s]\n"
     ]
    },
    {
     "name": "stdout",
     "output_type": "stream",
     "text": [
      "Epoch 1/50 | train loss: 7.570 | train acc: 0.005 | val loss: 7.555 | val acc: 0.005\n",
      "Initial model for Fold 5 saved.\n",
      "\u001b[36mNew best.\u001b[0m\n",
      "Validation accuracy increased (-inf --> 0.004972).  Saving model ...\n",
      "Epoch 2/50\n"
     ]
    },
    {
     "name": "stderr",
     "output_type": "stream",
     "text": [
      "Train: 100%|██████████| 129/129 [00:11<00:00, 11.02it/s]\n",
      "Validation: 100%|██████████| 33/33 [00:00<00:00, 71.16it/s]\n"
     ]
    },
    {
     "name": "stdout",
     "output_type": "stream",
     "text": [
      "Epoch 2/50 | train loss: 7.552 | train acc: 0.007 | val loss: 7.550 | val acc: 0.005\n",
      "\u001b[36mNew best.\u001b[0m\n",
      "Validation accuracy increased (0.004972 --> 0.005208).  Saving model ...\n",
      "Epoch 3/50\n"
     ]
    },
    {
     "name": "stderr",
     "output_type": "stream",
     "text": [
      "Train: 100%|██████████| 129/129 [00:11<00:00, 11.04it/s]\n",
      "Validation: 100%|██████████| 33/33 [00:00<00:00, 65.68it/s]\n"
     ]
    },
    {
     "name": "stdout",
     "output_type": "stream",
     "text": [
      "Epoch 3/50 | train loss: 7.440 | train acc: 0.016 | val loss: 7.588 | val acc: 0.007\n",
      "\u001b[36mNew best.\u001b[0m\n",
      "Validation accuracy increased (0.005208 --> 0.006866).  Saving model ...\n",
      "Epoch 4/50\n"
     ]
    },
    {
     "name": "stderr",
     "output_type": "stream",
     "text": [
      "Train: 100%|██████████| 129/129 [00:11<00:00, 11.03it/s]\n",
      "Validation: 100%|██████████| 33/33 [00:00<00:00, 63.41it/s]\n"
     ]
    },
    {
     "name": "stdout",
     "output_type": "stream",
     "text": [
      "Epoch 4/50 | train loss: 7.281 | train acc: 0.032 | val loss: 7.669 | val acc: 0.008\n",
      "\u001b[36mNew best.\u001b[0m\n",
      "Validation accuracy increased (0.006866 --> 0.007812).  Saving model ...\n",
      "Epoch 5/50\n"
     ]
    },
    {
     "name": "stderr",
     "output_type": "stream",
     "text": [
      "Train: 100%|██████████| 129/129 [00:11<00:00, 11.02it/s]\n",
      "Validation: 100%|██████████| 33/33 [00:00<00:00, 70.44it/s]\n"
     ]
    },
    {
     "name": "stdout",
     "output_type": "stream",
     "text": [
      "Epoch 5/50 | train loss: 7.058 | train acc: 0.056 | val loss: 7.762 | val acc: 0.007\n",
      "EarlyStopping counter: 1 out of 2\n",
      "Epoch 6/50\n"
     ]
    },
    {
     "name": "stderr",
     "output_type": "stream",
     "text": [
      "Train: 100%|██████████| 129/129 [00:11<00:00, 10.97it/s]\n",
      "Validation: 100%|██████████| 33/33 [00:00<00:00, 67.38it/s]\n"
     ]
    },
    {
     "name": "stdout",
     "output_type": "stream",
     "text": [
      "Epoch 6/50 | train loss: 6.815 | train acc: 0.080 | val loss: 7.931 | val acc: 0.007\n",
      "EarlyStopping counter: 2 out of 2\n",
      "Early stopping. Max Acc =  0.0078125\n",
      "Max Acc =  0.0078125\n",
      "Acc mean =  0.008317550520102183\n"
     ]
    },
    {
     "name": "stderr",
     "output_type": "stream",
     "text": [
      "[I 2024-06-29 02:01:23,767] Trial 60 finished with value: 0.008317550520102183 and parameters: {'lowcut': 52.1411194767561, 'highcut': 59.455914418460615}. Best is trial 39 with value: 0.01950757575757576.\n"
     ]
    },
    {
     "name": "stdout",
     "output_type": "stream",
     "text": [
      "Start objective 61\n",
      "lowcut: 2.0923325845011678, highcut: 40.036721113129\n",
      "resample_data\n",
      "bandpass_filter\n",
      "standardize\n",
      "torch.Size([20540, 1, 271, 128])\n",
      "torch.Size([20540])\n",
      "Fold 1\n",
      "(tensor([[[ 0.1882, -1.0808, -1.6707,  ..., -0.7259, -1.5062,  0.1591],\n",
      "         [ 0.0733, -0.3201, -0.4952,  ..., -0.5637, -1.3721,  0.2756],\n",
      "         [-0.0273, -0.1306, -0.0581,  ..., -0.4362, -1.0723,  0.2486],\n",
      "         ...,\n",
      "         [ 0.2428, -0.5586, -1.8591,  ...,  0.0533,  0.3744,  0.0403],\n",
      "         [ 0.2307, -1.8231, -2.4173,  ..., -0.9825, -0.5822,  0.1774],\n",
      "         [ 0.0621, -0.8407, -1.6910,  ..., -0.8701, -0.3417, -0.0104]]]), tensor(1225))\n",
      "Epoch 1/50\n"
     ]
    },
    {
     "name": "stderr",
     "output_type": "stream",
     "text": [
      "Train: 100%|██████████| 129/129 [00:11<00:00, 11.04it/s]\n",
      "Validation: 100%|██████████| 33/33 [00:00<00:00, 63.55it/s]\n"
     ]
    },
    {
     "name": "stdout",
     "output_type": "stream",
     "text": [
      "Epoch 1/50 | train loss: 7.548 | train acc: 0.005 | val loss: 7.540 | val acc: 0.006\n",
      "Initial model for Fold 1 saved.\n",
      "\u001b[36mNew best.\u001b[0m\n",
      "Validation accuracy increased (-inf --> 0.005682).  Saving model ...\n",
      "Epoch 2/50\n"
     ]
    },
    {
     "name": "stderr",
     "output_type": "stream",
     "text": [
      "Train: 100%|██████████| 129/129 [00:11<00:00, 11.05it/s]\n",
      "Validation: 100%|██████████| 33/33 [00:00<00:00, 69.89it/s]\n"
     ]
    },
    {
     "name": "stdout",
     "output_type": "stream",
     "text": [
      "Epoch 2/50 | train loss: 7.538 | train acc: 0.006 | val loss: 7.542 | val acc: 0.007\n",
      "\u001b[36mNew best.\u001b[0m\n",
      "Validation accuracy increased (0.005682 --> 0.007339).  Saving model ...\n",
      "Epoch 3/50\n"
     ]
    },
    {
     "name": "stderr",
     "output_type": "stream",
     "text": [
      "Train: 100%|██████████| 129/129 [00:11<00:00, 11.02it/s]\n",
      "Validation: 100%|██████████| 33/33 [00:00<00:00, 61.61it/s]\n"
     ]
    },
    {
     "name": "stdout",
     "output_type": "stream",
     "text": [
      "Epoch 3/50 | train loss: 7.455 | train acc: 0.017 | val loss: 7.557 | val acc: 0.009\n",
      "\u001b[36mNew best.\u001b[0m\n",
      "Validation accuracy increased (0.007339 --> 0.009470).  Saving model ...\n",
      "Epoch 4/50\n"
     ]
    },
    {
     "name": "stderr",
     "output_type": "stream",
     "text": [
      "Train: 100%|██████████| 129/129 [00:11<00:00, 10.80it/s]\n",
      "Validation: 100%|██████████| 33/33 [00:00<00:00, 66.11it/s]\n"
     ]
    },
    {
     "name": "stdout",
     "output_type": "stream",
     "text": [
      "Epoch 4/50 | train loss: 7.327 | train acc: 0.027 | val loss: 7.596 | val acc: 0.010\n",
      "\u001b[36mNew best.\u001b[0m\n",
      "Validation accuracy increased (0.009470 --> 0.009943).  Saving model ...\n",
      "Epoch 5/50\n"
     ]
    },
    {
     "name": "stderr",
     "output_type": "stream",
     "text": [
      "Train: 100%|██████████| 129/129 [00:11<00:00, 10.92it/s]\n",
      "Validation: 100%|██████████| 33/33 [00:00<00:00, 66.09it/s]\n"
     ]
    },
    {
     "name": "stdout",
     "output_type": "stream",
     "text": [
      "Epoch 5/50 | train loss: 7.150 | train acc: 0.041 | val loss: 7.659 | val acc: 0.008\n",
      "EarlyStopping counter: 1 out of 2\n",
      "Epoch 6/50\n"
     ]
    },
    {
     "name": "stderr",
     "output_type": "stream",
     "text": [
      "Train: 100%|██████████| 129/129 [00:11<00:00, 10.99it/s]\n",
      "Validation: 100%|██████████| 33/33 [00:00<00:00, 73.89it/s]\n"
     ]
    },
    {
     "name": "stdout",
     "output_type": "stream",
     "text": [
      "Epoch 6/50 | train loss: 6.958 | train acc: 0.060 | val loss: 7.720 | val acc: 0.009\n",
      "EarlyStopping counter: 2 out of 2\n",
      "Early stopping. Max Acc =  0.009943181818181818\n",
      "Max Acc =  0.009943181818181818\n",
      "Fold 2\n",
      "(tensor([[[ 0.1882, -1.0808, -1.6707,  ..., -0.7259, -1.5062,  0.1591],\n",
      "         [ 0.0733, -0.3201, -0.4952,  ..., -0.5637, -1.3721,  0.2756],\n",
      "         [-0.0273, -0.1306, -0.0581,  ..., -0.4362, -1.0723,  0.2486],\n",
      "         ...,\n",
      "         [ 0.2428, -0.5586, -1.8591,  ...,  0.0533,  0.3744,  0.0403],\n",
      "         [ 0.2307, -1.8231, -2.4173,  ..., -0.9825, -0.5822,  0.1774],\n",
      "         [ 0.0621, -0.8407, -1.6910,  ..., -0.8701, -0.3417, -0.0104]]]), tensor(1225))\n",
      "Epoch 1/50\n"
     ]
    },
    {
     "name": "stderr",
     "output_type": "stream",
     "text": [
      "Train: 100%|██████████| 129/129 [00:11<00:00, 10.89it/s]\n",
      "Validation: 100%|██████████| 33/33 [00:00<00:00, 68.57it/s]\n"
     ]
    },
    {
     "name": "stdout",
     "output_type": "stream",
     "text": [
      "Epoch 1/50 | train loss: 7.550 | train acc: 0.005 | val loss: 7.543 | val acc: 0.003\n",
      "Initial model for Fold 2 saved.\n",
      "\u001b[36mNew best.\u001b[0m\n",
      "Validation accuracy increased (-inf --> 0.003078).  Saving model ...\n",
      "Epoch 2/50\n"
     ]
    },
    {
     "name": "stderr",
     "output_type": "stream",
     "text": [
      "Train: 100%|██████████| 129/129 [00:11<00:00, 10.82it/s]\n",
      "Validation: 100%|██████████| 33/33 [00:00<00:00, 64.89it/s]\n"
     ]
    },
    {
     "name": "stdout",
     "output_type": "stream",
     "text": [
      "Epoch 2/50 | train loss: 7.536 | train acc: 0.007 | val loss: 7.548 | val acc: 0.005\n",
      "\u001b[36mNew best.\u001b[0m\n",
      "Validation accuracy increased (0.003078 --> 0.005208).  Saving model ...\n",
      "Epoch 3/50\n"
     ]
    },
    {
     "name": "stderr",
     "output_type": "stream",
     "text": [
      "Train:  16%|█▌        | 20/129 [00:01<00:10, 10.36it/s]\n",
      "[W 2024-06-29 02:03:51,017] Trial 61 failed with parameters: {'lowcut': 2.0923325845011678, 'highcut': 40.036721113129} because of the following error: KeyboardInterrupt().\n",
      "Traceback (most recent call last):\n",
      "  File \"C:\\Users\\tshigata\\AppData\\Local\\Packages\\PythonSoftwareFoundation.Python.3.10_qbz5n2kfra8p0\\LocalCache\\local-packages\\Python310\\site-packages\\optuna\\study\\_optimize.py\", line 196, in _run_trial\n",
      "    value_or_values = func(trial)\n",
      "  File \"C:\\Users\\tshigata\\AppData\\Local\\Temp\\ipykernel_21432\\3549913540.py\", line 105, in objective\n",
      "    acc = accuracy(y_pred, y)\n",
      "  File \"C:\\Users\\tshigata\\AppData\\Local\\Packages\\PythonSoftwareFoundation.Python.3.10_qbz5n2kfra8p0\\LocalCache\\local-packages\\Python310\\site-packages\\torch\\nn\\modules\\module.py\", line 1532, in _wrapped_call_impl\n",
      "    return self._call_impl(*args, **kwargs)\n",
      "  File \"C:\\Users\\tshigata\\AppData\\Local\\Packages\\PythonSoftwareFoundation.Python.3.10_qbz5n2kfra8p0\\LocalCache\\local-packages\\Python310\\site-packages\\torch\\nn\\modules\\module.py\", line 1541, in _call_impl\n",
      "    return forward_call(*args, **kwargs)\n",
      "  File \"C:\\Users\\tshigata\\AppData\\Local\\Packages\\PythonSoftwareFoundation.Python.3.10_qbz5n2kfra8p0\\LocalCache\\local-packages\\Python310\\site-packages\\torchmetrics\\metric.py\", line 236, in forward\n",
      "    self._forward_cache = self._forward_reduce_state_update(*args, **kwargs)\n",
      "  File \"C:\\Users\\tshigata\\AppData\\Local\\Packages\\PythonSoftwareFoundation.Python.3.10_qbz5n2kfra8p0\\LocalCache\\local-packages\\Python310\\site-packages\\torchmetrics\\metric.py\", line 302, in _forward_reduce_state_update\n",
      "    self.update(*args, **kwargs)\n",
      "  File \"C:\\Users\\tshigata\\AppData\\Local\\Packages\\PythonSoftwareFoundation.Python.3.10_qbz5n2kfra8p0\\LocalCache\\local-packages\\Python310\\site-packages\\torchmetrics\\metric.py\", line 390, in wrapped_func\n",
      "    update(*args, **kwargs)\n",
      "  File \"C:\\Users\\tshigata\\AppData\\Local\\Packages\\PythonSoftwareFoundation.Python.3.10_qbz5n2kfra8p0\\LocalCache\\local-packages\\Python310\\site-packages\\torchmetrics\\classification\\stat_scores.py\", line 315, in update\n",
      "    _multiclass_stat_scores_tensor_validation(\n",
      "  File \"C:\\Users\\tshigata\\AppData\\Local\\Packages\\PythonSoftwareFoundation.Python.3.10_qbz5n2kfra8p0\\LocalCache\\local-packages\\Python310\\site-packages\\torchmetrics\\functional\\classification\\stat_scores.py\", line 303, in _multiclass_stat_scores_tensor_validation\n",
      "    num_unique_values = len(torch.unique(target))\n",
      "  File \"C:\\Users\\tshigata\\AppData\\Local\\Packages\\PythonSoftwareFoundation.Python.3.10_qbz5n2kfra8p0\\LocalCache\\local-packages\\Python310\\site-packages\\torch\\_jit_internal.py\", line 497, in fn\n",
      "    return if_false(*args, **kwargs)\n",
      "  File \"C:\\Users\\tshigata\\AppData\\Local\\Packages\\PythonSoftwareFoundation.Python.3.10_qbz5n2kfra8p0\\LocalCache\\local-packages\\Python310\\site-packages\\torch\\_jit_internal.py\", line 497, in fn\n",
      "    return if_false(*args, **kwargs)\n",
      "  File \"C:\\Users\\tshigata\\AppData\\Local\\Packages\\PythonSoftwareFoundation.Python.3.10_qbz5n2kfra8p0\\LocalCache\\local-packages\\Python310\\site-packages\\torch\\functional.py\", line 996, in _return_output\n",
      "    output, _, _ = _unique_impl(input, sorted, return_inverse, return_counts, dim)\n",
      "  File \"C:\\Users\\tshigata\\AppData\\Local\\Packages\\PythonSoftwareFoundation.Python.3.10_qbz5n2kfra8p0\\LocalCache\\local-packages\\Python310\\site-packages\\torch\\functional.py\", line 910, in _unique_impl\n",
      "    output, inverse_indices, counts = torch._unique2(\n",
      "KeyboardInterrupt\n",
      "[W 2024-06-29 02:03:51,052] Trial 61 failed with value None.\n"
     ]
    },
    {
     "ename": "KeyboardInterrupt",
     "evalue": "",
     "output_type": "error",
     "traceback": [
      "\u001b[1;31m---------------------------------------------------------------------------\u001b[0m",
      "\u001b[1;31mKeyboardInterrupt\u001b[0m                         Traceback (most recent call last)",
      "Cell \u001b[1;32mIn[8], line 14\u001b[0m\n\u001b[0;32m      1\u001b[0m study \u001b[38;5;241m=\u001b[39m optuna\u001b[38;5;241m.\u001b[39mcreate_study(\n\u001b[0;32m      2\u001b[0m     load_if_exists\u001b[38;5;241m=\u001b[39m\u001b[38;5;28;01mTrue\u001b[39;00m,\n\u001b[0;32m      3\u001b[0m     direction\u001b[38;5;241m=\u001b[39m\u001b[38;5;124m\"\u001b[39m\u001b[38;5;124mmaximize\u001b[39m\u001b[38;5;124m\"\u001b[39m,\n\u001b[0;32m      4\u001b[0m     storage\u001b[38;5;241m=\u001b[39m\u001b[38;5;124m\"\u001b[39m\u001b[38;5;124msqlite:///db.sqlite3\u001b[39m\u001b[38;5;124m\"\u001b[39m,  \u001b[38;5;66;03m# Specify the storage URL here.\u001b[39;00m\n\u001b[0;32m      5\u001b[0m     study_name\u001b[38;5;241m=\u001b[39m\u001b[38;5;124m\"\u001b[39m\u001b[38;5;124mbandpass_filter_study_5cv\u001b[39m\u001b[38;5;124m\"\u001b[39m,\n\u001b[0;32m      6\u001b[0m )\n\u001b[0;32m      7\u001b[0m \u001b[38;5;66;03m# study.enqueue_trial({'lowcut': 0.5, 'highcut': 50.0}, user_attrs={\"memo\": \"baseline\"})\u001b[39;00m\n\u001b[0;32m      8\u001b[0m \u001b[38;5;66;03m# study.enqueue_trial({'lowcut': 0.1, 'highcut': 50.0}, user_attrs={\"memo\": \"baseline+\"})\u001b[39;00m\n\u001b[0;32m      9\u001b[0m \u001b[38;5;66;03m# study.enqueue_trial({'lowcut': 0.5, 'highcut': 60.0}, user_attrs={\"memo\": \"baseline+\"})\u001b[39;00m\n\u001b[1;32m   (...)\u001b[0m\n\u001b[0;32m     12\u001b[0m \u001b[38;5;66;03m# study.enqueue_trial({'lowcut': 0.01, 'highcut': 60.0}, user_attrs={\"memo\": \"no filter\"})\u001b[39;00m\n\u001b[0;32m     13\u001b[0m \u001b[38;5;66;03m# study.enqueue_trial({'lowcut': 0.01, 'highcut': 63.0}, user_attrs={\"memo\": \"no filter\"})\u001b[39;00m\n\u001b[1;32m---> 14\u001b[0m \u001b[43mstudy\u001b[49m\u001b[38;5;241;43m.\u001b[39;49m\u001b[43moptimize\u001b[49m\u001b[43m(\u001b[49m\u001b[43mobjective\u001b[49m\u001b[43m,\u001b[49m\u001b[43m \u001b[49m\u001b[43mn_trials\u001b[49m\u001b[38;5;241;43m=\u001b[39;49m\u001b[38;5;241;43m200\u001b[39;49m\u001b[43m)\u001b[49m\n\u001b[0;32m     15\u001b[0m \u001b[38;5;28mprint\u001b[39m(study\u001b[38;5;241m.\u001b[39mbest_trial)\n",
      "File \u001b[1;32m~\\AppData\\Local\\Packages\\PythonSoftwareFoundation.Python.3.10_qbz5n2kfra8p0\\LocalCache\\local-packages\\Python310\\site-packages\\optuna\\study\\study.py:451\u001b[0m, in \u001b[0;36mStudy.optimize\u001b[1;34m(self, func, n_trials, timeout, n_jobs, catch, callbacks, gc_after_trial, show_progress_bar)\u001b[0m\n\u001b[0;32m    348\u001b[0m \u001b[38;5;28;01mdef\u001b[39;00m \u001b[38;5;21moptimize\u001b[39m(\n\u001b[0;32m    349\u001b[0m     \u001b[38;5;28mself\u001b[39m,\n\u001b[0;32m    350\u001b[0m     func: ObjectiveFuncType,\n\u001b[1;32m   (...)\u001b[0m\n\u001b[0;32m    357\u001b[0m     show_progress_bar: \u001b[38;5;28mbool\u001b[39m \u001b[38;5;241m=\u001b[39m \u001b[38;5;28;01mFalse\u001b[39;00m,\n\u001b[0;32m    358\u001b[0m ) \u001b[38;5;241m-\u001b[39m\u001b[38;5;241m>\u001b[39m \u001b[38;5;28;01mNone\u001b[39;00m:\n\u001b[0;32m    359\u001b[0m \u001b[38;5;250m    \u001b[39m\u001b[38;5;124;03m\"\"\"Optimize an objective function.\u001b[39;00m\n\u001b[0;32m    360\u001b[0m \n\u001b[0;32m    361\u001b[0m \u001b[38;5;124;03m    Optimization is done by choosing a suitable set of hyperparameter values from a given\u001b[39;00m\n\u001b[1;32m   (...)\u001b[0m\n\u001b[0;32m    449\u001b[0m \u001b[38;5;124;03m            If nested invocation of this method occurs.\u001b[39;00m\n\u001b[0;32m    450\u001b[0m \u001b[38;5;124;03m    \"\"\"\u001b[39;00m\n\u001b[1;32m--> 451\u001b[0m     \u001b[43m_optimize\u001b[49m\u001b[43m(\u001b[49m\n\u001b[0;32m    452\u001b[0m \u001b[43m        \u001b[49m\u001b[43mstudy\u001b[49m\u001b[38;5;241;43m=\u001b[39;49m\u001b[38;5;28;43mself\u001b[39;49m\u001b[43m,\u001b[49m\n\u001b[0;32m    453\u001b[0m \u001b[43m        \u001b[49m\u001b[43mfunc\u001b[49m\u001b[38;5;241;43m=\u001b[39;49m\u001b[43mfunc\u001b[49m\u001b[43m,\u001b[49m\n\u001b[0;32m    454\u001b[0m \u001b[43m        \u001b[49m\u001b[43mn_trials\u001b[49m\u001b[38;5;241;43m=\u001b[39;49m\u001b[43mn_trials\u001b[49m\u001b[43m,\u001b[49m\n\u001b[0;32m    455\u001b[0m \u001b[43m        \u001b[49m\u001b[43mtimeout\u001b[49m\u001b[38;5;241;43m=\u001b[39;49m\u001b[43mtimeout\u001b[49m\u001b[43m,\u001b[49m\n\u001b[0;32m    456\u001b[0m \u001b[43m        \u001b[49m\u001b[43mn_jobs\u001b[49m\u001b[38;5;241;43m=\u001b[39;49m\u001b[43mn_jobs\u001b[49m\u001b[43m,\u001b[49m\n\u001b[0;32m    457\u001b[0m \u001b[43m        \u001b[49m\u001b[43mcatch\u001b[49m\u001b[38;5;241;43m=\u001b[39;49m\u001b[38;5;28;43mtuple\u001b[39;49m\u001b[43m(\u001b[49m\u001b[43mcatch\u001b[49m\u001b[43m)\u001b[49m\u001b[43m \u001b[49m\u001b[38;5;28;43;01mif\u001b[39;49;00m\u001b[43m \u001b[49m\u001b[38;5;28;43misinstance\u001b[39;49m\u001b[43m(\u001b[49m\u001b[43mcatch\u001b[49m\u001b[43m,\u001b[49m\u001b[43m \u001b[49m\u001b[43mIterable\u001b[49m\u001b[43m)\u001b[49m\u001b[43m \u001b[49m\u001b[38;5;28;43;01melse\u001b[39;49;00m\u001b[43m \u001b[49m\u001b[43m(\u001b[49m\u001b[43mcatch\u001b[49m\u001b[43m,\u001b[49m\u001b[43m)\u001b[49m\u001b[43m,\u001b[49m\n\u001b[0;32m    458\u001b[0m \u001b[43m        \u001b[49m\u001b[43mcallbacks\u001b[49m\u001b[38;5;241;43m=\u001b[39;49m\u001b[43mcallbacks\u001b[49m\u001b[43m,\u001b[49m\n\u001b[0;32m    459\u001b[0m \u001b[43m        \u001b[49m\u001b[43mgc_after_trial\u001b[49m\u001b[38;5;241;43m=\u001b[39;49m\u001b[43mgc_after_trial\u001b[49m\u001b[43m,\u001b[49m\n\u001b[0;32m    460\u001b[0m \u001b[43m        \u001b[49m\u001b[43mshow_progress_bar\u001b[49m\u001b[38;5;241;43m=\u001b[39;49m\u001b[43mshow_progress_bar\u001b[49m\u001b[43m,\u001b[49m\n\u001b[0;32m    461\u001b[0m \u001b[43m    \u001b[49m\u001b[43m)\u001b[49m\n",
      "File \u001b[1;32m~\\AppData\\Local\\Packages\\PythonSoftwareFoundation.Python.3.10_qbz5n2kfra8p0\\LocalCache\\local-packages\\Python310\\site-packages\\optuna\\study\\_optimize.py:62\u001b[0m, in \u001b[0;36m_optimize\u001b[1;34m(study, func, n_trials, timeout, n_jobs, catch, callbacks, gc_after_trial, show_progress_bar)\u001b[0m\n\u001b[0;32m     60\u001b[0m \u001b[38;5;28;01mtry\u001b[39;00m:\n\u001b[0;32m     61\u001b[0m     \u001b[38;5;28;01mif\u001b[39;00m n_jobs \u001b[38;5;241m==\u001b[39m \u001b[38;5;241m1\u001b[39m:\n\u001b[1;32m---> 62\u001b[0m         \u001b[43m_optimize_sequential\u001b[49m\u001b[43m(\u001b[49m\n\u001b[0;32m     63\u001b[0m \u001b[43m            \u001b[49m\u001b[43mstudy\u001b[49m\u001b[43m,\u001b[49m\n\u001b[0;32m     64\u001b[0m \u001b[43m            \u001b[49m\u001b[43mfunc\u001b[49m\u001b[43m,\u001b[49m\n\u001b[0;32m     65\u001b[0m \u001b[43m            \u001b[49m\u001b[43mn_trials\u001b[49m\u001b[43m,\u001b[49m\n\u001b[0;32m     66\u001b[0m \u001b[43m            \u001b[49m\u001b[43mtimeout\u001b[49m\u001b[43m,\u001b[49m\n\u001b[0;32m     67\u001b[0m \u001b[43m            \u001b[49m\u001b[43mcatch\u001b[49m\u001b[43m,\u001b[49m\n\u001b[0;32m     68\u001b[0m \u001b[43m            \u001b[49m\u001b[43mcallbacks\u001b[49m\u001b[43m,\u001b[49m\n\u001b[0;32m     69\u001b[0m \u001b[43m            \u001b[49m\u001b[43mgc_after_trial\u001b[49m\u001b[43m,\u001b[49m\n\u001b[0;32m     70\u001b[0m \u001b[43m            \u001b[49m\u001b[43mreseed_sampler_rng\u001b[49m\u001b[38;5;241;43m=\u001b[39;49m\u001b[38;5;28;43;01mFalse\u001b[39;49;00m\u001b[43m,\u001b[49m\n\u001b[0;32m     71\u001b[0m \u001b[43m            \u001b[49m\u001b[43mtime_start\u001b[49m\u001b[38;5;241;43m=\u001b[39;49m\u001b[38;5;28;43;01mNone\u001b[39;49;00m\u001b[43m,\u001b[49m\n\u001b[0;32m     72\u001b[0m \u001b[43m            \u001b[49m\u001b[43mprogress_bar\u001b[49m\u001b[38;5;241;43m=\u001b[39;49m\u001b[43mprogress_bar\u001b[49m\u001b[43m,\u001b[49m\n\u001b[0;32m     73\u001b[0m \u001b[43m        \u001b[49m\u001b[43m)\u001b[49m\n\u001b[0;32m     74\u001b[0m     \u001b[38;5;28;01melse\u001b[39;00m:\n\u001b[0;32m     75\u001b[0m         \u001b[38;5;28;01mif\u001b[39;00m n_jobs \u001b[38;5;241m==\u001b[39m \u001b[38;5;241m-\u001b[39m\u001b[38;5;241m1\u001b[39m:\n",
      "File \u001b[1;32m~\\AppData\\Local\\Packages\\PythonSoftwareFoundation.Python.3.10_qbz5n2kfra8p0\\LocalCache\\local-packages\\Python310\\site-packages\\optuna\\study\\_optimize.py:159\u001b[0m, in \u001b[0;36m_optimize_sequential\u001b[1;34m(study, func, n_trials, timeout, catch, callbacks, gc_after_trial, reseed_sampler_rng, time_start, progress_bar)\u001b[0m\n\u001b[0;32m    156\u001b[0m         \u001b[38;5;28;01mbreak\u001b[39;00m\n\u001b[0;32m    158\u001b[0m \u001b[38;5;28;01mtry\u001b[39;00m:\n\u001b[1;32m--> 159\u001b[0m     frozen_trial \u001b[38;5;241m=\u001b[39m \u001b[43m_run_trial\u001b[49m\u001b[43m(\u001b[49m\u001b[43mstudy\u001b[49m\u001b[43m,\u001b[49m\u001b[43m \u001b[49m\u001b[43mfunc\u001b[49m\u001b[43m,\u001b[49m\u001b[43m \u001b[49m\u001b[43mcatch\u001b[49m\u001b[43m)\u001b[49m\n\u001b[0;32m    160\u001b[0m \u001b[38;5;28;01mfinally\u001b[39;00m:\n\u001b[0;32m    161\u001b[0m     \u001b[38;5;66;03m# The following line mitigates memory problems that can be occurred in some\u001b[39;00m\n\u001b[0;32m    162\u001b[0m     \u001b[38;5;66;03m# environments (e.g., services that use computing containers such as GitHub Actions).\u001b[39;00m\n\u001b[0;32m    163\u001b[0m     \u001b[38;5;66;03m# Please refer to the following PR for further details:\u001b[39;00m\n\u001b[0;32m    164\u001b[0m     \u001b[38;5;66;03m# https://github.com/optuna/optuna/pull/325.\u001b[39;00m\n\u001b[0;32m    165\u001b[0m     \u001b[38;5;28;01mif\u001b[39;00m gc_after_trial:\n",
      "File \u001b[1;32m~\\AppData\\Local\\Packages\\PythonSoftwareFoundation.Python.3.10_qbz5n2kfra8p0\\LocalCache\\local-packages\\Python310\\site-packages\\optuna\\study\\_optimize.py:247\u001b[0m, in \u001b[0;36m_run_trial\u001b[1;34m(study, func, catch)\u001b[0m\n\u001b[0;32m    240\u001b[0m         \u001b[38;5;28;01massert\u001b[39;00m \u001b[38;5;28;01mFalse\u001b[39;00m, \u001b[38;5;124m\"\u001b[39m\u001b[38;5;124mShould not reach.\u001b[39m\u001b[38;5;124m\"\u001b[39m\n\u001b[0;32m    242\u001b[0m \u001b[38;5;28;01mif\u001b[39;00m (\n\u001b[0;32m    243\u001b[0m     frozen_trial\u001b[38;5;241m.\u001b[39mstate \u001b[38;5;241m==\u001b[39m TrialState\u001b[38;5;241m.\u001b[39mFAIL\n\u001b[0;32m    244\u001b[0m     \u001b[38;5;129;01mand\u001b[39;00m func_err \u001b[38;5;129;01mis\u001b[39;00m \u001b[38;5;129;01mnot\u001b[39;00m \u001b[38;5;28;01mNone\u001b[39;00m\n\u001b[0;32m    245\u001b[0m     \u001b[38;5;129;01mand\u001b[39;00m \u001b[38;5;129;01mnot\u001b[39;00m \u001b[38;5;28misinstance\u001b[39m(func_err, catch)\n\u001b[0;32m    246\u001b[0m ):\n\u001b[1;32m--> 247\u001b[0m     \u001b[38;5;28;01mraise\u001b[39;00m func_err\n\u001b[0;32m    248\u001b[0m \u001b[38;5;28;01mreturn\u001b[39;00m frozen_trial\n",
      "File \u001b[1;32m~\\AppData\\Local\\Packages\\PythonSoftwareFoundation.Python.3.10_qbz5n2kfra8p0\\LocalCache\\local-packages\\Python310\\site-packages\\optuna\\study\\_optimize.py:196\u001b[0m, in \u001b[0;36m_run_trial\u001b[1;34m(study, func, catch)\u001b[0m\n\u001b[0;32m    194\u001b[0m \u001b[38;5;28;01mwith\u001b[39;00m get_heartbeat_thread(trial\u001b[38;5;241m.\u001b[39m_trial_id, study\u001b[38;5;241m.\u001b[39m_storage):\n\u001b[0;32m    195\u001b[0m     \u001b[38;5;28;01mtry\u001b[39;00m:\n\u001b[1;32m--> 196\u001b[0m         value_or_values \u001b[38;5;241m=\u001b[39m \u001b[43mfunc\u001b[49m\u001b[43m(\u001b[49m\u001b[43mtrial\u001b[49m\u001b[43m)\u001b[49m\n\u001b[0;32m    197\u001b[0m     \u001b[38;5;28;01mexcept\u001b[39;00m exceptions\u001b[38;5;241m.\u001b[39mTrialPruned \u001b[38;5;28;01mas\u001b[39;00m e:\n\u001b[0;32m    198\u001b[0m         \u001b[38;5;66;03m# TODO(mamu): Handle multi-objective cases.\u001b[39;00m\n\u001b[0;32m    199\u001b[0m         state \u001b[38;5;241m=\u001b[39m TrialState\u001b[38;5;241m.\u001b[39mPRUNED\n",
      "Cell \u001b[1;32mIn[7], line 105\u001b[0m, in \u001b[0;36mobjective\u001b[1;34m(trial)\u001b[0m\n\u001b[0;32m    102\u001b[0m     loss\u001b[38;5;241m.\u001b[39mbackward()\n\u001b[0;32m    103\u001b[0m     optimizer\u001b[38;5;241m.\u001b[39mstep()\n\u001b[1;32m--> 105\u001b[0m     acc \u001b[38;5;241m=\u001b[39m \u001b[43maccuracy\u001b[49m\u001b[43m(\u001b[49m\u001b[43my_pred\u001b[49m\u001b[43m,\u001b[49m\u001b[43m \u001b[49m\u001b[43my\u001b[49m\u001b[43m)\u001b[49m\n\u001b[0;32m    106\u001b[0m     train_acc\u001b[38;5;241m.\u001b[39mappend(acc\u001b[38;5;241m.\u001b[39mitem())\n\u001b[0;32m    108\u001b[0m model\u001b[38;5;241m.\u001b[39meval()\n",
      "File \u001b[1;32m~\\AppData\\Local\\Packages\\PythonSoftwareFoundation.Python.3.10_qbz5n2kfra8p0\\LocalCache\\local-packages\\Python310\\site-packages\\torch\\nn\\modules\\module.py:1532\u001b[0m, in \u001b[0;36mModule._wrapped_call_impl\u001b[1;34m(self, *args, **kwargs)\u001b[0m\n\u001b[0;32m   1530\u001b[0m     \u001b[38;5;28;01mreturn\u001b[39;00m \u001b[38;5;28mself\u001b[39m\u001b[38;5;241m.\u001b[39m_compiled_call_impl(\u001b[38;5;241m*\u001b[39margs, \u001b[38;5;241m*\u001b[39m\u001b[38;5;241m*\u001b[39mkwargs)  \u001b[38;5;66;03m# type: ignore[misc]\u001b[39;00m\n\u001b[0;32m   1531\u001b[0m \u001b[38;5;28;01melse\u001b[39;00m:\n\u001b[1;32m-> 1532\u001b[0m     \u001b[38;5;28;01mreturn\u001b[39;00m \u001b[38;5;28mself\u001b[39m\u001b[38;5;241m.\u001b[39m_call_impl(\u001b[38;5;241m*\u001b[39margs, \u001b[38;5;241m*\u001b[39m\u001b[38;5;241m*\u001b[39mkwargs)\n",
      "File \u001b[1;32m~\\AppData\\Local\\Packages\\PythonSoftwareFoundation.Python.3.10_qbz5n2kfra8p0\\LocalCache\\local-packages\\Python310\\site-packages\\torch\\nn\\modules\\module.py:1541\u001b[0m, in \u001b[0;36mModule._call_impl\u001b[1;34m(self, *args, **kwargs)\u001b[0m\n\u001b[0;32m   1536\u001b[0m \u001b[38;5;66;03m# If we don't have any hooks, we want to skip the rest of the logic in\u001b[39;00m\n\u001b[0;32m   1537\u001b[0m \u001b[38;5;66;03m# this function, and just call forward.\u001b[39;00m\n\u001b[0;32m   1538\u001b[0m \u001b[38;5;28;01mif\u001b[39;00m \u001b[38;5;129;01mnot\u001b[39;00m (\u001b[38;5;28mself\u001b[39m\u001b[38;5;241m.\u001b[39m_backward_hooks \u001b[38;5;129;01mor\u001b[39;00m \u001b[38;5;28mself\u001b[39m\u001b[38;5;241m.\u001b[39m_backward_pre_hooks \u001b[38;5;129;01mor\u001b[39;00m \u001b[38;5;28mself\u001b[39m\u001b[38;5;241m.\u001b[39m_forward_hooks \u001b[38;5;129;01mor\u001b[39;00m \u001b[38;5;28mself\u001b[39m\u001b[38;5;241m.\u001b[39m_forward_pre_hooks\n\u001b[0;32m   1539\u001b[0m         \u001b[38;5;129;01mor\u001b[39;00m _global_backward_pre_hooks \u001b[38;5;129;01mor\u001b[39;00m _global_backward_hooks\n\u001b[0;32m   1540\u001b[0m         \u001b[38;5;129;01mor\u001b[39;00m _global_forward_hooks \u001b[38;5;129;01mor\u001b[39;00m _global_forward_pre_hooks):\n\u001b[1;32m-> 1541\u001b[0m     \u001b[38;5;28;01mreturn\u001b[39;00m forward_call(\u001b[38;5;241m*\u001b[39margs, \u001b[38;5;241m*\u001b[39m\u001b[38;5;241m*\u001b[39mkwargs)\n\u001b[0;32m   1543\u001b[0m \u001b[38;5;28;01mtry\u001b[39;00m:\n\u001b[0;32m   1544\u001b[0m     result \u001b[38;5;241m=\u001b[39m \u001b[38;5;28;01mNone\u001b[39;00m\n",
      "File \u001b[1;32m~\\AppData\\Local\\Packages\\PythonSoftwareFoundation.Python.3.10_qbz5n2kfra8p0\\LocalCache\\local-packages\\Python310\\site-packages\\torchmetrics\\metric.py:236\u001b[0m, in \u001b[0;36mMetric.forward\u001b[1;34m(self, *args, **kwargs)\u001b[0m\n\u001b[0;32m    234\u001b[0m     \u001b[38;5;28mself\u001b[39m\u001b[38;5;241m.\u001b[39m_forward_cache \u001b[38;5;241m=\u001b[39m \u001b[38;5;28mself\u001b[39m\u001b[38;5;241m.\u001b[39m_forward_full_state_update(\u001b[38;5;241m*\u001b[39margs, \u001b[38;5;241m*\u001b[39m\u001b[38;5;241m*\u001b[39mkwargs)\n\u001b[0;32m    235\u001b[0m \u001b[38;5;28;01melse\u001b[39;00m:\n\u001b[1;32m--> 236\u001b[0m     \u001b[38;5;28mself\u001b[39m\u001b[38;5;241m.\u001b[39m_forward_cache \u001b[38;5;241m=\u001b[39m \u001b[38;5;28mself\u001b[39m\u001b[38;5;241m.\u001b[39m_forward_reduce_state_update(\u001b[38;5;241m*\u001b[39margs, \u001b[38;5;241m*\u001b[39m\u001b[38;5;241m*\u001b[39mkwargs)\n\u001b[0;32m    238\u001b[0m \u001b[38;5;28;01mreturn\u001b[39;00m \u001b[38;5;28mself\u001b[39m\u001b[38;5;241m.\u001b[39m_forward_cache\n",
      "File \u001b[1;32m~\\AppData\\Local\\Packages\\PythonSoftwareFoundation.Python.3.10_qbz5n2kfra8p0\\LocalCache\\local-packages\\Python310\\site-packages\\torchmetrics\\metric.py:302\u001b[0m, in \u001b[0;36mMetric._forward_reduce_state_update\u001b[1;34m(self, *args, **kwargs)\u001b[0m\n\u001b[0;32m    299\u001b[0m \u001b[38;5;28mself\u001b[39m\u001b[38;5;241m.\u001b[39m_enable_grad \u001b[38;5;241m=\u001b[39m \u001b[38;5;28;01mTrue\u001b[39;00m  \u001b[38;5;66;03m# allow grads for batch computation\u001b[39;00m\n\u001b[0;32m    301\u001b[0m \u001b[38;5;66;03m# calculate batch state and compute batch value\u001b[39;00m\n\u001b[1;32m--> 302\u001b[0m \u001b[38;5;28mself\u001b[39m\u001b[38;5;241m.\u001b[39mupdate(\u001b[38;5;241m*\u001b[39margs, \u001b[38;5;241m*\u001b[39m\u001b[38;5;241m*\u001b[39mkwargs)\n\u001b[0;32m    303\u001b[0m batch_val \u001b[38;5;241m=\u001b[39m \u001b[38;5;28mself\u001b[39m\u001b[38;5;241m.\u001b[39mcompute()\n\u001b[0;32m    305\u001b[0m \u001b[38;5;66;03m# reduce batch and global state\u001b[39;00m\n",
      "File \u001b[1;32m~\\AppData\\Local\\Packages\\PythonSoftwareFoundation.Python.3.10_qbz5n2kfra8p0\\LocalCache\\local-packages\\Python310\\site-packages\\torchmetrics\\metric.py:390\u001b[0m, in \u001b[0;36mMetric._wrap_update.<locals>.wrapped_func\u001b[1;34m(*args, **kwargs)\u001b[0m\n\u001b[0;32m    388\u001b[0m \u001b[38;5;28;01mwith\u001b[39;00m torch\u001b[38;5;241m.\u001b[39mset_grad_enabled(\u001b[38;5;28mself\u001b[39m\u001b[38;5;241m.\u001b[39m_enable_grad):\n\u001b[0;32m    389\u001b[0m     \u001b[38;5;28;01mtry\u001b[39;00m:\n\u001b[1;32m--> 390\u001b[0m         update(\u001b[38;5;241m*\u001b[39margs, \u001b[38;5;241m*\u001b[39m\u001b[38;5;241m*\u001b[39mkwargs)\n\u001b[0;32m    391\u001b[0m     \u001b[38;5;28;01mexcept\u001b[39;00m \u001b[38;5;167;01mRuntimeError\u001b[39;00m \u001b[38;5;28;01mas\u001b[39;00m err:\n\u001b[0;32m    392\u001b[0m         \u001b[38;5;28;01mif\u001b[39;00m \u001b[38;5;124m\"\u001b[39m\u001b[38;5;124mExpected all tensors to be on\u001b[39m\u001b[38;5;124m\"\u001b[39m \u001b[38;5;129;01min\u001b[39;00m \u001b[38;5;28mstr\u001b[39m(err):\n",
      "File \u001b[1;32m~\\AppData\\Local\\Packages\\PythonSoftwareFoundation.Python.3.10_qbz5n2kfra8p0\\LocalCache\\local-packages\\Python310\\site-packages\\torchmetrics\\classification\\stat_scores.py:315\u001b[0m, in \u001b[0;36mMulticlassStatScores.update\u001b[1;34m(self, preds, target)\u001b[0m\n\u001b[0;32m    313\u001b[0m \u001b[38;5;250m\u001b[39m\u001b[38;5;124;03m\"\"\"Update state with predictions and targets.\"\"\"\u001b[39;00m\n\u001b[0;32m    314\u001b[0m \u001b[38;5;28;01mif\u001b[39;00m \u001b[38;5;28mself\u001b[39m\u001b[38;5;241m.\u001b[39mvalidate_args:\n\u001b[1;32m--> 315\u001b[0m     \u001b[43m_multiclass_stat_scores_tensor_validation\u001b[49m\u001b[43m(\u001b[49m\n\u001b[0;32m    316\u001b[0m \u001b[43m        \u001b[49m\u001b[43mpreds\u001b[49m\u001b[43m,\u001b[49m\u001b[43m \u001b[49m\u001b[43mtarget\u001b[49m\u001b[43m,\u001b[49m\u001b[43m \u001b[49m\u001b[38;5;28;43mself\u001b[39;49m\u001b[38;5;241;43m.\u001b[39;49m\u001b[43mnum_classes\u001b[49m\u001b[43m,\u001b[49m\u001b[43m \u001b[49m\u001b[38;5;28;43mself\u001b[39;49m\u001b[38;5;241;43m.\u001b[39;49m\u001b[43mmultidim_average\u001b[49m\u001b[43m,\u001b[49m\u001b[43m \u001b[49m\u001b[38;5;28;43mself\u001b[39;49m\u001b[38;5;241;43m.\u001b[39;49m\u001b[43mignore_index\u001b[49m\n\u001b[0;32m    317\u001b[0m \u001b[43m    \u001b[49m\u001b[43m)\u001b[49m\n\u001b[0;32m    318\u001b[0m preds, target \u001b[38;5;241m=\u001b[39m _multiclass_stat_scores_format(preds, target, \u001b[38;5;28mself\u001b[39m\u001b[38;5;241m.\u001b[39mtop_k)\n\u001b[0;32m    319\u001b[0m tp, fp, tn, fn \u001b[38;5;241m=\u001b[39m _multiclass_stat_scores_update(\n\u001b[0;32m    320\u001b[0m     preds, target, \u001b[38;5;28mself\u001b[39m\u001b[38;5;241m.\u001b[39mnum_classes, \u001b[38;5;28mself\u001b[39m\u001b[38;5;241m.\u001b[39mtop_k, \u001b[38;5;28mself\u001b[39m\u001b[38;5;241m.\u001b[39maverage, \u001b[38;5;28mself\u001b[39m\u001b[38;5;241m.\u001b[39mmultidim_average, \u001b[38;5;28mself\u001b[39m\u001b[38;5;241m.\u001b[39mignore_index\n\u001b[0;32m    321\u001b[0m )\n",
      "File \u001b[1;32m~\\AppData\\Local\\Packages\\PythonSoftwareFoundation.Python.3.10_qbz5n2kfra8p0\\LocalCache\\local-packages\\Python310\\site-packages\\torchmetrics\\functional\\classification\\stat_scores.py:303\u001b[0m, in \u001b[0;36m_multiclass_stat_scores_tensor_validation\u001b[1;34m(preds, target, num_classes, multidim_average, ignore_index)\u001b[0m\n\u001b[0;32m    297\u001b[0m \u001b[38;5;28;01melse\u001b[39;00m:\n\u001b[0;32m    298\u001b[0m     \u001b[38;5;28;01mraise\u001b[39;00m \u001b[38;5;167;01mValueError\u001b[39;00m(\n\u001b[0;32m    299\u001b[0m         \u001b[38;5;124m\"\u001b[39m\u001b[38;5;124mEither `preds` and `target` both should have the (same) shape (N, ...), or `target` should be (N, ...)\u001b[39m\u001b[38;5;124m\"\u001b[39m\n\u001b[0;32m    300\u001b[0m         \u001b[38;5;124m\"\u001b[39m\u001b[38;5;124m and `preds` should be (N, C, ...).\u001b[39m\u001b[38;5;124m\"\u001b[39m\n\u001b[0;32m    301\u001b[0m     )\n\u001b[1;32m--> 303\u001b[0m num_unique_values \u001b[38;5;241m=\u001b[39m \u001b[38;5;28mlen\u001b[39m(\u001b[43mtorch\u001b[49m\u001b[38;5;241;43m.\u001b[39;49m\u001b[43munique\u001b[49m\u001b[43m(\u001b[49m\u001b[43mtarget\u001b[49m\u001b[43m)\u001b[49m)\n\u001b[0;32m    304\u001b[0m \u001b[38;5;28;01mif\u001b[39;00m ignore_index \u001b[38;5;129;01mis\u001b[39;00m \u001b[38;5;28;01mNone\u001b[39;00m:\n\u001b[0;32m    305\u001b[0m     check \u001b[38;5;241m=\u001b[39m num_unique_values \u001b[38;5;241m>\u001b[39m num_classes\n",
      "File \u001b[1;32m~\\AppData\\Local\\Packages\\PythonSoftwareFoundation.Python.3.10_qbz5n2kfra8p0\\LocalCache\\local-packages\\Python310\\site-packages\\torch\\_jit_internal.py:497\u001b[0m, in \u001b[0;36mboolean_dispatch.<locals>.fn\u001b[1;34m(*args, **kwargs)\u001b[0m\n\u001b[0;32m    495\u001b[0m     \u001b[38;5;28;01mreturn\u001b[39;00m if_true(\u001b[38;5;241m*\u001b[39margs, \u001b[38;5;241m*\u001b[39m\u001b[38;5;241m*\u001b[39mkwargs)\n\u001b[0;32m    496\u001b[0m \u001b[38;5;28;01melse\u001b[39;00m:\n\u001b[1;32m--> 497\u001b[0m     \u001b[38;5;28;01mreturn\u001b[39;00m if_false(\u001b[38;5;241m*\u001b[39margs, \u001b[38;5;241m*\u001b[39m\u001b[38;5;241m*\u001b[39mkwargs)\n",
      "File \u001b[1;32m~\\AppData\\Local\\Packages\\PythonSoftwareFoundation.Python.3.10_qbz5n2kfra8p0\\LocalCache\\local-packages\\Python310\\site-packages\\torch\\_jit_internal.py:497\u001b[0m, in \u001b[0;36mboolean_dispatch.<locals>.fn\u001b[1;34m(*args, **kwargs)\u001b[0m\n\u001b[0;32m    495\u001b[0m     \u001b[38;5;28;01mreturn\u001b[39;00m if_true(\u001b[38;5;241m*\u001b[39margs, \u001b[38;5;241m*\u001b[39m\u001b[38;5;241m*\u001b[39mkwargs)\n\u001b[0;32m    496\u001b[0m \u001b[38;5;28;01melse\u001b[39;00m:\n\u001b[1;32m--> 497\u001b[0m     \u001b[38;5;28;01mreturn\u001b[39;00m if_false(\u001b[38;5;241m*\u001b[39margs, \u001b[38;5;241m*\u001b[39m\u001b[38;5;241m*\u001b[39mkwargs)\n",
      "File \u001b[1;32m~\\AppData\\Local\\Packages\\PythonSoftwareFoundation.Python.3.10_qbz5n2kfra8p0\\LocalCache\\local-packages\\Python310\\site-packages\\torch\\functional.py:996\u001b[0m, in \u001b[0;36m_return_output\u001b[1;34m(input, sorted, return_inverse, return_counts, dim)\u001b[0m\n\u001b[0;32m    993\u001b[0m \u001b[38;5;28;01mif\u001b[39;00m has_torch_function_unary(\u001b[38;5;28minput\u001b[39m):\n\u001b[0;32m    994\u001b[0m     \u001b[38;5;28;01mreturn\u001b[39;00m _unique_impl(\u001b[38;5;28minput\u001b[39m, \u001b[38;5;28msorted\u001b[39m, return_inverse, return_counts, dim)\n\u001b[1;32m--> 996\u001b[0m output, _, _ \u001b[38;5;241m=\u001b[39m \u001b[43m_unique_impl\u001b[49m\u001b[43m(\u001b[49m\u001b[38;5;28;43minput\u001b[39;49m\u001b[43m,\u001b[49m\u001b[43m \u001b[49m\u001b[38;5;28;43msorted\u001b[39;49m\u001b[43m,\u001b[49m\u001b[43m \u001b[49m\u001b[43mreturn_inverse\u001b[49m\u001b[43m,\u001b[49m\u001b[43m \u001b[49m\u001b[43mreturn_counts\u001b[49m\u001b[43m,\u001b[49m\u001b[43m \u001b[49m\u001b[43mdim\u001b[49m\u001b[43m)\u001b[49m\n\u001b[0;32m    997\u001b[0m \u001b[38;5;28;01mreturn\u001b[39;00m output\n",
      "File \u001b[1;32m~\\AppData\\Local\\Packages\\PythonSoftwareFoundation.Python.3.10_qbz5n2kfra8p0\\LocalCache\\local-packages\\Python310\\site-packages\\torch\\functional.py:910\u001b[0m, in \u001b[0;36m_unique_impl\u001b[1;34m(input, sorted, return_inverse, return_counts, dim)\u001b[0m\n\u001b[0;32m    902\u001b[0m     output, inverse_indices, counts \u001b[38;5;241m=\u001b[39m _VF\u001b[38;5;241m.\u001b[39munique_dim(\n\u001b[0;32m    903\u001b[0m         \u001b[38;5;28minput\u001b[39m,\n\u001b[0;32m    904\u001b[0m         dim,\n\u001b[1;32m   (...)\u001b[0m\n\u001b[0;32m    907\u001b[0m         return_counts\u001b[38;5;241m=\u001b[39mreturn_counts,\n\u001b[0;32m    908\u001b[0m     )\n\u001b[0;32m    909\u001b[0m \u001b[38;5;28;01melse\u001b[39;00m:\n\u001b[1;32m--> 910\u001b[0m     output, inverse_indices, counts \u001b[38;5;241m=\u001b[39m \u001b[43mtorch\u001b[49m\u001b[38;5;241;43m.\u001b[39;49m\u001b[43m_unique2\u001b[49m\u001b[43m(\u001b[49m\n\u001b[0;32m    911\u001b[0m \u001b[43m        \u001b[49m\u001b[38;5;28;43minput\u001b[39;49m\u001b[43m,\u001b[49m\n\u001b[0;32m    912\u001b[0m \u001b[43m        \u001b[49m\u001b[38;5;28;43msorted\u001b[39;49m\u001b[38;5;241;43m=\u001b[39;49m\u001b[38;5;28;43msorted\u001b[39;49m\u001b[43m,\u001b[49m\n\u001b[0;32m    913\u001b[0m \u001b[43m        \u001b[49m\u001b[43mreturn_inverse\u001b[49m\u001b[38;5;241;43m=\u001b[39;49m\u001b[43mreturn_inverse\u001b[49m\u001b[43m,\u001b[49m\n\u001b[0;32m    914\u001b[0m \u001b[43m        \u001b[49m\u001b[43mreturn_counts\u001b[49m\u001b[38;5;241;43m=\u001b[39;49m\u001b[43mreturn_counts\u001b[49m\u001b[43m,\u001b[49m\n\u001b[0;32m    915\u001b[0m \u001b[43m    \u001b[49m\u001b[43m)\u001b[49m\n\u001b[0;32m    916\u001b[0m \u001b[38;5;28;01mreturn\u001b[39;00m output, inverse_indices, counts\n",
      "\u001b[1;31mKeyboardInterrupt\u001b[0m: "
     ]
    }
   ],
   "source": [
    "study = optuna.create_study(\n",
    "    load_if_exists=True,\n",
    "    direction=\"maximize\",\n",
    "    storage=\"sqlite:///db.sqlite3\",  # Specify the storage URL here.\n",
    "    study_name=\"bandpass_filter_study_5cv\",\n",
    ")\n",
    "# study.enqueue_trial({'lowcut': 0.5, 'highcut': 50.0}, user_attrs={\"memo\": \"baseline\"})\n",
    "# study.enqueue_trial({'lowcut': 0.1, 'highcut': 50.0}, user_attrs={\"memo\": \"baseline+\"})\n",
    "# study.enqueue_trial({'lowcut': 0.5, 'highcut': 60.0}, user_attrs={\"memo\": \"baseline+\"})\n",
    "# study.enqueue_trial({'lowcut': 0.1, 'highcut': 60.0}, user_attrs={\"memo\": \"baseline+\"})\n",
    "# study.enqueue_trial({'lowcut': 0.5, 'highcut': 63.0}, user_attrs={\"memo\": \"no filter\"})\n",
    "# study.enqueue_trial({'lowcut': 0.01, 'highcut': 60.0}, user_attrs={\"memo\": \"no filter\"})\n",
    "# study.enqueue_trial({'lowcut': 0.01, 'highcut': 63.0}, user_attrs={\"memo\": \"no filter\"})\n",
    "study.optimize(objective, n_trials=200)\n",
    "print(study.best_trial)"
   ]
  }
 ],
 "metadata": {
  "kernelspec": {
   "display_name": "Python 3",
   "language": "python",
   "name": "python3"
  },
  "language_info": {
   "codemirror_mode": {
    "name": "ipython",
    "version": 3
   },
   "file_extension": ".py",
   "mimetype": "text/x-python",
   "name": "python",
   "nbconvert_exporter": "python",
   "pygments_lexer": "ipython3",
   "version": "3.10.11"
  }
 },
 "nbformat": 4,
 "nbformat_minor": 2
}
