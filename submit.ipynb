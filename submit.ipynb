{
 "cells": [
  {
   "cell_type": "code",
   "execution_count": 5,
   "metadata": {},
   "outputs": [
    {
     "name": "stdout",
     "output_type": "stream",
     "text": [
      "加重平均された提出データ (16432, 1854) が outputs/ensemble/test2\\submission_0.07865_weighted_avg.npy に保存されました。\n"
     ]
    }
   ],
   "source": [
    "import numpy as np\n",
    "import glob\n",
    "import os\n",
    "import re\n",
    "\n",
    "def weighted_average_submissions(save_folder):\n",
    "    # submission_*.npyファイルのパスを取得\n",
    "    submission_files = glob.glob(os.path.join(save_folder, 'submission_*_fold*.npy'))\n",
    "    if not submission_files:\n",
    "        print(\"提出ファイルが見つかりません。\")\n",
    "        return\n",
    "\n",
    "    # 提出データを格納するリスト\n",
    "    weighted_submissions = None\n",
    "    total_weight = 0\n",
    "    scores = []\n",
    "\n",
    "    # ファイルを読み込み、データとスコアをリストに追加\n",
    "    for file_path in submission_files:\n",
    "        data = np.load(file_path)\n",
    "        # ファイル名からスコアを抽出（_foldの前の数字のみ）\n",
    "        score = re.search(r'submission_([0-9]+\\.[0-9]+)_fold', file_path)\n",
    "        if score:\n",
    "            score_value = float(score.group(1))\n",
    "            scores.append(score_value)\n",
    "            if weighted_submissions is None:\n",
    "                weighted_submissions = data * score_value\n",
    "            else:\n",
    "                weighted_submissions += data * score_value\n",
    "            total_weight += score_value\n",
    "\n",
    "    # 加重平均を計算\n",
    "    avg_submission = weighted_submissions / total_weight\n",
    "    # スコアの平均を計算\n",
    "    avg_score = np.mean(scores)\n",
    "\n",
    "    # 平均化された提出データを保存\n",
    "    submission_file_path = os.path.join(save_folder, f\"submission_{avg_score:.5f}_weighted_avg.npy\")\n",
    "    np.save(submission_file_path, avg_submission)\n",
    "    print(f\"加重平均された提出データ {avg_submission.shape} が {submission_file_path} に保存されました。\")\n",
    "\n",
    "# save_folderのパスを指定\n",
    "# save_folder = \"outputs/2024-07-14/01-30-09\"\n",
    "save_folder = \"outputs/ensemble/test2\"\n",
    "weighted_average_submissions(save_folder)"
   ]
  }
 ],
 "metadata": {
  "kernelspec": {
   "display_name": "Python 3",
   "language": "python",
   "name": "python3"
  },
  "language_info": {
   "codemirror_mode": {
    "name": "ipython",
    "version": 3
   },
   "file_extension": ".py",
   "mimetype": "text/x-python",
   "name": "python",
   "nbconvert_exporter": "python",
   "pygments_lexer": "ipython3",
   "version": "3.10.11"
  }
 },
 "nbformat": 4,
 "nbformat_minor": 2
}
